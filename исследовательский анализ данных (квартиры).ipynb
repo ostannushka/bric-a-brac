{
 "cells": [
  {
   "cell_type": "markdown",
   "metadata": {
    "toc": true
   },
   "source": [
    "<h1>Содержание<span class=\"tocSkip\"></span></h1>\n",
    "<div class=\"toc\"><ul class=\"toc-item\"><li><span><a href=\"#Изучение-данных-из-файла\" data-toc-modified-id=\"Изучение-данных-из-файла-1\"><span class=\"toc-item-num\">1&nbsp;&nbsp;</span>Изучение данных из файла</a></span><ul class=\"toc-item\"><li><span><a href=\"#Вывод\" data-toc-modified-id=\"Вывод-1.1\"><span class=\"toc-item-num\">1.1&nbsp;&nbsp;</span>Вывод</a></span></li></ul></li><li><span><a href=\"#Предобработка-данных\" data-toc-modified-id=\"Предобработка-данных-2\"><span class=\"toc-item-num\">2&nbsp;&nbsp;</span>Предобработка данных</a></span><ul class=\"toc-item\"><li><span><a href=\"#Пропуски\" data-toc-modified-id=\"Пропуски-2.1\"><span class=\"toc-item-num\">2.1&nbsp;&nbsp;</span>Пропуски</a></span></li><li><span><a href=\"#Типы-данных\" data-toc-modified-id=\"Типы-данных-2.2\"><span class=\"toc-item-num\">2.2&nbsp;&nbsp;</span>Типы данных</a></span></li></ul></li><li><span><a href=\"#Расчёты-и-добавление-результатов-в-таблицу\" data-toc-modified-id=\"Расчёты-и-добавление-результатов-в-таблицу-3\"><span class=\"toc-item-num\">3&nbsp;&nbsp;</span>Расчёты и добавление результатов в таблицу</a></span></li><li><span><a href=\"#Исследовательский-анализ-данных\" data-toc-modified-id=\"Исследовательский-анализ-данных-4\"><span class=\"toc-item-num\">4&nbsp;&nbsp;</span>Исследовательский анализ данных</a></span><ul class=\"toc-item\"><li><ul class=\"toc-item\"><li><span><a href=\"#Площадь-квартир\" data-toc-modified-id=\"Площадь-квартир-4.0.1\"><span class=\"toc-item-num\">4.0.1&nbsp;&nbsp;</span>Площадь квартир</a></span></li><li><span><a href=\"#Цена\" data-toc-modified-id=\"Цена-4.0.2\"><span class=\"toc-item-num\">4.0.2&nbsp;&nbsp;</span>Цена</a></span></li><li><span><a href=\"#Количество-комнат\" data-toc-modified-id=\"Количество-комнат-4.0.3\"><span class=\"toc-item-num\">4.0.3&nbsp;&nbsp;</span>Количество комнат</a></span></li><li><span><a href=\"#Высота-потолков\" data-toc-modified-id=\"Высота-потолков-4.0.4\"><span class=\"toc-item-num\">4.0.4&nbsp;&nbsp;</span>Высота потолков</a></span></li><li><span><a href=\"#Время-продажи\" data-toc-modified-id=\"Время-продажи-4.0.5\"><span class=\"toc-item-num\">4.0.5&nbsp;&nbsp;</span>Время продажи</a></span></li></ul></li><li><span><a href=\"#Избавимся-от-выбросов\" data-toc-modified-id=\"Избавимся-от-выбросов-4.1\"><span class=\"toc-item-num\">4.1&nbsp;&nbsp;</span>Избавимся от выбросов</a></span></li><li><span><a href=\"#Факторы,-влияющие-на-стоимость-квартиры\" data-toc-modified-id=\"Факторы,-влияющие-на-стоимость-квартиры-4.2\"><span class=\"toc-item-num\">4.2&nbsp;&nbsp;</span>Факторы, влияющие на стоимость квартиры</a></span><ul class=\"toc-item\"><li><span><a href=\"#матрица-корреляций\" data-toc-modified-id=\"матрица-корреляций-4.2.1\"><span class=\"toc-item-num\">4.2.1&nbsp;&nbsp;</span>матрица корреляций</a></span></li><li><span><a href=\"#Площадь-квартиры-и-удаленность-от-центра\" data-toc-modified-id=\"Площадь-квартиры-и-удаленность-от-центра-4.2.2\"><span class=\"toc-item-num\">4.2.2&nbsp;&nbsp;</span>Площадь квартиры и удаленность от центра</a></span></li><li><span><a href=\"#Количество-комнат\" data-toc-modified-id=\"Количество-комнат-4.2.3\"><span class=\"toc-item-num\">4.2.3&nbsp;&nbsp;</span>Количество комнат</a></span></li><li><span><a href=\"#Этаж\" data-toc-modified-id=\"Этаж-4.2.4\"><span class=\"toc-item-num\">4.2.4&nbsp;&nbsp;</span>Этаж</a></span></li><li><span><a href=\"#День-недели,-месяц,-год\" data-toc-modified-id=\"День-недели,-месяц,-год-4.2.5\"><span class=\"toc-item-num\">4.2.5&nbsp;&nbsp;</span>День недели, месяц, год</a></span></li></ul></li><li><span><a href=\"#Топ-10\" data-toc-modified-id=\"Топ-10-4.3\"><span class=\"toc-item-num\">4.3&nbsp;&nbsp;</span>Топ-10</a></span></li><li><span><a href=\"#Расстояние-до-центра\" data-toc-modified-id=\"Расстояние-до-центра-4.4\"><span class=\"toc-item-num\">4.4&nbsp;&nbsp;</span>Расстояние до центра</a></span></li><li><span><a href=\"#Квартиры-в-центре\" data-toc-modified-id=\"Квартиры-в-центре-4.5\"><span class=\"toc-item-num\">4.5&nbsp;&nbsp;</span>Квартиры в центре</a></span><ul class=\"toc-item\"><li><span><a href=\"#Площадь-квартир\" data-toc-modified-id=\"Площадь-квартир-4.5.1\"><span class=\"toc-item-num\">4.5.1&nbsp;&nbsp;</span>Площадь квартир</a></span></li><li><span><a href=\"#Цена\" data-toc-modified-id=\"Цена-4.5.2\"><span class=\"toc-item-num\">4.5.2&nbsp;&nbsp;</span>Цена</a></span></li><li><span><a href=\"#Количество-комнат\" data-toc-modified-id=\"Количество-комнат-4.5.3\"><span class=\"toc-item-num\">4.5.3&nbsp;&nbsp;</span>Количество комнат</a></span></li><li><span><a href=\"#Высота-потолков\" data-toc-modified-id=\"Высота-потолков-4.5.4\"><span class=\"toc-item-num\">4.5.4&nbsp;&nbsp;</span>Высота потолков</a></span></li><li><span><a href=\"#Факторы,-влияющие-на-стоимость-квартиры\" data-toc-modified-id=\"Факторы,-влияющие-на-стоимость-квартиры-4.5.5\"><span class=\"toc-item-num\">4.5.5&nbsp;&nbsp;</span>Факторы, влияющие на стоимость квартиры</a></span></li></ul></li></ul></li><li><span><a href=\"#Общий-вывод\" data-toc-modified-id=\"Общий-вывод-5\"><span class=\"toc-item-num\">5&nbsp;&nbsp;</span>Общий вывод</a></span></li><li><span><a href=\"#Чек-лист-готовности-проекта\" data-toc-modified-id=\"Чек-лист-готовности-проекта-6\"><span class=\"toc-item-num\">6&nbsp;&nbsp;</span>Чек-лист готовности проекта</a></span></li></ul></div>"
   ]
  },
  {
   "cell_type": "markdown",
   "metadata": {},
   "source": [
    "# Исследование объявлений о продаже квартир\n",
    "\n",
    "В вашем распоряжении данные сервиса Яндекс.Недвижимость — архив объявлений о продаже квартир в Санкт-Петербурге и соседних населённых пунктах за несколько лет. Нужно научиться определять рыночную стоимость объектов недвижимости. Ваша задача — установить параметры. Это позволит построить автоматизированную систему: она отследит аномалии и мошенническую деятельность. \n",
    "\n",
    "По каждой квартире на продажу доступны два вида данных. Первые вписаны пользователем, вторые получены автоматически на основе картографических данных. Например, расстояние до центра, аэропорта, ближайшего парка и водоёма. "
   ]
  },
  {
   "cell_type": "markdown",
   "metadata": {},
   "source": [
    "## Изучение данных из файла"
   ]
  },
  {
   "cell_type": "code",
   "execution_count": 2,
   "metadata": {},
   "outputs": [
    {
     "data": {
      "text/html": [
       "<div>\n",
       "<style scoped>\n",
       "    .dataframe tbody tr th:only-of-type {\n",
       "        vertical-align: middle;\n",
       "    }\n",
       "\n",
       "    .dataframe tbody tr th {\n",
       "        vertical-align: top;\n",
       "    }\n",
       "\n",
       "    .dataframe thead th {\n",
       "        text-align: right;\n",
       "    }\n",
       "</style>\n",
       "<table border=\"1\" class=\"dataframe\">\n",
       "  <thead>\n",
       "    <tr style=\"text-align: right;\">\n",
       "      <th></th>\n",
       "      <th>Unnamed: 0</th>\n",
       "      <th>total_images</th>\n",
       "      <th>last_price</th>\n",
       "      <th>total_area</th>\n",
       "      <th>first_day_exposition</th>\n",
       "      <th>rooms</th>\n",
       "      <th>ceiling_height</th>\n",
       "      <th>floors_total</th>\n",
       "      <th>living_area</th>\n",
       "      <th>floor</th>\n",
       "      <th>...</th>\n",
       "      <th>kitchen_area</th>\n",
       "      <th>balcony</th>\n",
       "      <th>locality_name</th>\n",
       "      <th>airports_nearest</th>\n",
       "      <th>cityCenters_nearest</th>\n",
       "      <th>parks_around3000</th>\n",
       "      <th>parks_nearest</th>\n",
       "      <th>ponds_around3000</th>\n",
       "      <th>ponds_nearest</th>\n",
       "      <th>days_exposition</th>\n",
       "    </tr>\n",
       "  </thead>\n",
       "  <tbody>\n",
       "    <tr>\n",
       "      <th>0</th>\n",
       "      <td>0</td>\n",
       "      <td>20</td>\n",
       "      <td>13000000.0</td>\n",
       "      <td>108.0</td>\n",
       "      <td>2019-03-07T00:00:00</td>\n",
       "      <td>3</td>\n",
       "      <td>2.70</td>\n",
       "      <td>16.0</td>\n",
       "      <td>51.0</td>\n",
       "      <td>8</td>\n",
       "      <td>...</td>\n",
       "      <td>25.0</td>\n",
       "      <td>NaN</td>\n",
       "      <td>Санкт-Петербург</td>\n",
       "      <td>18863.0</td>\n",
       "      <td>16028.0</td>\n",
       "      <td>1.0</td>\n",
       "      <td>482.0</td>\n",
       "      <td>2.0</td>\n",
       "      <td>755.0</td>\n",
       "      <td>NaN</td>\n",
       "    </tr>\n",
       "    <tr>\n",
       "      <th>1</th>\n",
       "      <td>1</td>\n",
       "      <td>7</td>\n",
       "      <td>3350000.0</td>\n",
       "      <td>40.4</td>\n",
       "      <td>2018-12-04T00:00:00</td>\n",
       "      <td>1</td>\n",
       "      <td>NaN</td>\n",
       "      <td>11.0</td>\n",
       "      <td>18.6</td>\n",
       "      <td>1</td>\n",
       "      <td>...</td>\n",
       "      <td>11.0</td>\n",
       "      <td>2.0</td>\n",
       "      <td>посёлок Шушары</td>\n",
       "      <td>12817.0</td>\n",
       "      <td>18603.0</td>\n",
       "      <td>0.0</td>\n",
       "      <td>NaN</td>\n",
       "      <td>0.0</td>\n",
       "      <td>NaN</td>\n",
       "      <td>81.0</td>\n",
       "    </tr>\n",
       "    <tr>\n",
       "      <th>2</th>\n",
       "      <td>2</td>\n",
       "      <td>10</td>\n",
       "      <td>5196000.0</td>\n",
       "      <td>56.0</td>\n",
       "      <td>2015-08-20T00:00:00</td>\n",
       "      <td>2</td>\n",
       "      <td>NaN</td>\n",
       "      <td>5.0</td>\n",
       "      <td>34.3</td>\n",
       "      <td>4</td>\n",
       "      <td>...</td>\n",
       "      <td>8.3</td>\n",
       "      <td>0.0</td>\n",
       "      <td>Санкт-Петербург</td>\n",
       "      <td>21741.0</td>\n",
       "      <td>13933.0</td>\n",
       "      <td>1.0</td>\n",
       "      <td>90.0</td>\n",
       "      <td>2.0</td>\n",
       "      <td>574.0</td>\n",
       "      <td>558.0</td>\n",
       "    </tr>\n",
       "    <tr>\n",
       "      <th>3</th>\n",
       "      <td>3</td>\n",
       "      <td>0</td>\n",
       "      <td>64900000.0</td>\n",
       "      <td>159.0</td>\n",
       "      <td>2015-07-24T00:00:00</td>\n",
       "      <td>3</td>\n",
       "      <td>NaN</td>\n",
       "      <td>14.0</td>\n",
       "      <td>NaN</td>\n",
       "      <td>9</td>\n",
       "      <td>...</td>\n",
       "      <td>NaN</td>\n",
       "      <td>0.0</td>\n",
       "      <td>Санкт-Петербург</td>\n",
       "      <td>28098.0</td>\n",
       "      <td>6800.0</td>\n",
       "      <td>2.0</td>\n",
       "      <td>84.0</td>\n",
       "      <td>3.0</td>\n",
       "      <td>234.0</td>\n",
       "      <td>424.0</td>\n",
       "    </tr>\n",
       "    <tr>\n",
       "      <th>4</th>\n",
       "      <td>4</td>\n",
       "      <td>2</td>\n",
       "      <td>10000000.0</td>\n",
       "      <td>100.0</td>\n",
       "      <td>2018-06-19T00:00:00</td>\n",
       "      <td>2</td>\n",
       "      <td>3.03</td>\n",
       "      <td>14.0</td>\n",
       "      <td>32.0</td>\n",
       "      <td>13</td>\n",
       "      <td>...</td>\n",
       "      <td>41.0</td>\n",
       "      <td>NaN</td>\n",
       "      <td>Санкт-Петербург</td>\n",
       "      <td>31856.0</td>\n",
       "      <td>8098.0</td>\n",
       "      <td>2.0</td>\n",
       "      <td>112.0</td>\n",
       "      <td>1.0</td>\n",
       "      <td>48.0</td>\n",
       "      <td>121.0</td>\n",
       "    </tr>\n",
       "  </tbody>\n",
       "</table>\n",
       "<p>5 rows × 23 columns</p>\n",
       "</div>"
      ],
      "text/plain": [
       "   Unnamed: 0  total_images  last_price  total_area first_day_exposition  \\\n",
       "0           0            20  13000000.0       108.0  2019-03-07T00:00:00   \n",
       "1           1             7   3350000.0        40.4  2018-12-04T00:00:00   \n",
       "2           2            10   5196000.0        56.0  2015-08-20T00:00:00   \n",
       "3           3             0  64900000.0       159.0  2015-07-24T00:00:00   \n",
       "4           4             2  10000000.0       100.0  2018-06-19T00:00:00   \n",
       "\n",
       "   rooms  ceiling_height  floors_total  living_area  floor  ... kitchen_area  \\\n",
       "0      3            2.70          16.0         51.0      8  ...         25.0   \n",
       "1      1             NaN          11.0         18.6      1  ...         11.0   \n",
       "2      2             NaN           5.0         34.3      4  ...          8.3   \n",
       "3      3             NaN          14.0          NaN      9  ...          NaN   \n",
       "4      2            3.03          14.0         32.0     13  ...         41.0   \n",
       "\n",
       "   balcony    locality_name  airports_nearest  cityCenters_nearest  \\\n",
       "0      NaN  Санкт-Петербург           18863.0              16028.0   \n",
       "1      2.0   посёлок Шушары           12817.0              18603.0   \n",
       "2      0.0  Санкт-Петербург           21741.0              13933.0   \n",
       "3      0.0  Санкт-Петербург           28098.0               6800.0   \n",
       "4      NaN  Санкт-Петербург           31856.0               8098.0   \n",
       "\n",
       "  parks_around3000  parks_nearest  ponds_around3000  ponds_nearest  \\\n",
       "0              1.0          482.0               2.0          755.0   \n",
       "1              0.0            NaN               0.0            NaN   \n",
       "2              1.0           90.0               2.0          574.0   \n",
       "3              2.0           84.0               3.0          234.0   \n",
       "4              2.0          112.0               1.0           48.0   \n",
       "\n",
       "   days_exposition  \n",
       "0              NaN  \n",
       "1             81.0  \n",
       "2            558.0  \n",
       "3            424.0  \n",
       "4            121.0  \n",
       "\n",
       "[5 rows x 23 columns]"
      ]
     },
     "metadata": {},
     "output_type": "display_data"
    },
    {
     "name": "stdout",
     "output_type": "stream",
     "text": [
      "<class 'pandas.core.frame.DataFrame'>\n",
      "RangeIndex: 23699 entries, 0 to 23698\n",
      "Data columns (total 23 columns):\n",
      " #   Column                Non-Null Count  Dtype  \n",
      "---  ------                --------------  -----  \n",
      " 0   Unnamed: 0            23699 non-null  int64  \n",
      " 1   total_images          23699 non-null  int64  \n",
      " 2   last_price            23699 non-null  float64\n",
      " 3   total_area            23699 non-null  float64\n",
      " 4   first_day_exposition  23699 non-null  object \n",
      " 5   rooms                 23699 non-null  int64  \n",
      " 6   ceiling_height        14504 non-null  float64\n",
      " 7   floors_total          23613 non-null  float64\n",
      " 8   living_area           21796 non-null  float64\n",
      " 9   floor                 23699 non-null  int64  \n",
      " 10  is_apartment          2775 non-null   object \n",
      " 11  studio                23699 non-null  bool   \n",
      " 12  open_plan             23699 non-null  bool   \n",
      " 13  kitchen_area          21421 non-null  float64\n",
      " 14  balcony               12180 non-null  float64\n",
      " 15  locality_name         23650 non-null  object \n",
      " 16  airports_nearest      18157 non-null  float64\n",
      " 17  cityCenters_nearest   18180 non-null  float64\n",
      " 18  parks_around3000      18181 non-null  float64\n",
      " 19  parks_nearest         8079 non-null   float64\n",
      " 20  ponds_around3000      18181 non-null  float64\n",
      " 21  ponds_nearest         9110 non-null   float64\n",
      " 22  days_exposition       20518 non-null  float64\n",
      "dtypes: bool(2), float64(14), int64(4), object(3)\n",
      "memory usage: 3.8+ MB\n"
     ]
    },
    {
     "data": {
      "text/plain": [
       "Unnamed: 0              0.000000\n",
       "total_images            0.000000\n",
       "last_price              0.000000\n",
       "total_area              0.000000\n",
       "first_day_exposition    0.000000\n",
       "rooms                   0.000000\n",
       "ceiling_height          0.387991\n",
       "floors_total            0.003629\n",
       "living_area             0.080299\n",
       "floor                   0.000000\n",
       "is_apartment            0.882906\n",
       "studio                  0.000000\n",
       "open_plan               0.000000\n",
       "kitchen_area            0.096122\n",
       "balcony                 0.486054\n",
       "locality_name           0.002068\n",
       "airports_nearest        0.233850\n",
       "cityCenters_nearest     0.232879\n",
       "parks_around3000        0.232837\n",
       "parks_nearest           0.659100\n",
       "ponds_around3000        0.232837\n",
       "ponds_nearest           0.615596\n",
       "days_exposition         0.134225\n",
       "dtype: float64"
      ]
     },
     "execution_count": 2,
     "metadata": {},
     "output_type": "execute_result"
    }
   ],
   "source": [
    "import pandas as pd\n",
    "df = pd.read_csv('file_name.csv')\n",
    "display(df.head())\n",
    "df.info()\n",
    "df.isna().mean()"
   ]
  },
  {
   "cell_type": "markdown",
   "metadata": {},
   "source": [
    "### Вывод"
   ]
  },
  {
   "cell_type": "markdown",
   "metadata": {},
   "source": [
    "В датасете 22 столбца и 23699 строк. В некоторых столбцах есть пропуски: ceiling_height, floors_total, living_area, balcony, locality_name, airports_nearest, cityCenters_nearest, parks_around3000, parks_nearest, ponds_around3000, ponds_nearest, days_exposition. Столбец first_day_exposition отражает дату и время, однако данные в нем отнесены к типу object. Столбец is_apartment содержит object, хотя по сути является булевым значением. "
   ]
  },
  {
   "cell_type": "markdown",
   "metadata": {},
   "source": [
    "Есть несколько столбцов с типом значений float, однако являющихся целыми числами: balcony, floors_total, last_price"
   ]
  },
  {
   "cell_type": "markdown",
   "metadata": {},
   "source": [
    "## Предобработка данных"
   ]
  },
  {
   "cell_type": "markdown",
   "metadata": {},
   "source": [
    "### Пропуски"
   ]
  },
  {
   "cell_type": "code",
   "execution_count": 2,
   "metadata": {},
   "outputs": [],
   "source": [
    "df['balcony'] = df['balcony'].fillna(0)# заполним пропуски в балконах нулями\n",
    "df['is_apartment'] = df['is_apartment'].fillna(False) # а в апартаментах ложным значением\n",
    "living_rate = (df['living_area']/df['total_area']).mean() # среднее по городу соотношение жилой и общей площади\n",
    "df['living_area'] = df['living_area'].fillna(df['total_area'] * living_rate) #заполнила ими пропуски\n",
    "#len(df['rooms'].unique()), df['rooms'].unique() #уникальные значения количества комнат, их 17. \n",
    "grouped = df.groupby(by='rooms').mean() #группируем данные по числу комнат\n",
    "grouped['kitchen_ratio'] = grouped['kitchen_area'] / grouped['total_area'] # средние значения площади кухни по числу комнат\n",
    "filler = grouped['kitchen_ratio'] # столбец, из которого берутся данные для заполнения пропусков\n",
    "row_values = [None, 3, 65] # таблица для проверки работы функции\n",
    "row_columns = ['kitchen_area', 'rooms', 'total_area']\n",
    "row = pd.Series(data=row_values, index=row_columns)  \n",
    "\n",
    "def kitchen_area_fill(row):    #функция для проверки и заполнения значений площади кухни\n",
    "    if pd.isnull(row['kitchen_area']):\n",
    "        index = row['rooms']\n",
    "        if index == 0:\n",
    "            return 0\n",
    "        else:\n",
    "            return filler[index] * row['total_area']\n",
    "    else:\n",
    "        return row['kitchen_area']\n",
    "\n",
    "df['kitchen_area'] = df.apply(kitchen_area_fill,axis=1) \n",
    "#display(df[df['parks_around3000'].isna()]) & df['parks_nearest'].isna()]) пропуски совпадают\n",
    "#df[df['ponds_around3000'].isna() & df['ponds_nearest'].isna()] в этих столбцах тоже совпадают пропуски\n"
   ]
  },
  {
   "cell_type": "markdown",
   "metadata": {},
   "source": [
    "living_area - вычисляемо в среднем по городу, \n",
    "is_apartment - если не указано, значит скорее всего к апартаментам не относится\n",
    "kitchen_area - площадь кухни тоже можно вычислить из общей площади, среднее считается по городу в зависимости от количества комнат, \n",
    "balcony - нет данных, значит скорее всего нет балкона, ставим ноль, \n",
    "для столбцов locality_name и cityCenters_nearest можно подумать о заполнении друг через друга, т.к. оба отражают местоположение квартиры, но как правило пропуски совпадают\n",
    "parks_around3000, parks_nearest - все строки, в которых нет информации о парках в радиусе 3 км, не содержат и информации о ближайшем парке, поэтому вычислить один столбец из другого нельзя (5518)\n",
    "ponds_around3000, ponds_nearest - здесь тоже идея с заполнением одного столбца из другого не сработала, т.к. пропуски совпадают, кроме того, их столько же, сколько в столбцах с парками (5518), значит данные потеряны по одной и той же причине, \n",
    "days_exposition - лучше не заполнять\n",
    "\n",
    "Попробуем заполнить пропуски в столбце ceiling height средними значениями по населенному пункту, а в Санкт-Петербурге - с разделением на центр и периферию"
   ]
  },
  {
   "cell_type": "code",
   "execution_count": 3,
   "metadata": {},
   "outputs": [
    {
     "data": {
      "text/html": [
       "<div>\n",
       "<style scoped>\n",
       "    .dataframe tbody tr th:only-of-type {\n",
       "        vertical-align: middle;\n",
       "    }\n",
       "\n",
       "    .dataframe tbody tr th {\n",
       "        vertical-align: top;\n",
       "    }\n",
       "\n",
       "    .dataframe thead th {\n",
       "        text-align: right;\n",
       "    }\n",
       "</style>\n",
       "<table border=\"1\" class=\"dataframe\">\n",
       "  <thead>\n",
       "    <tr style=\"text-align: right;\">\n",
       "      <th></th>\n",
       "      <th>total_images</th>\n",
       "      <th>last_price</th>\n",
       "      <th>total_area</th>\n",
       "      <th>first_day_exposition</th>\n",
       "      <th>rooms</th>\n",
       "      <th>ceiling_height</th>\n",
       "      <th>floors_total</th>\n",
       "      <th>living_area</th>\n",
       "      <th>floor</th>\n",
       "      <th>is_apartment</th>\n",
       "      <th>...</th>\n",
       "      <th>kitchen_area</th>\n",
       "      <th>balcony</th>\n",
       "      <th>locality_name</th>\n",
       "      <th>airports_nearest</th>\n",
       "      <th>cityCenters_nearest</th>\n",
       "      <th>parks_around3000</th>\n",
       "      <th>parks_nearest</th>\n",
       "      <th>ponds_around3000</th>\n",
       "      <th>ponds_nearest</th>\n",
       "      <th>days_exposition</th>\n",
       "    </tr>\n",
       "  </thead>\n",
       "  <tbody>\n",
       "    <tr>\n",
       "      <td>0</td>\n",
       "      <td>20</td>\n",
       "      <td>13000000.0</td>\n",
       "      <td>108.00</td>\n",
       "      <td>2019-03-07T00:00:00</td>\n",
       "      <td>3</td>\n",
       "      <td>2.7</td>\n",
       "      <td>16.0</td>\n",
       "      <td>51.000000</td>\n",
       "      <td>8</td>\n",
       "      <td>False</td>\n",
       "      <td>...</td>\n",
       "      <td>25.000000</td>\n",
       "      <td>0.0</td>\n",
       "      <td>Санкт-Петербург</td>\n",
       "      <td>18863.0</td>\n",
       "      <td>16028.0</td>\n",
       "      <td>1.0</td>\n",
       "      <td>482.0</td>\n",
       "      <td>2.0</td>\n",
       "      <td>755.0</td>\n",
       "      <td>NaN</td>\n",
       "    </tr>\n",
       "    <tr>\n",
       "      <td>1</td>\n",
       "      <td>7</td>\n",
       "      <td>3350000.0</td>\n",
       "      <td>40.40</td>\n",
       "      <td>2018-12-04T00:00:00</td>\n",
       "      <td>1</td>\n",
       "      <td>[2.644470046082948]</td>\n",
       "      <td>11.0</td>\n",
       "      <td>18.600000</td>\n",
       "      <td>1</td>\n",
       "      <td>False</td>\n",
       "      <td>...</td>\n",
       "      <td>11.000000</td>\n",
       "      <td>2.0</td>\n",
       "      <td>посёлок Шушары</td>\n",
       "      <td>12817.0</td>\n",
       "      <td>18603.0</td>\n",
       "      <td>0.0</td>\n",
       "      <td>NaN</td>\n",
       "      <td>0.0</td>\n",
       "      <td>NaN</td>\n",
       "      <td>81.0</td>\n",
       "    </tr>\n",
       "    <tr>\n",
       "      <td>2</td>\n",
       "      <td>10</td>\n",
       "      <td>5196000.0</td>\n",
       "      <td>56.00</td>\n",
       "      <td>2015-08-20T00:00:00</td>\n",
       "      <td>2</td>\n",
       "      <td>2.675</td>\n",
       "      <td>5.0</td>\n",
       "      <td>34.300000</td>\n",
       "      <td>4</td>\n",
       "      <td>False</td>\n",
       "      <td>...</td>\n",
       "      <td>8.300000</td>\n",
       "      <td>0.0</td>\n",
       "      <td>Санкт-Петербург</td>\n",
       "      <td>21741.0</td>\n",
       "      <td>13933.0</td>\n",
       "      <td>1.0</td>\n",
       "      <td>90.0</td>\n",
       "      <td>2.0</td>\n",
       "      <td>574.0</td>\n",
       "      <td>558.0</td>\n",
       "    </tr>\n",
       "    <tr>\n",
       "      <td>3</td>\n",
       "      <td>0</td>\n",
       "      <td>64900000.0</td>\n",
       "      <td>159.00</td>\n",
       "      <td>2015-07-24T00:00:00</td>\n",
       "      <td>3</td>\n",
       "      <td>3.064</td>\n",
       "      <td>14.0</td>\n",
       "      <td>89.797718</td>\n",
       "      <td>9</td>\n",
       "      <td>False</td>\n",
       "      <td>...</td>\n",
       "      <td>23.121892</td>\n",
       "      <td>0.0</td>\n",
       "      <td>Санкт-Петербург</td>\n",
       "      <td>28098.0</td>\n",
       "      <td>6800.0</td>\n",
       "      <td>2.0</td>\n",
       "      <td>84.0</td>\n",
       "      <td>3.0</td>\n",
       "      <td>234.0</td>\n",
       "      <td>424.0</td>\n",
       "    </tr>\n",
       "    <tr>\n",
       "      <td>4</td>\n",
       "      <td>2</td>\n",
       "      <td>10000000.0</td>\n",
       "      <td>100.00</td>\n",
       "      <td>2018-06-19T00:00:00</td>\n",
       "      <td>2</td>\n",
       "      <td>3.03</td>\n",
       "      <td>14.0</td>\n",
       "      <td>32.000000</td>\n",
       "      <td>13</td>\n",
       "      <td>False</td>\n",
       "      <td>...</td>\n",
       "      <td>41.000000</td>\n",
       "      <td>0.0</td>\n",
       "      <td>Санкт-Петербург</td>\n",
       "      <td>31856.0</td>\n",
       "      <td>8098.0</td>\n",
       "      <td>2.0</td>\n",
       "      <td>112.0</td>\n",
       "      <td>1.0</td>\n",
       "      <td>48.0</td>\n",
       "      <td>121.0</td>\n",
       "    </tr>\n",
       "    <tr>\n",
       "      <td>...</td>\n",
       "      <td>...</td>\n",
       "      <td>...</td>\n",
       "      <td>...</td>\n",
       "      <td>...</td>\n",
       "      <td>...</td>\n",
       "      <td>...</td>\n",
       "      <td>...</td>\n",
       "      <td>...</td>\n",
       "      <td>...</td>\n",
       "      <td>...</td>\n",
       "      <td>...</td>\n",
       "      <td>...</td>\n",
       "      <td>...</td>\n",
       "      <td>...</td>\n",
       "      <td>...</td>\n",
       "      <td>...</td>\n",
       "      <td>...</td>\n",
       "      <td>...</td>\n",
       "      <td>...</td>\n",
       "      <td>...</td>\n",
       "      <td>...</td>\n",
       "    </tr>\n",
       "    <tr>\n",
       "      <td>23694</td>\n",
       "      <td>9</td>\n",
       "      <td>9700000.0</td>\n",
       "      <td>133.81</td>\n",
       "      <td>2017-03-21T00:00:00</td>\n",
       "      <td>3</td>\n",
       "      <td>3.7</td>\n",
       "      <td>5.0</td>\n",
       "      <td>73.300000</td>\n",
       "      <td>3</td>\n",
       "      <td>False</td>\n",
       "      <td>...</td>\n",
       "      <td>13.830000</td>\n",
       "      <td>0.0</td>\n",
       "      <td>Санкт-Петербург</td>\n",
       "      <td>24665.0</td>\n",
       "      <td>4232.0</td>\n",
       "      <td>1.0</td>\n",
       "      <td>796.0</td>\n",
       "      <td>3.0</td>\n",
       "      <td>381.0</td>\n",
       "      <td>NaN</td>\n",
       "    </tr>\n",
       "    <tr>\n",
       "      <td>23695</td>\n",
       "      <td>14</td>\n",
       "      <td>3100000.0</td>\n",
       "      <td>59.00</td>\n",
       "      <td>2018-01-15T00:00:00</td>\n",
       "      <td>3</td>\n",
       "      <td>[2.5422857142857147]</td>\n",
       "      <td>5.0</td>\n",
       "      <td>38.000000</td>\n",
       "      <td>4</td>\n",
       "      <td>False</td>\n",
       "      <td>...</td>\n",
       "      <td>8.500000</td>\n",
       "      <td>0.0</td>\n",
       "      <td>Тосно</td>\n",
       "      <td>NaN</td>\n",
       "      <td>NaN</td>\n",
       "      <td>NaN</td>\n",
       "      <td>NaN</td>\n",
       "      <td>NaN</td>\n",
       "      <td>NaN</td>\n",
       "      <td>45.0</td>\n",
       "    </tr>\n",
       "    <tr>\n",
       "      <td>23696</td>\n",
       "      <td>18</td>\n",
       "      <td>2500000.0</td>\n",
       "      <td>56.70</td>\n",
       "      <td>2018-02-11T00:00:00</td>\n",
       "      <td>2</td>\n",
       "      <td>[]</td>\n",
       "      <td>3.0</td>\n",
       "      <td>29.700000</td>\n",
       "      <td>1</td>\n",
       "      <td>False</td>\n",
       "      <td>...</td>\n",
       "      <td>10.130544</td>\n",
       "      <td>0.0</td>\n",
       "      <td>село Рождествено</td>\n",
       "      <td>NaN</td>\n",
       "      <td>NaN</td>\n",
       "      <td>NaN</td>\n",
       "      <td>NaN</td>\n",
       "      <td>NaN</td>\n",
       "      <td>NaN</td>\n",
       "      <td>NaN</td>\n",
       "    </tr>\n",
       "    <tr>\n",
       "      <td>23697</td>\n",
       "      <td>13</td>\n",
       "      <td>11475000.0</td>\n",
       "      <td>76.75</td>\n",
       "      <td>2017-03-28T00:00:00</td>\n",
       "      <td>2</td>\n",
       "      <td>3</td>\n",
       "      <td>17.0</td>\n",
       "      <td>43.345754</td>\n",
       "      <td>12</td>\n",
       "      <td>False</td>\n",
       "      <td>...</td>\n",
       "      <td>23.300000</td>\n",
       "      <td>2.0</td>\n",
       "      <td>Санкт-Петербург</td>\n",
       "      <td>39140.0</td>\n",
       "      <td>10364.0</td>\n",
       "      <td>2.0</td>\n",
       "      <td>173.0</td>\n",
       "      <td>3.0</td>\n",
       "      <td>196.0</td>\n",
       "      <td>602.0</td>\n",
       "    </tr>\n",
       "    <tr>\n",
       "      <td>23698</td>\n",
       "      <td>4</td>\n",
       "      <td>1350000.0</td>\n",
       "      <td>32.30</td>\n",
       "      <td>2017-07-21T00:00:00</td>\n",
       "      <td>1</td>\n",
       "      <td>2.5</td>\n",
       "      <td>5.0</td>\n",
       "      <td>12.300000</td>\n",
       "      <td>1</td>\n",
       "      <td>False</td>\n",
       "      <td>...</td>\n",
       "      <td>9.000000</td>\n",
       "      <td>0.0</td>\n",
       "      <td>поселок Новый Учхоз</td>\n",
       "      <td>NaN</td>\n",
       "      <td>NaN</td>\n",
       "      <td>NaN</td>\n",
       "      <td>NaN</td>\n",
       "      <td>NaN</td>\n",
       "      <td>NaN</td>\n",
       "      <td>NaN</td>\n",
       "    </tr>\n",
       "  </tbody>\n",
       "</table>\n",
       "<p>23699 rows × 22 columns</p>\n",
       "</div>"
      ],
      "text/plain": [
       "       total_images  last_price  total_area first_day_exposition  rooms  \\\n",
       "0                20  13000000.0      108.00  2019-03-07T00:00:00      3   \n",
       "1                 7   3350000.0       40.40  2018-12-04T00:00:00      1   \n",
       "2                10   5196000.0       56.00  2015-08-20T00:00:00      2   \n",
       "3                 0  64900000.0      159.00  2015-07-24T00:00:00      3   \n",
       "4                 2  10000000.0      100.00  2018-06-19T00:00:00      2   \n",
       "...             ...         ...         ...                  ...    ...   \n",
       "23694             9   9700000.0      133.81  2017-03-21T00:00:00      3   \n",
       "23695            14   3100000.0       59.00  2018-01-15T00:00:00      3   \n",
       "23696            18   2500000.0       56.70  2018-02-11T00:00:00      2   \n",
       "23697            13  11475000.0       76.75  2017-03-28T00:00:00      2   \n",
       "23698             4   1350000.0       32.30  2017-07-21T00:00:00      1   \n",
       "\n",
       "             ceiling_height  floors_total  living_area  floor  is_apartment  \\\n",
       "0                       2.7          16.0    51.000000      8         False   \n",
       "1       [2.644470046082948]          11.0    18.600000      1         False   \n",
       "2                     2.675           5.0    34.300000      4         False   \n",
       "3                     3.064          14.0    89.797718      9         False   \n",
       "4                      3.03          14.0    32.000000     13         False   \n",
       "...                     ...           ...          ...    ...           ...   \n",
       "23694                   3.7           5.0    73.300000      3         False   \n",
       "23695  [2.5422857142857147]           5.0    38.000000      4         False   \n",
       "23696                    []           3.0    29.700000      1         False   \n",
       "23697                     3          17.0    43.345754     12         False   \n",
       "23698                   2.5           5.0    12.300000      1         False   \n",
       "\n",
       "       ...  kitchen_area  balcony        locality_name  airports_nearest  \\\n",
       "0      ...     25.000000      0.0      Санкт-Петербург           18863.0   \n",
       "1      ...     11.000000      2.0       посёлок Шушары           12817.0   \n",
       "2      ...      8.300000      0.0      Санкт-Петербург           21741.0   \n",
       "3      ...     23.121892      0.0      Санкт-Петербург           28098.0   \n",
       "4      ...     41.000000      0.0      Санкт-Петербург           31856.0   \n",
       "...    ...           ...      ...                  ...               ...   \n",
       "23694  ...     13.830000      0.0      Санкт-Петербург           24665.0   \n",
       "23695  ...      8.500000      0.0                Тосно               NaN   \n",
       "23696  ...     10.130544      0.0     село Рождествено               NaN   \n",
       "23697  ...     23.300000      2.0      Санкт-Петербург           39140.0   \n",
       "23698  ...      9.000000      0.0  поселок Новый Учхоз               NaN   \n",
       "\n",
       "      cityCenters_nearest  parks_around3000  parks_nearest  ponds_around3000  \\\n",
       "0                 16028.0               1.0          482.0               2.0   \n",
       "1                 18603.0               0.0            NaN               0.0   \n",
       "2                 13933.0               1.0           90.0               2.0   \n",
       "3                  6800.0               2.0           84.0               3.0   \n",
       "4                  8098.0               2.0          112.0               1.0   \n",
       "...                   ...               ...            ...               ...   \n",
       "23694              4232.0               1.0          796.0               3.0   \n",
       "23695                 NaN               NaN            NaN               NaN   \n",
       "23696                 NaN               NaN            NaN               NaN   \n",
       "23697             10364.0               2.0          173.0               3.0   \n",
       "23698                 NaN               NaN            NaN               NaN   \n",
       "\n",
       "       ponds_nearest  days_exposition  \n",
       "0              755.0              NaN  \n",
       "1                NaN             81.0  \n",
       "2              574.0            558.0  \n",
       "3              234.0            424.0  \n",
       "4               48.0            121.0  \n",
       "...              ...              ...  \n",
       "23694          381.0              NaN  \n",
       "23695            NaN             45.0  \n",
       "23696            NaN              NaN  \n",
       "23697          196.0            602.0  \n",
       "23698            NaN              NaN  \n",
       "\n",
       "[23699 rows x 22 columns]"
      ]
     },
     "metadata": {},
     "output_type": "display_data"
    }
   ],
   "source": [
    "ceil = df.groupby(by='locality_name').mean().reset_index()\n",
    "\n",
    "ceil = ceil[['locality_name', 'ceiling_height']].dropna() # таблица со средней высотой потолков\n",
    "ceil_spb_center = round(df.loc[(df['locality_name'] == \"Санкт-Петербург\") & (df['cityCenters_nearest'] < 10000), 'ceiling_height'].mean(), 3)\n",
    "#средняя высота потолков в центре СПб\n",
    "ceil_spb_perif = round(df.loc[(df['locality_name'] == \"Санкт-Петербург\") & (df['cityCenters_nearest'] > 10000), 'ceiling_height'].mean(), 3)\n",
    "#средняя высота потолков на периферии СПб\n",
    "\n",
    "def ceiling_height_fill(row): # функция для заполнения пропусков в высоте потолков\n",
    "    if pd.isnull(row['ceiling_height']):\n",
    "        locality = row['locality_name']\n",
    "        if locality == 'Санкт-Петербург':\n",
    "            if row['cityCenters_nearest'] <= 10000.0:\n",
    "                return ceil_spb_center\n",
    "            else:\n",
    "                return ceil_spb_perif\n",
    "        else: \n",
    "            ceil_mean = ceil.loc[ceil['locality_name'] == row['locality_name'],'ceiling_height']\n",
    "            return ceil_mean\n",
    "    else:\n",
    "        return row['ceiling_height']\n",
    "\n",
    "df['ceiling_height'] = df.apply(ceiling_height_fill, axis = 1)\n",
    "display(df)"
   ]
  },
  {
   "cell_type": "markdown",
   "metadata": {},
   "source": [
    "### Типы данных"
   ]
  },
  {
   "cell_type": "code",
   "execution_count": 4,
   "metadata": {},
   "outputs": [
    {
     "name": "stdout",
     "output_type": "stream",
     "text": [
      "<class 'pandas.core.frame.DataFrame'>\n",
      "RangeIndex: 23699 entries, 0 to 23698\n",
      "Data columns (total 22 columns):\n",
      "total_images            23699 non-null int64\n",
      "last_price              23699 non-null Int64\n",
      "total_area              23699 non-null float64\n",
      "first_day_exposition    23699 non-null datetime64[ns]\n",
      "rooms                   23699 non-null int64\n",
      "ceiling_height          23699 non-null object\n",
      "floors_total            23613 non-null Int64\n",
      "living_area             23699 non-null float64\n",
      "floor                   23699 non-null int64\n",
      "is_apartment            23699 non-null bool\n",
      "studio                  23699 non-null bool\n",
      "open_plan               23699 non-null bool\n",
      "kitchen_area            23699 non-null float64\n",
      "balcony                 23699 non-null Int64\n",
      "locality_name           23650 non-null object\n",
      "airports_nearest        18157 non-null float64\n",
      "cityCenters_nearest     18180 non-null float64\n",
      "parks_around3000        18181 non-null float64\n",
      "parks_nearest           8079 non-null float64\n",
      "ponds_around3000        18181 non-null float64\n",
      "ponds_nearest           9110 non-null float64\n",
      "days_exposition         20518 non-null float64\n",
      "dtypes: Int64(3), bool(3), datetime64[ns](1), float64(10), int64(3), object(2)\n",
      "memory usage: 3.6+ MB\n"
     ]
    }
   ],
   "source": [
    "df['is_apartment'] = df['is_apartment'].astype('bool') # переводим текстовые ячейки в булев тип\n",
    "df['first_day_exposition'] = pd.to_datetime(                  #дата и время\n",
    "    df['first_day_exposition'], format='%Y.%m.%dT%H:%M:%S'\n",
    ")\n",
    "df['floors_total'] = df['floors_total'].astype('Int64') # количество этажей в целые числа\n",
    "df['last_price'] = df['last_price'].astype('Int64') # количество этажей в целые числа\n",
    "df['balcony'] = df['balcony'].astype('Int64') # количество этажей в целые числа\n",
    "df.info() #проверка результата"
   ]
  },
  {
   "cell_type": "markdown",
   "metadata": {},
   "source": [
    "Объекты в булевы значения я переводила с помощью .astype(bool), дату и время - с помощью to_datetime, целочисленные и плавающие значения тоже через .astype() "
   ]
  },
  {
   "cell_type": "markdown",
   "metadata": {},
   "source": [
    "## Расчёты и добавление результатов в таблицу"
   ]
  },
  {
   "cell_type": "code",
   "execution_count": 5,
   "metadata": {},
   "outputs": [
    {
     "data": {
      "text/html": [
       "<div>\n",
       "<style scoped>\n",
       "    .dataframe tbody tr th:only-of-type {\n",
       "        vertical-align: middle;\n",
       "    }\n",
       "\n",
       "    .dataframe tbody tr th {\n",
       "        vertical-align: top;\n",
       "    }\n",
       "\n",
       "    .dataframe thead th {\n",
       "        text-align: right;\n",
       "    }\n",
       "</style>\n",
       "<table border=\"1\" class=\"dataframe\">\n",
       "  <thead>\n",
       "    <tr style=\"text-align: right;\">\n",
       "      <th></th>\n",
       "      <th>total_images</th>\n",
       "      <th>last_price</th>\n",
       "      <th>total_area</th>\n",
       "      <th>first_day_exposition</th>\n",
       "      <th>rooms</th>\n",
       "      <th>ceiling_height</th>\n",
       "      <th>floors_total</th>\n",
       "      <th>living_area</th>\n",
       "      <th>floor</th>\n",
       "      <th>is_apartment</th>\n",
       "      <th>...</th>\n",
       "      <th>ponds_around3000</th>\n",
       "      <th>ponds_nearest</th>\n",
       "      <th>days_exposition</th>\n",
       "      <th>price_psm</th>\n",
       "      <th>weekday</th>\n",
       "      <th>month</th>\n",
       "      <th>year</th>\n",
       "      <th>floor_category</th>\n",
       "      <th>living_ratio</th>\n",
       "      <th>kitchen_ratio</th>\n",
       "    </tr>\n",
       "  </thead>\n",
       "  <tbody>\n",
       "    <tr>\n",
       "      <td>0</td>\n",
       "      <td>20</td>\n",
       "      <td>13000000</td>\n",
       "      <td>108.00</td>\n",
       "      <td>2019-03-07</td>\n",
       "      <td>3</td>\n",
       "      <td>2.7</td>\n",
       "      <td>16</td>\n",
       "      <td>51.000000</td>\n",
       "      <td>8</td>\n",
       "      <td>False</td>\n",
       "      <td>...</td>\n",
       "      <td>2.0</td>\n",
       "      <td>755.0</td>\n",
       "      <td>NaN</td>\n",
       "      <td>120370.370370</td>\n",
       "      <td>3</td>\n",
       "      <td>3</td>\n",
       "      <td>2019</td>\n",
       "      <td>другой</td>\n",
       "      <td>0.472222</td>\n",
       "      <td>0.231481</td>\n",
       "    </tr>\n",
       "    <tr>\n",
       "      <td>1</td>\n",
       "      <td>7</td>\n",
       "      <td>3350000</td>\n",
       "      <td>40.40</td>\n",
       "      <td>2018-12-04</td>\n",
       "      <td>1</td>\n",
       "      <td>[2.644470046082948]</td>\n",
       "      <td>11</td>\n",
       "      <td>18.600000</td>\n",
       "      <td>1</td>\n",
       "      <td>False</td>\n",
       "      <td>...</td>\n",
       "      <td>0.0</td>\n",
       "      <td>NaN</td>\n",
       "      <td>81.0</td>\n",
       "      <td>82920.792079</td>\n",
       "      <td>1</td>\n",
       "      <td>12</td>\n",
       "      <td>2018</td>\n",
       "      <td>первый</td>\n",
       "      <td>0.460396</td>\n",
       "      <td>0.272277</td>\n",
       "    </tr>\n",
       "    <tr>\n",
       "      <td>2</td>\n",
       "      <td>10</td>\n",
       "      <td>5196000</td>\n",
       "      <td>56.00</td>\n",
       "      <td>2015-08-20</td>\n",
       "      <td>2</td>\n",
       "      <td>2.675</td>\n",
       "      <td>5</td>\n",
       "      <td>34.300000</td>\n",
       "      <td>4</td>\n",
       "      <td>False</td>\n",
       "      <td>...</td>\n",
       "      <td>2.0</td>\n",
       "      <td>574.0</td>\n",
       "      <td>558.0</td>\n",
       "      <td>92785.714286</td>\n",
       "      <td>3</td>\n",
       "      <td>8</td>\n",
       "      <td>2015</td>\n",
       "      <td>другой</td>\n",
       "      <td>0.612500</td>\n",
       "      <td>0.148214</td>\n",
       "    </tr>\n",
       "    <tr>\n",
       "      <td>3</td>\n",
       "      <td>0</td>\n",
       "      <td>64900000</td>\n",
       "      <td>159.00</td>\n",
       "      <td>2015-07-24</td>\n",
       "      <td>3</td>\n",
       "      <td>3.064</td>\n",
       "      <td>14</td>\n",
       "      <td>89.797718</td>\n",
       "      <td>9</td>\n",
       "      <td>False</td>\n",
       "      <td>...</td>\n",
       "      <td>3.0</td>\n",
       "      <td>234.0</td>\n",
       "      <td>424.0</td>\n",
       "      <td>408176.100629</td>\n",
       "      <td>4</td>\n",
       "      <td>7</td>\n",
       "      <td>2015</td>\n",
       "      <td>другой</td>\n",
       "      <td>0.564766</td>\n",
       "      <td>0.145421</td>\n",
       "    </tr>\n",
       "    <tr>\n",
       "      <td>4</td>\n",
       "      <td>2</td>\n",
       "      <td>10000000</td>\n",
       "      <td>100.00</td>\n",
       "      <td>2018-06-19</td>\n",
       "      <td>2</td>\n",
       "      <td>3.03</td>\n",
       "      <td>14</td>\n",
       "      <td>32.000000</td>\n",
       "      <td>13</td>\n",
       "      <td>False</td>\n",
       "      <td>...</td>\n",
       "      <td>1.0</td>\n",
       "      <td>48.0</td>\n",
       "      <td>121.0</td>\n",
       "      <td>100000.000000</td>\n",
       "      <td>1</td>\n",
       "      <td>6</td>\n",
       "      <td>2018</td>\n",
       "      <td>другой</td>\n",
       "      <td>0.320000</td>\n",
       "      <td>0.410000</td>\n",
       "    </tr>\n",
       "    <tr>\n",
       "      <td>5</td>\n",
       "      <td>10</td>\n",
       "      <td>2890000</td>\n",
       "      <td>30.40</td>\n",
       "      <td>2018-09-10</td>\n",
       "      <td>1</td>\n",
       "      <td>[2.6176]</td>\n",
       "      <td>12</td>\n",
       "      <td>14.400000</td>\n",
       "      <td>5</td>\n",
       "      <td>False</td>\n",
       "      <td>...</td>\n",
       "      <td>NaN</td>\n",
       "      <td>NaN</td>\n",
       "      <td>55.0</td>\n",
       "      <td>95065.789474</td>\n",
       "      <td>0</td>\n",
       "      <td>9</td>\n",
       "      <td>2018</td>\n",
       "      <td>другой</td>\n",
       "      <td>0.473684</td>\n",
       "      <td>0.299342</td>\n",
       "    </tr>\n",
       "    <tr>\n",
       "      <td>6</td>\n",
       "      <td>6</td>\n",
       "      <td>3700000</td>\n",
       "      <td>37.30</td>\n",
       "      <td>2017-11-02</td>\n",
       "      <td>1</td>\n",
       "      <td>[2.6302919708029187]</td>\n",
       "      <td>26</td>\n",
       "      <td>10.600000</td>\n",
       "      <td>6</td>\n",
       "      <td>False</td>\n",
       "      <td>...</td>\n",
       "      <td>0.0</td>\n",
       "      <td>NaN</td>\n",
       "      <td>155.0</td>\n",
       "      <td>99195.710456</td>\n",
       "      <td>3</td>\n",
       "      <td>11</td>\n",
       "      <td>2017</td>\n",
       "      <td>другой</td>\n",
       "      <td>0.284182</td>\n",
       "      <td>0.386059</td>\n",
       "    </tr>\n",
       "    <tr>\n",
       "      <td>7</td>\n",
       "      <td>5</td>\n",
       "      <td>7915000</td>\n",
       "      <td>71.60</td>\n",
       "      <td>2019-04-18</td>\n",
       "      <td>2</td>\n",
       "      <td>2.675</td>\n",
       "      <td>24</td>\n",
       "      <td>40.437211</td>\n",
       "      <td>22</td>\n",
       "      <td>False</td>\n",
       "      <td>...</td>\n",
       "      <td>0.0</td>\n",
       "      <td>NaN</td>\n",
       "      <td>NaN</td>\n",
       "      <td>110544.692737</td>\n",
       "      <td>3</td>\n",
       "      <td>4</td>\n",
       "      <td>2019</td>\n",
       "      <td>другой</td>\n",
       "      <td>0.564766</td>\n",
       "      <td>0.263966</td>\n",
       "    </tr>\n",
       "    <tr>\n",
       "      <td>8</td>\n",
       "      <td>20</td>\n",
       "      <td>2900000</td>\n",
       "      <td>33.16</td>\n",
       "      <td>2018-05-23</td>\n",
       "      <td>1</td>\n",
       "      <td>[2.9389000000000016]</td>\n",
       "      <td>27</td>\n",
       "      <td>15.430000</td>\n",
       "      <td>26</td>\n",
       "      <td>False</td>\n",
       "      <td>...</td>\n",
       "      <td>NaN</td>\n",
       "      <td>NaN</td>\n",
       "      <td>189.0</td>\n",
       "      <td>87454.764777</td>\n",
       "      <td>2</td>\n",
       "      <td>5</td>\n",
       "      <td>2018</td>\n",
       "      <td>другой</td>\n",
       "      <td>0.465320</td>\n",
       "      <td>0.265682</td>\n",
       "    </tr>\n",
       "    <tr>\n",
       "      <td>9</td>\n",
       "      <td>18</td>\n",
       "      <td>5400000</td>\n",
       "      <td>61.00</td>\n",
       "      <td>2017-02-26</td>\n",
       "      <td>3</td>\n",
       "      <td>2.5</td>\n",
       "      <td>9</td>\n",
       "      <td>43.600000</td>\n",
       "      <td>7</td>\n",
       "      <td>False</td>\n",
       "      <td>...</td>\n",
       "      <td>0.0</td>\n",
       "      <td>NaN</td>\n",
       "      <td>289.0</td>\n",
       "      <td>88524.590164</td>\n",
       "      <td>6</td>\n",
       "      <td>2</td>\n",
       "      <td>2017</td>\n",
       "      <td>другой</td>\n",
       "      <td>0.714754</td>\n",
       "      <td>0.106557</td>\n",
       "    </tr>\n",
       "  </tbody>\n",
       "</table>\n",
       "<p>10 rows × 29 columns</p>\n",
       "</div>"
      ],
      "text/plain": [
       "   total_images  last_price  total_area first_day_exposition  rooms  \\\n",
       "0            20    13000000      108.00           2019-03-07      3   \n",
       "1             7     3350000       40.40           2018-12-04      1   \n",
       "2            10     5196000       56.00           2015-08-20      2   \n",
       "3             0    64900000      159.00           2015-07-24      3   \n",
       "4             2    10000000      100.00           2018-06-19      2   \n",
       "5            10     2890000       30.40           2018-09-10      1   \n",
       "6             6     3700000       37.30           2017-11-02      1   \n",
       "7             5     7915000       71.60           2019-04-18      2   \n",
       "8            20     2900000       33.16           2018-05-23      1   \n",
       "9            18     5400000       61.00           2017-02-26      3   \n",
       "\n",
       "         ceiling_height  floors_total  living_area  floor  is_apartment  ...  \\\n",
       "0                   2.7            16    51.000000      8         False  ...   \n",
       "1   [2.644470046082948]            11    18.600000      1         False  ...   \n",
       "2                 2.675             5    34.300000      4         False  ...   \n",
       "3                 3.064            14    89.797718      9         False  ...   \n",
       "4                  3.03            14    32.000000     13         False  ...   \n",
       "5              [2.6176]            12    14.400000      5         False  ...   \n",
       "6  [2.6302919708029187]            26    10.600000      6         False  ...   \n",
       "7                 2.675            24    40.437211     22         False  ...   \n",
       "8  [2.9389000000000016]            27    15.430000     26         False  ...   \n",
       "9                   2.5             9    43.600000      7         False  ...   \n",
       "\n",
       "   ponds_around3000  ponds_nearest  days_exposition      price_psm weekday  \\\n",
       "0               2.0          755.0              NaN  120370.370370       3   \n",
       "1               0.0            NaN             81.0   82920.792079       1   \n",
       "2               2.0          574.0            558.0   92785.714286       3   \n",
       "3               3.0          234.0            424.0  408176.100629       4   \n",
       "4               1.0           48.0            121.0  100000.000000       1   \n",
       "5               NaN            NaN             55.0   95065.789474       0   \n",
       "6               0.0            NaN            155.0   99195.710456       3   \n",
       "7               0.0            NaN              NaN  110544.692737       3   \n",
       "8               NaN            NaN            189.0   87454.764777       2   \n",
       "9               0.0            NaN            289.0   88524.590164       6   \n",
       "\n",
       "   month  year  floor_category  living_ratio  kitchen_ratio  \n",
       "0      3  2019          другой      0.472222       0.231481  \n",
       "1     12  2018          первый      0.460396       0.272277  \n",
       "2      8  2015          другой      0.612500       0.148214  \n",
       "3      7  2015          другой      0.564766       0.145421  \n",
       "4      6  2018          другой      0.320000       0.410000  \n",
       "5      9  2018          другой      0.473684       0.299342  \n",
       "6     11  2017          другой      0.284182       0.386059  \n",
       "7      4  2019          другой      0.564766       0.263966  \n",
       "8      5  2018          другой      0.465320       0.265682  \n",
       "9      2  2017          другой      0.714754       0.106557  \n",
       "\n",
       "[10 rows x 29 columns]"
      ]
     },
     "execution_count": 5,
     "metadata": {},
     "output_type": "execute_result"
    }
   ],
   "source": [
    "df['price_psm'] = df['last_price'] / df['total_area'] #цена за квадратный метр\n",
    "df['weekday'] = pd.DatetimeIndex(df['first_day_exposition']).weekday #расчет дня недели\n",
    "df['month']= pd.DatetimeIndex(df['first_day_exposition']).month # месяц\n",
    "df['year'] = pd.DatetimeIndex(df['first_day_exposition']).year # год\n",
    "#display(df['floor'].min()) минимальное значение в столбце = 1\n",
    "def floor_category(row):  # функция для определения категории этажа\n",
    "    if pd.notna(row['floors_total']) and row['floor'] == row['floors_total']:\n",
    "        return \"последний\"\n",
    "    if row['floor'] == 1:\n",
    "        return 'первый'\n",
    "    else:\n",
    "        return 'другой'\n",
    "df['floor_category'] = df.apply(floor_category, axis=1) #применение функции к датафрейму\n",
    "df['living_ratio'] = df['living_area']/df['total_area'] # отношение жилой площади к общей\n",
    "df['kitchen_ratio'] = df['kitchen_area']/df['total_area'] # отношение площади кухни к общей\n",
    "df.head(10)\n",
    "\n"
   ]
  },
  {
   "cell_type": "markdown",
   "metadata": {},
   "source": [
    "## Исследовательский анализ данных"
   ]
  },
  {
   "cell_type": "markdown",
   "metadata": {},
   "source": [
    "#### Площадь квартир"
   ]
  },
  {
   "cell_type": "code",
   "execution_count": 6,
   "metadata": {},
   "outputs": [
    {
     "data": {
      "image/png": "[encoded data removed]",
      "text/plain": [
       "<Figure size 432x288 with 1 Axes>"
      ]
     },
     "metadata": {
      "needs_background": "light"
     },
     "output_type": "display_data"
    },
    {
     "data": {
      "text/plain": [
       "0    45.0\n",
       "dtype: float64"
      ]
     },
     "execution_count": 6,
     "metadata": {},
     "output_type": "execute_result"
    }
   ],
   "source": [
    "import matplotlib.pyplot as plt\n",
    "df['total_area'].hist(bins=100, range=(0, 500)) # распределение квартир по площади\n",
    "plt.show()\n",
    "df['total_area'].mode()"
   ]
  },
  {
   "cell_type": "markdown",
   "metadata": {},
   "source": [
    "Судя по гистограмме, преобладают квартиры площадью менее 100 квадратных метров, пик приходится на значение 45 квадратных метров."
   ]
  },
  {
   "cell_type": "markdown",
   "metadata": {},
   "source": [
    "#### Цена"
   ]
  },
  {
   "cell_type": "code",
   "execution_count": 7,
   "metadata": {},
   "outputs": [
    {
     "data": {
      "image/png": "[encoded data removed]",
      "text/plain": [
       "<Figure size 432x288 with 1 Axes>"
      ]
     },
     "metadata": {
      "needs_background": "light"
     },
     "output_type": "display_data"
    },
    {
     "data": {
      "text/plain": [
       "0    4500000\n",
       "dtype: Int64"
      ]
     },
     "execution_count": 7,
     "metadata": {},
     "output_type": "execute_result"
    }
   ],
   "source": [
    "df['last_price'].hist(bins=100, range=(0, 50000000))\n",
    "plt.show()\n",
    "df['last_price'].mode()"
   ]
  },
  {
   "cell_type": "markdown",
   "metadata": {},
   "source": [
    "\n",
    "Максимальное значение в этом столбце 763 млн рублей, но основная масса значений распределена до 50 млн. Самая частая цена для квартир - 4,5 млн, ниже график относительно крутой, а выше - достаточно пологий.\n"
   ]
  },
  {
   "cell_type": "markdown",
   "metadata": {},
   "source": [
    "#### Количество комнат"
   ]
  },
  {
   "cell_type": "code",
   "execution_count": 8,
   "metadata": {},
   "outputs": [
    {
     "data": {
      "image/png": "[encoded data removed]",
      "text/plain": [
       "<Figure size 432x288 with 1 Axes>"
      ]
     },
     "metadata": {
      "needs_background": "light"
     },
     "output_type": "display_data"
    },
    {
     "data": {
      "text/plain": [
       "0    1\n",
       "dtype: int64"
      ]
     },
     "execution_count": 8,
     "metadata": {},
     "output_type": "execute_result"
    }
   ],
   "source": [
    "df['rooms'].hist(bins=17, range=(0, 15))\n",
    "plt.show()\n",
    "df['rooms'].mode()"
   ]
  },
  {
   "cell_type": "markdown",
   "metadata": {},
   "source": [
    "Ну, это ещё из этапа предобработки данных известно, максимум комнат в выборке - 19, здесь значения могут касаться нуля,\n",
    "т.к. в выборке есть студии. Больше всего - однокомнатных квартир, а дальше, чем больше комнат, тем реже они встречаются"
   ]
  },
  {
   "cell_type": "markdown",
   "metadata": {},
   "source": [
    "#### Высота потолков"
   ]
  },
  {
   "cell_type": "code",
   "execution_count": 9,
   "metadata": {},
   "outputs": [
    {
     "data": {
      "image/png": "[encoded data removed]",
      "text/plain": [
       "<Figure size 432x288 with 1 Axes>"
      ]
     },
     "metadata": {
      "needs_background": "light"
     },
     "output_type": "display_data"
    },
    {
     "data": {
      "text/plain": [
       "0    2.675\n",
       "dtype: object"
      ]
     },
     "execution_count": 9,
     "metadata": {},
     "output_type": "execute_result"
    }
   ],
   "source": [
    "df['ceiling_height'].hist(bins=100, range=(1, 6))\n",
    "plt.show()\n",
    "df['ceiling_height'].mode()"
   ]
  },
  {
   "cell_type": "markdown",
   "metadata": {},
   "source": [
    "Распределение данных в столбце \"ceiling_height\" неудивительно, т.к. высота потолков типовая для определенных домов, 2,5 метра - самое частое значение, остальные значения распределены не равномерно, а в виде отдельных пиков, каждый из которых соответствует высоте потолка, характерной для домов разных серий."
   ]
  },
  {
   "cell_type": "markdown",
   "metadata": {},
   "source": [
    "#### Время продажи"
   ]
  },
  {
   "cell_type": "code",
   "execution_count": 10,
   "metadata": {},
   "outputs": [
    {
     "data": {
      "text/plain": [
       "count    20518.000000\n",
       "mean       180.888634\n",
       "std        219.727988\n",
       "min          1.000000\n",
       "25%         45.000000\n",
       "50%         95.000000\n",
       "75%        232.000000\n",
       "max       1580.000000\n",
       "Name: days_exposition, dtype: float64"
      ]
     },
     "metadata": {},
     "output_type": "display_data"
    },
    {
     "data": {
      "text/html": [
       "<div>\n",
       "<style scoped>\n",
       "    .dataframe tbody tr th:only-of-type {\n",
       "        vertical-align: middle;\n",
       "    }\n",
       "\n",
       "    .dataframe tbody tr th {\n",
       "        vertical-align: top;\n",
       "    }\n",
       "\n",
       "    .dataframe thead th {\n",
       "        text-align: right;\n",
       "    }\n",
       "</style>\n",
       "<table border=\"1\" class=\"dataframe\">\n",
       "  <thead>\n",
       "    <tr style=\"text-align: right;\">\n",
       "      <th></th>\n",
       "      <th>total_images</th>\n",
       "      <th>last_price</th>\n",
       "      <th>total_area</th>\n",
       "      <th>first_day_exposition</th>\n",
       "      <th>rooms</th>\n",
       "      <th>ceiling_height</th>\n",
       "      <th>floors_total</th>\n",
       "      <th>living_area</th>\n",
       "      <th>floor</th>\n",
       "      <th>is_apartment</th>\n",
       "      <th>...</th>\n",
       "      <th>ponds_around3000</th>\n",
       "      <th>ponds_nearest</th>\n",
       "      <th>days_exposition</th>\n",
       "      <th>price_psm</th>\n",
       "      <th>weekday</th>\n",
       "      <th>month</th>\n",
       "      <th>year</th>\n",
       "      <th>floor_category</th>\n",
       "      <th>living_ratio</th>\n",
       "      <th>kitchen_ratio</th>\n",
       "    </tr>\n",
       "  </thead>\n",
       "  <tbody>\n",
       "    <tr>\n",
       "      <td>18843</td>\n",
       "      <td>11</td>\n",
       "      <td>3500000</td>\n",
       "      <td>48.2</td>\n",
       "      <td>2014-12-15</td>\n",
       "      <td>2</td>\n",
       "      <td>2.5</td>\n",
       "      <td>5</td>\n",
       "      <td>27.4</td>\n",
       "      <td>2</td>\n",
       "      <td>False</td>\n",
       "      <td>...</td>\n",
       "      <td>NaN</td>\n",
       "      <td>NaN</td>\n",
       "      <td>1580.0</td>\n",
       "      <td>72614.107884</td>\n",
       "      <td>0</td>\n",
       "      <td>12</td>\n",
       "      <td>2014</td>\n",
       "      <td>другой</td>\n",
       "      <td>0.568465</td>\n",
       "      <td>0.159751</td>\n",
       "    </tr>\n",
       "  </tbody>\n",
       "</table>\n",
       "<p>1 rows × 29 columns</p>\n",
       "</div>"
      ],
      "text/plain": [
       "       total_images  last_price  total_area first_day_exposition  rooms  \\\n",
       "18843            11     3500000        48.2           2014-12-15      2   \n",
       "\n",
       "      ceiling_height  floors_total  living_area  floor  is_apartment  ...  \\\n",
       "18843            2.5             5         27.4      2         False  ...   \n",
       "\n",
       "       ponds_around3000  ponds_nearest  days_exposition     price_psm weekday  \\\n",
       "18843               NaN            NaN           1580.0  72614.107884       0   \n",
       "\n",
       "       month  year  floor_category  living_ratio  kitchen_ratio  \n",
       "18843     12  2014          другой      0.568465       0.159751  \n",
       "\n",
       "[1 rows x 29 columns]"
      ]
     },
     "metadata": {},
     "output_type": "display_data"
    },
    {
     "data": {
      "image/png": "[encoded data removed]",
      "text/plain": [
       "<Figure size 432x288 with 1 Axes>"
      ]
     },
     "metadata": {
      "needs_background": "light"
     },
     "output_type": "display_data"
    }
   ],
   "source": [
    "\n",
    "df['days_exposition'].hist(bins=100, range=(0, 1800))\n",
    "plt.xlabel('days')\n",
    "display(df['days_exposition'].describe())\n",
    "df['days_exposition'].mode()\n",
    "display(df.query('days_exposition == 1580'))"
   ]
  },
  {
   "cell_type": "markdown",
   "metadata": {},
   "source": [
    "Самая большая плотность значений сконцентрирована в начале графика, а затем постепенно убывает. 3/4 продаж случаются меньше, чем через год с момента публикации объявления. Больше всего значений в выборке - 45 дней, медиана находится на отметке 95 дней, среднее значение 180 дней, есть подозрение, что среднее несколько завышено из-за неторопливых продавцов. Самый неспешный продавал квартиру 1580 дней, это более 4 лет. Числа вполне реальные, и, судя по графику, значения по мере удаления от пика встречаются всё реже. После 1000 дней значений уже очень мало"
   ]
  },
  {
   "cell_type": "markdown",
   "metadata": {},
   "source": [
    "### Избавимся от выбросов\n",
    "Лучший способ отделить выбросы  от остальных значений - посмотреть на диаграммы размаха."
   ]
  },
  {
   "cell_type": "code",
   "execution_count": 11,
   "metadata": {},
   "outputs": [
    {
     "data": {
      "image/png": "[encoded data removed]",
      "text/plain": [
       "<Figure size 432x288 with 1 Axes>"
      ]
     },
     "metadata": {
      "needs_background": "light"
     },
     "output_type": "display_data"
    },
    {
     "data": {
      "image/png": "[encoded data removed]",
      "text/plain": [
       "<Figure size 432x288 with 1 Axes>"
      ]
     },
     "metadata": {
      "needs_background": "light"
     },
     "output_type": "display_data"
    },
    {
     "data": {
      "image/png": "[encoded data removed]",
      "text/plain": [
       "<Figure size 432x288 with 1 Axes>"
      ]
     },
     "metadata": {
      "needs_background": "light"
     },
     "output_type": "display_data"
    },
    {
     "data": {
      "image/png": "[encoded data removed]",
      "text/plain": [
       "<Figure size 432x288 with 1 Axes>"
      ]
     },
     "metadata": {
      "needs_background": "light"
     },
     "output_type": "display_data"
    },
    {
     "data": {
      "image/png": "[encoded data removed]",
      "text/plain": [
       "<Figure size 432x288 with 1 Axes>"
      ]
     },
     "metadata": {
      "needs_background": "light"
     },
     "output_type": "display_data"
    },
    {
     "data": {
      "image/png": "[encoded data removed]",
      "text/plain": [
       "<Figure size 432x288 with 1 Axes>"
      ]
     },
     "metadata": {
      "needs_background": "light"
     },
     "output_type": "display_data"
    },
    {
     "data": {
      "image/png": "[encoded data removed]",
      "text/plain": [
       "<Figure size 432x288 with 1 Axes>"
      ]
     },
     "metadata": {
      "needs_background": "light"
     },
     "output_type": "display_data"
    }
   ],
   "source": [
    "plt.boxplot(df['total_area'])\n",
    "plt.title('total_area')\n",
    "plt.show()\n",
    "df_sorted = df.query('total_area <= 400')#отбросим значения больше 400\n",
    "plt.boxplot(df['last_price'])\n",
    "plt.title('last_price')\n",
    "plt.show()\n",
    "df_sorted = df_sorted.query('last_price <= 300000000')#отбросим значения больше 300 000 000\n",
    "#посмотрим на нижнюю часть графика\n",
    "df_sorted['last_price'].hist(bins=100, range=(0, 2000000))\n",
    "plt.title('last_price_modified')\n",
    "plt.show() #после 250 000 на гистограмме значений почти нет\n",
    "df_sorted = df_sorted.query('last_price >= 250000')#отбросим значения меньше 250 000\n",
    "\n",
    "plt.boxplot(df['rooms'])\n",
    "plt.title('rooms')\n",
    "plt.show()\n",
    "df_sorted = df_sorted.query('rooms <= 7')#отбросим значения больше 7\n",
    "plt.boxplot(df['ceiling_height'].dropna()) #возможно диаграмма не строилась из-за большого числа пропусков\n",
    "plt.title('ceiling_height')\n",
    "plt.show()\n",
    "df_sorted = df_sorted.query('ceiling_height <= 30')# отбросим значения больше 30 метров\n",
    "# посмотрим на нижнюю часть графика\n",
    "df_sorted['ceiling_height'].hist(bins=50, range=(0, 2.5))\n",
    "plt.title('ceiling_height_modified')\n",
    "plt.show() #после 2 метров на гистограмме значений почти нет\n",
    "df_sorted = df_sorted.query('ceiling_height >= 2.0')#отбросим значения меньше 2 метров\n",
    "plt.boxplot(df['days_exposition'].dropna())\n",
    "plt.title('days_exposition')\n",
    "plt.show()\n",
    "df_sorted = df_sorted.query('days_exposition <= 1000')# отбросим значения больше 1000 дней"
   ]
  },
  {
   "cell_type": "markdown",
   "metadata": {},
   "source": [
    "### Факторы, влияющие на стоимость квартиры"
   ]
  },
  {
   "cell_type": "markdown",
   "metadata": {},
   "source": [
    "#### Матрица корреляций"
   ]
  },
  {
   "cell_type": "markdown",
   "metadata": {},
   "source": [
    "Нужно выяснить зависит ли цена от площади, числа комнат, удалённости от центра, зависимость цены от того, на каком этаже расположена квартира: первом, последнем или другом, зависимость от даты размещения: дня недели, месяца и года.\n",
    "Для того, чтобы ответить на эти вопросы, имеет смысл построить матрицу корреляции"
   ]
  },
  {
   "cell_type": "code",
   "execution_count": 12,
   "metadata": {},
   "outputs": [
    {
     "data": {
      "text/html": [
       "<div>\n",
       "<style scoped>\n",
       "    .dataframe tbody tr th:only-of-type {\n",
       "        vertical-align: middle;\n",
       "    }\n",
       "\n",
       "    .dataframe tbody tr th {\n",
       "        vertical-align: top;\n",
       "    }\n",
       "\n",
       "    .dataframe thead th {\n",
       "        text-align: right;\n",
       "    }\n",
       "</style>\n",
       "<table border=\"1\" class=\"dataframe\">\n",
       "  <thead>\n",
       "    <tr style=\"text-align: right;\">\n",
       "      <th></th>\n",
       "      <th>last_price</th>\n",
       "      <th>price_psm</th>\n",
       "      <th>total_area</th>\n",
       "      <th>rooms</th>\n",
       "      <th>living_area</th>\n",
       "      <th>kitchen_area</th>\n",
       "      <th>cityCenters_nearest</th>\n",
       "      <th>weekday</th>\n",
       "      <th>month</th>\n",
       "      <th>year</th>\n",
       "    </tr>\n",
       "  </thead>\n",
       "  <tbody>\n",
       "    <tr>\n",
       "      <td>last_price</td>\n",
       "      <td>1.000000</td>\n",
       "      <td>0.753779</td>\n",
       "      <td>0.708468</td>\n",
       "      <td>0.409820</td>\n",
       "      <td>0.628896</td>\n",
       "      <td>0.531096</td>\n",
       "      <td>-0.257358</td>\n",
       "      <td>0.000439</td>\n",
       "      <td>0.004354</td>\n",
       "      <td>-0.069709</td>\n",
       "    </tr>\n",
       "    <tr>\n",
       "      <td>price_psm</td>\n",
       "      <td>0.753779</td>\n",
       "      <td>1.000000</td>\n",
       "      <td>0.282797</td>\n",
       "      <td>0.025097</td>\n",
       "      <td>0.198820</td>\n",
       "      <td>0.372899</td>\n",
       "      <td>-0.346447</td>\n",
       "      <td>-0.000209</td>\n",
       "      <td>0.005232</td>\n",
       "      <td>0.002379</td>\n",
       "    </tr>\n",
       "    <tr>\n",
       "      <td>total_area</td>\n",
       "      <td>0.708468</td>\n",
       "      <td>0.282797</td>\n",
       "      <td>1.000000</td>\n",
       "      <td>0.772220</td>\n",
       "      <td>0.938551</td>\n",
       "      <td>0.601395</td>\n",
       "      <td>-0.234471</td>\n",
       "      <td>-0.003524</td>\n",
       "      <td>0.005411</td>\n",
       "      <td>-0.106832</td>\n",
       "    </tr>\n",
       "    <tr>\n",
       "      <td>rooms</td>\n",
       "      <td>0.409820</td>\n",
       "      <td>0.025097</td>\n",
       "      <td>0.772220</td>\n",
       "      <td>1.000000</td>\n",
       "      <td>0.842644</td>\n",
       "      <td>0.267429</td>\n",
       "      <td>-0.175576</td>\n",
       "      <td>-0.004348</td>\n",
       "      <td>-0.000292</td>\n",
       "      <td>-0.088329</td>\n",
       "    </tr>\n",
       "    <tr>\n",
       "      <td>living_area</td>\n",
       "      <td>0.628896</td>\n",
       "      <td>0.198820</td>\n",
       "      <td>0.938551</td>\n",
       "      <td>0.842644</td>\n",
       "      <td>1.000000</td>\n",
       "      <td>0.411290</td>\n",
       "      <td>-0.227856</td>\n",
       "      <td>-0.002999</td>\n",
       "      <td>0.001435</td>\n",
       "      <td>-0.100867</td>\n",
       "    </tr>\n",
       "    <tr>\n",
       "      <td>kitchen_area</td>\n",
       "      <td>0.531096</td>\n",
       "      <td>0.372899</td>\n",
       "      <td>0.601395</td>\n",
       "      <td>0.267429</td>\n",
       "      <td>0.411290</td>\n",
       "      <td>1.000000</td>\n",
       "      <td>-0.183254</td>\n",
       "      <td>-0.004124</td>\n",
       "      <td>0.000175</td>\n",
       "      <td>-0.060734</td>\n",
       "    </tr>\n",
       "    <tr>\n",
       "      <td>cityCenters_nearest</td>\n",
       "      <td>-0.257358</td>\n",
       "      <td>-0.346447</td>\n",
       "      <td>-0.234471</td>\n",
       "      <td>-0.175576</td>\n",
       "      <td>-0.227856</td>\n",
       "      <td>-0.183254</td>\n",
       "      <td>1.000000</td>\n",
       "      <td>0.007212</td>\n",
       "      <td>-0.013072</td>\n",
       "      <td>0.037056</td>\n",
       "    </tr>\n",
       "    <tr>\n",
       "      <td>weekday</td>\n",
       "      <td>0.000439</td>\n",
       "      <td>-0.000209</td>\n",
       "      <td>-0.003524</td>\n",
       "      <td>-0.004348</td>\n",
       "      <td>-0.002999</td>\n",
       "      <td>-0.004124</td>\n",
       "      <td>0.007212</td>\n",
       "      <td>1.000000</td>\n",
       "      <td>0.009198</td>\n",
       "      <td>0.001979</td>\n",
       "    </tr>\n",
       "    <tr>\n",
       "      <td>month</td>\n",
       "      <td>0.004354</td>\n",
       "      <td>0.005232</td>\n",
       "      <td>0.005411</td>\n",
       "      <td>-0.000292</td>\n",
       "      <td>0.001435</td>\n",
       "      <td>0.000175</td>\n",
       "      <td>-0.013072</td>\n",
       "      <td>0.009198</td>\n",
       "      <td>1.000000</td>\n",
       "      <td>-0.204184</td>\n",
       "    </tr>\n",
       "    <tr>\n",
       "      <td>year</td>\n",
       "      <td>-0.069709</td>\n",
       "      <td>0.002379</td>\n",
       "      <td>-0.106832</td>\n",
       "      <td>-0.088329</td>\n",
       "      <td>-0.100867</td>\n",
       "      <td>-0.060734</td>\n",
       "      <td>0.037056</td>\n",
       "      <td>0.001979</td>\n",
       "      <td>-0.204184</td>\n",
       "      <td>1.000000</td>\n",
       "    </tr>\n",
       "  </tbody>\n",
       "</table>\n",
       "</div>"
      ],
      "text/plain": [
       "                     last_price  price_psm  total_area     rooms  living_area  \\\n",
       "last_price             1.000000   0.753779    0.708468  0.409820     0.628896   \n",
       "price_psm              0.753779   1.000000    0.282797  0.025097     0.198820   \n",
       "total_area             0.708468   0.282797    1.000000  0.772220     0.938551   \n",
       "rooms                  0.409820   0.025097    0.772220  1.000000     0.842644   \n",
       "living_area            0.628896   0.198820    0.938551  0.842644     1.000000   \n",
       "kitchen_area           0.531096   0.372899    0.601395  0.267429     0.411290   \n",
       "cityCenters_nearest   -0.257358  -0.346447   -0.234471 -0.175576    -0.227856   \n",
       "weekday                0.000439  -0.000209   -0.003524 -0.004348    -0.002999   \n",
       "month                  0.004354   0.005232    0.005411 -0.000292     0.001435   \n",
       "year                  -0.069709   0.002379   -0.106832 -0.088329    -0.100867   \n",
       "\n",
       "                     kitchen_area  cityCenters_nearest   weekday     month  \\\n",
       "last_price               0.531096            -0.257358  0.000439  0.004354   \n",
       "price_psm                0.372899            -0.346447 -0.000209  0.005232   \n",
       "total_area               0.601395            -0.234471 -0.003524  0.005411   \n",
       "rooms                    0.267429            -0.175576 -0.004348 -0.000292   \n",
       "living_area              0.411290            -0.227856 -0.002999  0.001435   \n",
       "kitchen_area             1.000000            -0.183254 -0.004124  0.000175   \n",
       "cityCenters_nearest     -0.183254             1.000000  0.007212 -0.013072   \n",
       "weekday                 -0.004124             0.007212  1.000000  0.009198   \n",
       "month                    0.000175            -0.013072  0.009198  1.000000   \n",
       "year                    -0.060734             0.037056  0.001979 -0.204184   \n",
       "\n",
       "                         year  \n",
       "last_price          -0.069709  \n",
       "price_psm            0.002379  \n",
       "total_area          -0.106832  \n",
       "rooms               -0.088329  \n",
       "living_area         -0.100867  \n",
       "kitchen_area        -0.060734  \n",
       "cityCenters_nearest  0.037056  \n",
       "weekday              0.001979  \n",
       "month               -0.204184  \n",
       "year                 1.000000  "
      ]
     },
     "metadata": {},
     "output_type": "display_data"
    }
   ],
   "source": [
    "price_corrs = df_sorted[['last_price', 'price_psm', 'total_area', 'rooms', 'living_area', 'kitchen_area', 'cityCenters_nearest', 'floor_category', 'weekday', 'month', 'year']]\n",
    "display(price_corrs.corr()) "
   ]
  },
  {
   "cell_type": "markdown",
   "metadata": {},
   "source": [
    "Есть высокая прямая корреляция между стоимостью жилья и его площадью, средняя - с жилой площадью и площадью кухни, слабая корреляция между количеством комнат и стоимостью жилья, очень слабая положительная связь между наличием парков и водоемов поблизости, очень слабая отрицательная корреляция между расстоянием до центра города и стоимостью жилья, т.е. чем ближе к центру, тем дороже; значимой связи между временем публикации объявления и стоимостью квартиры при продаже нет, однако есть очень слабая положительная связь стоимости с продолжительностью публикации объявления: более дорогие квартиры продавались несколько дольше. \n",
    "С другой стороны, учитывая нелинейный характер зависимости, матрица корреляций в данном случае недостаточно информативна."
   ]
  },
  {
   "cell_type": "markdown",
   "metadata": {},
   "source": [
    "#### Площадь квартиры и удаленность от центра"
   ]
  },
  {
   "cell_type": "code",
   "execution_count": 13,
   "metadata": {},
   "outputs": [
    {
     "data": {
      "image/png": "[encoded data removed]",
      "text/plain": [
       "<Figure size 432x288 with 1 Axes>"
      ]
     },
     "metadata": {
      "needs_background": "light"
     },
     "output_type": "display_data"
    },
    {
     "data": {
      "image/png": "[encoded data removed]",
      "text/plain": [
       "<Figure size 432x288 with 1 Axes>"
      ]
     },
     "metadata": {
      "needs_background": "light"
     },
     "output_type": "display_data"
    },
    {
     "data": {
      "text/html": [
       "<div>\n",
       "<style scoped>\n",
       "    .dataframe tbody tr th:only-of-type {\n",
       "        vertical-align: middle;\n",
       "    }\n",
       "\n",
       "    .dataframe tbody tr th {\n",
       "        vertical-align: top;\n",
       "    }\n",
       "\n",
       "    .dataframe thead th {\n",
       "        text-align: right;\n",
       "    }\n",
       "</style>\n",
       "<table border=\"1\" class=\"dataframe\">\n",
       "  <thead>\n",
       "    <tr style=\"text-align: right;\">\n",
       "      <th></th>\n",
       "      <th>last_price</th>\n",
       "      <th>price_psm</th>\n",
       "      <th>total_area</th>\n",
       "      <th>rooms</th>\n",
       "      <th>cityCenters_nearest</th>\n",
       "      <th>floor_category</th>\n",
       "      <th>weekday</th>\n",
       "      <th>month</th>\n",
       "      <th>year</th>\n",
       "    </tr>\n",
       "  </thead>\n",
       "  <tbody>\n",
       "    <tr>\n",
       "      <td>1</td>\n",
       "      <td>3350000</td>\n",
       "      <td>82920.792079</td>\n",
       "      <td>40.40</td>\n",
       "      <td>1</td>\n",
       "      <td>18603.0</td>\n",
       "      <td>первый</td>\n",
       "      <td>1</td>\n",
       "      <td>12</td>\n",
       "      <td>2018</td>\n",
       "    </tr>\n",
       "    <tr>\n",
       "      <td>2</td>\n",
       "      <td>5196000</td>\n",
       "      <td>92785.714286</td>\n",
       "      <td>56.00</td>\n",
       "      <td>2</td>\n",
       "      <td>13933.0</td>\n",
       "      <td>другой</td>\n",
       "      <td>3</td>\n",
       "      <td>8</td>\n",
       "      <td>2015</td>\n",
       "    </tr>\n",
       "    <tr>\n",
       "      <td>3</td>\n",
       "      <td>64900000</td>\n",
       "      <td>408176.100629</td>\n",
       "      <td>159.00</td>\n",
       "      <td>3</td>\n",
       "      <td>6800.0</td>\n",
       "      <td>другой</td>\n",
       "      <td>4</td>\n",
       "      <td>7</td>\n",
       "      <td>2015</td>\n",
       "    </tr>\n",
       "    <tr>\n",
       "      <td>4</td>\n",
       "      <td>10000000</td>\n",
       "      <td>100000.000000</td>\n",
       "      <td>100.00</td>\n",
       "      <td>2</td>\n",
       "      <td>8098.0</td>\n",
       "      <td>другой</td>\n",
       "      <td>1</td>\n",
       "      <td>6</td>\n",
       "      <td>2018</td>\n",
       "    </tr>\n",
       "    <tr>\n",
       "      <td>6</td>\n",
       "      <td>3700000</td>\n",
       "      <td>99195.710456</td>\n",
       "      <td>37.30</td>\n",
       "      <td>1</td>\n",
       "      <td>19143.0</td>\n",
       "      <td>другой</td>\n",
       "      <td>3</td>\n",
       "      <td>11</td>\n",
       "      <td>2017</td>\n",
       "    </tr>\n",
       "    <tr>\n",
       "      <td>...</td>\n",
       "      <td>...</td>\n",
       "      <td>...</td>\n",
       "      <td>...</td>\n",
       "      <td>...</td>\n",
       "      <td>...</td>\n",
       "      <td>...</td>\n",
       "      <td>...</td>\n",
       "      <td>...</td>\n",
       "      <td>...</td>\n",
       "    </tr>\n",
       "    <tr>\n",
       "      <td>23689</td>\n",
       "      <td>3550000</td>\n",
       "      <td>100566.572238</td>\n",
       "      <td>35.30</td>\n",
       "      <td>1</td>\n",
       "      <td>16081.0</td>\n",
       "      <td>другой</td>\n",
       "      <td>2</td>\n",
       "      <td>2</td>\n",
       "      <td>2018</td>\n",
       "    </tr>\n",
       "    <tr>\n",
       "      <td>23690</td>\n",
       "      <td>5500000</td>\n",
       "      <td>105769.230769</td>\n",
       "      <td>52.00</td>\n",
       "      <td>2</td>\n",
       "      <td>6263.0</td>\n",
       "      <td>другой</td>\n",
       "      <td>3</td>\n",
       "      <td>7</td>\n",
       "      <td>2018</td>\n",
       "    </tr>\n",
       "    <tr>\n",
       "      <td>23691</td>\n",
       "      <td>9470000</td>\n",
       "      <td>129903.978052</td>\n",
       "      <td>72.90</td>\n",
       "      <td>2</td>\n",
       "      <td>4489.0</td>\n",
       "      <td>другой</td>\n",
       "      <td>3</td>\n",
       "      <td>10</td>\n",
       "      <td>2016</td>\n",
       "    </tr>\n",
       "    <tr>\n",
       "      <td>23693</td>\n",
       "      <td>4600000</td>\n",
       "      <td>73717.948718</td>\n",
       "      <td>62.40</td>\n",
       "      <td>3</td>\n",
       "      <td>34104.0</td>\n",
       "      <td>другой</td>\n",
       "      <td>4</td>\n",
       "      <td>8</td>\n",
       "      <td>2016</td>\n",
       "    </tr>\n",
       "    <tr>\n",
       "      <td>23697</td>\n",
       "      <td>11475000</td>\n",
       "      <td>149511.400651</td>\n",
       "      <td>76.75</td>\n",
       "      <td>2</td>\n",
       "      <td>10364.0</td>\n",
       "      <td>другой</td>\n",
       "      <td>1</td>\n",
       "      <td>3</td>\n",
       "      <td>2017</td>\n",
       "    </tr>\n",
       "  </tbody>\n",
       "</table>\n",
       "<p>15553 rows × 9 columns</p>\n",
       "</div>"
      ],
      "text/plain": [
       "       last_price      price_psm  total_area  rooms  cityCenters_nearest  \\\n",
       "1         3350000   82920.792079       40.40      1              18603.0   \n",
       "2         5196000   92785.714286       56.00      2              13933.0   \n",
       "3        64900000  408176.100629      159.00      3               6800.0   \n",
       "4        10000000  100000.000000      100.00      2               8098.0   \n",
       "6         3700000   99195.710456       37.30      1              19143.0   \n",
       "...           ...            ...         ...    ...                  ...   \n",
       "23689     3550000  100566.572238       35.30      1              16081.0   \n",
       "23690     5500000  105769.230769       52.00      2               6263.0   \n",
       "23691     9470000  129903.978052       72.90      2               4489.0   \n",
       "23693     4600000   73717.948718       62.40      3              34104.0   \n",
       "23697    11475000  149511.400651       76.75      2              10364.0   \n",
       "\n",
       "      floor_category  weekday  month  year  \n",
       "1             первый        1     12  2018  \n",
       "2             другой        3      8  2015  \n",
       "3             другой        4      7  2015  \n",
       "4             другой        1      6  2018  \n",
       "6             другой        3     11  2017  \n",
       "...              ...      ...    ...   ...  \n",
       "23689         другой        2      2  2018  \n",
       "23690         другой        3      7  2018  \n",
       "23691         другой        3     10  2016  \n",
       "23693         другой        4      8  2016  \n",
       "23697         другой        1      3  2017  \n",
       "\n",
       "[15553 rows x 9 columns]"
      ]
     },
     "execution_count": 13,
     "metadata": {},
     "output_type": "execute_result"
    }
   ],
   "source": [
    "price_matrix = df_sorted[['last_price', 'price_psm', 'total_area', 'rooms', 'cityCenters_nearest', 'floor_category', 'weekday', 'month', 'year']]\n",
    "price_matrix = price_matrix.dropna()\n",
    "list_of_params = ['total_area', 'cityCenters_nearest']\n",
    "for param in list_of_params:\n",
    "    price_matrix.plot(x=param, y='last_price', kind='scatter')# - это работает\n",
    "    plt.show()\n",
    "price_matrix\n"
   ]
  },
  {
   "cell_type": "markdown",
   "metadata": {},
   "source": [
    "#### Количество комнат\n",
    "Из-за дискретности значений дня недели, месяца, года, количества комнат и этажа диаграммы рассеяния не выглядят информативными, придется воспользоваться гистограммами"
   ]
  },
  {
   "cell_type": "code",
   "execution_count": 14,
   "metadata": {},
   "outputs": [
    {
     "data": {
      "image/png": "[encoded data removed]",
      "text/plain": [
       "<Figure size 432x288 with 1 Axes>"
      ]
     },
     "metadata": {
      "needs_background": "light"
     },
     "output_type": "display_data"
    },
    {
     "data": {
      "image/png": "[encoded data removed]",
      "text/plain": [
       "<Figure size 432x288 with 1 Axes>"
      ]
     },
     "metadata": {
      "needs_background": "light"
     },
     "output_type": "display_data"
    }
   ],
   "source": [
    "def barplot_price(col_name, table_name):\n",
    "    price_table = table_name [['last_price', col_name]]\n",
    "    price_psm_table = table_name [['price_psm', col_name]]\n",
    "    price_table.groupby(col_name).mean().plot(kind='bar')\n",
    "    price_psm_table.groupby(col_name).mean().plot(kind='bar')\n",
    "    plt.show()\n",
    "\n",
    "barplot_price('rooms', price_matrix)"
   ]
  },
  {
   "cell_type": "markdown",
   "metadata": {},
   "source": [
    "На графиках представлена зависимость стоимости квартиры и цены за квадратный метр от количества комнат. Нет однозначной прямой пропорции между количеством комнат и стоимостью жилья, она повышается до 6 комнат, а потом, судя по всему, немного падает. Почему-то шестикомнатные квартиры ценятся выше всего."
   ]
  },
  {
   "cell_type": "markdown",
   "metadata": {},
   "source": [
    "#### Этаж"
   ]
  },
  {
   "cell_type": "code",
   "execution_count": 15,
   "metadata": {},
   "outputs": [
    {
     "data": {
      "image/png": "[encoded data removed]",
      "text/plain": [
       "<Figure size 432x288 with 1 Axes>"
      ]
     },
     "metadata": {
      "needs_background": "light"
     },
     "output_type": "display_data"
    },
    {
     "data": {
      "image/png": "[encoded data removed]",
      "text/plain": [
       "<Figure size 432x288 with 1 Axes>"
      ]
     },
     "metadata": {
      "needs_background": "light"
     },
     "output_type": "display_data"
    }
   ],
   "source": [
    "barplot_price('floor_category', price_matrix)"
   ]
  },
  {
   "cell_type": "markdown",
   "metadata": {},
   "source": [
    "Вывод: квартиры на первом этаже обычно дешевле"
   ]
  },
  {
   "cell_type": "markdown",
   "metadata": {},
   "source": [
    "#### День недели, месяц, год"
   ]
  },
  {
   "cell_type": "code",
   "execution_count": 16,
   "metadata": {},
   "outputs": [
    {
     "data": {
      "image/png": "[encoded data removed]",
      "text/plain": [
       "<Figure size 432x288 with 1 Axes>"
      ]
     },
     "metadata": {
      "needs_background": "light"
     },
     "output_type": "display_data"
    },
    {
     "data": {
      "image/png": "[encoded data removed]",
      "text/plain": [
       "<Figure size 432x288 with 1 Axes>"
      ]
     },
     "metadata": {
      "needs_background": "light"
     },
     "output_type": "display_data"
    }
   ],
   "source": [
    "barplot_price('weekday', price_matrix)"
   ]
  },
  {
   "cell_type": "markdown",
   "metadata": {},
   "source": [
    "Заметной разницы нет, но, если верить графику со стоимостью квартир, самые дорогие квартиры чуть-чуть активнее продаются в четверг"
   ]
  },
  {
   "cell_type": "code",
   "execution_count": 17,
   "metadata": {},
   "outputs": [
    {
     "data": {
      "image/png": "[encoded data removed]",
      "text/plain": [
       "<Figure size 432x288 with 1 Axes>"
      ]
     },
     "metadata": {
      "needs_background": "light"
     },
     "output_type": "display_data"
    },
    {
     "data": {
      "image/png": "[encoded data removed]",
      "text/plain": [
       "<Figure size 432x288 with 1 Axes>"
      ]
     },
     "metadata": {
      "needs_background": "light"
     },
     "output_type": "display_data"
    }
   ],
   "source": [
    "barplot_price('month', price_matrix)"
   ]
  },
  {
   "cell_type": "markdown",
   "metadata": {},
   "source": [
    "По стоимости за квадратный метр разницы между месяцами продажи почти нет, а вот по суммарной стоимости лидирует июль"
   ]
  },
  {
   "cell_type": "code",
   "execution_count": 18,
   "metadata": {},
   "outputs": [
    {
     "data": {
      "image/png": "[encoded data removed]",
      "text/plain": [
       "<Figure size 432x288 with 1 Axes>"
      ]
     },
     "metadata": {
      "needs_background": "light"
     },
     "output_type": "display_data"
    },
    {
     "data": {
      "image/png": "[encoded data removed]",
      "text/plain": [
       "<Figure size 432x288 with 1 Axes>"
      ]
     },
     "metadata": {
      "needs_background": "light"
     },
     "output_type": "display_data"
    }
   ],
   "source": [
    "barplot_price('year', price_matrix)"
   ]
  },
  {
   "cell_type": "markdown",
   "metadata": {},
   "source": [
    "Если верить графику, получается, что в 2014 году стоимость квадратного метра жилья в Петербурге и Ленобласти была максимальной, затем его стоимость упала к 2017 году, затем снова постепеннно начала расти. Суммарная стоимость жилья упала, но, учитывая график стоимости квадратного метра, скорее уменьшилась площадь продаваемых квартир"
   ]
  },
  {
   "cell_type": "markdown",
   "metadata": {},
   "source": [
    "### Топ-10\n",
    "Населенные пункты с наибольшим количеством объявлений о продаже квартир"
   ]
  },
  {
   "cell_type": "code",
   "execution_count": 19,
   "metadata": {},
   "outputs": [
    {
     "data": {
      "text/html": [
       "<div>\n",
       "<style scoped>\n",
       "    .dataframe tbody tr th:only-of-type {\n",
       "        vertical-align: middle;\n",
       "    }\n",
       "\n",
       "    .dataframe tbody tr th {\n",
       "        vertical-align: top;\n",
       "    }\n",
       "\n",
       "    .dataframe thead th {\n",
       "        text-align: right;\n",
       "    }\n",
       "</style>\n",
       "<table border=\"1\" class=\"dataframe\">\n",
       "  <thead>\n",
       "    <tr style=\"text-align: right;\">\n",
       "      <th></th>\n",
       "      <th>total_images</th>\n",
       "      <th>last_price</th>\n",
       "      <th>total_area</th>\n",
       "      <th>first_day_exposition</th>\n",
       "      <th>rooms</th>\n",
       "      <th>ceiling_height</th>\n",
       "      <th>floors_total</th>\n",
       "      <th>living_area</th>\n",
       "      <th>floor</th>\n",
       "      <th>is_apartment</th>\n",
       "      <th>...</th>\n",
       "      <th>ponds_around3000</th>\n",
       "      <th>ponds_nearest</th>\n",
       "      <th>days_exposition</th>\n",
       "      <th>price_psm</th>\n",
       "      <th>weekday</th>\n",
       "      <th>month</th>\n",
       "      <th>year</th>\n",
       "      <th>floor_category</th>\n",
       "      <th>living_ratio</th>\n",
       "      <th>kitchen_ratio</th>\n",
       "    </tr>\n",
       "    <tr>\n",
       "      <th>locality_name</th>\n",
       "      <th></th>\n",
       "      <th></th>\n",
       "      <th></th>\n",
       "      <th></th>\n",
       "      <th></th>\n",
       "      <th></th>\n",
       "      <th></th>\n",
       "      <th></th>\n",
       "      <th></th>\n",
       "      <th></th>\n",
       "      <th></th>\n",
       "      <th></th>\n",
       "      <th></th>\n",
       "      <th></th>\n",
       "      <th></th>\n",
       "      <th></th>\n",
       "      <th></th>\n",
       "      <th></th>\n",
       "      <th></th>\n",
       "      <th></th>\n",
       "      <th></th>\n",
       "    </tr>\n",
       "  </thead>\n",
       "  <tbody>\n",
       "    <tr>\n",
       "      <td>Санкт-Петербург</td>\n",
       "      <td>13390</td>\n",
       "      <td>13390</td>\n",
       "      <td>13390</td>\n",
       "      <td>13390</td>\n",
       "      <td>13390</td>\n",
       "      <td>13390</td>\n",
       "      <td>13331</td>\n",
       "      <td>13390</td>\n",
       "      <td>13390</td>\n",
       "      <td>13390</td>\n",
       "      <td>...</td>\n",
       "      <td>13366</td>\n",
       "      <td>6722</td>\n",
       "      <td>13390</td>\n",
       "      <td>13390</td>\n",
       "      <td>13390</td>\n",
       "      <td>13390</td>\n",
       "      <td>13390</td>\n",
       "      <td>13390</td>\n",
       "      <td>13390</td>\n",
       "      <td>13390</td>\n",
       "    </tr>\n",
       "    <tr>\n",
       "      <td>посёлок Мурино</td>\n",
       "      <td>512</td>\n",
       "      <td>512</td>\n",
       "      <td>512</td>\n",
       "      <td>512</td>\n",
       "      <td>512</td>\n",
       "      <td>512</td>\n",
       "      <td>510</td>\n",
       "      <td>512</td>\n",
       "      <td>512</td>\n",
       "      <td>512</td>\n",
       "      <td>...</td>\n",
       "      <td>0</td>\n",
       "      <td>0</td>\n",
       "      <td>512</td>\n",
       "      <td>512</td>\n",
       "      <td>512</td>\n",
       "      <td>512</td>\n",
       "      <td>512</td>\n",
       "      <td>512</td>\n",
       "      <td>512</td>\n",
       "      <td>512</td>\n",
       "    </tr>\n",
       "    <tr>\n",
       "      <td>посёлок Шушары</td>\n",
       "      <td>404</td>\n",
       "      <td>404</td>\n",
       "      <td>404</td>\n",
       "      <td>404</td>\n",
       "      <td>404</td>\n",
       "      <td>404</td>\n",
       "      <td>403</td>\n",
       "      <td>404</td>\n",
       "      <td>404</td>\n",
       "      <td>404</td>\n",
       "      <td>...</td>\n",
       "      <td>400</td>\n",
       "      <td>139</td>\n",
       "      <td>404</td>\n",
       "      <td>404</td>\n",
       "      <td>404</td>\n",
       "      <td>404</td>\n",
       "      <td>404</td>\n",
       "      <td>404</td>\n",
       "      <td>404</td>\n",
       "      <td>404</td>\n",
       "    </tr>\n",
       "    <tr>\n",
       "      <td>Всеволожск</td>\n",
       "      <td>335</td>\n",
       "      <td>335</td>\n",
       "      <td>335</td>\n",
       "      <td>335</td>\n",
       "      <td>335</td>\n",
       "      <td>335</td>\n",
       "      <td>335</td>\n",
       "      <td>335</td>\n",
       "      <td>335</td>\n",
       "      <td>335</td>\n",
       "      <td>...</td>\n",
       "      <td>0</td>\n",
       "      <td>0</td>\n",
       "      <td>335</td>\n",
       "      <td>335</td>\n",
       "      <td>335</td>\n",
       "      <td>335</td>\n",
       "      <td>335</td>\n",
       "      <td>335</td>\n",
       "      <td>335</td>\n",
       "      <td>335</td>\n",
       "    </tr>\n",
       "    <tr>\n",
       "      <td>Колпино</td>\n",
       "      <td>305</td>\n",
       "      <td>305</td>\n",
       "      <td>305</td>\n",
       "      <td>305</td>\n",
       "      <td>305</td>\n",
       "      <td>305</td>\n",
       "      <td>305</td>\n",
       "      <td>305</td>\n",
       "      <td>305</td>\n",
       "      <td>305</td>\n",
       "      <td>...</td>\n",
       "      <td>304</td>\n",
       "      <td>167</td>\n",
       "      <td>305</td>\n",
       "      <td>305</td>\n",
       "      <td>305</td>\n",
       "      <td>305</td>\n",
       "      <td>305</td>\n",
       "      <td>305</td>\n",
       "      <td>305</td>\n",
       "      <td>305</td>\n",
       "    </tr>\n",
       "    <tr>\n",
       "      <td>посёлок Парголово</td>\n",
       "      <td>301</td>\n",
       "      <td>301</td>\n",
       "      <td>301</td>\n",
       "      <td>301</td>\n",
       "      <td>301</td>\n",
       "      <td>301</td>\n",
       "      <td>301</td>\n",
       "      <td>301</td>\n",
       "      <td>301</td>\n",
       "      <td>301</td>\n",
       "      <td>...</td>\n",
       "      <td>301</td>\n",
       "      <td>51</td>\n",
       "      <td>301</td>\n",
       "      <td>301</td>\n",
       "      <td>301</td>\n",
       "      <td>301</td>\n",
       "      <td>301</td>\n",
       "      <td>301</td>\n",
       "      <td>301</td>\n",
       "      <td>301</td>\n",
       "    </tr>\n",
       "    <tr>\n",
       "      <td>Пушкин</td>\n",
       "      <td>300</td>\n",
       "      <td>300</td>\n",
       "      <td>300</td>\n",
       "      <td>300</td>\n",
       "      <td>300</td>\n",
       "      <td>300</td>\n",
       "      <td>300</td>\n",
       "      <td>300</td>\n",
       "      <td>300</td>\n",
       "      <td>300</td>\n",
       "      <td>...</td>\n",
       "      <td>300</td>\n",
       "      <td>147</td>\n",
       "      <td>300</td>\n",
       "      <td>300</td>\n",
       "      <td>300</td>\n",
       "      <td>300</td>\n",
       "      <td>300</td>\n",
       "      <td>300</td>\n",
       "      <td>300</td>\n",
       "      <td>300</td>\n",
       "    </tr>\n",
       "    <tr>\n",
       "      <td>деревня Кудрово</td>\n",
       "      <td>294</td>\n",
       "      <td>294</td>\n",
       "      <td>294</td>\n",
       "      <td>294</td>\n",
       "      <td>294</td>\n",
       "      <td>294</td>\n",
       "      <td>294</td>\n",
       "      <td>294</td>\n",
       "      <td>294</td>\n",
       "      <td>294</td>\n",
       "      <td>...</td>\n",
       "      <td>0</td>\n",
       "      <td>0</td>\n",
       "      <td>294</td>\n",
       "      <td>294</td>\n",
       "      <td>294</td>\n",
       "      <td>294</td>\n",
       "      <td>294</td>\n",
       "      <td>294</td>\n",
       "      <td>294</td>\n",
       "      <td>294</td>\n",
       "    </tr>\n",
       "    <tr>\n",
       "      <td>Гатчина</td>\n",
       "      <td>268</td>\n",
       "      <td>268</td>\n",
       "      <td>268</td>\n",
       "      <td>268</td>\n",
       "      <td>268</td>\n",
       "      <td>268</td>\n",
       "      <td>268</td>\n",
       "      <td>268</td>\n",
       "      <td>268</td>\n",
       "      <td>268</td>\n",
       "      <td>...</td>\n",
       "      <td>0</td>\n",
       "      <td>0</td>\n",
       "      <td>268</td>\n",
       "      <td>268</td>\n",
       "      <td>268</td>\n",
       "      <td>268</td>\n",
       "      <td>268</td>\n",
       "      <td>268</td>\n",
       "      <td>268</td>\n",
       "      <td>268</td>\n",
       "    </tr>\n",
       "    <tr>\n",
       "      <td>Выборг</td>\n",
       "      <td>207</td>\n",
       "      <td>207</td>\n",
       "      <td>207</td>\n",
       "      <td>207</td>\n",
       "      <td>207</td>\n",
       "      <td>207</td>\n",
       "      <td>207</td>\n",
       "      <td>207</td>\n",
       "      <td>207</td>\n",
       "      <td>207</td>\n",
       "      <td>...</td>\n",
       "      <td>0</td>\n",
       "      <td>0</td>\n",
       "      <td>207</td>\n",
       "      <td>207</td>\n",
       "      <td>207</td>\n",
       "      <td>207</td>\n",
       "      <td>207</td>\n",
       "      <td>207</td>\n",
       "      <td>207</td>\n",
       "      <td>207</td>\n",
       "    </tr>\n",
       "  </tbody>\n",
       "</table>\n",
       "<p>10 rows × 28 columns</p>\n",
       "</div>"
      ],
      "text/plain": [
       "                   total_images  last_price  total_area  first_day_exposition  \\\n",
       "locality_name                                                                   \n",
       "Санкт-Петербург           13390       13390       13390                 13390   \n",
       "посёлок Мурино              512         512         512                   512   \n",
       "посёлок Шушары              404         404         404                   404   \n",
       "Всеволожск                  335         335         335                   335   \n",
       "Колпино                     305         305         305                   305   \n",
       "посёлок Парголово           301         301         301                   301   \n",
       "Пушкин                      300         300         300                   300   \n",
       "деревня Кудрово             294         294         294                   294   \n",
       "Гатчина                     268         268         268                   268   \n",
       "Выборг                      207         207         207                   207   \n",
       "\n",
       "                   rooms  ceiling_height  floors_total  living_area  floor  \\\n",
       "locality_name                                                                \n",
       "Санкт-Петербург    13390           13390         13331        13390  13390   \n",
       "посёлок Мурино       512             512           510          512    512   \n",
       "посёлок Шушары       404             404           403          404    404   \n",
       "Всеволожск           335             335           335          335    335   \n",
       "Колпино              305             305           305          305    305   \n",
       "посёлок Парголово    301             301           301          301    301   \n",
       "Пушкин               300             300           300          300    300   \n",
       "деревня Кудрово      294             294           294          294    294   \n",
       "Гатчина              268             268           268          268    268   \n",
       "Выборг               207             207           207          207    207   \n",
       "\n",
       "                   is_apartment  ...  ponds_around3000  ponds_nearest  \\\n",
       "locality_name                    ...                                    \n",
       "Санкт-Петербург           13390  ...             13366           6722   \n",
       "посёлок Мурино              512  ...                 0              0   \n",
       "посёлок Шушары              404  ...               400            139   \n",
       "Всеволожск                  335  ...                 0              0   \n",
       "Колпино                     305  ...               304            167   \n",
       "посёлок Парголово           301  ...               301             51   \n",
       "Пушкин                      300  ...               300            147   \n",
       "деревня Кудрово             294  ...                 0              0   \n",
       "Гатчина                     268  ...                 0              0   \n",
       "Выборг                      207  ...                 0              0   \n",
       "\n",
       "                   days_exposition  price_psm  weekday  month   year  \\\n",
       "locality_name                                                          \n",
       "Санкт-Петербург              13390      13390    13390  13390  13390   \n",
       "посёлок Мурино                 512        512      512    512    512   \n",
       "посёлок Шушары                 404        404      404    404    404   \n",
       "Всеволожск                     335        335      335    335    335   \n",
       "Колпино                        305        305      305    305    305   \n",
       "посёлок Парголово              301        301      301    301    301   \n",
       "Пушкин                         300        300      300    300    300   \n",
       "деревня Кудрово                294        294      294    294    294   \n",
       "Гатчина                        268        268      268    268    268   \n",
       "Выборг                         207        207      207    207    207   \n",
       "\n",
       "                   floor_category  living_ratio  kitchen_ratio  \n",
       "locality_name                                                   \n",
       "Санкт-Петербург             13390         13390          13390  \n",
       "посёлок Мурино                512           512            512  \n",
       "посёлок Шушары                404           404            404  \n",
       "Всеволожск                    335           335            335  \n",
       "Колпино                       305           305            305  \n",
       "посёлок Парголово             301           301            301  \n",
       "Пушкин                        300           300            300  \n",
       "деревня Кудрово               294           294            294  \n",
       "Гатчина                       268           268            268  \n",
       "Выборг                        207           207            207  \n",
       "\n",
       "[10 rows x 28 columns]"
      ]
     },
     "execution_count": 19,
     "metadata": {},
     "output_type": "execute_result"
    }
   ],
   "source": [
    "df_sorted.groupby(['locality_name']).count().sort_values(by=['last_price'], ascending=False).head(10)"
   ]
  },
  {
   "cell_type": "code",
   "execution_count": 20,
   "metadata": {},
   "outputs": [
    {
     "data": {
      "text/html": [
       "<div>\n",
       "<style scoped>\n",
       "    .dataframe tbody tr th:only-of-type {\n",
       "        vertical-align: middle;\n",
       "    }\n",
       "\n",
       "    .dataframe tbody tr th {\n",
       "        vertical-align: top;\n",
       "    }\n",
       "\n",
       "    .dataframe thead th {\n",
       "        text-align: right;\n",
       "    }\n",
       "</style>\n",
       "<table border=\"1\" class=\"dataframe\">\n",
       "  <thead>\n",
       "    <tr style=\"text-align: right;\">\n",
       "      <th></th>\n",
       "      <th>price_psm</th>\n",
       "    </tr>\n",
       "    <tr>\n",
       "      <th>locality_name</th>\n",
       "      <th></th>\n",
       "    </tr>\n",
       "  </thead>\n",
       "  <tbody>\n",
       "    <tr>\n",
       "      <td>Санкт-Петербург</td>\n",
       "      <td>111663.076065</td>\n",
       "    </tr>\n",
       "    <tr>\n",
       "      <td>Пушкин</td>\n",
       "      <td>102174.177967</td>\n",
       "    </tr>\n",
       "    <tr>\n",
       "      <td>деревня Кудрово</td>\n",
       "      <td>92421.528671</td>\n",
       "    </tr>\n",
       "    <tr>\n",
       "      <td>посёлок Парголово</td>\n",
       "      <td>89423.993853</td>\n",
       "    </tr>\n",
       "    <tr>\n",
       "      <td>посёлок Мурино</td>\n",
       "      <td>85935.818094</td>\n",
       "    </tr>\n",
       "    <tr>\n",
       "      <td>Петергоф</td>\n",
       "      <td>82956.692327</td>\n",
       "    </tr>\n",
       "    <tr>\n",
       "      <td>посёлок Шушары</td>\n",
       "      <td>77937.129103</td>\n",
       "    </tr>\n",
       "    <tr>\n",
       "      <td>Колпино</td>\n",
       "      <td>74700.747117</td>\n",
       "    </tr>\n",
       "    <tr>\n",
       "      <td>Всеволожск</td>\n",
       "      <td>68623.139486</td>\n",
       "    </tr>\n",
       "    <tr>\n",
       "      <td>Гатчина</td>\n",
       "      <td>67928.326990</td>\n",
       "    </tr>\n",
       "  </tbody>\n",
       "</table>\n",
       "</div>"
      ],
      "text/plain": [
       "                       price_psm\n",
       "locality_name                   \n",
       "Санкт-Петербург    111663.076065\n",
       "Пушкин             102174.177967\n",
       "деревня Кудрово     92421.528671\n",
       "посёлок Парголово   89423.993853\n",
       "посёлок Мурино      85935.818094\n",
       "Петергоф            82956.692327\n",
       "посёлок Шушары      77937.129103\n",
       "Колпино             74700.747117\n",
       "Всеволожск          68623.139486\n",
       "Гатчина             67928.326990"
      ]
     },
     "execution_count": 20,
     "metadata": {},
     "output_type": "execute_result"
    }
   ],
   "source": [
    "top10 = ['Санкт-Петербург', 'Всеволожск', 'посёлок Мурино', 'посёлок Шушары', 'Пушкин', 'Колпино', 'Петергоф', 'Гатчина', 'деревня Кудрово', 'посёлок Парголово']\n",
    "top10table = df_sorted.query('locality_name in @top10')\n",
    "pd.pivot_table(top10table, index=['locality_name'], values=['price_psm']).sort_values(by='price_psm', ascending=False)\n"
   ]
  },
  {
   "cell_type": "markdown",
   "metadata": {},
   "source": [
    "В сводной таблице представлены средние значения цены за квадратный метр. Самая высокая стоимостью жилья в Санкт-Петербурге и в Пушкине. Самая низкая в Гатчине и Всеволожске."
   ]
  },
  {
   "cell_type": "markdown",
   "metadata": {},
   "source": [
    "### Расстояние до центра"
   ]
  },
  {
   "cell_type": "code",
   "execution_count": 21,
   "metadata": {},
   "outputs": [
    {
     "name": "stderr",
     "output_type": "stream",
     "text": [
      "/opt/conda/lib/python3.7/site-packages/ipykernel_launcher.py:3: SettingWithCopyWarning: \n",
      "A value is trying to be set on a copy of a slice from a DataFrame.\n",
      "Try using .loc[row_indexer,col_indexer] = value instead\n",
      "\n",
      "See the caveats in the documentation: http://pandas.pydata.org/pandas-docs/stable/user_guide/indexing.html#returning-a-view-versus-a-copy\n",
      "  This is separate from the ipykernel package so we can avoid doing imports until\n"
     ]
    },
    {
     "data": {
      "text/plain": [
       "<matplotlib.axes._subplots.AxesSubplot at 0x7f8df05b1f90>"
      ]
     },
     "execution_count": 21,
     "metadata": {},
     "output_type": "execute_result"
    },
    {
     "data": {
      "image/png": "[encoded data removed]",
      "text/plain": [
       "<Figure size 432x288 with 1 Axes>"
      ]
     },
     "metadata": {
      "needs_background": "light"
     },
     "output_type": "display_data"
    }
   ],
   "source": [
    "# выделим квартиры в Санкт-Петербурге\n",
    "spb = df_sorted.query('locality_name == \"Санкт-Петербург\"')\n",
    "spb['km_to_center'] = (spb['cityCenters_nearest'] / 1000).round(0) #километры в метры и округлим до целых\n",
    "price_center = spb[['km_to_center', 'last_price']]\n",
    "price_center = pd.pivot_table(price_center, index=['km_to_center'], aggfunc='mean').reset_index().sort_values(by=['km_to_center'])\n",
    "price_center.plot(x='km_to_center', y='last_price', kind='scatter') \n",
    "\n"
   ]
  },
  {
   "cell_type": "markdown",
   "metadata": {},
   "source": [
    "Ну, судя по графику, зависимость приобретает линейный характер начиная с 10 км до центра города."
   ]
  },
  {
   "cell_type": "markdown",
   "metadata": {},
   "source": [
    "### Квартиры в центре"
   ]
  },
  {
   "cell_type": "markdown",
   "metadata": {},
   "source": [
    "Выделен сегмент квартир в центре. Нужно изчучить следующие параметры: площадь, цена, число комнат, высота потолков. Также нужно выделить факторы, которые влияют на стоимость квартиры (число комнат, этаж, удалённость от центра, дата размещения объявления). Сравнить полученные данные с общими по городу и области."
   ]
  },
  {
   "cell_type": "code",
   "execution_count": 22,
   "metadata": {},
   "outputs": [],
   "source": [
    "spb_center = spb.query('km_to_center <= 10') # квартиры в центре\n",
    "spb_center = spb_center[['last_price', 'price_psm', 'total_area', 'rooms', 'ceiling_height', 'floor_category', 'weekday', 'month', 'year', 'days_exposition', 'km_to_center', 'cityCenters_nearest' ]]\n",
    "# выделила только нужные для анализа столбцы"
   ]
  },
  {
   "cell_type": "markdown",
   "metadata": {},
   "source": [
    "#### Площадь квартир"
   ]
  },
  {
   "cell_type": "code",
   "execution_count": 23,
   "metadata": {},
   "outputs": [
    {
     "data": {
      "image/png": "[encoded data removed]",
      "text/plain": [
       "<Figure size 432x288 with 1 Axes>"
      ]
     },
     "metadata": {
      "needs_background": "light"
     },
     "output_type": "display_data"
    },
    {
     "data": {
      "text/plain": [
       "0    31.0\n",
       "dtype: float64"
      ]
     },
     "execution_count": 23,
     "metadata": {},
     "output_type": "execute_result"
    }
   ],
   "source": [
    "spb_center['total_area'].hist(bins=100, range=(0, 500)) # распределение квартир по площади\n",
    "plt.show()\n",
    "spb_center['total_area'].mode()"
   ]
  },
  {
   "cell_type": "markdown",
   "metadata": {},
   "source": [
    "Распределение по площади в центре шире, чем в остальной части города, а пик приходится на квартиры с меньшей площадью - 31 кв.м. Возможно это связано с большим количеством коммунальных квартир в центре. Можно сделать вывод, что в центре города сосредоточены и самые большие, и самые маленькие квартиры."
   ]
  },
  {
   "cell_type": "markdown",
   "metadata": {},
   "source": [
    "#### Цена "
   ]
  },
  {
   "cell_type": "code",
   "execution_count": 24,
   "metadata": {},
   "outputs": [
    {
     "data": {
      "image/png": "[encoded data removed]",
      "text/plain": [
       "<Figure size 432x288 with 1 Axes>"
      ]
     },
     "metadata": {
      "needs_background": "light"
     },
     "output_type": "display_data"
    },
    {
     "data": {
      "image/png": "[encoded data removed]",
      "text/plain": [
       "<Figure size 432x288 with 1 Axes>"
      ]
     },
     "metadata": {
      "needs_background": "light"
     },
     "output_type": "display_data"
    }
   ],
   "source": [
    "spb_center['last_price'].hist(bins=100, range=(0, 150000000))\n",
    "plt.show()\n",
    "spb_center['last_price'].mode()\n",
    "spb_center['last_price'].hist(bins=100, range=(20000000, 150000000))\n",
    "plt.show()"
   ]
  },
  {
   "cell_type": "markdown",
   "metadata": {},
   "source": [
    "Квартиры в центре дороже, это было заметно ещё на диаграмме рассеивания. На втором графике увеличена область высоких значений, чтобы лучше было видно разброс в правой части гистограммы"
   ]
  },
  {
   "cell_type": "markdown",
   "metadata": {},
   "source": [
    "#### Количество комнат"
   ]
  },
  {
   "cell_type": "code",
   "execution_count": 25,
   "metadata": {},
   "outputs": [
    {
     "data": {
      "image/png": "[encoded data removed]",
      "text/plain": [
       "<Figure size 432x288 with 1 Axes>"
      ]
     },
     "metadata": {
      "needs_background": "light"
     },
     "output_type": "display_data"
    },
    {
     "data": {
      "text/plain": [
       "0    2\n",
       "dtype: int64"
      ]
     },
     "execution_count": 25,
     "metadata": {},
     "output_type": "execute_result"
    }
   ],
   "source": [
    "spb_center['rooms'].hist(bins=17, range=(0, 15))\n",
    "plt.show()\n",
    "spb_center['rooms'].mode()"
   ]
  },
  {
   "cell_type": "markdown",
   "metadata": {},
   "source": [
    "Как и предполагалось ранее, в центре продается очень много маленьких квартир-комнат в коммунальных квартирах."
   ]
  },
  {
   "cell_type": "markdown",
   "metadata": {},
   "source": [
    "#### Высота потолков"
   ]
  },
  {
   "cell_type": "code",
   "execution_count": 26,
   "metadata": {},
   "outputs": [
    {
     "data": {
      "image/png": "[encoded data removed]",
      "text/plain": [
       "<Figure size 432x288 with 1 Axes>"
      ]
     },
     "metadata": {
      "needs_background": "light"
     },
     "output_type": "display_data"
    },
    {
     "data": {
      "text/plain": [
       "0    3.064\n",
       "dtype: object"
      ]
     },
     "execution_count": 26,
     "metadata": {},
     "output_type": "execute_result"
    }
   ],
   "source": [
    "spb_center['ceiling_height'].hist(bins=100, range=(1, 7))\n",
    "plt.show()\n",
    "spb_center['ceiling_height'].mode()"
   ]
  },
  {
   "cell_type": "markdown",
   "metadata": {},
   "source": [
    "В среднем, потолки в центре горда значительно выше, мода находится на значении 3 метра, хотя пик на 2,5 метрах тоже присутствует"
   ]
  },
  {
   "cell_type": "markdown",
   "metadata": {},
   "source": [
    "#### Факторы, влияющие на стоимость квартиры"
   ]
  },
  {
   "cell_type": "code",
   "execution_count": 27,
   "metadata": {},
   "outputs": [
    {
     "data": {
      "text/html": [
       "<div>\n",
       "<style scoped>\n",
       "    .dataframe tbody tr th:only-of-type {\n",
       "        vertical-align: middle;\n",
       "    }\n",
       "\n",
       "    .dataframe tbody tr th {\n",
       "        vertical-align: top;\n",
       "    }\n",
       "\n",
       "    .dataframe thead th {\n",
       "        text-align: right;\n",
       "    }\n",
       "</style>\n",
       "<table border=\"1\" class=\"dataframe\">\n",
       "  <thead>\n",
       "    <tr style=\"text-align: right;\">\n",
       "      <th></th>\n",
       "      <th>last_price</th>\n",
       "      <th>price_psm</th>\n",
       "      <th>total_area</th>\n",
       "      <th>rooms</th>\n",
       "      <th>weekday</th>\n",
       "      <th>month</th>\n",
       "      <th>year</th>\n",
       "      <th>days_exposition</th>\n",
       "      <th>km_to_center</th>\n",
       "      <th>cityCenters_nearest</th>\n",
       "    </tr>\n",
       "  </thead>\n",
       "  <tbody>\n",
       "    <tr>\n",
       "      <td>last_price</td>\n",
       "      <td>1.000000</td>\n",
       "      <td>0.800461</td>\n",
       "      <td>0.702260</td>\n",
       "      <td>0.414020</td>\n",
       "      <td>0.007191</td>\n",
       "      <td>0.008440</td>\n",
       "      <td>-0.099210</td>\n",
       "      <td>0.128935</td>\n",
       "      <td>-0.210363</td>\n",
       "      <td>-0.210431</td>\n",
       "    </tr>\n",
       "    <tr>\n",
       "      <td>price_psm</td>\n",
       "      <td>0.800461</td>\n",
       "      <td>1.000000</td>\n",
       "      <td>0.287950</td>\n",
       "      <td>0.035017</td>\n",
       "      <td>0.014254</td>\n",
       "      <td>-0.000464</td>\n",
       "      <td>-0.026107</td>\n",
       "      <td>0.063660</td>\n",
       "      <td>-0.158055</td>\n",
       "      <td>-0.155928</td>\n",
       "    </tr>\n",
       "    <tr>\n",
       "      <td>total_area</td>\n",
       "      <td>0.702260</td>\n",
       "      <td>0.287950</td>\n",
       "      <td>1.000000</td>\n",
       "      <td>0.780640</td>\n",
       "      <td>-0.000019</td>\n",
       "      <td>0.018343</td>\n",
       "      <td>-0.134941</td>\n",
       "      <td>0.177576</td>\n",
       "      <td>-0.308445</td>\n",
       "      <td>-0.311504</td>\n",
       "    </tr>\n",
       "    <tr>\n",
       "      <td>rooms</td>\n",
       "      <td>0.414020</td>\n",
       "      <td>0.035017</td>\n",
       "      <td>0.780640</td>\n",
       "      <td>1.000000</td>\n",
       "      <td>-0.015392</td>\n",
       "      <td>0.013864</td>\n",
       "      <td>-0.112750</td>\n",
       "      <td>0.150054</td>\n",
       "      <td>-0.306125</td>\n",
       "      <td>-0.310023</td>\n",
       "    </tr>\n",
       "    <tr>\n",
       "      <td>weekday</td>\n",
       "      <td>0.007191</td>\n",
       "      <td>0.014254</td>\n",
       "      <td>-0.000019</td>\n",
       "      <td>-0.015392</td>\n",
       "      <td>1.000000</td>\n",
       "      <td>0.019015</td>\n",
       "      <td>0.008649</td>\n",
       "      <td>-0.031776</td>\n",
       "      <td>0.004055</td>\n",
       "      <td>0.002473</td>\n",
       "    </tr>\n",
       "    <tr>\n",
       "      <td>month</td>\n",
       "      <td>0.008440</td>\n",
       "      <td>-0.000464</td>\n",
       "      <td>0.018343</td>\n",
       "      <td>0.013864</td>\n",
       "      <td>0.019015</td>\n",
       "      <td>1.000000</td>\n",
       "      <td>-0.213525</td>\n",
       "      <td>-0.009441</td>\n",
       "      <td>-0.044676</td>\n",
       "      <td>-0.044224</td>\n",
       "    </tr>\n",
       "    <tr>\n",
       "      <td>year</td>\n",
       "      <td>-0.099210</td>\n",
       "      <td>-0.026107</td>\n",
       "      <td>-0.134941</td>\n",
       "      <td>-0.112750</td>\n",
       "      <td>0.008649</td>\n",
       "      <td>-0.213525</td>\n",
       "      <td>1.000000</td>\n",
       "      <td>-0.599566</td>\n",
       "      <td>0.111486</td>\n",
       "      <td>0.111128</td>\n",
       "    </tr>\n",
       "    <tr>\n",
       "      <td>days_exposition</td>\n",
       "      <td>0.128935</td>\n",
       "      <td>0.063660</td>\n",
       "      <td>0.177576</td>\n",
       "      <td>0.150054</td>\n",
       "      <td>-0.031776</td>\n",
       "      <td>-0.009441</td>\n",
       "      <td>-0.599566</td>\n",
       "      <td>1.000000</td>\n",
       "      <td>-0.130636</td>\n",
       "      <td>-0.129757</td>\n",
       "    </tr>\n",
       "    <tr>\n",
       "      <td>km_to_center</td>\n",
       "      <td>-0.210363</td>\n",
       "      <td>-0.158055</td>\n",
       "      <td>-0.308445</td>\n",
       "      <td>-0.306125</td>\n",
       "      <td>0.004055</td>\n",
       "      <td>-0.044676</td>\n",
       "      <td>0.111486</td>\n",
       "      <td>-0.130636</td>\n",
       "      <td>1.000000</td>\n",
       "      <td>0.993994</td>\n",
       "    </tr>\n",
       "    <tr>\n",
       "      <td>cityCenters_nearest</td>\n",
       "      <td>-0.210431</td>\n",
       "      <td>-0.155928</td>\n",
       "      <td>-0.311504</td>\n",
       "      <td>-0.310023</td>\n",
       "      <td>0.002473</td>\n",
       "      <td>-0.044224</td>\n",
       "      <td>0.111128</td>\n",
       "      <td>-0.129757</td>\n",
       "      <td>0.993994</td>\n",
       "      <td>1.000000</td>\n",
       "    </tr>\n",
       "  </tbody>\n",
       "</table>\n",
       "</div>"
      ],
      "text/plain": [
       "                     last_price  price_psm  total_area     rooms   weekday  \\\n",
       "last_price             1.000000   0.800461    0.702260  0.414020  0.007191   \n",
       "price_psm              0.800461   1.000000    0.287950  0.035017  0.014254   \n",
       "total_area             0.702260   0.287950    1.000000  0.780640 -0.000019   \n",
       "rooms                  0.414020   0.035017    0.780640  1.000000 -0.015392   \n",
       "weekday                0.007191   0.014254   -0.000019 -0.015392  1.000000   \n",
       "month                  0.008440  -0.000464    0.018343  0.013864  0.019015   \n",
       "year                  -0.099210  -0.026107   -0.134941 -0.112750  0.008649   \n",
       "days_exposition        0.128935   0.063660    0.177576  0.150054 -0.031776   \n",
       "km_to_center          -0.210363  -0.158055   -0.308445 -0.306125  0.004055   \n",
       "cityCenters_nearest   -0.210431  -0.155928   -0.311504 -0.310023  0.002473   \n",
       "\n",
       "                        month      year  days_exposition  km_to_center  \\\n",
       "last_price           0.008440 -0.099210         0.128935     -0.210363   \n",
       "price_psm           -0.000464 -0.026107         0.063660     -0.158055   \n",
       "total_area           0.018343 -0.134941         0.177576     -0.308445   \n",
       "rooms                0.013864 -0.112750         0.150054     -0.306125   \n",
       "weekday              0.019015  0.008649        -0.031776      0.004055   \n",
       "month                1.000000 -0.213525        -0.009441     -0.044676   \n",
       "year                -0.213525  1.000000        -0.599566      0.111486   \n",
       "days_exposition     -0.009441 -0.599566         1.000000     -0.130636   \n",
       "km_to_center        -0.044676  0.111486        -0.130636      1.000000   \n",
       "cityCenters_nearest -0.044224  0.111128        -0.129757      0.993994   \n",
       "\n",
       "                     cityCenters_nearest  \n",
       "last_price                     -0.210431  \n",
       "price_psm                      -0.155928  \n",
       "total_area                     -0.311504  \n",
       "rooms                          -0.310023  \n",
       "weekday                         0.002473  \n",
       "month                          -0.044224  \n",
       "year                            0.111128  \n",
       "days_exposition                -0.129757  \n",
       "km_to_center                    0.993994  \n",
       "cityCenters_nearest             1.000000  "
      ]
     },
     "metadata": {},
     "output_type": "display_data"
    }
   ],
   "source": [
    "display(spb_center.corr()) # построим матрицу корреляции"
   ]
  },
  {
   "cell_type": "markdown",
   "metadata": {},
   "source": [
    "Матрица корреляции в целом очень похожа на общую матрицу (по Санкт-Петербургу и Ленинградской области). Есть высокая прямая корреляция между стоимостью жилья и его площадью, слабая корреляция между количеством комнат и стоимостью жилья, очень слабая отрицательная корреляция между расстоянием до центра города и стоимостью жилья, т.е. чем ближе к центру, тем дороже; очень слабая положительная корреляция стоимости квартиры и наличия парков и водоемов поблизости, значимой связи между временем публикации объявления и стоимостью квартиры при продаже нет."
   ]
  },
  {
   "cell_type": "code",
   "execution_count": 28,
   "metadata": {},
   "outputs": [
    {
     "data": {
      "image/png": "[encoded data removed]",
      "text/plain": [
       "<Figure size 432x288 with 1 Axes>"
      ]
     },
     "metadata": {
      "needs_background": "light"
     },
     "output_type": "display_data"
    },
    {
     "data": {
      "image/png": "[encoded data removed]",
      "text/plain": [
       "<Figure size 432x288 with 1 Axes>"
      ]
     },
     "metadata": {
      "needs_background": "light"
     },
     "output_type": "display_data"
    }
   ],
   "source": [
    "barplot_price('floor_category', spb_center)"
   ]
  },
  {
   "cell_type": "markdown",
   "metadata": {},
   "source": [
    "В центре более выражена разница в стоимости квартир на первом этаже и на остальных, возможно это связано с особенностями архитектуры старых зданий - в них часто первый этаж находится как раз на уровне глаз прохожих."
   ]
  },
  {
   "cell_type": "code",
   "execution_count": 29,
   "metadata": {},
   "outputs": [
    {
     "data": {
      "image/png": "[encoded data removed]",
      "text/plain": [
       "<Figure size 432x288 with 1 Axes>"
      ]
     },
     "metadata": {
      "needs_background": "light"
     },
     "output_type": "display_data"
    },
    {
     "data": {
      "image/png": "[encoded data removed]",
      "text/plain": [
       "<Figure size 432x288 with 1 Axes>"
      ]
     },
     "metadata": {
      "needs_background": "light"
     },
     "output_type": "display_data"
    }
   ],
   "source": [
    "barplot_price('weekday', spb_center)"
   ]
  },
  {
   "cell_type": "markdown",
   "metadata": {},
   "source": [
    "Стоимость продаваемых в центре квартир несколько меньше во вторник и среду, но при анализе цены квадратного метра данная закономерность не выражена"
   ]
  },
  {
   "cell_type": "code",
   "execution_count": 30,
   "metadata": {},
   "outputs": [
    {
     "data": {
      "image/png": "[encoded data removed]",
      "text/plain": [
       "<Figure size 432x288 with 1 Axes>"
      ]
     },
     "metadata": {
      "needs_background": "light"
     },
     "output_type": "display_data"
    },
    {
     "data": {
      "image/png": "[encoded data removed]",
      "text/plain": [
       "<Figure size 432x288 with 1 Axes>"
      ]
     },
     "metadata": {
      "needs_background": "light"
     },
     "output_type": "display_data"
    }
   ],
   "source": [
    "barplot_price('month', spb_center)"
   ]
  },
  {
   "cell_type": "markdown",
   "metadata": {},
   "source": [
    "На графиках для центра Санкт-Петербурга тоже отмечается пик стоимости квартир в июле."
   ]
  },
  {
   "cell_type": "code",
   "execution_count": 31,
   "metadata": {},
   "outputs": [
    {
     "data": {
      "image/png": "[encoded data removed]",
      "text/plain": [
       "<Figure size 432x288 with 1 Axes>"
      ]
     },
     "metadata": {
      "needs_background": "light"
     },
     "output_type": "display_data"
    },
    {
     "data": {
      "image/png": "[encoded data removed]",
      "text/plain": [
       "<Figure size 432x288 with 1 Axes>"
      ]
     },
     "metadata": {
      "needs_background": "light"
     },
     "output_type": "display_data"
    }
   ],
   "source": [
    "barplot_price('year', spb_center)"
   ]
  },
  {
   "cell_type": "markdown",
   "metadata": {},
   "source": [
    "Стоимость квартир в центре так же год от года падает, но стоимость квадратного метра почти не меняется, отмечался некоторый спад в 2018 году, но затем средняя цена вернулась на прежний уровень. В центре строится значительно меньше квартир-студий, но возможно речь идет о продаже комнат в коммунальных квартирах."
   ]
  },
  {
   "cell_type": "markdown",
   "metadata": {},
   "source": [
    "## Общий вывод"
   ]
  },
  {
   "cell_type": "markdown",
   "metadata": {},
   "source": [
    "Проведен анализ объявлений о продаже квартир в Санкт-Петербурге и Ленинградской области. Больше всего было квартир в Санкт-Петербурге, кроме того, отдельно проанализирован центр Санкт-Петербурга. Самая высокая стоимость жилья в Санкт-Петербурге и Пушкине, причем уровень цен заметно не отличается. Цена почти напрямую зависит от площади квартиры, и  связана с количеством комнат, но корреляция слабая, также имеется очень слабо выраженная зависимость стоимости квартиры от расстояния до центра города, чем ближе, тем дороже. Ещё в центре города есть очень слабая корреляция между высотой потолков и стоимостью жилья. В центре в целом выше потолки, но меньше площадь квартир - из-за большого количества коммунальных квартир в выборке. Пик стоимости жилья приходится на объявления, опубликованные в июле. Квартиры на первом этаже, как правило, стоят дешевше, особенно это характерно для центра Санкт-Петербурга.\n",
    "Иногда отсутствие связи так же важно, как и её наличие. Например, значимой разницы между стоимостью квартир и апартаментов не было найдено. Соотношение жилой/нежилой площади так же не влияет на стоимость квартир, она зависит только от общей площади. \n",
    "\n"
   ]
  },
  {
   "cell_type": "code",
   "execution_count": null,
   "metadata": {},
   "outputs": [],
   "source": []
  }
 ],
 "metadata": {
  "ExecuteTimeLog": [
   {
    "duration": 947,
    "start_time": "2021-12-28T20:28:43.587Z"
   },
   {
    "duration": 137,
    "start_time": "2021-12-28T20:30:51.130Z"
   },
   {
    "duration": 129,
    "start_time": "2021-12-28T20:31:28.700Z"
   },
   {
    "duration": 394,
    "start_time": "2021-12-29T09:17:37.592Z"
   },
   {
    "duration": 937,
    "start_time": "2021-12-29T09:17:49.281Z"
   },
   {
    "duration": 8242,
    "start_time": "2021-12-29T09:17:50.220Z"
   },
   {
    "duration": 15,
    "start_time": "2021-12-29T09:18:19.048Z"
   },
   {
    "duration": 10,
    "start_time": "2021-12-29T09:18:34.685Z"
   },
   {
    "duration": 1210,
    "start_time": "2022-01-12T15:03:45.114Z"
   },
   {
    "duration": 7752,
    "start_time": "2022-01-12T15:03:46.327Z"
   },
   {
    "duration": -486,
    "start_time": "2022-01-12T15:03:54.572Z"
   },
   {
    "duration": -487,
    "start_time": "2022-01-12T15:03:54.574Z"
   },
   {
    "duration": -486,
    "start_time": "2022-01-12T15:03:54.575Z"
   },
   {
    "duration": -487,
    "start_time": "2022-01-12T15:03:54.577Z"
   },
   {
    "duration": -488,
    "start_time": "2022-01-12T15:03:54.579Z"
   },
   {
    "duration": -488,
    "start_time": "2022-01-12T15:03:54.581Z"
   },
   {
    "duration": -487,
    "start_time": "2022-01-12T15:03:54.582Z"
   },
   {
    "duration": -488,
    "start_time": "2022-01-12T15:03:54.584Z"
   },
   {
    "duration": -488,
    "start_time": "2022-01-12T15:03:54.585Z"
   },
   {
    "duration": -489,
    "start_time": "2022-01-12T15:03:54.588Z"
   },
   {
    "duration": -490,
    "start_time": "2022-01-12T15:03:54.590Z"
   },
   {
    "duration": -490,
    "start_time": "2022-01-12T15:03:54.591Z"
   },
   {
    "duration": -490,
    "start_time": "2022-01-12T15:03:54.593Z"
   },
   {
    "duration": -491,
    "start_time": "2022-01-12T15:03:54.595Z"
   },
   {
    "duration": -491,
    "start_time": "2022-01-12T15:03:54.596Z"
   },
   {
    "duration": -490,
    "start_time": "2022-01-12T15:03:54.597Z"
   },
   {
    "duration": -491,
    "start_time": "2022-01-12T15:03:54.599Z"
   },
   {
    "duration": 1360,
    "start_time": "2022-01-12T15:17:43.617Z"
   },
   {
    "duration": 1020,
    "start_time": "2022-01-12T15:17:44.986Z"
   },
   {
    "duration": 1597,
    "start_time": "2022-01-12T15:17:46.009Z"
   },
   {
    "duration": 755,
    "start_time": "2022-01-12T15:17:47.609Z"
   },
   {
    "duration": 598,
    "start_time": "2022-01-12T15:17:48.366Z"
   },
   {
    "duration": 375,
    "start_time": "2022-01-12T15:17:48.967Z"
   },
   {
    "duration": 652,
    "start_time": "2022-01-12T15:17:49.346Z"
   },
   {
    "duration": 709,
    "start_time": "2022-01-12T15:17:50.000Z"
   },
   {
    "duration": 1799,
    "start_time": "2022-01-12T15:17:50.713Z"
   },
   {
    "duration": 94,
    "start_time": "2022-01-12T15:17:52.515Z"
   },
   {
    "duration": 69,
    "start_time": "2022-01-12T15:17:52.612Z"
   },
   {
    "duration": 42,
    "start_time": "2022-01-12T15:17:52.684Z"
   },
   {
    "duration": 477,
    "start_time": "2022-01-12T15:17:52.729Z"
   },
   {
    "duration": 12,
    "start_time": "2022-01-12T15:17:53.209Z"
   },
   {
    "duration": 899,
    "start_time": "2022-01-12T15:17:53.223Z"
   },
   {
    "duration": 1280,
    "start_time": "2022-01-12T15:17:54.126Z"
   },
   {
    "duration": 333,
    "start_time": "2022-01-12T15:17:55.409Z"
   },
   {
    "duration": 744,
    "start_time": "2022-01-12T15:17:55.745Z"
   },
   {
    "duration": 59,
    "start_time": "2022-01-12T15:17:56.493Z"
   },
   {
    "duration": 139,
    "start_time": "2022-01-12T16:41:18.642Z"
   },
   {
    "duration": 6,
    "start_time": "2022-01-12T16:41:56.033Z"
   },
   {
    "duration": 722,
    "start_time": "2022-01-13T08:10:28.551Z"
   },
   {
    "duration": 2,
    "start_time": "2022-01-13T08:27:56.136Z"
   },
   {
    "duration": 459,
    "start_time": "2022-01-13T08:53:28.053Z"
   },
   {
    "duration": 388,
    "start_time": "2022-01-13T08:55:33.768Z"
   },
   {
    "duration": 924,
    "start_time": "2022-01-13T08:55:48.145Z"
   },
   {
    "duration": 47588,
    "start_time": "2022-01-13T08:55:15.996Z"
   },
   {
    "duration": 47586,
    "start_time": "2022-01-13T08:55:30.684Z"
   },
   {
    "duration": 8976,
    "start_time": "2022-01-13T08:57:26.817Z"
   },
   {
    "duration": 438,
    "start_time": "2022-01-13T08:58:01.298Z"
   },
   {
    "duration": 146,
    "start_time": "2022-01-13T09:20:46.677Z"
   },
   {
    "duration": 144,
    "start_time": "2022-01-13T09:21:03.593Z"
   },
   {
    "duration": 111,
    "start_time": "2022-01-13T09:21:37.736Z"
   },
   {
    "duration": 1464,
    "start_time": "2022-01-13T09:36:22.729Z"
   },
   {
    "duration": 108,
    "start_time": "2022-01-13T09:47:36.806Z"
   },
   {
    "duration": 147,
    "start_time": "2022-01-13T09:48:19.051Z"
   },
   {
    "duration": 105,
    "start_time": "2022-01-13T09:48:54.163Z"
   },
   {
    "duration": 154,
    "start_time": "2022-01-13T09:49:09.310Z"
   },
   {
    "duration": 113,
    "start_time": "2022-01-13T09:50:13.772Z"
   },
   {
    "duration": 122,
    "start_time": "2022-01-13T09:50:51.060Z"
   },
   {
    "duration": 397,
    "start_time": "2022-01-13T09:51:08.145Z"
   },
   {
    "duration": 398,
    "start_time": "2022-01-13T09:51:44.004Z"
   },
   {
    "duration": 390,
    "start_time": "2022-01-13T09:52:20.763Z"
   },
   {
    "duration": 389,
    "start_time": "2022-01-13T09:54:14.456Z"
   },
   {
    "duration": 387,
    "start_time": "2022-01-13T10:01:40.034Z"
   },
   {
    "duration": 390,
    "start_time": "2022-01-13T10:01:49.525Z"
   },
   {
    "duration": 401,
    "start_time": "2022-01-13T10:02:02.453Z"
   },
   {
    "duration": 396,
    "start_time": "2022-01-13T10:02:32.655Z"
   },
   {
    "duration": 956,
    "start_time": "2022-01-13T10:07:24.584Z"
   },
   {
    "duration": 8946,
    "start_time": "2022-01-13T10:09:03.117Z"
   },
   {
    "duration": 9650,
    "start_time": "2022-01-13T10:11:27.575Z"
   },
   {
    "duration": 402,
    "start_time": "2022-01-13T10:26:37.549Z"
   },
   {
    "duration": 123,
    "start_time": "2022-01-13T10:27:29.244Z"
   },
   {
    "duration": 719,
    "start_time": "2022-01-13T10:28:08.010Z"
   },
   {
    "duration": 47611,
    "start_time": "2022-01-13T10:27:46.224Z"
   },
   {
    "duration": 12710,
    "start_time": "2022-01-13T10:28:36.143Z"
   },
   {
    "duration": 397,
    "start_time": "2022-01-13T10:29:07.152Z"
   },
   {
    "duration": 9676,
    "start_time": "2022-01-13T10:30:36.924Z"
   },
   {
    "duration": 719,
    "start_time": "2022-01-13T10:31:14.072Z"
   },
   {
    "duration": 10145,
    "start_time": "2022-01-13T10:31:28.164Z"
   },
   {
    "duration": 403,
    "start_time": "2022-01-13T10:31:54.659Z"
   },
   {
    "duration": 9219,
    "start_time": "2022-01-13T10:32:17.931Z"
   },
   {
    "duration": 398,
    "start_time": "2022-01-13T10:33:37.962Z"
   },
   {
    "duration": 13005,
    "start_time": "2022-01-13T10:35:35.830Z"
   },
   {
    "duration": 2200,
    "start_time": "2022-01-13T10:37:17.642Z"
   },
   {
    "duration": 798,
    "start_time": "2022-01-13T10:39:10.751Z"
   },
   {
    "duration": 1031,
    "start_time": "2022-01-13T10:43:26.116Z"
   },
   {
    "duration": 14805,
    "start_time": "2022-01-13T10:44:03.408Z"
   },
   {
    "duration": 47620,
    "start_time": "2022-01-13T10:43:45.880Z"
   },
   {
    "duration": 9273,
    "start_time": "2022-01-13T10:45:28.501Z"
   },
   {
    "duration": 727,
    "start_time": "2022-01-13T10:47:20.703Z"
   },
   {
    "duration": 729,
    "start_time": "2022-01-13T10:48:30.619Z"
   },
   {
    "duration": 423,
    "start_time": "2022-01-13T10:48:53.149Z"
   },
   {
    "duration": 407,
    "start_time": "2022-01-13T10:49:53.951Z"
   },
   {
    "duration": 1056,
    "start_time": "2022-01-13T10:50:04.828Z"
   },
   {
    "duration": 719,
    "start_time": "2022-01-13T10:51:06.208Z"
   },
   {
    "duration": 733,
    "start_time": "2022-01-13T10:51:30.982Z"
   },
   {
    "duration": 712,
    "start_time": "2022-01-13T10:51:50.846Z"
   },
   {
    "duration": 390,
    "start_time": "2022-01-13T10:52:12.299Z"
   },
   {
    "duration": 389,
    "start_time": "2022-01-13T10:52:50.502Z"
   },
   {
    "duration": 702,
    "start_time": "2022-01-13T10:53:35.506Z"
   },
   {
    "duration": 112,
    "start_time": "2022-01-13T10:53:36.210Z"
   },
   {
    "duration": 46790,
    "start_time": "2022-01-13T10:52:49.534Z"
   },
   {
    "duration": 46778,
    "start_time": "2022-01-13T10:52:49.548Z"
   },
   {
    "duration": 24,
    "start_time": "2022-01-13T10:53:36.475Z"
   },
   {
    "duration": 743,
    "start_time": "2022-01-13T10:53:36.923Z"
   },
   {
    "duration": 376,
    "start_time": "2022-01-13T10:53:37.668Z"
   },
   {
    "duration": 295,
    "start_time": "2022-01-13T10:53:38.046Z"
   },
   {
    "duration": 186,
    "start_time": "2022-01-13T10:53:38.342Z"
   },
   {
    "duration": 284,
    "start_time": "2022-01-13T10:53:38.529Z"
   },
   {
    "duration": 316,
    "start_time": "2022-01-13T10:53:38.814Z"
   },
   {
    "duration": 655,
    "start_time": "2022-01-13T10:53:39.132Z"
   },
   {
    "duration": 39,
    "start_time": "2022-01-13T10:53:39.789Z"
   },
   {
    "duration": 19,
    "start_time": "2022-01-13T10:53:39.830Z"
   },
   {
    "duration": 16,
    "start_time": "2022-01-13T10:53:39.851Z"
   },
   {
    "duration": 298,
    "start_time": "2022-01-13T10:53:39.868Z"
   },
   {
    "duration": 8,
    "start_time": "2022-01-13T10:53:40.167Z"
   },
   {
    "duration": 275,
    "start_time": "2022-01-13T10:53:40.177Z"
   },
   {
    "duration": 568,
    "start_time": "2022-01-13T10:53:40.453Z"
   },
   {
    "duration": 164,
    "start_time": "2022-01-13T10:53:41.023Z"
   },
   {
    "duration": 345,
    "start_time": "2022-01-13T10:53:41.189Z"
   },
   {
    "duration": 20,
    "start_time": "2022-01-13T10:53:41.536Z"
   },
   {
    "duration": 657,
    "start_time": "2022-01-13T10:54:34.688Z"
   },
   {
    "duration": 539,
    "start_time": "2022-01-13T10:54:35.347Z"
   },
   {
    "duration": 8518,
    "start_time": "2022-01-13T10:54:35.888Z"
   },
   {
    "duration": 47596,
    "start_time": "2022-01-13T10:53:56.812Z"
   },
   {
    "duration": 47588,
    "start_time": "2022-01-13T10:53:56.821Z"
   },
   {
    "duration": 47578,
    "start_time": "2022-01-13T10:53:56.832Z"
   },
   {
    "duration": 47573,
    "start_time": "2022-01-13T10:53:56.837Z"
   },
   {
    "duration": 47563,
    "start_time": "2022-01-13T10:53:56.848Z"
   },
   {
    "duration": 47559,
    "start_time": "2022-01-13T10:53:56.853Z"
   },
   {
    "duration": 47549,
    "start_time": "2022-01-13T10:53:56.863Z"
   },
   {
    "duration": 47546,
    "start_time": "2022-01-13T10:53:56.867Z"
   },
   {
    "duration": 47541,
    "start_time": "2022-01-13T10:53:56.873Z"
   },
   {
    "duration": 47533,
    "start_time": "2022-01-13T10:53:56.882Z"
   },
   {
    "duration": 47528,
    "start_time": "2022-01-13T10:53:56.887Z"
   },
   {
    "duration": 47518,
    "start_time": "2022-01-13T10:53:56.898Z"
   },
   {
    "duration": 47513,
    "start_time": "2022-01-13T10:53:56.904Z"
   },
   {
    "duration": 47500,
    "start_time": "2022-01-13T10:53:56.917Z"
   },
   {
    "duration": 47494,
    "start_time": "2022-01-13T10:53:56.924Z"
   },
   {
    "duration": 47475,
    "start_time": "2022-01-13T10:53:56.944Z"
   },
   {
    "duration": 47461,
    "start_time": "2022-01-13T10:53:56.959Z"
   },
   {
    "duration": 47452,
    "start_time": "2022-01-13T10:53:56.969Z"
   },
   {
    "duration": 393,
    "start_time": "2022-01-13T10:55:20.983Z"
   },
   {
    "duration": 1692,
    "start_time": "2022-01-13T10:56:03.536Z"
   },
   {
    "duration": 166,
    "start_time": "2022-01-13T11:00:20.849Z"
   },
   {
    "duration": 777,
    "start_time": "2022-01-13T11:01:49.870Z"
   },
   {
    "duration": 1053,
    "start_time": "2022-01-13T11:02:34.061Z"
   },
   {
    "duration": 696,
    "start_time": "2022-01-13T11:02:55.787Z"
   },
   {
    "duration": 452,
    "start_time": "2022-01-13T11:02:56.484Z"
   },
   {
    "duration": 1766,
    "start_time": "2022-01-13T11:02:56.938Z"
   },
   {
    "duration": 27,
    "start_time": "2022-01-13T11:02:58.706Z"
   },
   {
    "duration": 738,
    "start_time": "2022-01-13T11:02:58.734Z"
   },
   {
    "duration": 404,
    "start_time": "2022-01-13T11:02:59.474Z"
   },
   {
    "duration": 303,
    "start_time": "2022-01-13T11:02:59.879Z"
   },
   {
    "duration": 190,
    "start_time": "2022-01-13T11:03:00.184Z"
   },
   {
    "duration": 707,
    "start_time": "2022-01-13T11:07:58.837Z"
   },
   {
    "duration": 657,
    "start_time": "2022-01-13T11:07:59.547Z"
   },
   {
    "duration": 376,
    "start_time": "2022-01-13T11:08:00.206Z"
   },
   {
    "duration": 17,
    "start_time": "2022-01-13T11:08:00.584Z"
   },
   {
    "duration": 842,
    "start_time": "2022-01-13T11:08:00.603Z"
   },
   {
    "duration": 407,
    "start_time": "2022-01-13T11:08:01.446Z"
   },
   {
    "duration": 311,
    "start_time": "2022-01-13T11:08:01.855Z"
   },
   {
    "duration": 189,
    "start_time": "2022-01-13T11:08:02.169Z"
   },
   {
    "duration": 287,
    "start_time": "2022-01-13T11:08:02.360Z"
   },
   {
    "duration": 329,
    "start_time": "2022-01-13T11:08:02.648Z"
   },
   {
    "duration": 657,
    "start_time": "2022-01-13T11:08:02.979Z"
   },
   {
    "duration": 19,
    "start_time": "2022-01-13T11:08:03.637Z"
   },
   {
    "duration": 15,
    "start_time": "2022-01-13T11:08:03.657Z"
   },
   {
    "duration": 15,
    "start_time": "2022-01-13T11:08:03.673Z"
   },
   {
    "duration": 310,
    "start_time": "2022-01-13T11:08:03.689Z"
   },
   {
    "duration": 9,
    "start_time": "2022-01-13T11:08:04.000Z"
   },
   {
    "duration": 296,
    "start_time": "2022-01-13T11:08:04.011Z"
   },
   {
    "duration": 666,
    "start_time": "2022-01-13T11:08:04.308Z"
   },
   {
    "duration": 175,
    "start_time": "2022-01-13T11:08:04.976Z"
   },
   {
    "duration": 356,
    "start_time": "2022-01-13T11:08:05.153Z"
   },
   {
    "duration": 32,
    "start_time": "2022-01-13T11:08:05.511Z"
   },
   {
    "duration": 903,
    "start_time": "2022-01-13T11:10:36.911Z"
   },
   {
    "duration": 426,
    "start_time": "2022-01-13T11:10:37.816Z"
   },
   {
    "duration": 361,
    "start_time": "2022-01-13T11:10:38.244Z"
   },
   {
    "duration": 26,
    "start_time": "2022-01-13T11:10:38.607Z"
   },
   {
    "duration": 792,
    "start_time": "2022-01-13T11:10:38.635Z"
   },
   {
    "duration": 383,
    "start_time": "2022-01-13T11:10:39.429Z"
   },
   {
    "duration": 301,
    "start_time": "2022-01-13T11:10:39.814Z"
   },
   {
    "duration": 189,
    "start_time": "2022-01-13T11:10:40.118Z"
   },
   {
    "duration": 325,
    "start_time": "2022-01-13T11:10:40.309Z"
   },
   {
    "duration": 337,
    "start_time": "2022-01-13T11:10:40.635Z"
   },
   {
    "duration": 675,
    "start_time": "2022-01-13T11:10:40.974Z"
   },
   {
    "duration": 23,
    "start_time": "2022-01-13T11:10:41.650Z"
   },
   {
    "duration": 15,
    "start_time": "2022-01-13T11:10:41.674Z"
   },
   {
    "duration": 39,
    "start_time": "2022-01-13T11:10:41.690Z"
   },
   {
    "duration": 301,
    "start_time": "2022-01-13T11:10:41.730Z"
   },
   {
    "duration": 8,
    "start_time": "2022-01-13T11:10:42.033Z"
   },
   {
    "duration": 294,
    "start_time": "2022-01-13T11:10:42.042Z"
   },
   {
    "duration": 559,
    "start_time": "2022-01-13T11:10:42.338Z"
   },
   {
    "duration": 173,
    "start_time": "2022-01-13T11:10:42.899Z"
   },
   {
    "duration": 536,
    "start_time": "2022-01-13T11:10:43.074Z"
   },
   {
    "duration": 38,
    "start_time": "2022-01-13T11:10:43.612Z"
   },
   {
    "duration": 659,
    "start_time": "2022-01-13T11:13:46.684Z"
   },
   {
    "duration": 440,
    "start_time": "2022-01-13T11:13:47.345Z"
   },
   {
    "duration": 369,
    "start_time": "2022-01-13T11:13:47.787Z"
   },
   {
    "duration": 18,
    "start_time": "2022-01-13T11:13:48.157Z"
   },
   {
    "duration": 819,
    "start_time": "2022-01-13T11:13:48.177Z"
   },
   {
    "duration": 395,
    "start_time": "2022-01-13T11:13:48.998Z"
   },
   {
    "duration": 403,
    "start_time": "2022-01-13T11:13:49.394Z"
   },
   {
    "duration": 185,
    "start_time": "2022-01-13T11:13:49.799Z"
   },
   {
    "duration": 287,
    "start_time": "2022-01-13T11:13:49.985Z"
   },
   {
    "duration": 323,
    "start_time": "2022-01-13T11:13:50.273Z"
   },
   {
    "duration": 671,
    "start_time": "2022-01-13T11:13:50.597Z"
   },
   {
    "duration": 19,
    "start_time": "2022-01-13T11:13:51.270Z"
   },
   {
    "duration": 15,
    "start_time": "2022-01-13T11:13:51.291Z"
   },
   {
    "duration": 33,
    "start_time": "2022-01-13T11:13:51.307Z"
   },
   {
    "duration": 276,
    "start_time": "2022-01-13T11:13:51.342Z"
   },
   {
    "duration": 8,
    "start_time": "2022-01-13T11:13:51.626Z"
   },
   {
    "duration": 280,
    "start_time": "2022-01-13T11:13:51.635Z"
   },
   {
    "duration": 560,
    "start_time": "2022-01-13T11:13:51.916Z"
   },
   {
    "duration": 168,
    "start_time": "2022-01-13T11:13:52.477Z"
   },
   {
    "duration": 350,
    "start_time": "2022-01-13T11:13:52.646Z"
   },
   {
    "duration": 34,
    "start_time": "2022-01-13T11:13:52.997Z"
   },
   {
    "duration": 178,
    "start_time": "2022-01-13T11:16:26.615Z"
   },
   {
    "duration": 635,
    "start_time": "2022-01-13T11:16:46.395Z"
   },
   {
    "duration": 646,
    "start_time": "2022-01-13T11:17:06.264Z"
   },
   {
    "duration": 423,
    "start_time": "2022-01-13T11:17:06.911Z"
   },
   {
    "duration": 390,
    "start_time": "2022-01-13T11:17:07.338Z"
   },
   {
    "duration": 18,
    "start_time": "2022-01-13T11:17:07.730Z"
   },
   {
    "duration": 702,
    "start_time": "2022-01-13T11:17:07.750Z"
   },
   {
    "duration": 374,
    "start_time": "2022-01-13T11:17:08.454Z"
   },
   {
    "duration": 297,
    "start_time": "2022-01-13T11:17:08.830Z"
   },
   {
    "duration": 185,
    "start_time": "2022-01-13T11:17:09.129Z"
   },
   {
    "duration": 285,
    "start_time": "2022-01-13T11:17:09.315Z"
   },
   {
    "duration": 317,
    "start_time": "2022-01-13T11:17:09.602Z"
   },
   {
    "duration": 676,
    "start_time": "2022-01-13T11:17:09.920Z"
   },
   {
    "duration": 43,
    "start_time": "2022-01-13T11:17:10.598Z"
   },
   {
    "duration": 18,
    "start_time": "2022-01-13T11:17:10.643Z"
   },
   {
    "duration": 20,
    "start_time": "2022-01-13T11:17:10.663Z"
   },
   {
    "duration": 315,
    "start_time": "2022-01-13T11:17:10.685Z"
   },
   {
    "duration": 8,
    "start_time": "2022-01-13T11:17:11.002Z"
   },
   {
    "duration": 292,
    "start_time": "2022-01-13T11:17:11.011Z"
   },
   {
    "duration": 553,
    "start_time": "2022-01-13T11:17:11.304Z"
   },
   {
    "duration": 169,
    "start_time": "2022-01-13T11:17:11.859Z"
   },
   {
    "duration": 344,
    "start_time": "2022-01-13T11:17:12.029Z"
   },
   {
    "duration": 18,
    "start_time": "2022-01-13T11:17:12.375Z"
   },
   {
    "duration": 113,
    "start_time": "2022-01-13T11:25:21.480Z"
   },
   {
    "duration": 425,
    "start_time": "2022-01-13T11:25:40.712Z"
   },
   {
    "duration": 375,
    "start_time": "2022-01-13T11:28:22.905Z"
   },
   {
    "duration": 418,
    "start_time": "2022-01-13T11:31:10.855Z"
   },
   {
    "duration": 400,
    "start_time": "2022-01-13T11:32:25.678Z"
   },
   {
    "duration": 722,
    "start_time": "2022-01-13T11:32:50.315Z"
   },
   {
    "duration": 428,
    "start_time": "2022-01-13T11:32:51.038Z"
   },
   {
    "duration": 41,
    "start_time": "2022-01-13T11:32:51.470Z"
   },
   {
    "duration": 401,
    "start_time": "2022-01-13T11:32:51.513Z"
   },
   {
    "duration": 47568,
    "start_time": "2022-01-13T11:32:04.348Z"
   },
   {
    "duration": 47561,
    "start_time": "2022-01-13T11:32:04.356Z"
   },
   {
    "duration": 47553,
    "start_time": "2022-01-13T11:32:04.365Z"
   },
   {
    "duration": 47543,
    "start_time": "2022-01-13T11:32:04.375Z"
   },
   {
    "duration": 47512,
    "start_time": "2022-01-13T11:32:04.407Z"
   },
   {
    "duration": 47501,
    "start_time": "2022-01-13T11:32:04.419Z"
   },
   {
    "duration": 47496,
    "start_time": "2022-01-13T11:32:04.425Z"
   },
   {
    "duration": 47473,
    "start_time": "2022-01-13T11:32:04.448Z"
   },
   {
    "duration": 47459,
    "start_time": "2022-01-13T11:32:04.463Z"
   },
   {
    "duration": 47451,
    "start_time": "2022-01-13T11:32:04.473Z"
   },
   {
    "duration": 47444,
    "start_time": "2022-01-13T11:32:04.480Z"
   },
   {
    "duration": 47405,
    "start_time": "2022-01-13T11:32:04.520Z"
   },
   {
    "duration": 47395,
    "start_time": "2022-01-13T11:32:04.531Z"
   },
   {
    "duration": 47387,
    "start_time": "2022-01-13T11:32:04.540Z"
   },
   {
    "duration": 47373,
    "start_time": "2022-01-13T11:32:04.555Z"
   },
   {
    "duration": 47362,
    "start_time": "2022-01-13T11:32:04.566Z"
   },
   {
    "duration": 47350,
    "start_time": "2022-01-13T11:32:04.579Z"
   },
   {
    "duration": 690,
    "start_time": "2022-01-13T11:34:57.326Z"
   },
   {
    "duration": 427,
    "start_time": "2022-01-13T11:34:58.018Z"
   },
   {
    "duration": 45,
    "start_time": "2022-01-13T11:34:58.447Z"
   },
   {
    "duration": 36,
    "start_time": "2022-01-13T11:34:58.495Z"
   },
   {
    "duration": 703,
    "start_time": "2022-01-13T11:34:58.533Z"
   },
   {
    "duration": 380,
    "start_time": "2022-01-13T11:34:59.238Z"
   },
   {
    "duration": 294,
    "start_time": "2022-01-13T11:34:59.620Z"
   },
   {
    "duration": 184,
    "start_time": "2022-01-13T11:34:59.917Z"
   },
   {
    "duration": 297,
    "start_time": "2022-01-13T11:35:00.104Z"
   },
   {
    "duration": 324,
    "start_time": "2022-01-13T11:35:00.403Z"
   },
   {
    "duration": 704,
    "start_time": "2022-01-13T11:35:00.728Z"
   },
   {
    "duration": 31,
    "start_time": "2022-01-13T11:35:01.434Z"
   },
   {
    "duration": 21,
    "start_time": "2022-01-13T11:35:01.466Z"
   },
   {
    "duration": 41,
    "start_time": "2022-01-13T11:35:01.489Z"
   },
   {
    "duration": 311,
    "start_time": "2022-01-13T11:35:01.531Z"
   },
   {
    "duration": 9,
    "start_time": "2022-01-13T11:35:01.844Z"
   },
   {
    "duration": 294,
    "start_time": "2022-01-13T11:35:01.854Z"
   },
   {
    "duration": 582,
    "start_time": "2022-01-13T11:35:02.150Z"
   },
   {
    "duration": 166,
    "start_time": "2022-01-13T11:35:02.734Z"
   },
   {
    "duration": 352,
    "start_time": "2022-01-13T11:35:02.902Z"
   },
   {
    "duration": 22,
    "start_time": "2022-01-13T11:35:03.256Z"
   },
   {
    "duration": 522,
    "start_time": "2022-01-13T11:36:34.221Z"
   },
   {
    "duration": 825,
    "start_time": "2022-01-13T11:36:48.855Z"
   },
   {
    "duration": 451,
    "start_time": "2022-01-13T11:36:49.681Z"
   },
   {
    "duration": 103,
    "start_time": "2022-01-13T11:36:50.134Z"
   },
   {
    "duration": 32,
    "start_time": "2022-01-13T11:36:50.239Z"
   },
   {
    "duration": 756,
    "start_time": "2022-01-13T11:36:50.272Z"
   },
   {
    "duration": 396,
    "start_time": "2022-01-13T11:36:51.029Z"
   },
   {
    "duration": 333,
    "start_time": "2022-01-13T11:36:51.427Z"
   },
   {
    "duration": 188,
    "start_time": "2022-01-13T11:36:51.763Z"
   },
   {
    "duration": 294,
    "start_time": "2022-01-13T11:36:51.954Z"
   },
   {
    "duration": 342,
    "start_time": "2022-01-13T11:36:52.250Z"
   },
   {
    "duration": 682,
    "start_time": "2022-01-13T11:36:52.594Z"
   },
   {
    "duration": 26,
    "start_time": "2022-01-13T11:36:53.278Z"
   },
   {
    "duration": 29,
    "start_time": "2022-01-13T11:36:53.305Z"
   },
   {
    "duration": 16,
    "start_time": "2022-01-13T11:36:53.335Z"
   },
   {
    "duration": 267,
    "start_time": "2022-01-13T11:36:53.353Z"
   },
   {
    "duration": 10,
    "start_time": "2022-01-13T11:36:53.626Z"
   },
   {
    "duration": 294,
    "start_time": "2022-01-13T11:36:53.637Z"
   },
   {
    "duration": 612,
    "start_time": "2022-01-13T11:36:53.933Z"
   },
   {
    "duration": 181,
    "start_time": "2022-01-13T11:36:54.546Z"
   },
   {
    "duration": 382,
    "start_time": "2022-01-13T11:36:54.729Z"
   },
   {
    "duration": 31,
    "start_time": "2022-01-13T11:36:55.113Z"
   },
   {
    "duration": 420,
    "start_time": "2022-01-13T11:48:52.365Z"
   },
   {
    "duration": 711,
    "start_time": "2022-01-13T11:49:01.597Z"
   },
   {
    "duration": 428,
    "start_time": "2022-01-13T11:49:02.310Z"
   },
   {
    "duration": 46,
    "start_time": "2022-01-13T11:49:02.740Z"
   },
   {
    "duration": 18,
    "start_time": "2022-01-13T11:49:02.788Z"
   },
   {
    "duration": 726,
    "start_time": "2022-01-13T11:49:02.807Z"
   },
   {
    "duration": 383,
    "start_time": "2022-01-13T11:49:03.535Z"
   },
   {
    "duration": 301,
    "start_time": "2022-01-13T11:49:03.927Z"
   },
   {
    "duration": 184,
    "start_time": "2022-01-13T11:49:04.231Z"
   },
   {
    "duration": 293,
    "start_time": "2022-01-13T11:49:04.417Z"
   },
   {
    "duration": 318,
    "start_time": "2022-01-13T11:49:04.711Z"
   },
   {
    "duration": 676,
    "start_time": "2022-01-13T11:49:05.030Z"
   },
   {
    "duration": 34,
    "start_time": "2022-01-13T11:49:05.707Z"
   },
   {
    "duration": 21,
    "start_time": "2022-01-13T11:49:05.743Z"
   },
   {
    "duration": 16,
    "start_time": "2022-01-13T11:49:05.766Z"
   },
   {
    "duration": 323,
    "start_time": "2022-01-13T11:49:05.784Z"
   },
   {
    "duration": 19,
    "start_time": "2022-01-13T11:49:06.108Z"
   },
   {
    "duration": 285,
    "start_time": "2022-01-13T11:49:06.129Z"
   },
   {
    "duration": 561,
    "start_time": "2022-01-13T11:49:06.415Z"
   },
   {
    "duration": 168,
    "start_time": "2022-01-13T11:49:06.977Z"
   },
   {
    "duration": 351,
    "start_time": "2022-01-13T11:49:07.146Z"
   },
   {
    "duration": 29,
    "start_time": "2022-01-13T11:49:07.499Z"
   },
   {
    "duration": 637,
    "start_time": "2022-01-13T11:54:20.770Z"
   },
   {
    "duration": 429,
    "start_time": "2022-01-13T11:54:21.409Z"
   },
   {
    "duration": 52,
    "start_time": "2022-01-13T11:54:21.840Z"
   },
   {
    "duration": 36,
    "start_time": "2022-01-13T11:54:21.894Z"
   },
   {
    "duration": 714,
    "start_time": "2022-01-13T11:54:21.931Z"
   },
   {
    "duration": 382,
    "start_time": "2022-01-13T11:54:22.646Z"
   },
   {
    "duration": 302,
    "start_time": "2022-01-13T11:54:23.029Z"
   },
   {
    "duration": 185,
    "start_time": "2022-01-13T11:54:23.333Z"
   },
   {
    "duration": 278,
    "start_time": "2022-01-13T11:54:23.519Z"
   },
   {
    "duration": 330,
    "start_time": "2022-01-13T11:54:23.798Z"
   },
   {
    "duration": 687,
    "start_time": "2022-01-13T11:54:24.130Z"
   },
   {
    "duration": 22,
    "start_time": "2022-01-13T11:54:24.818Z"
   },
   {
    "duration": 15,
    "start_time": "2022-01-13T11:54:24.842Z"
   },
   {
    "duration": 626,
    "start_time": "2022-01-13T11:54:24.858Z"
   },
   {
    "duration": 47634,
    "start_time": "2022-01-13T11:53:37.852Z"
   },
   {
    "duration": 47628,
    "start_time": "2022-01-13T11:53:37.859Z"
   },
   {
    "duration": 47616,
    "start_time": "2022-01-13T11:53:37.872Z"
   },
   {
    "duration": 47607,
    "start_time": "2022-01-13T11:53:37.881Z"
   },
   {
    "duration": 47602,
    "start_time": "2022-01-13T11:53:37.887Z"
   },
   {
    "duration": 47593,
    "start_time": "2022-01-13T11:53:37.897Z"
   },
   {
    "duration": 47589,
    "start_time": "2022-01-13T11:53:37.902Z"
   },
   {
    "duration": 716,
    "start_time": "2022-01-13T11:55:24.417Z"
   },
   {
    "duration": 430,
    "start_time": "2022-01-13T11:55:25.135Z"
   },
   {
    "duration": 98,
    "start_time": "2022-01-13T11:55:25.567Z"
   },
   {
    "duration": 35,
    "start_time": "2022-01-13T11:55:25.667Z"
   },
   {
    "duration": 742,
    "start_time": "2022-01-13T11:55:25.704Z"
   },
   {
    "duration": 401,
    "start_time": "2022-01-13T11:55:26.447Z"
   },
   {
    "duration": 313,
    "start_time": "2022-01-13T11:55:26.849Z"
   },
   {
    "duration": 191,
    "start_time": "2022-01-13T11:55:27.164Z"
   },
   {
    "duration": 301,
    "start_time": "2022-01-13T11:55:27.356Z"
   },
   {
    "duration": 329,
    "start_time": "2022-01-13T11:55:27.658Z"
   },
   {
    "duration": 667,
    "start_time": "2022-01-13T11:55:27.988Z"
   },
   {
    "duration": 22,
    "start_time": "2022-01-13T11:55:28.656Z"
   },
   {
    "duration": 21,
    "start_time": "2022-01-13T11:55:28.679Z"
   },
   {
    "duration": 31,
    "start_time": "2022-01-13T11:55:28.702Z"
   },
   {
    "duration": 268,
    "start_time": "2022-01-13T11:55:28.734Z"
   },
   {
    "duration": 26,
    "start_time": "2022-01-13T11:55:29.004Z"
   },
   {
    "duration": 306,
    "start_time": "2022-01-13T11:55:29.032Z"
   },
   {
    "duration": 593,
    "start_time": "2022-01-13T11:55:29.340Z"
   },
   {
    "duration": 193,
    "start_time": "2022-01-13T11:55:29.935Z"
   },
   {
    "duration": 361,
    "start_time": "2022-01-13T11:55:30.130Z"
   },
   {
    "duration": 20,
    "start_time": "2022-01-13T11:55:30.492Z"
   },
   {
    "duration": 396,
    "start_time": "2022-01-13T11:57:07.174Z"
   },
   {
    "duration": 636,
    "start_time": "2022-01-13T11:57:31.383Z"
   },
   {
    "duration": 428,
    "start_time": "2022-01-13T11:57:32.021Z"
   },
   {
    "duration": 59,
    "start_time": "2022-01-13T11:57:32.451Z"
   },
   {
    "duration": 18,
    "start_time": "2022-01-13T11:57:32.528Z"
   },
   {
    "duration": 703,
    "start_time": "2022-01-13T11:57:32.547Z"
   },
   {
    "duration": 376,
    "start_time": "2022-01-13T11:57:33.252Z"
   },
   {
    "duration": 307,
    "start_time": "2022-01-13T11:57:33.629Z"
   },
   {
    "duration": 190,
    "start_time": "2022-01-13T11:57:33.938Z"
   },
   {
    "duration": 291,
    "start_time": "2022-01-13T11:57:34.129Z"
   },
   {
    "duration": 324,
    "start_time": "2022-01-13T11:57:34.421Z"
   },
   {
    "duration": 669,
    "start_time": "2022-01-13T11:57:34.746Z"
   },
   {
    "duration": 29,
    "start_time": "2022-01-13T11:57:35.416Z"
   },
   {
    "duration": 16,
    "start_time": "2022-01-13T11:57:35.446Z"
   },
   {
    "duration": 15,
    "start_time": "2022-01-13T11:57:35.463Z"
   },
   {
    "duration": 312,
    "start_time": "2022-01-13T11:57:35.479Z"
   },
   {
    "duration": 9,
    "start_time": "2022-01-13T11:57:35.793Z"
   },
   {
    "duration": 294,
    "start_time": "2022-01-13T11:57:35.804Z"
   },
   {
    "duration": 580,
    "start_time": "2022-01-13T11:57:36.100Z"
   },
   {
    "duration": 178,
    "start_time": "2022-01-13T11:57:36.682Z"
   },
   {
    "duration": 347,
    "start_time": "2022-01-13T11:57:36.861Z"
   },
   {
    "duration": 29,
    "start_time": "2022-01-13T11:57:37.210Z"
   },
   {
    "duration": 647,
    "start_time": "2022-01-13T11:59:18.482Z"
   },
   {
    "duration": 426,
    "start_time": "2022-01-13T11:59:19.131Z"
   },
   {
    "duration": 111,
    "start_time": "2022-01-13T11:59:19.559Z"
   },
   {
    "duration": 47377,
    "start_time": "2022-01-13T11:58:32.295Z"
   },
   {
    "duration": 47367,
    "start_time": "2022-01-13T11:58:32.306Z"
   },
   {
    "duration": 47363,
    "start_time": "2022-01-13T11:58:32.311Z"
   },
   {
    "duration": 47354,
    "start_time": "2022-01-13T11:58:32.321Z"
   },
   {
    "duration": 47346,
    "start_time": "2022-01-13T11:58:32.329Z"
   },
   {
    "duration": 47336,
    "start_time": "2022-01-13T11:58:32.340Z"
   },
   {
    "duration": 47331,
    "start_time": "2022-01-13T11:58:32.346Z"
   },
   {
    "duration": 47323,
    "start_time": "2022-01-13T11:58:32.355Z"
   },
   {
    "duration": 47319,
    "start_time": "2022-01-13T11:58:32.360Z"
   },
   {
    "duration": 47313,
    "start_time": "2022-01-13T11:58:32.366Z"
   },
   {
    "duration": 47306,
    "start_time": "2022-01-13T11:58:32.374Z"
   },
   {
    "duration": 47303,
    "start_time": "2022-01-13T11:58:32.378Z"
   },
   {
    "duration": 47295,
    "start_time": "2022-01-13T11:58:32.387Z"
   },
   {
    "duration": 47292,
    "start_time": "2022-01-13T11:58:32.391Z"
   },
   {
    "duration": 47288,
    "start_time": "2022-01-13T11:58:32.396Z"
   },
   {
    "duration": 47276,
    "start_time": "2022-01-13T11:58:32.408Z"
   },
   {
    "duration": 47273,
    "start_time": "2022-01-13T11:58:32.412Z"
   },
   {
    "duration": 47265,
    "start_time": "2022-01-13T11:58:32.421Z"
   },
   {
    "duration": 60,
    "start_time": "2022-01-13T12:01:19.059Z"
   },
   {
    "duration": 614,
    "start_time": "2022-01-13T12:08:45.761Z"
   },
   {
    "duration": 669,
    "start_time": "2022-01-13T12:13:34.845Z"
   },
   {
    "duration": 432,
    "start_time": "2022-01-13T12:13:35.516Z"
   },
   {
    "duration": 667,
    "start_time": "2022-01-13T12:13:35.949Z"
   },
   {
    "duration": 47631,
    "start_time": "2022-01-13T12:12:48.988Z"
   },
   {
    "duration": 47623,
    "start_time": "2022-01-13T12:12:48.998Z"
   },
   {
    "duration": 47615,
    "start_time": "2022-01-13T12:12:49.007Z"
   },
   {
    "duration": 47602,
    "start_time": "2022-01-13T12:12:49.021Z"
   },
   {
    "duration": 47597,
    "start_time": "2022-01-13T12:12:49.028Z"
   },
   {
    "duration": 47585,
    "start_time": "2022-01-13T12:12:49.041Z"
   },
   {
    "duration": 47577,
    "start_time": "2022-01-13T12:12:49.050Z"
   },
   {
    "duration": 47574,
    "start_time": "2022-01-13T12:12:49.055Z"
   },
   {
    "duration": 47569,
    "start_time": "2022-01-13T12:12:49.061Z"
   },
   {
    "duration": 47562,
    "start_time": "2022-01-13T12:12:49.069Z"
   },
   {
    "duration": 47560,
    "start_time": "2022-01-13T12:12:49.073Z"
   },
   {
    "duration": 47556,
    "start_time": "2022-01-13T12:12:49.078Z"
   },
   {
    "duration": 47549,
    "start_time": "2022-01-13T12:12:49.086Z"
   },
   {
    "duration": 47546,
    "start_time": "2022-01-13T12:12:49.091Z"
   },
   {
    "duration": 47542,
    "start_time": "2022-01-13T12:12:49.096Z"
   },
   {
    "duration": 47535,
    "start_time": "2022-01-13T12:12:49.104Z"
   },
   {
    "duration": 47529,
    "start_time": "2022-01-13T12:12:49.111Z"
   },
   {
    "duration": 47523,
    "start_time": "2022-01-13T12:12:49.119Z"
   },
   {
    "duration": 664,
    "start_time": "2022-01-13T12:15:27.267Z"
   },
   {
    "duration": 424,
    "start_time": "2022-01-13T12:15:27.932Z"
   },
   {
    "duration": 1739,
    "start_time": "2022-01-13T12:15:28.357Z"
   },
   {
    "duration": 29,
    "start_time": "2022-01-13T12:15:30.098Z"
   },
   {
    "duration": 710,
    "start_time": "2022-01-13T12:15:30.129Z"
   },
   {
    "duration": 383,
    "start_time": "2022-01-13T12:15:30.840Z"
   },
   {
    "duration": 305,
    "start_time": "2022-01-13T12:15:31.227Z"
   },
   {
    "duration": 193,
    "start_time": "2022-01-13T12:15:31.535Z"
   },
   {
    "duration": 733,
    "start_time": "2022-01-13T12:17:42.109Z"
   },
   {
    "duration": 428,
    "start_time": "2022-01-13T12:17:42.844Z"
   },
   {
    "duration": 2120,
    "start_time": "2022-01-13T12:17:43.274Z"
   },
   {
    "duration": 31,
    "start_time": "2022-01-13T12:17:45.396Z"
   },
   {
    "duration": 699,
    "start_time": "2022-01-13T12:17:45.429Z"
   },
   {
    "duration": 386,
    "start_time": "2022-01-13T12:17:46.130Z"
   },
   {
    "duration": 310,
    "start_time": "2022-01-13T12:17:46.518Z"
   },
   {
    "duration": 187,
    "start_time": "2022-01-13T12:17:46.830Z"
   },
   {
    "duration": 728,
    "start_time": "2022-01-13T12:21:29.524Z"
   },
   {
    "duration": 435,
    "start_time": "2022-01-13T12:21:30.254Z"
   },
   {
    "duration": 2001,
    "start_time": "2022-01-13T12:21:30.690Z"
   },
   {
    "duration": 20,
    "start_time": "2022-01-13T12:21:32.692Z"
   },
   {
    "duration": 717,
    "start_time": "2022-01-13T12:21:32.714Z"
   },
   {
    "duration": 395,
    "start_time": "2022-01-13T12:21:33.433Z"
   },
   {
    "duration": 288,
    "start_time": "2022-01-13T12:21:33.829Z"
   },
   {
    "duration": 189,
    "start_time": "2022-01-13T12:21:34.119Z"
   },
   {
    "duration": 696,
    "start_time": "2022-01-13T12:24:08.128Z"
   },
   {
    "duration": 517,
    "start_time": "2022-01-13T12:24:08.826Z"
   },
   {
    "duration": 1720,
    "start_time": "2022-01-13T12:24:09.345Z"
   },
   {
    "duration": 19,
    "start_time": "2022-01-13T12:24:11.067Z"
   },
   {
    "duration": 705,
    "start_time": "2022-01-13T12:24:11.088Z"
   },
   {
    "duration": 374,
    "start_time": "2022-01-13T12:24:11.795Z"
   },
   {
    "duration": 396,
    "start_time": "2022-01-13T12:24:12.170Z"
   },
   {
    "duration": 180,
    "start_time": "2022-01-13T12:24:12.568Z"
   },
   {
    "duration": 381,
    "start_time": "2022-01-13T12:28:03.810Z"
   },
   {
    "duration": 702,
    "start_time": "2022-01-14T08:04:14.371Z"
   },
   {
    "duration": 504,
    "start_time": "2022-01-14T08:04:15.075Z"
   },
   {
    "duration": 1842,
    "start_time": "2022-01-14T08:04:15.581Z"
   },
   {
    "duration": 28,
    "start_time": "2022-01-14T08:04:17.425Z"
   },
   {
    "duration": 720,
    "start_time": "2022-01-14T08:04:17.454Z"
   },
   {
    "duration": 401,
    "start_time": "2022-01-14T08:04:18.176Z"
   },
   {
    "duration": 304,
    "start_time": "2022-01-14T08:04:18.578Z"
   },
   {
    "duration": 199,
    "start_time": "2022-01-14T08:04:18.884Z"
   },
   {
    "duration": 472,
    "start_time": "2022-01-14T08:04:19.084Z"
   },
   {
    "duration": 345,
    "start_time": "2022-01-14T08:04:19.558Z"
   },
   {
    "duration": 866,
    "start_time": "2022-01-14T08:04:19.905Z"
   },
   {
    "duration": 42,
    "start_time": "2022-01-14T08:04:20.772Z"
   },
   {
    "duration": 44,
    "start_time": "2022-01-14T08:04:20.816Z"
   },
   {
    "duration": 19,
    "start_time": "2022-01-14T08:04:20.861Z"
   },
   {
    "duration": 332,
    "start_time": "2022-01-14T08:04:20.882Z"
   },
   {
    "duration": 10,
    "start_time": "2022-01-14T08:04:21.216Z"
   },
   {
    "duration": 323,
    "start_time": "2022-01-14T08:04:21.227Z"
   },
   {
    "duration": 612,
    "start_time": "2022-01-14T08:04:21.551Z"
   },
   {
    "duration": 193,
    "start_time": "2022-01-14T08:04:22.164Z"
   },
   {
    "duration": 397,
    "start_time": "2022-01-14T08:04:22.358Z"
   },
   {
    "duration": 23,
    "start_time": "2022-01-14T08:04:22.756Z"
   },
   {
    "duration": 1483,
    "start_time": "2022-01-14T08:05:27.685Z"
   },
   {
    "duration": 699,
    "start_time": "2022-01-14T08:44:34.049Z"
   },
   {
    "duration": 719,
    "start_time": "2022-01-14T08:45:14.882Z"
   },
   {
    "duration": 711,
    "start_time": "2022-01-14T08:48:07.710Z"
   },
   {
    "duration": 1513,
    "start_time": "2022-01-14T08:51:07.562Z"
   },
   {
    "duration": 1713,
    "start_time": "2022-01-14T08:54:30.742Z"
   },
   {
    "duration": 956,
    "start_time": "2022-01-14T09:07:12.447Z"
   },
   {
    "duration": 910,
    "start_time": "2022-01-14T09:07:38.177Z"
   },
   {
    "duration": 1489,
    "start_time": "2022-01-14T09:10:54.014Z"
   },
   {
    "duration": 1946,
    "start_time": "2022-01-14T09:13:59.525Z"
   },
   {
    "duration": 1432,
    "start_time": "2022-01-14T09:16:09.450Z"
   },
   {
    "duration": 1356,
    "start_time": "2022-01-14T09:17:26.638Z"
   },
   {
    "duration": 312,
    "start_time": "2022-01-14T20:41:41.146Z"
   },
   {
    "duration": 727,
    "start_time": "2022-01-14T20:41:50.702Z"
   },
   {
    "duration": 470,
    "start_time": "2022-01-14T20:41:51.431Z"
   },
   {
    "duration": 1016,
    "start_time": "2022-01-14T20:41:51.905Z"
   },
   {
    "duration": 48066,
    "start_time": "2022-01-14T20:41:04.857Z"
   },
   {
    "duration": 48057,
    "start_time": "2022-01-14T20:41:04.867Z"
   },
   {
    "duration": 48053,
    "start_time": "2022-01-14T20:41:04.872Z"
   },
   {
    "duration": 48047,
    "start_time": "2022-01-14T20:41:04.878Z"
   },
   {
    "duration": 48039,
    "start_time": "2022-01-14T20:41:04.887Z"
   },
   {
    "duration": 48036,
    "start_time": "2022-01-14T20:41:04.891Z"
   },
   {
    "duration": 48029,
    "start_time": "2022-01-14T20:41:04.899Z"
   },
   {
    "duration": 48026,
    "start_time": "2022-01-14T20:41:04.903Z"
   },
   {
    "duration": 48022,
    "start_time": "2022-01-14T20:41:04.908Z"
   },
   {
    "duration": 48015,
    "start_time": "2022-01-14T20:41:04.915Z"
   },
   {
    "duration": 48011,
    "start_time": "2022-01-14T20:41:04.920Z"
   },
   {
    "duration": 48008,
    "start_time": "2022-01-14T20:41:04.924Z"
   },
   {
    "duration": 47997,
    "start_time": "2022-01-14T20:41:04.936Z"
   },
   {
    "duration": 47994,
    "start_time": "2022-01-14T20:41:04.940Z"
   },
   {
    "duration": 47984,
    "start_time": "2022-01-14T20:41:04.951Z"
   },
   {
    "duration": 47980,
    "start_time": "2022-01-14T20:41:04.955Z"
   },
   {
    "duration": 47976,
    "start_time": "2022-01-14T20:41:04.960Z"
   },
   {
    "duration": 47968,
    "start_time": "2022-01-14T20:41:04.969Z"
   },
   {
    "duration": 1958,
    "start_time": "2022-01-14T20:42:29.695Z"
   },
   {
    "duration": 276,
    "start_time": "2022-01-14T20:43:44.368Z"
   },
   {
    "duration": 283,
    "start_time": "2022-01-14T20:44:41.600Z"
   },
   {
    "duration": 280,
    "start_time": "2022-01-14T20:45:21.102Z"
   },
   {
    "duration": 294,
    "start_time": "2022-01-14T20:46:06.396Z"
   },
   {
    "duration": 719,
    "start_time": "2022-01-14T20:46:59.798Z"
   },
   {
    "duration": 479,
    "start_time": "2022-01-14T20:47:00.520Z"
   },
   {
    "duration": 630,
    "start_time": "2022-01-14T20:47:01.001Z"
   },
   {
    "duration": 48062,
    "start_time": "2022-01-14T20:46:13.572Z"
   },
   {
    "duration": 48049,
    "start_time": "2022-01-14T20:46:13.586Z"
   },
   {
    "duration": 48046,
    "start_time": "2022-01-14T20:46:13.590Z"
   },
   {
    "duration": 48043,
    "start_time": "2022-01-14T20:46:13.594Z"
   },
   {
    "duration": 48035,
    "start_time": "2022-01-14T20:46:13.603Z"
   },
   {
    "duration": 48031,
    "start_time": "2022-01-14T20:46:13.608Z"
   },
   {
    "duration": 48024,
    "start_time": "2022-01-14T20:46:13.616Z"
   },
   {
    "duration": 48020,
    "start_time": "2022-01-14T20:46:13.621Z"
   },
   {
    "duration": 48016,
    "start_time": "2022-01-14T20:46:13.626Z"
   },
   {
    "duration": 48010,
    "start_time": "2022-01-14T20:46:13.634Z"
   },
   {
    "duration": 48005,
    "start_time": "2022-01-14T20:46:13.639Z"
   },
   {
    "duration": 48002,
    "start_time": "2022-01-14T20:46:13.643Z"
   },
   {
    "duration": 47993,
    "start_time": "2022-01-14T20:46:13.653Z"
   },
   {
    "duration": 47990,
    "start_time": "2022-01-14T20:46:13.657Z"
   },
   {
    "duration": 47988,
    "start_time": "2022-01-14T20:46:13.660Z"
   },
   {
    "duration": 47980,
    "start_time": "2022-01-14T20:46:13.669Z"
   },
   {
    "duration": 47977,
    "start_time": "2022-01-14T20:46:13.673Z"
   },
   {
    "duration": 47974,
    "start_time": "2022-01-14T20:46:13.677Z"
   },
   {
    "duration": 1002,
    "start_time": "2022-01-14T20:48:41.618Z"
   },
   {
    "duration": 2041,
    "start_time": "2022-01-14T20:49:04.492Z"
   },
   {
    "duration": 301,
    "start_time": "2022-01-14T20:49:28.245Z"
   },
   {
    "duration": 720,
    "start_time": "2022-01-14T20:49:44.024Z"
   },
   {
    "duration": 515,
    "start_time": "2022-01-14T20:49:44.746Z"
   },
   {
    "duration": 589,
    "start_time": "2022-01-14T20:49:45.263Z"
   },
   {
    "duration": 48050,
    "start_time": "2022-01-14T20:48:57.805Z"
   },
   {
    "duration": 48035,
    "start_time": "2022-01-14T20:48:57.822Z"
   },
   {
    "duration": 48023,
    "start_time": "2022-01-14T20:48:57.835Z"
   },
   {
    "duration": 48019,
    "start_time": "2022-01-14T20:48:57.840Z"
   },
   {
    "duration": 48009,
    "start_time": "2022-01-14T20:48:57.852Z"
   },
   {
    "duration": 48005,
    "start_time": "2022-01-14T20:48:57.857Z"
   },
   {
    "duration": 47996,
    "start_time": "2022-01-14T20:48:57.868Z"
   },
   {
    "duration": 47992,
    "start_time": "2022-01-14T20:48:57.873Z"
   },
   {
    "duration": 47985,
    "start_time": "2022-01-14T20:48:57.881Z"
   },
   {
    "duration": 47982,
    "start_time": "2022-01-14T20:48:57.886Z"
   },
   {
    "duration": 47977,
    "start_time": "2022-01-14T20:48:57.892Z"
   },
   {
    "duration": 47969,
    "start_time": "2022-01-14T20:48:57.902Z"
   },
   {
    "duration": 47965,
    "start_time": "2022-01-14T20:48:57.907Z"
   },
   {
    "duration": 47955,
    "start_time": "2022-01-14T20:48:57.918Z"
   },
   {
    "duration": 47953,
    "start_time": "2022-01-14T20:48:57.922Z"
   },
   {
    "duration": 47950,
    "start_time": "2022-01-14T20:48:57.926Z"
   },
   {
    "duration": 47943,
    "start_time": "2022-01-14T20:48:57.934Z"
   },
   {
    "duration": 47939,
    "start_time": "2022-01-14T20:48:57.939Z"
   },
   {
    "duration": 966,
    "start_time": "2022-01-14T20:56:40.018Z"
   },
   {
    "duration": 14503,
    "start_time": "2022-01-14T20:57:42.242Z"
   },
   {
    "duration": 285,
    "start_time": "2022-01-14T20:58:17.137Z"
   },
   {
    "duration": 740,
    "start_time": "2022-01-14T20:58:34.382Z"
   },
   {
    "duration": 505,
    "start_time": "2022-01-14T20:58:35.123Z"
   },
   {
    "duration": 2212,
    "start_time": "2022-01-14T20:58:35.630Z"
   },
   {
    "duration": 19,
    "start_time": "2022-01-14T20:58:37.844Z"
   },
   {
    "duration": 846,
    "start_time": "2022-01-14T20:58:37.865Z"
   },
   {
    "duration": 491,
    "start_time": "2022-01-14T20:58:38.714Z"
   },
   {
    "duration": 381,
    "start_time": "2022-01-14T20:58:39.207Z"
   },
   {
    "duration": 237,
    "start_time": "2022-01-14T20:58:39.601Z"
   },
   {
    "duration": 571,
    "start_time": "2022-01-14T20:58:39.839Z"
   },
   {
    "duration": 418,
    "start_time": "2022-01-14T20:58:40.412Z"
   },
   {
    "duration": 1693,
    "start_time": "2022-01-14T20:58:40.832Z"
   },
   {
    "duration": 49,
    "start_time": "2022-01-14T20:58:42.527Z"
   },
   {
    "duration": 49,
    "start_time": "2022-01-14T20:58:42.578Z"
   },
   {
    "duration": 21,
    "start_time": "2022-01-14T20:58:42.629Z"
   },
   {
    "duration": 372,
    "start_time": "2022-01-14T20:58:42.652Z"
   },
   {
    "duration": 9,
    "start_time": "2022-01-14T20:58:43.026Z"
   },
   {
    "duration": 381,
    "start_time": "2022-01-14T20:58:43.037Z"
   },
   {
    "duration": 827,
    "start_time": "2022-01-14T20:58:43.420Z"
   },
   {
    "duration": 240,
    "start_time": "2022-01-14T20:58:44.249Z"
   },
   {
    "duration": 397,
    "start_time": "2022-01-14T20:58:44.491Z"
   },
   {
    "duration": 38,
    "start_time": "2022-01-14T20:58:44.890Z"
   },
   {
    "duration": 4089,
    "start_time": "2022-01-14T21:03:57.216Z"
   },
   {
    "duration": 5102,
    "start_time": "2022-01-14T21:08:27.069Z"
   },
   {
    "duration": 2244,
    "start_time": "2022-01-14T21:12:11.457Z"
   },
   {
    "duration": 28,
    "start_time": "2022-01-14T21:13:10.085Z"
   },
   {
    "duration": 2368,
    "start_time": "2022-01-14T21:13:43.896Z"
   },
   {
    "duration": 100,
    "start_time": "2022-01-14T21:17:02.915Z"
   },
   {
    "duration": 1138,
    "start_time": "2022-01-14T21:17:17.993Z"
   },
   {
    "duration": 277,
    "start_time": "2022-01-14T21:18:10.897Z"
   },
   {
    "duration": 265,
    "start_time": "2022-01-14T21:18:20.454Z"
   },
   {
    "duration": 265,
    "start_time": "2022-01-14T21:28:32.283Z"
   },
   {
    "duration": 2303,
    "start_time": "2022-01-14T21:28:47.082Z"
   },
   {
    "duration": 278,
    "start_time": "2022-01-14T21:30:20.305Z"
   },
   {
    "duration": 2351,
    "start_time": "2022-01-14T21:30:25.947Z"
   },
   {
    "duration": 10,
    "start_time": "2022-01-14T21:34:30.854Z"
   },
   {
    "duration": 19,
    "start_time": "2022-01-14T21:34:52.491Z"
   },
   {
    "duration": 86,
    "start_time": "2022-01-14T21:38:37.790Z"
   },
   {
    "duration": 128,
    "start_time": "2022-01-14T21:39:07.101Z"
   },
   {
    "duration": 2328,
    "start_time": "2022-01-14T21:39:39.857Z"
   },
   {
    "duration": 87,
    "start_time": "2022-01-14T21:41:14.903Z"
   },
   {
    "duration": 84,
    "start_time": "2022-01-14T21:41:29.635Z"
   },
   {
    "duration": 97,
    "start_time": "2022-01-14T21:42:04.768Z"
   },
   {
    "duration": 2307,
    "start_time": "2022-01-14T21:42:15.587Z"
   },
   {
    "duration": 328,
    "start_time": "2022-01-15T09:20:41.645Z"
   },
   {
    "duration": 941,
    "start_time": "2022-01-15T09:20:54.396Z"
   },
   {
    "duration": 906,
    "start_time": "2022-01-15T09:20:55.344Z"
   },
   {
    "duration": 3493,
    "start_time": "2022-01-15T09:20:56.253Z"
   },
   {
    "duration": 30,
    "start_time": "2022-01-15T09:20:59.749Z"
   },
   {
    "duration": 1315,
    "start_time": "2022-01-15T09:20:59.781Z"
   },
   {
    "duration": 703,
    "start_time": "2022-01-15T09:21:01.098Z"
   },
   {
    "duration": 557,
    "start_time": "2022-01-15T09:21:01.804Z"
   },
   {
    "duration": 344,
    "start_time": "2022-01-15T09:21:02.365Z"
   },
   {
    "duration": 847,
    "start_time": "2022-01-15T09:21:02.718Z"
   },
   {
    "duration": 644,
    "start_time": "2022-01-15T09:21:03.568Z"
   },
   {
    "duration": 2511,
    "start_time": "2022-01-15T09:21:04.218Z"
   },
   {
    "duration": 36,
    "start_time": "2022-01-15T09:21:06.731Z"
   },
   {
    "duration": 3642,
    "start_time": "2022-01-15T09:21:06.770Z"
   },
   {
    "duration": 48413,
    "start_time": "2022-01-15T09:20:22.004Z"
   },
   {
    "duration": 48409,
    "start_time": "2022-01-15T09:20:22.010Z"
   },
   {
    "duration": 48402,
    "start_time": "2022-01-15T09:20:22.018Z"
   },
   {
    "duration": 48400,
    "start_time": "2022-01-15T09:20:22.022Z"
   },
   {
    "duration": 48395,
    "start_time": "2022-01-15T09:20:22.028Z"
   },
   {
    "duration": 48391,
    "start_time": "2022-01-15T09:20:22.034Z"
   },
   {
    "duration": 48389,
    "start_time": "2022-01-15T09:20:22.038Z"
   },
   {
    "duration": 48386,
    "start_time": "2022-01-15T09:20:22.043Z"
   },
   {
    "duration": 48380,
    "start_time": "2022-01-15T09:20:22.050Z"
   },
   {
    "duration": 3122,
    "start_time": "2022-01-15T09:25:26.633Z"
   },
   {
    "duration": 652,
    "start_time": "2022-01-15T09:26:35.887Z"
   },
   {
    "duration": 2734,
    "start_time": "2022-01-15T09:33:42.198Z"
   },
   {
    "duration": 82,
    "start_time": "2022-01-15T09:58:17.728Z"
   },
   {
    "duration": 2175,
    "start_time": "2022-01-15T09:58:41.005Z"
   },
   {
    "duration": 3926,
    "start_time": "2022-01-15T09:59:57.145Z"
   },
   {
    "duration": 408,
    "start_time": "2022-01-17T07:25:29.865Z"
   },
   {
    "duration": 965,
    "start_time": "2022-01-17T07:25:49.887Z"
   },
   {
    "duration": 794,
    "start_time": "2022-01-17T07:25:50.855Z"
   },
   {
    "duration": 5647,
    "start_time": "2022-01-17T07:25:51.652Z"
   },
   {
    "duration": 48809,
    "start_time": "2022-01-17T07:25:08.493Z"
   },
   {
    "duration": 48800,
    "start_time": "2022-01-17T07:25:08.504Z"
   },
   {
    "duration": 48796,
    "start_time": "2022-01-17T07:25:08.509Z"
   },
   {
    "duration": 48789,
    "start_time": "2022-01-17T07:25:08.517Z"
   },
   {
    "duration": 48787,
    "start_time": "2022-01-17T07:25:08.521Z"
   },
   {
    "duration": 48781,
    "start_time": "2022-01-17T07:25:08.528Z"
   },
   {
    "duration": 48775,
    "start_time": "2022-01-17T07:25:08.536Z"
   },
   {
    "duration": 48770,
    "start_time": "2022-01-17T07:25:08.542Z"
   },
   {
    "duration": 48763,
    "start_time": "2022-01-17T07:25:08.551Z"
   },
   {
    "duration": 48759,
    "start_time": "2022-01-17T07:25:08.556Z"
   },
   {
    "duration": 48755,
    "start_time": "2022-01-17T07:25:08.562Z"
   },
   {
    "duration": 48749,
    "start_time": "2022-01-17T07:25:08.569Z"
   },
   {
    "duration": 48744,
    "start_time": "2022-01-17T07:25:08.576Z"
   },
   {
    "duration": 48740,
    "start_time": "2022-01-17T07:25:08.582Z"
   },
   {
    "duration": 48737,
    "start_time": "2022-01-17T07:25:08.587Z"
   },
   {
    "duration": 48733,
    "start_time": "2022-01-17T07:25:08.593Z"
   },
   {
    "duration": 48723,
    "start_time": "2022-01-17T07:25:08.606Z"
   },
   {
    "duration": 48715,
    "start_time": "2022-01-17T07:25:08.616Z"
   },
   {
    "duration": 48713,
    "start_time": "2022-01-17T07:25:08.620Z"
   },
   {
    "duration": 6796,
    "start_time": "2022-01-17T07:26:22.302Z"
   },
   {
    "duration": 1418,
    "start_time": "2022-01-17T07:26:52.474Z"
   },
   {
    "duration": 739,
    "start_time": "2022-01-17T07:30:21.170Z"
   },
   {
    "duration": 4733,
    "start_time": "2022-01-17T07:35:20.858Z"
   },
   {
    "duration": 371,
    "start_time": "2022-01-17T07:37:27.595Z"
   },
   {
    "duration": 1000,
    "start_time": "2022-01-17T07:38:12.171Z"
   },
   {
    "duration": 928,
    "start_time": "2022-01-17T07:38:13.175Z"
   },
   {
    "duration": 802,
    "start_time": "2022-01-17T07:38:14.107Z"
   },
   {
    "duration": 48823,
    "start_time": "2022-01-17T07:37:26.091Z"
   },
   {
    "duration": 48816,
    "start_time": "2022-01-17T07:37:26.100Z"
   },
   {
    "duration": 48808,
    "start_time": "2022-01-17T07:37:26.110Z"
   },
   {
    "duration": 48800,
    "start_time": "2022-01-17T07:37:26.120Z"
   },
   {
    "duration": 48777,
    "start_time": "2022-01-17T07:37:26.144Z"
   },
   {
    "duration": 48759,
    "start_time": "2022-01-17T07:37:26.164Z"
   },
   {
    "duration": 48742,
    "start_time": "2022-01-17T07:37:26.182Z"
   },
   {
    "duration": 48727,
    "start_time": "2022-01-17T07:37:26.198Z"
   },
   {
    "duration": 48691,
    "start_time": "2022-01-17T07:37:26.236Z"
   },
   {
    "duration": 48679,
    "start_time": "2022-01-17T07:37:26.249Z"
   },
   {
    "duration": 48671,
    "start_time": "2022-01-17T07:37:26.259Z"
   },
   {
    "duration": 48650,
    "start_time": "2022-01-17T07:37:26.281Z"
   },
   {
    "duration": 48636,
    "start_time": "2022-01-17T07:37:26.296Z"
   },
   {
    "duration": 48630,
    "start_time": "2022-01-17T07:37:26.303Z"
   },
   {
    "duration": 48616,
    "start_time": "2022-01-17T07:37:26.319Z"
   },
   {
    "duration": 48606,
    "start_time": "2022-01-17T07:37:26.330Z"
   },
   {
    "duration": 48592,
    "start_time": "2022-01-17T07:37:26.345Z"
   },
   {
    "duration": 48587,
    "start_time": "2022-01-17T07:37:26.351Z"
   },
   {
    "duration": 48575,
    "start_time": "2022-01-17T07:37:26.365Z"
   },
   {
    "duration": 931,
    "start_time": "2022-01-17T07:39:42.771Z"
   },
   {
    "duration": 357,
    "start_time": "2022-01-17T07:40:54.417Z"
   },
   {
    "duration": 921,
    "start_time": "2022-01-17T07:41:04.622Z"
   },
   {
    "duration": 820,
    "start_time": "2022-01-17T07:41:05.547Z"
   },
   {
    "duration": 21960,
    "start_time": "2022-01-17T07:41:06.371Z"
   },
   {
    "duration": 29,
    "start_time": "2022-01-17T07:41:28.334Z"
   },
   {
    "duration": 1306,
    "start_time": "2022-01-17T07:41:28.366Z"
   },
   {
    "duration": 706,
    "start_time": "2022-01-17T07:41:29.675Z"
   },
   {
    "duration": 558,
    "start_time": "2022-01-17T07:41:30.384Z"
   },
   {
    "duration": 347,
    "start_time": "2022-01-17T07:41:30.946Z"
   },
   {
    "duration": 1000,
    "start_time": "2022-01-17T07:41:31.301Z"
   },
   {
    "duration": 624,
    "start_time": "2022-01-17T07:41:32.305Z"
   },
   {
    "duration": 2546,
    "start_time": "2022-01-17T07:41:32.933Z"
   },
   {
    "duration": 46,
    "start_time": "2022-01-17T07:41:35.481Z"
   },
   {
    "duration": 4128,
    "start_time": "2022-01-17T07:41:35.531Z"
   },
   {
    "duration": 55,
    "start_time": "2022-01-17T07:41:39.661Z"
   },
   {
    "duration": 31,
    "start_time": "2022-01-17T07:41:39.718Z"
   },
   {
    "duration": 569,
    "start_time": "2022-01-17T07:41:39.752Z"
   },
   {
    "duration": 15,
    "start_time": "2022-01-17T07:41:40.323Z"
   },
   {
    "duration": 562,
    "start_time": "2022-01-17T07:41:40.340Z"
   },
   {
    "duration": 1101,
    "start_time": "2022-01-17T07:41:40.904Z"
   },
   {
    "duration": 333,
    "start_time": "2022-01-17T07:41:42.008Z"
   },
   {
    "duration": 662,
    "start_time": "2022-01-17T07:41:42.343Z"
   },
   {
    "duration": 37,
    "start_time": "2022-01-17T07:41:43.008Z"
   },
   {
    "duration": 2875,
    "start_time": "2022-01-17T07:44:14.052Z"
   },
   {
    "duration": 2792,
    "start_time": "2022-01-17T07:45:55.043Z"
   },
   {
    "duration": 987,
    "start_time": "2022-01-17T07:46:43.472Z"
   },
   {
    "duration": 852,
    "start_time": "2022-01-17T07:46:44.462Z"
   },
   {
    "duration": 23265,
    "start_time": "2022-01-17T07:46:45.317Z"
   },
   {
    "duration": 43,
    "start_time": "2022-01-17T07:47:08.585Z"
   },
   {
    "duration": 1331,
    "start_time": "2022-01-17T07:47:08.630Z"
   },
   {
    "duration": 708,
    "start_time": "2022-01-17T07:47:09.963Z"
   },
   {
    "duration": 573,
    "start_time": "2022-01-17T07:47:10.673Z"
   },
   {
    "duration": 350,
    "start_time": "2022-01-17T07:47:11.250Z"
   },
   {
    "duration": 977,
    "start_time": "2022-01-17T07:47:11.603Z"
   },
   {
    "duration": 617,
    "start_time": "2022-01-17T07:47:12.583Z"
   },
   {
    "duration": 2460,
    "start_time": "2022-01-17T07:47:13.203Z"
   },
   {
    "duration": 51,
    "start_time": "2022-01-17T07:47:15.666Z"
   },
   {
    "duration": 4076,
    "start_time": "2022-01-17T07:47:15.720Z"
   },
   {
    "duration": 44,
    "start_time": "2022-01-17T07:47:19.798Z"
   },
   {
    "duration": 36,
    "start_time": "2022-01-17T07:47:19.844Z"
   },
   {
    "duration": 422,
    "start_time": "2022-01-17T07:47:19.902Z"
   },
   {
    "duration": 14,
    "start_time": "2022-01-17T07:47:20.326Z"
   },
   {
    "duration": 544,
    "start_time": "2022-01-17T07:47:20.343Z"
   },
   {
    "duration": 1228,
    "start_time": "2022-01-17T07:47:20.889Z"
   },
   {
    "duration": 339,
    "start_time": "2022-01-17T07:47:22.119Z"
   },
   {
    "duration": 569,
    "start_time": "2022-01-17T07:47:22.461Z"
   },
   {
    "duration": 39,
    "start_time": "2022-01-17T07:47:23.033Z"
   },
   {
    "duration": 3140,
    "start_time": "2022-01-17T07:48:25.073Z"
   },
   {
    "duration": 3208,
    "start_time": "2022-01-17T07:50:46.398Z"
   },
   {
    "duration": 2898,
    "start_time": "2022-01-17T07:52:57.351Z"
   },
   {
    "duration": 3650,
    "start_time": "2022-01-17T07:56:08.782Z"
   },
   {
    "duration": 3173,
    "start_time": "2022-01-17T07:56:14.878Z"
   },
   {
    "duration": 3308,
    "start_time": "2022-01-17T08:02:05.712Z"
   },
   {
    "duration": 2829,
    "start_time": "2022-01-17T08:03:43.779Z"
   },
   {
    "duration": 2913,
    "start_time": "2022-01-17T08:04:47.998Z"
   },
   {
    "duration": 3557,
    "start_time": "2022-01-17T08:06:36.583Z"
   },
   {
    "duration": 1519,
    "start_time": "2022-01-17T08:13:51.077Z"
   },
   {
    "duration": 44,
    "start_time": "2022-01-17T08:16:11.285Z"
   },
   {
    "duration": 3778,
    "start_time": "2022-01-17T08:17:30.800Z"
   },
   {
    "duration": 9392,
    "start_time": "2022-01-17T08:20:36.414Z"
   },
   {
    "duration": 111,
    "start_time": "2022-01-17T08:32:20.005Z"
   },
   {
    "duration": 1211,
    "start_time": "2022-01-17T08:32:29.041Z"
   },
   {
    "duration": 1185,
    "start_time": "2022-01-17T08:32:41.659Z"
   },
   {
    "duration": 135,
    "start_time": "2022-01-17T08:33:48.398Z"
   },
   {
    "duration": 9128,
    "start_time": "2022-01-17T08:33:55.605Z"
   },
   {
    "duration": 48862,
    "start_time": "2022-01-17T08:38:47.244Z"
   },
   {
    "duration": 8951,
    "start_time": "2022-01-17T08:50:19.134Z"
   },
   {
    "duration": 1130,
    "start_time": "2022-01-17T08:51:22.586Z"
   },
   {
    "duration": 894,
    "start_time": "2022-01-17T08:51:23.720Z"
   },
   {
    "duration": 3671,
    "start_time": "2022-01-17T08:51:24.618Z"
   },
   {
    "duration": 37,
    "start_time": "2022-01-17T08:51:28.292Z"
   },
   {
    "duration": 1415,
    "start_time": "2022-01-17T08:51:28.332Z"
   },
   {
    "duration": 756,
    "start_time": "2022-01-17T08:51:29.750Z"
   },
   {
    "duration": 603,
    "start_time": "2022-01-17T08:51:30.509Z"
   },
   {
    "duration": 364,
    "start_time": "2022-01-17T08:51:31.116Z"
   },
   {
    "duration": 1097,
    "start_time": "2022-01-17T08:51:31.483Z"
   },
   {
    "duration": 657,
    "start_time": "2022-01-17T08:51:32.583Z"
   },
   {
    "duration": 2628,
    "start_time": "2022-01-17T08:51:33.243Z"
   },
   {
    "duration": 54,
    "start_time": "2022-01-17T08:51:35.874Z"
   },
   {
    "duration": 1354,
    "start_time": "2022-01-17T08:51:35.930Z"
   },
   {
    "duration": 9121,
    "start_time": "2022-01-17T08:51:37.288Z"
   },
   {
    "duration": 48850,
    "start_time": "2022-01-17T08:50:57.561Z"
   },
   {
    "duration": 48837,
    "start_time": "2022-01-17T08:50:57.576Z"
   },
   {
    "duration": 48831,
    "start_time": "2022-01-17T08:50:57.583Z"
   },
   {
    "duration": 48820,
    "start_time": "2022-01-17T08:50:57.596Z"
   },
   {
    "duration": 48809,
    "start_time": "2022-01-17T08:50:57.609Z"
   },
   {
    "duration": 48800,
    "start_time": "2022-01-17T08:50:57.619Z"
   },
   {
    "duration": 48793,
    "start_time": "2022-01-17T08:50:57.628Z"
   },
   {
    "duration": 48785,
    "start_time": "2022-01-17T08:50:57.637Z"
   },
   {
    "duration": 48773,
    "start_time": "2022-01-17T08:50:57.651Z"
   },
   {
    "duration": 9,
    "start_time": "2022-01-17T08:53:13.429Z"
   },
   {
    "duration": 7,
    "start_time": "2022-01-17T08:53:28.846Z"
   },
   {
    "duration": 6,
    "start_time": "2022-01-17T08:53:32.614Z"
   },
   {
    "duration": 9,
    "start_time": "2022-01-17T08:53:33.948Z"
   },
   {
    "duration": 6,
    "start_time": "2022-01-17T08:54:41.400Z"
   },
   {
    "duration": 26,
    "start_time": "2022-01-17T08:54:58.553Z"
   },
   {
    "duration": 17,
    "start_time": "2022-01-17T08:55:47.501Z"
   },
   {
    "duration": 10,
    "start_time": "2022-01-17T08:56:03.961Z"
   },
   {
    "duration": 34,
    "start_time": "2022-01-17T08:56:28.521Z"
   },
   {
    "duration": 518,
    "start_time": "2022-01-17T08:58:34.120Z"
   },
   {
    "duration": 416,
    "start_time": "2022-01-17T08:58:41.550Z"
   },
   {
    "duration": 155,
    "start_time": "2022-01-17T09:39:23.280Z"
   },
   {
    "duration": 48348,
    "start_time": "2022-01-17T09:41:46.373Z"
   },
   {
    "duration": 48348,
    "start_time": "2022-01-17T09:42:27.065Z"
   },
   {
    "duration": 7078,
    "start_time": "2022-01-17T09:43:22.962Z"
   },
   {
    "duration": 166,
    "start_time": "2022-01-17T09:51:14.742Z"
   },
   {
    "duration": 176,
    "start_time": "2022-01-17T09:51:42.628Z"
   },
   {
    "duration": 473,
    "start_time": "2022-01-17T09:55:43.010Z"
   },
   {
    "duration": 161,
    "start_time": "2022-01-17T09:56:07.705Z"
   },
   {
    "duration": 2026,
    "start_time": "2022-01-17T10:03:43.655Z"
   },
   {
    "duration": 2819,
    "start_time": "2022-01-17T10:04:47.786Z"
   },
   {
    "duration": 3003,
    "start_time": "2022-01-17T10:05:15.010Z"
   },
   {
    "duration": 2936,
    "start_time": "2022-01-17T10:05:24.475Z"
   },
   {
    "duration": 154,
    "start_time": "2022-01-17T10:06:04.250Z"
   },
   {
    "duration": 173,
    "start_time": "2022-01-17T10:06:52.316Z"
   },
   {
    "duration": 156,
    "start_time": "2022-01-17T10:07:19.460Z"
   },
   {
    "duration": 319,
    "start_time": "2022-01-17T10:08:23.296Z"
   },
   {
    "duration": 301,
    "start_time": "2022-01-17T10:20:35.105Z"
   },
   {
    "duration": 316,
    "start_time": "2022-01-17T10:21:26.360Z"
   },
   {
    "duration": 288,
    "start_time": "2022-01-17T10:26:37.148Z"
   },
   {
    "duration": 485,
    "start_time": "2022-01-17T10:26:50.097Z"
   },
   {
    "duration": 546,
    "start_time": "2022-01-17T10:27:50.888Z"
   },
   {
    "duration": 642,
    "start_time": "2022-01-17T10:28:19.633Z"
   },
   {
    "duration": 331,
    "start_time": "2022-01-17T10:28:45.759Z"
   },
   {
    "duration": 322,
    "start_time": "2022-01-17T10:28:52.006Z"
   },
   {
    "duration": 299,
    "start_time": "2022-01-17T10:29:20.725Z"
   },
   {
    "duration": 295,
    "start_time": "2022-01-17T10:31:02.139Z"
   },
   {
    "duration": 305,
    "start_time": "2022-01-17T10:31:22.722Z"
   },
   {
    "duration": 300,
    "start_time": "2022-01-17T10:31:45.217Z"
   },
   {
    "duration": 300,
    "start_time": "2022-01-17T10:32:23.444Z"
   },
   {
    "duration": 305,
    "start_time": "2022-01-17T10:32:36.652Z"
   },
   {
    "duration": 665,
    "start_time": "2022-01-17T10:33:11.092Z"
   },
   {
    "duration": 932,
    "start_time": "2022-01-17T10:33:57.412Z"
   },
   {
    "duration": 671,
    "start_time": "2022-01-17T10:42:40.572Z"
   },
   {
    "duration": 435,
    "start_time": "2022-01-17T10:42:41.247Z"
   },
   {
    "duration": 1801,
    "start_time": "2022-01-17T10:42:41.684Z"
   },
   {
    "duration": 19,
    "start_time": "2022-01-17T10:42:43.487Z"
   },
   {
    "duration": 714,
    "start_time": "2022-01-17T10:42:43.507Z"
   },
   {
    "duration": 395,
    "start_time": "2022-01-17T10:42:44.223Z"
   },
   {
    "duration": 302,
    "start_time": "2022-01-17T10:42:44.620Z"
   },
   {
    "duration": 197,
    "start_time": "2022-01-17T10:42:44.924Z"
   },
   {
    "duration": 568,
    "start_time": "2022-01-17T10:42:45.123Z"
   },
   {
    "duration": 328,
    "start_time": "2022-01-17T10:42:45.693Z"
   },
   {
    "duration": 1400,
    "start_time": "2022-01-17T10:42:46.023Z"
   },
   {
    "duration": 25,
    "start_time": "2022-01-17T10:42:47.424Z"
   },
   {
    "duration": 805,
    "start_time": "2022-01-17T10:42:47.451Z"
   },
   {
    "duration": 424,
    "start_time": "2022-01-17T10:42:48.258Z"
   },
   {
    "duration": 48341,
    "start_time": "2022-01-17T10:42:00.343Z"
   },
   {
    "duration": 48315,
    "start_time": "2022-01-17T10:42:00.371Z"
   },
   {
    "duration": 48296,
    "start_time": "2022-01-17T10:42:00.391Z"
   },
   {
    "duration": 48277,
    "start_time": "2022-01-17T10:42:00.411Z"
   },
   {
    "duration": 48261,
    "start_time": "2022-01-17T10:42:00.429Z"
   },
   {
    "duration": 48235,
    "start_time": "2022-01-17T10:42:00.456Z"
   },
   {
    "duration": 48221,
    "start_time": "2022-01-17T10:42:00.472Z"
   },
   {
    "duration": 48211,
    "start_time": "2022-01-17T10:42:00.483Z"
   },
   {
    "duration": 48203,
    "start_time": "2022-01-17T10:42:00.492Z"
   },
   {
    "duration": 48187,
    "start_time": "2022-01-17T10:42:00.510Z"
   },
   {
    "duration": 48162,
    "start_time": "2022-01-17T10:42:00.536Z"
   },
   {
    "duration": 48144,
    "start_time": "2022-01-17T10:42:00.555Z"
   },
   {
    "duration": 48130,
    "start_time": "2022-01-17T10:42:00.571Z"
   },
   {
    "duration": 547,
    "start_time": "2022-01-17T19:50:06.589Z"
   },
   {
    "duration": 909,
    "start_time": "2022-01-17T19:51:01.735Z"
   },
   {
    "duration": 673,
    "start_time": "2022-01-17T19:51:12.882Z"
   },
   {
    "duration": 427,
    "start_time": "2022-01-17T19:51:13.557Z"
   },
   {
    "duration": 1825,
    "start_time": "2022-01-17T19:51:13.986Z"
   },
   {
    "duration": 20,
    "start_time": "2022-01-17T19:51:15.813Z"
   },
   {
    "duration": 710,
    "start_time": "2022-01-17T19:51:15.835Z"
   },
   {
    "duration": 374,
    "start_time": "2022-01-17T19:51:16.547Z"
   },
   {
    "duration": 395,
    "start_time": "2022-01-17T19:51:16.922Z"
   },
   {
    "duration": 274,
    "start_time": "2022-01-17T19:51:17.319Z"
   },
   {
    "duration": 563,
    "start_time": "2022-01-17T19:51:17.595Z"
   },
   {
    "duration": 333,
    "start_time": "2022-01-17T19:51:18.160Z"
   },
   {
    "duration": 1408,
    "start_time": "2022-01-17T19:51:18.494Z"
   },
   {
    "duration": 26,
    "start_time": "2022-01-17T19:51:19.904Z"
   },
   {
    "duration": 871,
    "start_time": "2022-01-17T19:51:19.931Z"
   },
   {
    "duration": 552,
    "start_time": "2022-01-17T19:51:20.803Z"
   },
   {
    "duration": 48238,
    "start_time": "2022-01-17T19:50:33.119Z"
   },
   {
    "duration": 48228,
    "start_time": "2022-01-17T19:50:33.130Z"
   },
   {
    "duration": 48221,
    "start_time": "2022-01-17T19:50:33.138Z"
   },
   {
    "duration": 48199,
    "start_time": "2022-01-17T19:50:33.160Z"
   },
   {
    "duration": 48183,
    "start_time": "2022-01-17T19:50:33.177Z"
   },
   {
    "duration": 48130,
    "start_time": "2022-01-17T19:50:33.231Z"
   },
   {
    "duration": 48114,
    "start_time": "2022-01-17T19:50:33.248Z"
   },
   {
    "duration": 48049,
    "start_time": "2022-01-17T19:50:33.314Z"
   },
   {
    "duration": 48021,
    "start_time": "2022-01-17T19:50:33.343Z"
   },
   {
    "duration": 48004,
    "start_time": "2022-01-17T19:50:33.361Z"
   },
   {
    "duration": 47987,
    "start_time": "2022-01-17T19:50:33.379Z"
   },
   {
    "duration": 47967,
    "start_time": "2022-01-17T19:50:33.400Z"
   },
   {
    "duration": 47953,
    "start_time": "2022-01-17T19:50:33.415Z"
   },
   {
    "duration": 314,
    "start_time": "2022-01-17T19:51:55.108Z"
   },
   {
    "duration": 264,
    "start_time": "2022-01-17T19:52:05.022Z"
   },
   {
    "duration": 341,
    "start_time": "2022-01-17T19:52:27.887Z"
   },
   {
    "duration": 331,
    "start_time": "2022-01-17T19:52:43.324Z"
   },
   {
    "duration": 296,
    "start_time": "2022-01-17T19:53:42.895Z"
   },
   {
    "duration": 26,
    "start_time": "2022-01-17T19:54:02.362Z"
   },
   {
    "duration": 22,
    "start_time": "2022-01-17T19:54:08.647Z"
   },
   {
    "duration": 293,
    "start_time": "2022-01-17T19:54:16.225Z"
   },
   {
    "duration": 8,
    "start_time": "2022-01-17T19:55:51.370Z"
   },
   {
    "duration": 296,
    "start_time": "2022-01-17T19:55:57.481Z"
   },
   {
    "duration": 686,
    "start_time": "2022-01-17T19:58:20.007Z"
   },
   {
    "duration": 173,
    "start_time": "2022-01-17T19:58:45.256Z"
   },
   {
    "duration": 335,
    "start_time": "2022-01-17T19:59:15.594Z"
   },
   {
    "duration": 23,
    "start_time": "2022-01-17T19:59:28.426Z"
   },
   {
    "duration": 22,
    "start_time": "2022-01-17T20:01:38.337Z"
   },
   {
    "duration": 8,
    "start_time": "2022-01-17T20:01:59.782Z"
   },
   {
    "duration": 298,
    "start_time": "2022-01-17T20:03:07.452Z"
   },
   {
    "duration": 14,
    "start_time": "2022-01-17T20:05:13.701Z"
   },
   {
    "duration": 8,
    "start_time": "2022-01-17T20:08:09.297Z"
   },
   {
    "duration": 304,
    "start_time": "2022-01-17T20:11:04.448Z"
   },
   {
    "duration": 708,
    "start_time": "2022-01-17T20:13:34.019Z"
   },
   {
    "duration": 8,
    "start_time": "2022-01-17T20:14:10.011Z"
   },
   {
    "duration": 15,
    "start_time": "2022-01-17T20:14:16.783Z"
   },
   {
    "duration": 277,
    "start_time": "2022-01-17T20:14:37.105Z"
   },
   {
    "duration": 295,
    "start_time": "2022-01-17T20:17:57.609Z"
   },
   {
    "duration": 621,
    "start_time": "2022-01-17T20:20:49.916Z"
   },
   {
    "duration": 297,
    "start_time": "2022-01-17T20:22:12.736Z"
   },
   {
    "duration": 650,
    "start_time": "2022-01-18T15:49:20.036Z"
   },
   {
    "duration": 434,
    "start_time": "2022-01-18T15:49:20.688Z"
   },
   {
    "duration": 1837,
    "start_time": "2022-01-18T15:49:21.123Z"
   },
   {
    "duration": 26,
    "start_time": "2022-01-18T15:49:22.961Z"
   },
   {
    "duration": 714,
    "start_time": "2022-01-18T15:49:22.989Z"
   },
   {
    "duration": 379,
    "start_time": "2022-01-18T15:49:23.705Z"
   },
   {
    "duration": 308,
    "start_time": "2022-01-18T15:49:24.085Z"
   },
   {
    "duration": 198,
    "start_time": "2022-01-18T15:49:24.395Z"
   },
   {
    "duration": 546,
    "start_time": "2022-01-18T15:49:24.595Z"
   },
   {
    "duration": 331,
    "start_time": "2022-01-18T15:49:25.142Z"
   },
   {
    "duration": 1360,
    "start_time": "2022-01-18T15:49:25.475Z"
   },
   {
    "duration": 25,
    "start_time": "2022-01-18T15:49:26.837Z"
   },
   {
    "duration": 803,
    "start_time": "2022-01-18T15:49:26.872Z"
   },
   {
    "duration": 301,
    "start_time": "2022-01-18T15:49:27.676Z"
   },
   {
    "duration": 276,
    "start_time": "2022-01-18T15:49:27.979Z"
   },
   {
    "duration": 357,
    "start_time": "2022-01-18T15:49:28.257Z"
   },
   {
    "duration": 347,
    "start_time": "2022-01-18T15:49:28.616Z"
   },
   {
    "duration": 293,
    "start_time": "2022-01-18T15:49:28.965Z"
   },
   {
    "duration": 32,
    "start_time": "2022-01-18T15:49:29.259Z"
   },
   {
    "duration": 18,
    "start_time": "2022-01-18T15:49:29.293Z"
   },
   {
    "duration": 291,
    "start_time": "2022-01-18T15:49:29.312Z"
   },
   {
    "duration": 10,
    "start_time": "2022-01-18T15:49:29.605Z"
   },
   {
    "duration": 286,
    "start_time": "2022-01-18T15:49:29.619Z"
   },
   {
    "duration": 676,
    "start_time": "2022-01-18T15:49:29.907Z"
   },
   {
    "duration": 191,
    "start_time": "2022-01-18T15:49:30.585Z"
   },
   {
    "duration": 298,
    "start_time": "2022-01-18T15:49:30.777Z"
   },
   {
    "duration": 14,
    "start_time": "2022-01-18T15:49:31.076Z"
   },
   {
    "duration": 279,
    "start_time": "2022-01-18T15:49:31.091Z"
   },
   {
    "duration": 320,
    "start_time": "2022-01-18T15:49:31.372Z"
   },
   {
    "duration": 359,
    "start_time": "2022-01-18T15:49:31.694Z"
   },
   {
    "duration": 348,
    "start_time": "2022-01-18T15:49:32.055Z"
   },
   {
    "duration": 776,
    "start_time": "2022-01-18T15:50:22.580Z"
   },
   {
    "duration": 443,
    "start_time": "2022-01-18T15:50:23.357Z"
   },
   {
    "duration": 2181,
    "start_time": "2022-01-18T15:50:23.802Z"
   },
   {
    "duration": 25,
    "start_time": "2022-01-18T15:50:25.986Z"
   },
   {
    "duration": 790,
    "start_time": "2022-01-18T15:50:26.012Z"
   },
   {
    "duration": 446,
    "start_time": "2022-01-18T15:50:26.803Z"
   },
   {
    "duration": 332,
    "start_time": "2022-01-18T15:50:27.251Z"
   },
   {
    "duration": 219,
    "start_time": "2022-01-18T15:50:27.586Z"
   },
   {
    "duration": 645,
    "start_time": "2022-01-18T15:50:27.807Z"
   },
   {
    "duration": 397,
    "start_time": "2022-01-18T15:50:28.454Z"
   },
   {
    "duration": 1474,
    "start_time": "2022-01-18T15:50:28.853Z"
   },
   {
    "duration": 26,
    "start_time": "2022-01-18T15:50:30.328Z"
   },
   {
    "duration": 838,
    "start_time": "2022-01-18T15:50:30.355Z"
   },
   {
    "duration": 328,
    "start_time": "2022-01-18T15:50:31.195Z"
   },
   {
    "duration": 287,
    "start_time": "2022-01-18T15:50:31.524Z"
   },
   {
    "duration": 400,
    "start_time": "2022-01-18T15:50:31.812Z"
   },
   {
    "duration": 416,
    "start_time": "2022-01-18T15:50:32.213Z"
   },
   {
    "duration": 312,
    "start_time": "2022-01-18T15:50:32.631Z"
   },
   {
    "duration": 35,
    "start_time": "2022-01-18T15:50:32.945Z"
   },
   {
    "duration": 21,
    "start_time": "2022-01-18T15:50:32.982Z"
   },
   {
    "duration": 282,
    "start_time": "2022-01-18T15:50:33.004Z"
   },
   {
    "duration": 10,
    "start_time": "2022-01-18T15:50:33.288Z"
   },
   {
    "duration": 314,
    "start_time": "2022-01-18T15:50:33.302Z"
   },
   {
    "duration": 651,
    "start_time": "2022-01-18T15:50:33.618Z"
   },
   {
    "duration": 178,
    "start_time": "2022-01-18T15:50:34.271Z"
   },
   {
    "duration": 301,
    "start_time": "2022-01-18T15:50:34.451Z"
   },
   {
    "duration": 22,
    "start_time": "2022-01-18T15:50:34.754Z"
   },
   {
    "duration": 273,
    "start_time": "2022-01-18T15:50:34.778Z"
   },
   {
    "duration": 333,
    "start_time": "2022-01-18T15:50:35.053Z"
   },
   {
    "duration": 363,
    "start_time": "2022-01-18T15:50:35.388Z"
   },
   {
    "duration": 322,
    "start_time": "2022-01-18T15:50:35.753Z"
   }
  ],
  "kernelspec": {
   "display_name": "Python 3 (ipykernel)",
   "language": "python",
   "name": "python3"
  },
  "language_info": {
   "codemirror_mode": {
    "name": "ipython",
    "version": 3
   },
   "file_extension": ".py",
   "mimetype": "text/x-python",
   "name": "python",
   "nbconvert_exporter": "python",
   "pygments_lexer": "ipython3",
   "version": "3.9.7"
  },
  "toc": {
   "base_numbering": 1,
   "nav_menu": {},
   "number_sections": true,
   "sideBar": true,
   "skip_h1_title": true,
   "title_cell": "Содержание",
   "title_sidebar": "Contents",
   "toc_cell": true,
   "toc_position": {},
   "toc_section_display": true,
   "toc_window_display": false
  }
 },
 "nbformat": 4,
 "nbformat_minor": 2
}
