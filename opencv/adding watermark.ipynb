{
 "cells": [
  {
   "cell_type": "markdown",
   "id": "61751288",
   "metadata": {},
   "source": [
    "## Adding custom watermark to video using open cv"
   ]
  },
  {
   "cell_type": "code",
   "execution_count": 1,
   "id": "863fae0d",
   "metadata": {
    "scrolled": true
   },
   "outputs": [
    {
     "name": "stdout",
     "output_type": "stream",
     "text": [
      "Requirement already satisfied: opencv-python in c:\\users\\dande\\anaconda3\\lib\\site-packages (4.6.0.66)\n",
      "Requirement already satisfied: numpy>=1.17.3 in c:\\users\\dande\\anaconda3\\lib\\site-packages (from opencv-python) (1.20.3)\n"
     ]
    }
   ],
   "source": [
    "#install open-cv\n",
    "!pip install opencv-python"
   ]
  },
  {
   "cell_type": "code",
   "execution_count": 2,
   "id": "61bb8aed",
   "metadata": {},
   "outputs": [],
   "source": [
    "import cv2\n",
    "import matplotlib as plt\n",
    "%matplotlib inline\n",
    "import random as random"
   ]
  },
  {
   "cell_type": "code",
   "execution_count": 3,
   "id": "0cff57e1",
   "metadata": {},
   "outputs": [],
   "source": [
    "num = 2 # number of \"bricks\"\n",
    "step = 12 # 'grid' size\n",
    "# bricks position - пары рандомных чисел от 1 до 12\n",
    "\n",
    "def set_coords(num, step):\n",
    "    coords = []\n",
    "    for _ in range(num):\n",
    "        coord1 = random.randint(1,11)\n",
    "        coord2  = random.randint(1,11)\n",
    "        coords.append((coord1, coord2))\n",
    "    return coords\n",
    "coords_list = set_coords(num, step)\n"
   ]
  },
  {
   "cell_type": "code",
   "execution_count": 4,
   "id": "2e1ca460",
   "metadata": {},
   "outputs": [
    {
     "data": {
      "text/plain": [
       "[(6, 4), (10, 5)]"
      ]
     },
     "execution_count": 4,
     "metadata": {},
     "output_type": "execute_result"
    }
   ],
   "source": [
    "#coordinates of the upper left corner of each square\n",
    "coords_list "
   ]
  },
  {
   "cell_type": "code",
   "execution_count": 5,
   "id": "dfdc4e4b",
   "metadata": {},
   "outputs": [],
   "source": [
    "# applying a watermark to a frame\n",
    "def color_bricks(h, w, num, frame, coords_list):\n",
    "    for i in range(num):\n",
    "        brick_coord1 = coords_list[i][0]\n",
    "        brick_coord2 = coords_list[i][1]\n",
    "        startpoint = (int((h / 12) * brick_coord1),  int((w / 12) * brick_coord2))\n",
    "        endpoint = (int((h / 12) * (brick_coord1 + 1)), int((w / 12) * (brick_coord2 + 1)))\n",
    "        frame = cv2.rectangle(frame, startpoint, endpoint, (0, 0, 0), -1)\n",
    "    return frame"
   ]
  },
  {
   "cell_type": "code",
   "execution_count": 6,
   "id": "e2a0727f",
   "metadata": {},
   "outputs": [],
   "source": [
    "#dividing video to frames and adding watermarks\n",
    "video = cv2.VideoCapture('test.mp4')\n",
    "\n",
    "count = 0\n",
    "ret = True\n",
    "while ret == True:\n",
    "    ret, frame = video.read()\n",
    "    h, w, _ = frame.shape\n",
    "    if count % 30 == 0:\n",
    "        cv2.imwrite(\"frame%d.jpg\" % count, color_bricks(h, w, num, frame, coords_list)) \n",
    "    else:\n",
    "        cv2.imwrite(\"frame%d.jpg\" % count, frame) \n",
    "    count += 1\n",
    "    if count == 500:\n",
    "        break\n"
   ]
  },
  {
   "cell_type": "code",
   "execution_count": 7,
   "id": "3553af4d",
   "metadata": {},
   "outputs": [
    {
     "data": {
      "text/plain": [
       "500"
      ]
     },
     "execution_count": 7,
     "metadata": {},
     "output_type": "execute_result"
    }
   ],
   "source": [
    "img = []\n",
    "for i in range(500):\n",
    "    img.append(cv2.imread(\"frame%d.jpg\" % i))\n",
    "len(img)"
   ]
  },
  {
   "cell_type": "code",
   "execution_count": 8,
   "id": "38a14468",
   "metadata": {},
   "outputs": [],
   "source": [
    "height,width,layers=img[1].shape\n",
    "\n",
    "fourcc = cv2.VideoWriter_fourcc(*'XVID')\n",
    "video=cv2.VideoWriter('video_final.avi',fourcc,30,(width,height), 1)\n",
    "\n",
    "for j in range(500):\n",
    "    video.write(img[j])\n",
    "    \n",
    "video.release()"
   ]
  },
  {
   "cell_type": "code",
   "execution_count": 9,
   "id": "e429cac4",
   "metadata": {},
   "outputs": [],
   "source": [
    "# plt.imshow(frame)\n",
    "# frames cannot be shown in jupyter notebook"
   ]
  },
  {
   "cell_type": "code",
   "execution_count": 11,
   "id": "fa5b05ce",
   "metadata": {},
   "outputs": [
    {
     "data": {
      "text/plain": [
       "True"
      ]
     },
     "execution_count": 11,
     "metadata": {},
     "output_type": "execute_result"
    }
   ],
   "source": [
    "# save one frame with colored bricks as an illustaration of bricks position\n",
    "cv2.imwrite(\"colored.jpg\", color_bricks(h, w, num, frame, coords_list)) "
   ]
  }
 ],
 "metadata": {
  "kernelspec": {
   "display_name": "Python 3 (ipykernel)",
   "language": "python",
   "name": "python3"
  },
  "language_info": {
   "codemirror_mode": {
    "name": "ipython",
    "version": 3
   },
   "file_extension": ".py",
   "mimetype": "text/x-python",
   "name": "python",
   "nbconvert_exporter": "python",
   "pygments_lexer": "ipython3",
   "version": "3.9.7"
  },
  "toc": {
   "base_numbering": 1,
   "nav_menu": {},
   "number_sections": true,
   "sideBar": true,
   "skip_h1_title": true,
   "title_cell": "Table of Contents",
   "title_sidebar": "Contents",
   "toc_cell": true,
   "toc_position": {},
   "toc_section_display": true,
   "toc_window_display": false
  }
 },
 "nbformat": 4,
 "nbformat_minor": 5
}
