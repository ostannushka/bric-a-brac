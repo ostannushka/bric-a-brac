{
 "cells": [
  {
   "cell_type": "markdown",
   "metadata": {},
   "source": [
    "Привет еще раз! меня зовут Люман Аблаев. Сегодня я проверю твой проект.\n",
    "<br> Дальнейшее общение будет происходить на \"ты\" если это не вызывает никаких проблем.\n",
    "<br> Желательно реагировать на каждый мой комментарий ('исправил', 'не понятно как исправить ошибку', ...)\n",
    "<br> Пожалуйста, не удаляй комментарии ревьюера, так как они повышают качество повторного ревью.\n",
    "\n",
    "Комментарии будут в <font color='green'>зеленой</font>, <font color='blue'>синей</font> или <font color='red'>красной</font> рамках:\n",
    "\n",
    "<div class=\"alert alert-block alert-success\">\n",
    "<b>Успех:</b> Если все сделано отлично\n",
    "</div>\n",
    "\n",
    "<div class=\"alert alert-block alert-info\">\n",
    "<b>Совет: </b> Если можно немного улучшить\n",
    "</div>\n",
    "\n",
    "<div class=\"alert alert-block alert-danger\">\n",
    "<b>Ошибка:</b> Если требуются исправления. Работа не может быть принята с красными комментариями.\n",
    "</div>\n",
    "\n",
    "\n",
    "<font color='orange' style='font-size:24px; font-weight:bold'>Общее впечатление</font>\n",
    "* Спасибо за то, что прислал интересный проект - было приятно его проверять.\n",
    "* Неплохая работа с кодом и с моделями машинного обучения.\n",
    "- Я оставил некоторые советы, обрати на них внимание, они могут сделать работу лучше и быть полезными или интересными.\n",
    "* Есть небольшиой недочет связанный етрикой времени, думаю у тебя легко получится его поправить.\n",
    "- Жду твой обновленный  и дополненный проект =)\n"
   ]
  },
  {
   "cell_type": "markdown",
   "metadata": {},
   "source": [
    "# Определение стоимости автомобилей"
   ]
  },
  {
   "cell_type": "markdown",
   "metadata": {},
   "source": [
    "Сервис по продаже автомобилей с пробегом «Не бит, не крашен» разрабатывает приложение для привлечения новых клиентов. В нём можно быстро узнать рыночную стоимость своего автомобиля. В вашем распоряжении исторические данные: технические характеристики, комплектации и цены автомобилей. Вам нужно построить модель для определения стоимости. \n",
    "\n",
    "Заказчику важны:\n",
    "\n",
    "- качество предсказания;\n",
    "- скорость предсказания;\n",
    "- время обучения."
   ]
  },
  {
   "cell_type": "markdown",
   "metadata": {},
   "source": [
    "## Подготовка данных"
   ]
  },
  {
   "cell_type": "code",
   "execution_count": 1,
   "metadata": {},
   "outputs": [],
   "source": [
    "# импорт библиотек\n",
    "import pandas as pd#\n",
    "import numpy as np\n",
    "import matplotlib.pyplot as plt\n",
    "import seaborn as sns\n",
    "from sklearn.model_selection import train_test_split\n",
    "from sklearn.model_selection import cross_val_score\n",
    "from sklearn.metrics import mean_squared_error\n",
    "from sklearn.metrics import make_scorer\n",
    "from sklearn.model_selection import cross_val_score\n",
    "from numpy.random import RandomState\n",
    "from sklearn.tree import DecisionTreeRegressor\n",
    "from sklearn.ensemble import RandomForestRegressor\n",
    "from sklearn.linear_model import LinearRegression\n",
    "from sklearn.model_selection import GridSearchCV\n",
    "from sklearn.dummy import DummyRegressor\n",
    "from scipy import stats as st\n"
   ]
  },
  {
   "cell_type": "code",
   "execution_count": 2,
   "metadata": {},
   "outputs": [
    {
     "name": "stdout",
     "output_type": "stream",
     "text": [
      "Requirement already satisfied: catboost in c:\\users\\dande\\anaconda3\\lib\\site-packages (1.0.5)\n",
      "Requirement already satisfied: six in c:\\users\\dande\\anaconda3\\lib\\site-packages (from catboost) (1.16.0)\n",
      "Requirement already satisfied: pandas>=0.24.0 in c:\\users\\dande\\anaconda3\\lib\\site-packages (from catboost) (1.3.4)\n",
      "Requirement already satisfied: graphviz in c:\\users\\dande\\anaconda3\\lib\\site-packages (from catboost) (0.20)\n",
      "Requirement already satisfied: matplotlib in c:\\users\\dande\\anaconda3\\lib\\site-packages (from catboost) (3.4.3)\n",
      "Requirement already satisfied: numpy>=1.16.0 in c:\\users\\dande\\anaconda3\\lib\\site-packages (from catboost) (1.20.3)\n",
      "Requirement already satisfied: scipy in c:\\users\\dande\\anaconda3\\lib\\site-packages (from catboost) (1.7.1)\n",
      "Requirement already satisfied: plotly in c:\\users\\dande\\anaconda3\\lib\\site-packages (from catboost) (5.7.0)\n",
      "Requirement already satisfied: python-dateutil>=2.7.3 in c:\\users\\dande\\anaconda3\\lib\\site-packages (from pandas>=0.24.0->catboost) (2.8.2)\n",
      "Requirement already satisfied: pytz>=2017.3 in c:\\users\\dande\\anaconda3\\lib\\site-packages (from pandas>=0.24.0->catboost) (2021.3)\n",
      "Requirement already satisfied: pyparsing>=2.2.1 in c:\\users\\dande\\anaconda3\\lib\\site-packages (from matplotlib->catboost) (3.0.4)\n",
      "Requirement already satisfied: kiwisolver>=1.0.1 in c:\\users\\dande\\anaconda3\\lib\\site-packages (from matplotlib->catboost) (1.3.1)\n",
      "Requirement already satisfied: cycler>=0.10 in c:\\users\\dande\\anaconda3\\lib\\site-packages (from matplotlib->catboost) (0.10.0)\n",
      "Requirement already satisfied: pillow>=6.2.0 in c:\\users\\dande\\anaconda3\\lib\\site-packages (from matplotlib->catboost) (8.4.0)\n",
      "Requirement already satisfied: tenacity>=6.2.0 in c:\\users\\dande\\anaconda3\\lib\\site-packages (from plotly->catboost) (8.0.1)\n",
      "Requirement already satisfied: ipywidgets in c:\\users\\dande\\anaconda3\\lib\\site-packages (7.6.5)\n",
      "Requirement already satisfied: widgetsnbextension~=3.5.0 in c:\\users\\dande\\anaconda3\\lib\\site-packages (from ipywidgets) (3.5.1)\n",
      "Requirement already satisfied: nbformat>=4.2.0 in c:\\users\\dande\\anaconda3\\lib\\site-packages (from ipywidgets) (5.1.3)\n",
      "Requirement already satisfied: ipykernel>=4.5.1 in c:\\users\\dande\\anaconda3\\lib\\site-packages (from ipywidgets) (6.4.1)\n",
      "Requirement already satisfied: traitlets>=4.3.1 in c:\\users\\dande\\anaconda3\\lib\\site-packages (from ipywidgets) (5.1.0)\n",
      "Requirement already satisfied: ipython-genutils~=0.2.0 in c:\\users\\dande\\anaconda3\\lib\\site-packages (from ipywidgets) (0.2.0)\n",
      "Requirement already satisfied: ipython>=4.0.0 in c:\\users\\dande\\anaconda3\\lib\\site-packages (from ipywidgets) (7.29.0)\n",
      "Requirement already satisfied: jupyterlab-widgets>=1.0.0 in c:\\users\\dande\\anaconda3\\lib\\site-packages (from ipywidgets) (1.0.0)\n",
      "Requirement already satisfied: jupyter-client<8.0 in c:\\users\\dande\\anaconda3\\lib\\site-packages (from ipykernel>=4.5.1->ipywidgets) (6.1.12)\n",
      "Requirement already satisfied: matplotlib-inline<0.2.0,>=0.1.0 in c:\\users\\dande\\anaconda3\\lib\\site-packages (from ipykernel>=4.5.1->ipywidgets) (0.1.2)\n",
      "Requirement already satisfied: tornado<7.0,>=4.2 in c:\\users\\dande\\anaconda3\\lib\\site-packages (from ipykernel>=4.5.1->ipywidgets) (6.1)\n",
      "Requirement already satisfied: debugpy<2.0,>=1.0.0 in c:\\users\\dande\\anaconda3\\lib\\site-packages (from ipykernel>=4.5.1->ipywidgets) (1.4.1)\n",
      "Requirement already satisfied: jedi>=0.16 in c:\\users\\dande\\anaconda3\\lib\\site-packages (from ipython>=4.0.0->ipywidgets) (0.18.0)\n",
      "Requirement already satisfied: prompt-toolkit!=3.0.0,!=3.0.1,<3.1.0,>=2.0.0 in c:\\users\\dande\\anaconda3\\lib\\site-packages (from ipython>=4.0.0->ipywidgets) (3.0.20)\n",
      "Requirement already satisfied: setuptools>=18.5 in c:\\users\\dande\\anaconda3\\lib\\site-packages (from ipython>=4.0.0->ipywidgets) (58.0.4)\n",
      "Requirement already satisfied: pygments in c:\\users\\dande\\anaconda3\\lib\\site-packages (from ipython>=4.0.0->ipywidgets) (2.10.0)\n",
      "Requirement already satisfied: backcall in c:\\users\\dande\\anaconda3\\lib\\site-packages (from ipython>=4.0.0->ipywidgets) (0.2.0)\n",
      "Requirement already satisfied: pickleshare in c:\\users\\dande\\anaconda3\\lib\\site-packages (from ipython>=4.0.0->ipywidgets) (0.7.5)\n",
      "Requirement already satisfied: colorama in c:\\users\\dande\\anaconda3\\lib\\site-packages (from ipython>=4.0.0->ipywidgets) (0.4.4)\n",
      "Requirement already satisfied: decorator in c:\\users\\dande\\anaconda3\\lib\\site-packages (from ipython>=4.0.0->ipywidgets) (5.1.0)\n",
      "Requirement already satisfied: parso<0.9.0,>=0.8.0 in c:\\users\\dande\\anaconda3\\lib\\site-packages (from jedi>=0.16->ipython>=4.0.0->ipywidgets) (0.8.2)\n",
      "Requirement already satisfied: python-dateutil>=2.1 in c:\\users\\dande\\anaconda3\\lib\\site-packages (from jupyter-client<8.0->ipykernel>=4.5.1->ipywidgets) (2.8.2)\n",
      "Requirement already satisfied: pyzmq>=13 in c:\\users\\dande\\anaconda3\\lib\\site-packages (from jupyter-client<8.0->ipykernel>=4.5.1->ipywidgets) (22.2.1)\n",
      "Requirement already satisfied: jupyter-core>=4.6.0 in c:\\users\\dande\\anaconda3\\lib\\site-packages (from jupyter-client<8.0->ipykernel>=4.5.1->ipywidgets) (4.8.1)\n",
      "Requirement already satisfied: pywin32>=1.0 in c:\\users\\dande\\anaconda3\\lib\\site-packages (from jupyter-core>=4.6.0->jupyter-client<8.0->ipykernel>=4.5.1->ipywidgets) (228)\n",
      "Requirement already satisfied: jsonschema!=2.5.0,>=2.4 in c:\\users\\dande\\anaconda3\\lib\\site-packages (from nbformat>=4.2.0->ipywidgets) (3.2.0)\n",
      "Requirement already satisfied: attrs>=17.4.0 in c:\\users\\dande\\anaconda3\\lib\\site-packages (from jsonschema!=2.5.0,>=2.4->nbformat>=4.2.0->ipywidgets) (21.2.0)\n",
      "Requirement already satisfied: six>=1.11.0 in c:\\users\\dande\\anaconda3\\lib\\site-packages (from jsonschema!=2.5.0,>=2.4->nbformat>=4.2.0->ipywidgets) (1.16.0)\n",
      "Requirement already satisfied: pyrsistent>=0.14.0 in c:\\users\\dande\\anaconda3\\lib\\site-packages (from jsonschema!=2.5.0,>=2.4->nbformat>=4.2.0->ipywidgets) (0.18.0)\n",
      "Requirement already satisfied: wcwidth in c:\\users\\dande\\anaconda3\\lib\\site-packages (from prompt-toolkit!=3.0.0,!=3.0.1,<3.1.0,>=2.0.0->ipython>=4.0.0->ipywidgets) (0.2.5)\n",
      "Requirement already satisfied: notebook>=4.4.1 in c:\\users\\dande\\anaconda3\\lib\\site-packages (from widgetsnbextension~=3.5.0->ipywidgets) (6.4.5)\n",
      "Requirement already satisfied: argon2-cffi in c:\\users\\dande\\anaconda3\\lib\\site-packages (from notebook>=4.4.1->widgetsnbextension~=3.5.0->ipywidgets) (20.1.0)\n",
      "Requirement already satisfied: nbconvert in c:\\users\\dande\\anaconda3\\lib\\site-packages (from notebook>=4.4.1->widgetsnbextension~=3.5.0->ipywidgets) (6.1.0)\n",
      "Requirement already satisfied: prometheus-client in c:\\users\\dande\\anaconda3\\lib\\site-packages (from notebook>=4.4.1->widgetsnbextension~=3.5.0->ipywidgets) (0.11.0)\n",
      "Requirement already satisfied: terminado>=0.8.3 in c:\\users\\dande\\anaconda3\\lib\\site-packages (from notebook>=4.4.1->widgetsnbextension~=3.5.0->ipywidgets) (0.9.4)\n",
      "Requirement already satisfied: jinja2 in c:\\users\\dande\\anaconda3\\lib\\site-packages (from notebook>=4.4.1->widgetsnbextension~=3.5.0->ipywidgets) (2.11.3)\n",
      "Requirement already satisfied: Send2Trash>=1.5.0 in c:\\users\\dande\\anaconda3\\lib\\site-packages (from notebook>=4.4.1->widgetsnbextension~=3.5.0->ipywidgets) (1.8.0)\n",
      "Requirement already satisfied: pywinpty>=0.5 in c:\\users\\dande\\anaconda3\\lib\\site-packages (from terminado>=0.8.3->notebook>=4.4.1->widgetsnbextension~=3.5.0->ipywidgets) (0.5.7)\n",
      "Requirement already satisfied: cffi>=1.0.0 in c:\\users\\dande\\anaconda3\\lib\\site-packages (from argon2-cffi->notebook>=4.4.1->widgetsnbextension~=3.5.0->ipywidgets) (1.14.6)\n",
      "Requirement already satisfied: pycparser in c:\\users\\dande\\anaconda3\\lib\\site-packages (from cffi>=1.0.0->argon2-cffi->notebook>=4.4.1->widgetsnbextension~=3.5.0->ipywidgets) (2.20)\n",
      "Requirement already satisfied: MarkupSafe>=0.23 in c:\\users\\dande\\anaconda3\\lib\\site-packages (from jinja2->notebook>=4.4.1->widgetsnbextension~=3.5.0->ipywidgets) (1.1.1)\n",
      "Requirement already satisfied: jupyterlab-pygments in c:\\users\\dande\\anaconda3\\lib\\site-packages (from nbconvert->notebook>=4.4.1->widgetsnbextension~=3.5.0->ipywidgets) (0.1.2)\n",
      "Requirement already satisfied: nbclient<0.6.0,>=0.5.0 in c:\\users\\dande\\anaconda3\\lib\\site-packages (from nbconvert->notebook>=4.4.1->widgetsnbextension~=3.5.0->ipywidgets) (0.5.3)\n",
      "Requirement already satisfied: mistune<2,>=0.8.1 in c:\\users\\dande\\anaconda3\\lib\\site-packages (from nbconvert->notebook>=4.4.1->widgetsnbextension~=3.5.0->ipywidgets) (0.8.4)\n",
      "Requirement already satisfied: entrypoints>=0.2.2 in c:\\users\\dande\\anaconda3\\lib\\site-packages (from nbconvert->notebook>=4.4.1->widgetsnbextension~=3.5.0->ipywidgets) (0.3)\n",
      "Requirement already satisfied: bleach in c:\\users\\dande\\anaconda3\\lib\\site-packages (from nbconvert->notebook>=4.4.1->widgetsnbextension~=3.5.0->ipywidgets) (4.0.0)\n",
      "Requirement already satisfied: testpath in c:\\users\\dande\\anaconda3\\lib\\site-packages (from nbconvert->notebook>=4.4.1->widgetsnbextension~=3.5.0->ipywidgets) (0.5.0)\n",
      "Requirement already satisfied: pandocfilters>=1.4.1 in c:\\users\\dande\\anaconda3\\lib\\site-packages (from nbconvert->notebook>=4.4.1->widgetsnbextension~=3.5.0->ipywidgets) (1.4.3)\n",
      "Requirement already satisfied: defusedxml in c:\\users\\dande\\anaconda3\\lib\\site-packages (from nbconvert->notebook>=4.4.1->widgetsnbextension~=3.5.0->ipywidgets) (0.7.1)\n",
      "Requirement already satisfied: async-generator in c:\\users\\dande\\anaconda3\\lib\\site-packages (from nbclient<0.6.0,>=0.5.0->nbconvert->notebook>=4.4.1->widgetsnbextension~=3.5.0->ipywidgets) (1.10)\n",
      "Requirement already satisfied: nest-asyncio in c:\\users\\dande\\anaconda3\\lib\\site-packages (from nbclient<0.6.0,>=0.5.0->nbconvert->notebook>=4.4.1->widgetsnbextension~=3.5.0->ipywidgets) (1.5.1)\n",
      "Requirement already satisfied: webencodings in c:\\users\\dande\\anaconda3\\lib\\site-packages (from bleach->nbconvert->notebook>=4.4.1->widgetsnbextension~=3.5.0->ipywidgets) (0.5.1)\n",
      "Requirement already satisfied: packaging in c:\\users\\dande\\anaconda3\\lib\\site-packages (from bleach->nbconvert->notebook>=4.4.1->widgetsnbextension~=3.5.0->ipywidgets) (21.0)\n",
      "Requirement already satisfied: pyparsing>=2.0.2 in c:\\users\\dande\\anaconda3\\lib\\site-packages (from packaging->bleach->nbconvert->notebook>=4.4.1->widgetsnbextension~=3.5.0->ipywidgets) (3.0.4)\n"
     ]
    },
    {
     "name": "stderr",
     "output_type": "stream",
     "text": [
      "Please specify one nbextension/package at a time\n"
     ]
    }
   ],
   "source": [
    "!pip install catboost\n",
    "!pip install ipywidgets\n",
    "!jupyter nbextension enable  — py widgetsnbextension\n",
    "from catboost import CatBoostRegressor"
   ]
  },
  {
   "cell_type": "code",
   "execution_count": 3,
   "metadata": {},
   "outputs": [
    {
     "name": "stdout",
     "output_type": "stream",
     "text": [
      "Requirement already satisfied: lightgbm in c:\\users\\dande\\anaconda3\\lib\\site-packages (3.3.2)\n",
      "Requirement already satisfied: scikit-learn!=0.22.0 in c:\\users\\dande\\anaconda3\\lib\\site-packages (from lightgbm) (0.24.2)\n",
      "Requirement already satisfied: wheel in c:\\users\\dande\\anaconda3\\lib\\site-packages (from lightgbm) (0.37.0)\n",
      "Requirement already satisfied: scipy in c:\\users\\dande\\anaconda3\\lib\\site-packages (from lightgbm) (1.7.1)\n",
      "Requirement already satisfied: numpy in c:\\users\\dande\\anaconda3\\lib\\site-packages (from lightgbm) (1.20.3)\n",
      "Requirement already satisfied: threadpoolctl>=2.0.0 in c:\\users\\dande\\anaconda3\\lib\\site-packages (from scikit-learn!=0.22.0->lightgbm) (2.2.0)\n",
      "Requirement already satisfied: joblib>=0.11 in c:\\users\\dande\\anaconda3\\lib\\site-packages (from scikit-learn!=0.22.0->lightgbm) (1.1.0)\n"
     ]
    }
   ],
   "source": [
    "!pip install lightgbm\n",
    "import lightgbm as ltb\n",
    "from lightgbm import LGBMRegressor"
   ]
  },
  {
   "cell_type": "markdown",
   "metadata": {},
   "source": [
    "<div class=\"alert alert-block alert-success\">\n",
    "\n",
    "<b>Успех:</b> Импорты и описание на месте"
   ]
  },
  {
   "cell_type": "code",
   "execution_count": 4,
   "metadata": {},
   "outputs": [],
   "source": [
    "# загрузка датасета\n",
    "try:\n",
    "    df = pd.read_csv('autos.csv')\n",
    "except:\n",
    "    df = pd.read_csv('/datasets/autos.csv')"
   ]
  },
  {
   "cell_type": "code",
   "execution_count": 5,
   "metadata": {},
   "outputs": [
    {
     "data": {
      "text/html": [
       "<div>\n",
       "<style scoped>\n",
       "    .dataframe tbody tr th:only-of-type {\n",
       "        vertical-align: middle;\n",
       "    }\n",
       "\n",
       "    .dataframe tbody tr th {\n",
       "        vertical-align: top;\n",
       "    }\n",
       "\n",
       "    .dataframe thead th {\n",
       "        text-align: right;\n",
       "    }\n",
       "</style>\n",
       "<table border=\"1\" class=\"dataframe\">\n",
       "  <thead>\n",
       "    <tr style=\"text-align: right;\">\n",
       "      <th></th>\n",
       "      <th>DateCrawled</th>\n",
       "      <th>Price</th>\n",
       "      <th>VehicleType</th>\n",
       "      <th>RegistrationYear</th>\n",
       "      <th>Gearbox</th>\n",
       "      <th>Power</th>\n",
       "      <th>Model</th>\n",
       "      <th>Kilometer</th>\n",
       "      <th>RegistrationMonth</th>\n",
       "      <th>FuelType</th>\n",
       "      <th>Brand</th>\n",
       "      <th>NotRepaired</th>\n",
       "      <th>DateCreated</th>\n",
       "      <th>NumberOfPictures</th>\n",
       "      <th>PostalCode</th>\n",
       "      <th>LastSeen</th>\n",
       "    </tr>\n",
       "  </thead>\n",
       "  <tbody>\n",
       "    <tr>\n",
       "      <th>0</th>\n",
       "      <td>2016-03-24 11:52:17</td>\n",
       "      <td>480</td>\n",
       "      <td>NaN</td>\n",
       "      <td>1993</td>\n",
       "      <td>manual</td>\n",
       "      <td>0</td>\n",
       "      <td>golf</td>\n",
       "      <td>150000</td>\n",
       "      <td>0</td>\n",
       "      <td>petrol</td>\n",
       "      <td>volkswagen</td>\n",
       "      <td>NaN</td>\n",
       "      <td>2016-03-24 00:00:00</td>\n",
       "      <td>0</td>\n",
       "      <td>70435</td>\n",
       "      <td>2016-04-07 03:16:57</td>\n",
       "    </tr>\n",
       "    <tr>\n",
       "      <th>1</th>\n",
       "      <td>2016-03-24 10:58:45</td>\n",
       "      <td>18300</td>\n",
       "      <td>coupe</td>\n",
       "      <td>2011</td>\n",
       "      <td>manual</td>\n",
       "      <td>190</td>\n",
       "      <td>NaN</td>\n",
       "      <td>125000</td>\n",
       "      <td>5</td>\n",
       "      <td>gasoline</td>\n",
       "      <td>audi</td>\n",
       "      <td>yes</td>\n",
       "      <td>2016-03-24 00:00:00</td>\n",
       "      <td>0</td>\n",
       "      <td>66954</td>\n",
       "      <td>2016-04-07 01:46:50</td>\n",
       "    </tr>\n",
       "    <tr>\n",
       "      <th>2</th>\n",
       "      <td>2016-03-14 12:52:21</td>\n",
       "      <td>9800</td>\n",
       "      <td>suv</td>\n",
       "      <td>2004</td>\n",
       "      <td>auto</td>\n",
       "      <td>163</td>\n",
       "      <td>grand</td>\n",
       "      <td>125000</td>\n",
       "      <td>8</td>\n",
       "      <td>gasoline</td>\n",
       "      <td>jeep</td>\n",
       "      <td>NaN</td>\n",
       "      <td>2016-03-14 00:00:00</td>\n",
       "      <td>0</td>\n",
       "      <td>90480</td>\n",
       "      <td>2016-04-05 12:47:46</td>\n",
       "    </tr>\n",
       "    <tr>\n",
       "      <th>3</th>\n",
       "      <td>2016-03-17 16:54:04</td>\n",
       "      <td>1500</td>\n",
       "      <td>small</td>\n",
       "      <td>2001</td>\n",
       "      <td>manual</td>\n",
       "      <td>75</td>\n",
       "      <td>golf</td>\n",
       "      <td>150000</td>\n",
       "      <td>6</td>\n",
       "      <td>petrol</td>\n",
       "      <td>volkswagen</td>\n",
       "      <td>no</td>\n",
       "      <td>2016-03-17 00:00:00</td>\n",
       "      <td>0</td>\n",
       "      <td>91074</td>\n",
       "      <td>2016-03-17 17:40:17</td>\n",
       "    </tr>\n",
       "    <tr>\n",
       "      <th>4</th>\n",
       "      <td>2016-03-31 17:25:20</td>\n",
       "      <td>3600</td>\n",
       "      <td>small</td>\n",
       "      <td>2008</td>\n",
       "      <td>manual</td>\n",
       "      <td>69</td>\n",
       "      <td>fabia</td>\n",
       "      <td>90000</td>\n",
       "      <td>7</td>\n",
       "      <td>gasoline</td>\n",
       "      <td>skoda</td>\n",
       "      <td>no</td>\n",
       "      <td>2016-03-31 00:00:00</td>\n",
       "      <td>0</td>\n",
       "      <td>60437</td>\n",
       "      <td>2016-04-06 10:17:21</td>\n",
       "    </tr>\n",
       "    <tr>\n",
       "      <th>...</th>\n",
       "      <td>...</td>\n",
       "      <td>...</td>\n",
       "      <td>...</td>\n",
       "      <td>...</td>\n",
       "      <td>...</td>\n",
       "      <td>...</td>\n",
       "      <td>...</td>\n",
       "      <td>...</td>\n",
       "      <td>...</td>\n",
       "      <td>...</td>\n",
       "      <td>...</td>\n",
       "      <td>...</td>\n",
       "      <td>...</td>\n",
       "      <td>...</td>\n",
       "      <td>...</td>\n",
       "      <td>...</td>\n",
       "    </tr>\n",
       "    <tr>\n",
       "      <th>354364</th>\n",
       "      <td>2016-03-21 09:50:58</td>\n",
       "      <td>0</td>\n",
       "      <td>NaN</td>\n",
       "      <td>2005</td>\n",
       "      <td>manual</td>\n",
       "      <td>0</td>\n",
       "      <td>colt</td>\n",
       "      <td>150000</td>\n",
       "      <td>7</td>\n",
       "      <td>petrol</td>\n",
       "      <td>mitsubishi</td>\n",
       "      <td>yes</td>\n",
       "      <td>2016-03-21 00:00:00</td>\n",
       "      <td>0</td>\n",
       "      <td>2694</td>\n",
       "      <td>2016-03-21 10:42:49</td>\n",
       "    </tr>\n",
       "    <tr>\n",
       "      <th>354365</th>\n",
       "      <td>2016-03-14 17:48:27</td>\n",
       "      <td>2200</td>\n",
       "      <td>NaN</td>\n",
       "      <td>2005</td>\n",
       "      <td>NaN</td>\n",
       "      <td>0</td>\n",
       "      <td>NaN</td>\n",
       "      <td>20000</td>\n",
       "      <td>1</td>\n",
       "      <td>NaN</td>\n",
       "      <td>sonstige_autos</td>\n",
       "      <td>NaN</td>\n",
       "      <td>2016-03-14 00:00:00</td>\n",
       "      <td>0</td>\n",
       "      <td>39576</td>\n",
       "      <td>2016-04-06 00:46:52</td>\n",
       "    </tr>\n",
       "    <tr>\n",
       "      <th>354366</th>\n",
       "      <td>2016-03-05 19:56:21</td>\n",
       "      <td>1199</td>\n",
       "      <td>convertible</td>\n",
       "      <td>2000</td>\n",
       "      <td>auto</td>\n",
       "      <td>101</td>\n",
       "      <td>fortwo</td>\n",
       "      <td>125000</td>\n",
       "      <td>3</td>\n",
       "      <td>petrol</td>\n",
       "      <td>smart</td>\n",
       "      <td>no</td>\n",
       "      <td>2016-03-05 00:00:00</td>\n",
       "      <td>0</td>\n",
       "      <td>26135</td>\n",
       "      <td>2016-03-11 18:17:12</td>\n",
       "    </tr>\n",
       "    <tr>\n",
       "      <th>354367</th>\n",
       "      <td>2016-03-19 18:57:12</td>\n",
       "      <td>9200</td>\n",
       "      <td>bus</td>\n",
       "      <td>1996</td>\n",
       "      <td>manual</td>\n",
       "      <td>102</td>\n",
       "      <td>transporter</td>\n",
       "      <td>150000</td>\n",
       "      <td>3</td>\n",
       "      <td>gasoline</td>\n",
       "      <td>volkswagen</td>\n",
       "      <td>no</td>\n",
       "      <td>2016-03-19 00:00:00</td>\n",
       "      <td>0</td>\n",
       "      <td>87439</td>\n",
       "      <td>2016-04-07 07:15:26</td>\n",
       "    </tr>\n",
       "    <tr>\n",
       "      <th>354368</th>\n",
       "      <td>2016-03-20 19:41:08</td>\n",
       "      <td>3400</td>\n",
       "      <td>wagon</td>\n",
       "      <td>2002</td>\n",
       "      <td>manual</td>\n",
       "      <td>100</td>\n",
       "      <td>golf</td>\n",
       "      <td>150000</td>\n",
       "      <td>6</td>\n",
       "      <td>gasoline</td>\n",
       "      <td>volkswagen</td>\n",
       "      <td>NaN</td>\n",
       "      <td>2016-03-20 00:00:00</td>\n",
       "      <td>0</td>\n",
       "      <td>40764</td>\n",
       "      <td>2016-03-24 12:45:21</td>\n",
       "    </tr>\n",
       "  </tbody>\n",
       "</table>\n",
       "<p>354369 rows × 16 columns</p>\n",
       "</div>"
      ],
      "text/plain": [
       "                DateCrawled  Price  VehicleType  RegistrationYear Gearbox  \\\n",
       "0       2016-03-24 11:52:17    480          NaN              1993  manual   \n",
       "1       2016-03-24 10:58:45  18300        coupe              2011  manual   \n",
       "2       2016-03-14 12:52:21   9800          suv              2004    auto   \n",
       "3       2016-03-17 16:54:04   1500        small              2001  manual   \n",
       "4       2016-03-31 17:25:20   3600        small              2008  manual   \n",
       "...                     ...    ...          ...               ...     ...   \n",
       "354364  2016-03-21 09:50:58      0          NaN              2005  manual   \n",
       "354365  2016-03-14 17:48:27   2200          NaN              2005     NaN   \n",
       "354366  2016-03-05 19:56:21   1199  convertible              2000    auto   \n",
       "354367  2016-03-19 18:57:12   9200          bus              1996  manual   \n",
       "354368  2016-03-20 19:41:08   3400        wagon              2002  manual   \n",
       "\n",
       "        Power        Model  Kilometer  RegistrationMonth  FuelType  \\\n",
       "0           0         golf     150000                  0    petrol   \n",
       "1         190          NaN     125000                  5  gasoline   \n",
       "2         163        grand     125000                  8  gasoline   \n",
       "3          75         golf     150000                  6    petrol   \n",
       "4          69        fabia      90000                  7  gasoline   \n",
       "...       ...          ...        ...                ...       ...   \n",
       "354364      0         colt     150000                  7    petrol   \n",
       "354365      0          NaN      20000                  1       NaN   \n",
       "354366    101       fortwo     125000                  3    petrol   \n",
       "354367    102  transporter     150000                  3  gasoline   \n",
       "354368    100         golf     150000                  6  gasoline   \n",
       "\n",
       "                 Brand NotRepaired          DateCreated  NumberOfPictures  \\\n",
       "0           volkswagen         NaN  2016-03-24 00:00:00                 0   \n",
       "1                 audi         yes  2016-03-24 00:00:00                 0   \n",
       "2                 jeep         NaN  2016-03-14 00:00:00                 0   \n",
       "3           volkswagen          no  2016-03-17 00:00:00                 0   \n",
       "4                skoda          no  2016-03-31 00:00:00                 0   \n",
       "...                ...         ...                  ...               ...   \n",
       "354364      mitsubishi         yes  2016-03-21 00:00:00                 0   \n",
       "354365  sonstige_autos         NaN  2016-03-14 00:00:00                 0   \n",
       "354366           smart          no  2016-03-05 00:00:00                 0   \n",
       "354367      volkswagen          no  2016-03-19 00:00:00                 0   \n",
       "354368      volkswagen         NaN  2016-03-20 00:00:00                 0   \n",
       "\n",
       "        PostalCode             LastSeen  \n",
       "0            70435  2016-04-07 03:16:57  \n",
       "1            66954  2016-04-07 01:46:50  \n",
       "2            90480  2016-04-05 12:47:46  \n",
       "3            91074  2016-03-17 17:40:17  \n",
       "4            60437  2016-04-06 10:17:21  \n",
       "...            ...                  ...  \n",
       "354364        2694  2016-03-21 10:42:49  \n",
       "354365       39576  2016-04-06 00:46:52  \n",
       "354366       26135  2016-03-11 18:17:12  \n",
       "354367       87439  2016-04-07 07:15:26  \n",
       "354368       40764  2016-03-24 12:45:21  \n",
       "\n",
       "[354369 rows x 16 columns]"
      ]
     },
     "metadata": {},
     "output_type": "display_data"
    },
    {
     "name": "stdout",
     "output_type": "stream",
     "text": [
      "<class 'pandas.core.frame.DataFrame'>\n",
      "RangeIndex: 354369 entries, 0 to 354368\n",
      "Data columns (total 16 columns):\n",
      " #   Column             Non-Null Count   Dtype \n",
      "---  ------             --------------   ----- \n",
      " 0   DateCrawled        354369 non-null  object\n",
      " 1   Price              354369 non-null  int64 \n",
      " 2   VehicleType        316879 non-null  object\n",
      " 3   RegistrationYear   354369 non-null  int64 \n",
      " 4   Gearbox            334536 non-null  object\n",
      " 5   Power              354369 non-null  int64 \n",
      " 6   Model              334664 non-null  object\n",
      " 7   Kilometer          354369 non-null  int64 \n",
      " 8   RegistrationMonth  354369 non-null  int64 \n",
      " 9   FuelType           321474 non-null  object\n",
      " 10  Brand              354369 non-null  object\n",
      " 11  NotRepaired        283215 non-null  object\n",
      " 12  DateCreated        354369 non-null  object\n",
      " 13  NumberOfPictures   354369 non-null  int64 \n",
      " 14  PostalCode         354369 non-null  int64 \n",
      " 15  LastSeen           354369 non-null  object\n",
      "dtypes: int64(7), object(9)\n",
      "memory usage: 43.3+ MB\n",
      "NotRepaired    71154\n",
      "VehicleType    37490\n",
      "FuelType       32895\n",
      "Gearbox        19833\n",
      "Model          19705\n",
      "dtype: int64\n"
     ]
    }
   ],
   "source": [
    "display(df)\n",
    "df.info()\n",
    "def count_missing(df): # функция для подсчета пропусков в столбцах\n",
    "    nan = df.isnull().sum().sort_values(ascending=False) \n",
    "    missing_val = nan[nan > 0]\n",
    "    return missing_val\n",
    "print(count_missing(df))"
   ]
  },
  {
   "cell_type": "markdown",
   "metadata": {},
   "source": [
    "DateCrawled, DateCreated, LastSeen - нужно сменить тип на DateTime. В столбце Power есть нули, но не бывает машин с мощностью в 0 л.с., таких нулей 40 000. Нули в RegistrationMonth тоже выглядят странно, их 37 352, можно было бы подумать, что нумерация месяцев начинается с 0, но метод unique() возвращает значения от 0 до 12. \n",
    "Есть пропуски в NotRepaired, VehicleType, FuelType, Gearbox, Model - их много"
   ]
  },
  {
   "cell_type": "markdown",
   "metadata": {},
   "source": [
    "<div class=\"alert alert-block alert-success\">\n",
    "\n",
    "<b>Успех:</b> Данные осмотрены корректно"
   ]
  },
  {
   "cell_type": "code",
   "execution_count": 6,
   "metadata": {},
   "outputs": [
    {
     "data": {
      "text/plain": [
       "0        14 days 03:16:57\n",
       "1        14 days 01:46:50\n",
       "2        22 days 12:47:46\n",
       "3         0 days 17:40:17\n",
       "4         6 days 10:17:21\n",
       "               ...       \n",
       "354364    0 days 10:42:49\n",
       "354365   23 days 00:46:52\n",
       "354366    6 days 18:17:12\n",
       "354367   19 days 07:15:26\n",
       "354368    4 days 12:45:21\n",
       "Name: Actuality, Length: 354369, dtype: timedelta64[ns]"
      ]
     },
     "execution_count": 6,
     "metadata": {},
     "output_type": "execute_result"
    }
   ],
   "source": [
    "# date and time\n",
    "to_datetime = ['DateCrawled', 'DateCreated', 'LastSeen']\n",
    "for col in to_datetime:\n",
    "    df[col] = pd.to_datetime(df[col], format='%Y-%m-%d %H:%M:%S')\n",
    "df['Actuality'] = df['LastSeen'] - df['DateCreated'] \n",
    "df['Actuality']"
   ]
  },
  {
   "cell_type": "code",
   "execution_count": 7,
   "metadata": {
    "scrolled": false
   },
   "outputs": [
    {
     "name": "stdout",
     "output_type": "stream",
     "text": [
      "<class 'pandas.core.frame.DataFrame'>\n",
      "RangeIndex: 354369 entries, 0 to 354368\n",
      "Data columns (total 14 columns):\n",
      " #   Column             Non-Null Count   Dtype \n",
      "---  ------             --------------   ----- \n",
      " 0   Price              354369 non-null  int64 \n",
      " 1   VehicleType        316879 non-null  object\n",
      " 2   RegistrationYear   354369 non-null  int64 \n",
      " 3   Gearbox            334536 non-null  object\n",
      " 4   Power              354369 non-null  int64 \n",
      " 5   Model              334664 non-null  object\n",
      " 6   Kilometer          354369 non-null  int64 \n",
      " 7   RegistrationMonth  354369 non-null  int64 \n",
      " 8   FuelType           321474 non-null  object\n",
      " 9   Brand              354369 non-null  object\n",
      " 10  NotRepaired        283215 non-null  object\n",
      " 11  NumberOfPictures   354369 non-null  int64 \n",
      " 12  PostalCode         354369 non-null  int64 \n",
      " 13  Actuality          354369 non-null  int32 \n",
      "dtypes: int32(1), int64(7), object(6)\n",
      "memory usage: 36.5+ MB\n"
     ]
    }
   ],
   "source": [
    "df['Actuality'] = df['Actuality'].astype(str)\n",
    "def only_days(col):\n",
    "    return col[:-14]\n",
    "df['Actuality'] = df['Actuality'].apply(only_days)\n",
    "df = df.drop(['DateCrawled', 'DateCreated', 'LastSeen'], axis=1)\n",
    "df['Actuality'].unique()\n",
    "df['Actuality'] = df['Actuality'].astype(int)\n",
    "df.info()"
   ]
  },
  {
   "cell_type": "code",
   "execution_count": 8,
   "metadata": {
    "scrolled": true
   },
   "outputs": [
    {
     "data": {
      "text/html": [
       "<div>\n",
       "<style scoped>\n",
       "    .dataframe tbody tr th:only-of-type {\n",
       "        vertical-align: middle;\n",
       "    }\n",
       "\n",
       "    .dataframe tbody tr th {\n",
       "        vertical-align: top;\n",
       "    }\n",
       "\n",
       "    .dataframe thead th {\n",
       "        text-align: right;\n",
       "    }\n",
       "</style>\n",
       "<table border=\"1\" class=\"dataframe\">\n",
       "  <thead>\n",
       "    <tr style=\"text-align: right;\">\n",
       "      <th></th>\n",
       "      <th>Price</th>\n",
       "      <th>VehicleType</th>\n",
       "      <th>RegistrationYear</th>\n",
       "      <th>Gearbox</th>\n",
       "      <th>Power</th>\n",
       "      <th>Model</th>\n",
       "      <th>Kilometer</th>\n",
       "      <th>RegistrationMonth</th>\n",
       "      <th>FuelType</th>\n",
       "      <th>Brand</th>\n",
       "      <th>NotRepaired</th>\n",
       "      <th>NumberOfPictures</th>\n",
       "      <th>PostalCode</th>\n",
       "      <th>Actuality</th>\n",
       "    </tr>\n",
       "  </thead>\n",
       "  <tbody>\n",
       "    <tr>\n",
       "      <th>0</th>\n",
       "      <td>480</td>\n",
       "      <td>NaN</td>\n",
       "      <td>1993</td>\n",
       "      <td>manual</td>\n",
       "      <td>0</td>\n",
       "      <td>golf</td>\n",
       "      <td>150000</td>\n",
       "      <td>0</td>\n",
       "      <td>petrol</td>\n",
       "      <td>volkswagen</td>\n",
       "      <td>NaN</td>\n",
       "      <td>0</td>\n",
       "      <td>70435</td>\n",
       "      <td>14</td>\n",
       "    </tr>\n",
       "    <tr>\n",
       "      <th>158</th>\n",
       "      <td>800</td>\n",
       "      <td>sedan</td>\n",
       "      <td>1993</td>\n",
       "      <td>manual</td>\n",
       "      <td>0</td>\n",
       "      <td>golf</td>\n",
       "      <td>10000</td>\n",
       "      <td>9</td>\n",
       "      <td>petrol</td>\n",
       "      <td>volkswagen</td>\n",
       "      <td>yes</td>\n",
       "      <td>0</td>\n",
       "      <td>65929</td>\n",
       "      <td>6</td>\n",
       "    </tr>\n",
       "    <tr>\n",
       "      <th>253</th>\n",
       "      <td>300</td>\n",
       "      <td>small</td>\n",
       "      <td>1993</td>\n",
       "      <td>manual</td>\n",
       "      <td>90</td>\n",
       "      <td>golf</td>\n",
       "      <td>150000</td>\n",
       "      <td>8</td>\n",
       "      <td>petrol</td>\n",
       "      <td>volkswagen</td>\n",
       "      <td>NaN</td>\n",
       "      <td>0</td>\n",
       "      <td>27412</td>\n",
       "      <td>10</td>\n",
       "    </tr>\n",
       "    <tr>\n",
       "      <th>2117</th>\n",
       "      <td>270</td>\n",
       "      <td>small</td>\n",
       "      <td>1993</td>\n",
       "      <td>manual</td>\n",
       "      <td>75</td>\n",
       "      <td>golf</td>\n",
       "      <td>150000</td>\n",
       "      <td>4</td>\n",
       "      <td>petrol</td>\n",
       "      <td>volkswagen</td>\n",
       "      <td>no</td>\n",
       "      <td>0</td>\n",
       "      <td>49152</td>\n",
       "      <td>2</td>\n",
       "    </tr>\n",
       "    <tr>\n",
       "      <th>2881</th>\n",
       "      <td>650</td>\n",
       "      <td>sedan</td>\n",
       "      <td>1993</td>\n",
       "      <td>auto</td>\n",
       "      <td>75</td>\n",
       "      <td>golf</td>\n",
       "      <td>150000</td>\n",
       "      <td>3</td>\n",
       "      <td>petrol</td>\n",
       "      <td>volkswagen</td>\n",
       "      <td>no</td>\n",
       "      <td>0</td>\n",
       "      <td>84186</td>\n",
       "      <td>22</td>\n",
       "    </tr>\n",
       "    <tr>\n",
       "      <th>...</th>\n",
       "      <td>...</td>\n",
       "      <td>...</td>\n",
       "      <td>...</td>\n",
       "      <td>...</td>\n",
       "      <td>...</td>\n",
       "      <td>...</td>\n",
       "      <td>...</td>\n",
       "      <td>...</td>\n",
       "      <td>...</td>\n",
       "      <td>...</td>\n",
       "      <td>...</td>\n",
       "      <td>...</td>\n",
       "      <td>...</td>\n",
       "      <td>...</td>\n",
       "    </tr>\n",
       "    <tr>\n",
       "      <th>352364</th>\n",
       "      <td>750</td>\n",
       "      <td>sedan</td>\n",
       "      <td>1993</td>\n",
       "      <td>manual</td>\n",
       "      <td>0</td>\n",
       "      <td>golf</td>\n",
       "      <td>150000</td>\n",
       "      <td>0</td>\n",
       "      <td>petrol</td>\n",
       "      <td>volkswagen</td>\n",
       "      <td>NaN</td>\n",
       "      <td>0</td>\n",
       "      <td>23562</td>\n",
       "      <td>8</td>\n",
       "    </tr>\n",
       "    <tr>\n",
       "      <th>352734</th>\n",
       "      <td>900</td>\n",
       "      <td>small</td>\n",
       "      <td>1993</td>\n",
       "      <td>manual</td>\n",
       "      <td>60</td>\n",
       "      <td>golf</td>\n",
       "      <td>125000</td>\n",
       "      <td>8</td>\n",
       "      <td>petrol</td>\n",
       "      <td>volkswagen</td>\n",
       "      <td>no</td>\n",
       "      <td>0</td>\n",
       "      <td>44359</td>\n",
       "      <td>3</td>\n",
       "    </tr>\n",
       "    <tr>\n",
       "      <th>352866</th>\n",
       "      <td>250</td>\n",
       "      <td>sedan</td>\n",
       "      <td>1993</td>\n",
       "      <td>manual</td>\n",
       "      <td>60</td>\n",
       "      <td>golf</td>\n",
       "      <td>150000</td>\n",
       "      <td>3</td>\n",
       "      <td>petrol</td>\n",
       "      <td>volkswagen</td>\n",
       "      <td>no</td>\n",
       "      <td>0</td>\n",
       "      <td>31712</td>\n",
       "      <td>6</td>\n",
       "    </tr>\n",
       "    <tr>\n",
       "      <th>354047</th>\n",
       "      <td>1000</td>\n",
       "      <td>sedan</td>\n",
       "      <td>1993</td>\n",
       "      <td>manual</td>\n",
       "      <td>75</td>\n",
       "      <td>golf</td>\n",
       "      <td>150000</td>\n",
       "      <td>2</td>\n",
       "      <td>petrol</td>\n",
       "      <td>volkswagen</td>\n",
       "      <td>no</td>\n",
       "      <td>0</td>\n",
       "      <td>35767</td>\n",
       "      <td>2</td>\n",
       "    </tr>\n",
       "    <tr>\n",
       "      <th>354204</th>\n",
       "      <td>250</td>\n",
       "      <td>wagon</td>\n",
       "      <td>1993</td>\n",
       "      <td>manual</td>\n",
       "      <td>75</td>\n",
       "      <td>golf</td>\n",
       "      <td>150000</td>\n",
       "      <td>0</td>\n",
       "      <td>petrol</td>\n",
       "      <td>volkswagen</td>\n",
       "      <td>no</td>\n",
       "      <td>0</td>\n",
       "      <td>91359</td>\n",
       "      <td>0</td>\n",
       "    </tr>\n",
       "  </tbody>\n",
       "</table>\n",
       "<p>549 rows × 14 columns</p>\n",
       "</div>"
      ],
      "text/plain": [
       "        Price VehicleType  RegistrationYear Gearbox  Power Model  Kilometer  \\\n",
       "0         480         NaN              1993  manual      0  golf     150000   \n",
       "158       800       sedan              1993  manual      0  golf      10000   \n",
       "253       300       small              1993  manual     90  golf     150000   \n",
       "2117      270       small              1993  manual     75  golf     150000   \n",
       "2881      650       sedan              1993    auto     75  golf     150000   \n",
       "...       ...         ...               ...     ...    ...   ...        ...   \n",
       "352364    750       sedan              1993  manual      0  golf     150000   \n",
       "352734    900       small              1993  manual     60  golf     125000   \n",
       "352866    250       sedan              1993  manual     60  golf     150000   \n",
       "354047   1000       sedan              1993  manual     75  golf     150000   \n",
       "354204    250       wagon              1993  manual     75  golf     150000   \n",
       "\n",
       "        RegistrationMonth FuelType       Brand NotRepaired  NumberOfPictures  \\\n",
       "0                       0   petrol  volkswagen         NaN                 0   \n",
       "158                     9   petrol  volkswagen         yes                 0   \n",
       "253                     8   petrol  volkswagen         NaN                 0   \n",
       "2117                    4   petrol  volkswagen          no                 0   \n",
       "2881                    3   petrol  volkswagen          no                 0   \n",
       "...                   ...      ...         ...         ...               ...   \n",
       "352364                  0   petrol  volkswagen         NaN                 0   \n",
       "352734                  8   petrol  volkswagen          no                 0   \n",
       "352866                  3   petrol  volkswagen          no                 0   \n",
       "354047                  2   petrol  volkswagen          no                 0   \n",
       "354204                  0   petrol  volkswagen          no                 0   \n",
       "\n",
       "        PostalCode  Actuality  \n",
       "0            70435         14  \n",
       "158          65929          6  \n",
       "253          27412         10  \n",
       "2117         49152          2  \n",
       "2881         84186         22  \n",
       "...            ...        ...  \n",
       "352364       23562          8  \n",
       "352734       44359          3  \n",
       "352866       31712          6  \n",
       "354047       35767          2  \n",
       "354204       91359          0  \n",
       "\n",
       "[549 rows x 14 columns]"
      ]
     },
     "execution_count": 8,
     "metadata": {},
     "output_type": "execute_result"
    }
   ],
   "source": [
    "# нули в Power\n",
    "df.query('Model == \"golf\" & RegistrationYear == 1993')"
   ]
  },
  {
   "cell_type": "code",
   "execution_count": 9,
   "metadata": {
    "scrolled": true
   },
   "outputs": [
    {
     "data": {
      "text/plain": [
       "20000"
      ]
     },
     "execution_count": 9,
     "metadata": {},
     "output_type": "execute_result"
    }
   ],
   "source": [
    "#выбросы\n",
    "df['Power'].max()"
   ]
  },
  {
   "cell_type": "markdown",
   "metadata": {},
   "source": [
    "Беглый поиск рейтинга самых мощных автомобилей указал, что рекордсменом является двигатель мощностью чуть более 1900 л.с., поэтому справедливо считать значения больше 2000 однозначными выбросами"
   ]
  },
  {
   "cell_type": "code",
   "execution_count": 10,
   "metadata": {},
   "outputs": [],
   "source": [
    "df = df.query('Power < 2000')\n",
    "golf_1993 = df.query('Model == \"golf\" & RegistrationYear == 1993')"
   ]
  },
  {
   "cell_type": "markdown",
   "metadata": {},
   "source": [
    "От аномально больших значений избавиться получилось быстро, с нулями история чуть дольше"
   ]
  },
  {
   "cell_type": "code",
   "execution_count": 11,
   "metadata": {},
   "outputs": [],
   "source": [
    "df.loc[df['Power'] == 0, ['Power']] = np.nan # превратим нули в пропуски"
   ]
  },
  {
   "cell_type": "code",
   "execution_count": 12,
   "metadata": {
    "scrolled": true
   },
   "outputs": [
    {
     "data": {
      "text/html": [
       "<div>\n",
       "<style scoped>\n",
       "    .dataframe tbody tr th:only-of-type {\n",
       "        vertical-align: middle;\n",
       "    }\n",
       "\n",
       "    .dataframe tbody tr th {\n",
       "        vertical-align: top;\n",
       "    }\n",
       "\n",
       "    .dataframe thead th {\n",
       "        text-align: right;\n",
       "    }\n",
       "</style>\n",
       "<table border=\"1\" class=\"dataframe\">\n",
       "  <thead>\n",
       "    <tr style=\"text-align: right;\">\n",
       "      <th></th>\n",
       "      <th>Price</th>\n",
       "      <th>VehicleType</th>\n",
       "      <th>RegistrationYear</th>\n",
       "      <th>Gearbox</th>\n",
       "      <th>Power</th>\n",
       "      <th>Model</th>\n",
       "      <th>Kilometer</th>\n",
       "      <th>RegistrationMonth</th>\n",
       "      <th>FuelType</th>\n",
       "      <th>Brand</th>\n",
       "      <th>NotRepaired</th>\n",
       "      <th>NumberOfPictures</th>\n",
       "      <th>PostalCode</th>\n",
       "      <th>Actuality</th>\n",
       "    </tr>\n",
       "  </thead>\n",
       "  <tbody>\n",
       "    <tr>\n",
       "      <th>115</th>\n",
       "      <td>0</td>\n",
       "      <td>small</td>\n",
       "      <td>1999</td>\n",
       "      <td>NaN</td>\n",
       "      <td>NaN</td>\n",
       "      <td>NaN</td>\n",
       "      <td>5000</td>\n",
       "      <td>0</td>\n",
       "      <td>petrol</td>\n",
       "      <td>volkswagen</td>\n",
       "      <td>NaN</td>\n",
       "      <td>0</td>\n",
       "      <td>37520</td>\n",
       "      <td>18</td>\n",
       "    </tr>\n",
       "    <tr>\n",
       "      <th>160</th>\n",
       "      <td>500</td>\n",
       "      <td>small</td>\n",
       "      <td>1999</td>\n",
       "      <td>manual</td>\n",
       "      <td>NaN</td>\n",
       "      <td>NaN</td>\n",
       "      <td>150000</td>\n",
       "      <td>0</td>\n",
       "      <td>petrol</td>\n",
       "      <td>renault</td>\n",
       "      <td>no</td>\n",
       "      <td>0</td>\n",
       "      <td>26969</td>\n",
       "      <td>13</td>\n",
       "    </tr>\n",
       "    <tr>\n",
       "      <th>260</th>\n",
       "      <td>450</td>\n",
       "      <td>NaN</td>\n",
       "      <td>2016</td>\n",
       "      <td>manual</td>\n",
       "      <td>NaN</td>\n",
       "      <td>NaN</td>\n",
       "      <td>150000</td>\n",
       "      <td>3</td>\n",
       "      <td>petrol</td>\n",
       "      <td>mitsubishi</td>\n",
       "      <td>no</td>\n",
       "      <td>0</td>\n",
       "      <td>59302</td>\n",
       "      <td>2</td>\n",
       "    </tr>\n",
       "    <tr>\n",
       "      <th>306</th>\n",
       "      <td>200</td>\n",
       "      <td>NaN</td>\n",
       "      <td>2009</td>\n",
       "      <td>NaN</td>\n",
       "      <td>NaN</td>\n",
       "      <td>NaN</td>\n",
       "      <td>10000</td>\n",
       "      <td>0</td>\n",
       "      <td>NaN</td>\n",
       "      <td>sonstige_autos</td>\n",
       "      <td>NaN</td>\n",
       "      <td>0</td>\n",
       "      <td>6493</td>\n",
       "      <td>3</td>\n",
       "    </tr>\n",
       "    <tr>\n",
       "      <th>308</th>\n",
       "      <td>1600</td>\n",
       "      <td>wagon</td>\n",
       "      <td>1999</td>\n",
       "      <td>manual</td>\n",
       "      <td>NaN</td>\n",
       "      <td>NaN</td>\n",
       "      <td>150000</td>\n",
       "      <td>6</td>\n",
       "      <td>petrol</td>\n",
       "      <td>bmw</td>\n",
       "      <td>no</td>\n",
       "      <td>0</td>\n",
       "      <td>41199</td>\n",
       "      <td>15</td>\n",
       "    </tr>\n",
       "  </tbody>\n",
       "</table>\n",
       "</div>"
      ],
      "text/plain": [
       "     Price VehicleType  RegistrationYear Gearbox  Power Model  Kilometer  \\\n",
       "115      0       small              1999     NaN    NaN   NaN       5000   \n",
       "160    500       small              1999  manual    NaN   NaN     150000   \n",
       "260    450         NaN              2016  manual    NaN   NaN     150000   \n",
       "306    200         NaN              2009     NaN    NaN   NaN      10000   \n",
       "308   1600       wagon              1999  manual    NaN   NaN     150000   \n",
       "\n",
       "     RegistrationMonth FuelType           Brand NotRepaired  NumberOfPictures  \\\n",
       "115                  0   petrol      volkswagen         NaN                 0   \n",
       "160                  0   petrol         renault          no                 0   \n",
       "260                  3   petrol      mitsubishi          no                 0   \n",
       "306                  0      NaN  sonstige_autos         NaN                 0   \n",
       "308                  6   petrol             bmw          no                 0   \n",
       "\n",
       "     PostalCode  Actuality  \n",
       "115       37520         18  \n",
       "160       26969         13  \n",
       "260       59302          2  \n",
       "306        6493          3  \n",
       "308       41199         15  "
      ]
     },
     "execution_count": 12,
     "metadata": {},
     "output_type": "execute_result"
    }
   ],
   "source": [
    "df['Power'] = np.where(df['Power'].isnull(), df['Model'].map(df.groupby('Model')['Power'].mean()), df['Power'])\n",
    "                                                                                   \n",
    "df.loc[df['Power'].isnull()].head() # пропусков стало примерно в два раза меньше                                                                           "
   ]
  },
  {
   "cell_type": "code",
   "execution_count": 13,
   "metadata": {
    "scrolled": false
   },
   "outputs": [
    {
     "data": {
      "text/html": [
       "<div>\n",
       "<style scoped>\n",
       "    .dataframe tbody tr th:only-of-type {\n",
       "        vertical-align: middle;\n",
       "    }\n",
       "\n",
       "    .dataframe tbody tr th {\n",
       "        vertical-align: top;\n",
       "    }\n",
       "\n",
       "    .dataframe thead th {\n",
       "        text-align: right;\n",
       "    }\n",
       "</style>\n",
       "<table border=\"1\" class=\"dataframe\">\n",
       "  <thead>\n",
       "    <tr style=\"text-align: right;\">\n",
       "      <th></th>\n",
       "      <th>Price</th>\n",
       "      <th>VehicleType</th>\n",
       "      <th>RegistrationYear</th>\n",
       "      <th>Gearbox</th>\n",
       "      <th>Power</th>\n",
       "      <th>Model</th>\n",
       "      <th>Kilometer</th>\n",
       "      <th>RegistrationMonth</th>\n",
       "      <th>FuelType</th>\n",
       "      <th>Brand</th>\n",
       "      <th>NotRepaired</th>\n",
       "      <th>NumberOfPictures</th>\n",
       "      <th>PostalCode</th>\n",
       "      <th>Actuality</th>\n",
       "    </tr>\n",
       "  </thead>\n",
       "  <tbody>\n",
       "  </tbody>\n",
       "</table>\n",
       "</div>"
      ],
      "text/plain": [
       "Empty DataFrame\n",
       "Columns: [Price, VehicleType, RegistrationYear, Gearbox, Power, Model, Kilometer, RegistrationMonth, FuelType, Brand, NotRepaired, NumberOfPictures, PostalCode, Actuality]\n",
       "Index: []"
      ]
     },
     "execution_count": 13,
     "metadata": {},
     "output_type": "execute_result"
    }
   ],
   "source": [
    "# заполним оставшиеся средним по типу кузова\n",
    "df['Power'] = np.where(df['Power'].isnull(), df['VehicleType'].map(df.groupby('VehicleType')['Power'].mean()), df['Power'])\n",
    "df.loc[df['Power'].isnull()]\n",
    "# отлично, осталось 6 тысяч\n",
    "# ну можно ещё по бренду производителя заполнить\n",
    "df['Power'] = np.where(df['Power'].isnull(), df['Brand'].map(df.groupby('Brand')['Power'].mean()), df['Power'])\n",
    "df.loc[df['Power'].isnull()]"
   ]
  },
  {
   "cell_type": "code",
   "execution_count": 14,
   "metadata": {},
   "outputs": [],
   "source": [
    "df['Power'] = df['Power'].apply(round)"
   ]
  },
  {
   "cell_type": "markdown",
   "metadata": {},
   "source": [
    "Вот теперь получилось совсем избавиться от пропусков в этом столбце"
   ]
  },
  {
   "cell_type": "markdown",
   "metadata": {},
   "source": [
    "<div class=\"alert alert-block alert-info\">\n",
    "\n",
    "<b>Совет:</b> Как думаешь а машины с 0-ой мощностью могут быть просто без двигателя? "
   ]
  },
  {
   "cell_type": "markdown",
   "metadata": {},
   "source": [
    "<div class=\"alert alert-block alert-info\">\n",
    "\n",
    "<b>Комментарий студента:</b> Они конечно могут быть без двигателя, но заметной разницы в стоимости машин с нулевой и ненулевой мощностью не было, смотри:"
   ]
  },
  {
   "cell_type": "code",
   "execution_count": 15,
   "metadata": {},
   "outputs": [
    {
     "data": {
      "text/plain": [
       "<matplotlib.collections.PathCollection at 0x220ef0c3f70>"
      ]
     },
     "execution_count": 15,
     "metadata": {},
     "output_type": "execute_result"
    },
    {
     "data": {
      "image/png": "[encoded data removed]",
      "text/plain": [
       "<Figure size 432x288 with 1 Axes>"
      ]
     },
     "metadata": {
      "needs_background": "light"
     },
     "output_type": "display_data"
    }
   ],
   "source": [
    "plt.scatter(golf_1993['Power'], golf_1993['Price'])"
   ]
  },
  {
   "cell_type": "code",
   "execution_count": 16,
   "metadata": {
    "scrolled": true
   },
   "outputs": [
    {
     "name": "stdout",
     "output_type": "stream",
     "text": [
      "<class 'pandas.core.frame.DataFrame'>\n",
      "Int64Index: 329969 entries, 0 to 354368\n",
      "Data columns (total 14 columns):\n",
      " #   Column             Non-Null Count   Dtype \n",
      "---  ------             --------------   ----- \n",
      " 0   Price              329969 non-null  int64 \n",
      " 1   VehicleType        316535 non-null  object\n",
      " 2   RegistrationYear   329969 non-null  int64 \n",
      " 3   Gearbox            313473 non-null  object\n",
      " 4   Power              329969 non-null  int64 \n",
      " 5   Model              313728 non-null  object\n",
      " 6   Kilometer          329969 non-null  int64 \n",
      " 7   RegistrationMonth  329969 non-null  int64 \n",
      " 8   FuelType           306498 non-null  object\n",
      " 9   Brand              329969 non-null  object\n",
      " 10  NotRepaired        269724 non-null  object\n",
      " 11  NumberOfPictures   329969 non-null  int64 \n",
      " 12  PostalCode         329969 non-null  int64 \n",
      " 13  Actuality          329969 non-null  int32 \n",
      "dtypes: int32(1), int64(7), object(6)\n",
      "memory usage: 36.5+ MB\n"
     ]
    }
   ],
   "source": [
    "# год регистрации\n",
    "df['RegistrationYear'].value_counts().tail(75)\n",
    "df = df.query('RegistrationYear > 1910 & RegistrationYear < 2016')\n",
    "df.info()"
   ]
  },
  {
   "cell_type": "markdown",
   "metadata": {},
   "source": [
    "<div class=\"alert alert-block alert-info\">\n",
    "    \n",
    "<b>Совет:</b> Если судить по дате выгрузки базы, или по дате последней активности пользователя, то машины у нас не могут быть младше 2016 года"
   ]
  },
  {
   "cell_type": "markdown",
   "metadata": {},
   "source": [
    "<div class=\"alert alert-block alert-info\">\n",
    "\n",
    "<b>Комментарий студента:</b> Исправила"
   ]
  },
  {
   "cell_type": "code",
   "execution_count": 17,
   "metadata": {},
   "outputs": [
    {
     "name": "stdout",
     "output_type": "stream",
     "text": [
      "Series([], dtype: int64)\n"
     ]
    }
   ],
   "source": [
    "# NotRepaired - важный столбец, но пропуски в нем нужно заполнить значением \"unknown\"\n",
    "cols = ['VehicleType', 'Gearbox', 'Model', 'NotRepaired', 'FuelType']\n",
    "for col in cols:\n",
    "    df[col] = df[col].fillna(\"unknown\")\n",
    "df.head()\n",
    "print(count_missing(df))"
   ]
  },
  {
   "cell_type": "markdown",
   "metadata": {},
   "source": [
    "<div class=\"alert alert-block alert-success\">\n",
    "\n",
    "<b>Успех:</b> Пропуски обработаны допустимым способом"
   ]
  },
  {
   "cell_type": "code",
   "execution_count": 18,
   "metadata": {},
   "outputs": [],
   "source": [
    "# нули в RegistrationMonth можно не трогать\n",
    "# df.loc[df['RegistrationMonth'] == 0]"
   ]
  },
  {
   "cell_type": "code",
   "execution_count": 19,
   "metadata": {},
   "outputs": [],
   "source": [
    "# OHE\n",
    "df_ohe = pd.get_dummies(df, drop_first=True)"
   ]
  },
  {
   "cell_type": "markdown",
   "metadata": {},
   "source": [
    "<div class=\"alert alert-block alert-success\">\n",
    "\n",
    "<b>Успех:</b> OHE - применен корректно"
   ]
  },
  {
   "cell_type": "markdown",
   "metadata": {},
   "source": [
    "Дата и время приведены к числовому формату - создан новый столбец - актуальность, нули в столбце Power заполнены средними значениями для модели машины, затем для неизвестных моделей машины - средним по типу кузова, затем оставшиеся 6000 пропусков - средним по бренду производителя. Удалены очевидные выбросы в столбце 'RegistrationYear'. Пропуски в столбцах 'VehicleType', 'Gearbox', 'Model', 'NotRepaired' заполнены значением 'unknown'. Нули в столбце 'RegistrationMonth' решено не трогать, т.к. возможно отсчет месяцев вёлся с нуля. Применено прямое кодирование, т.к. линейная регрессия не работает с порядковым кодированием"
   ]
  },
  {
   "cell_type": "markdown",
   "metadata": {},
   "source": [
    "<div class=\"alert alert-block alert-info\">\n",
    "\n",
    "<b>Совет:</b> Также хорошо было бы проанализровать подозрительные значения в колонке price "
   ]
  },
  {
   "cell_type": "markdown",
   "metadata": {},
   "source": [
    "<div class=\"alert alert-block alert-info\">\n",
    "\n",
    "<b>Комментарий студента:</b> Хорошо"
   ]
  },
  {
   "cell_type": "code",
   "execution_count": 20,
   "metadata": {
    "scrolled": true
   },
   "outputs": [
    {
     "data": {
      "text/plain": [
       "<AxesSubplot:>"
      ]
     },
     "execution_count": 20,
     "metadata": {},
     "output_type": "execute_result"
    },
    {
     "data": {
      "image/png": "[encoded data removed]",
      "text/plain": [
       "<Figure size 432x288 with 1 Axes>"
      ]
     },
     "metadata": {
      "needs_background": "light"
     },
     "output_type": "display_data"
    }
   ],
   "source": [
    "df['Price'].hist(bins=200)"
   ]
  },
  {
   "cell_type": "code",
   "execution_count": 21,
   "metadata": {
    "scrolled": false
   },
   "outputs": [
    {
     "data": {
      "text/html": [
       "<div>\n",
       "<style scoped>\n",
       "    .dataframe tbody tr th:only-of-type {\n",
       "        vertical-align: middle;\n",
       "    }\n",
       "\n",
       "    .dataframe tbody tr th {\n",
       "        vertical-align: top;\n",
       "    }\n",
       "\n",
       "    .dataframe thead th {\n",
       "        text-align: right;\n",
       "    }\n",
       "</style>\n",
       "<table border=\"1\" class=\"dataframe\">\n",
       "  <thead>\n",
       "    <tr style=\"text-align: right;\">\n",
       "      <th></th>\n",
       "      <th>Price</th>\n",
       "      <th>VehicleType</th>\n",
       "      <th>RegistrationYear</th>\n",
       "      <th>Gearbox</th>\n",
       "      <th>Power</th>\n",
       "      <th>Model</th>\n",
       "      <th>Kilometer</th>\n",
       "      <th>RegistrationMonth</th>\n",
       "      <th>FuelType</th>\n",
       "      <th>Brand</th>\n",
       "      <th>NotRepaired</th>\n",
       "      <th>NumberOfPictures</th>\n",
       "      <th>PostalCode</th>\n",
       "      <th>Actuality</th>\n",
       "    </tr>\n",
       "  </thead>\n",
       "  <tbody>\n",
       "    <tr>\n",
       "      <th>7</th>\n",
       "      <td>0</td>\n",
       "      <td>sedan</td>\n",
       "      <td>1980</td>\n",
       "      <td>manual</td>\n",
       "      <td>50</td>\n",
       "      <td>other</td>\n",
       "      <td>40000</td>\n",
       "      <td>7</td>\n",
       "      <td>petrol</td>\n",
       "      <td>volkswagen</td>\n",
       "      <td>no</td>\n",
       "      <td>0</td>\n",
       "      <td>19348</td>\n",
       "      <td>4</td>\n",
       "    </tr>\n",
       "    <tr>\n",
       "      <th>40</th>\n",
       "      <td>0</td>\n",
       "      <td>unknown</td>\n",
       "      <td>1990</td>\n",
       "      <td>unknown</td>\n",
       "      <td>68</td>\n",
       "      <td>corsa</td>\n",
       "      <td>150000</td>\n",
       "      <td>1</td>\n",
       "      <td>petrol</td>\n",
       "      <td>opel</td>\n",
       "      <td>unknown</td>\n",
       "      <td>0</td>\n",
       "      <td>56412</td>\n",
       "      <td>1</td>\n",
       "    </tr>\n",
       "    <tr>\n",
       "      <th>115</th>\n",
       "      <td>0</td>\n",
       "      <td>small</td>\n",
       "      <td>1999</td>\n",
       "      <td>unknown</td>\n",
       "      <td>74</td>\n",
       "      <td>unknown</td>\n",
       "      <td>5000</td>\n",
       "      <td>0</td>\n",
       "      <td>petrol</td>\n",
       "      <td>volkswagen</td>\n",
       "      <td>unknown</td>\n",
       "      <td>0</td>\n",
       "      <td>37520</td>\n",
       "      <td>18</td>\n",
       "    </tr>\n",
       "    <tr>\n",
       "      <th>152</th>\n",
       "      <td>0</td>\n",
       "      <td>bus</td>\n",
       "      <td>2004</td>\n",
       "      <td>manual</td>\n",
       "      <td>101</td>\n",
       "      <td>meriva</td>\n",
       "      <td>150000</td>\n",
       "      <td>10</td>\n",
       "      <td>lpg</td>\n",
       "      <td>opel</td>\n",
       "      <td>yes</td>\n",
       "      <td>0</td>\n",
       "      <td>27432</td>\n",
       "      <td>1</td>\n",
       "    </tr>\n",
       "    <tr>\n",
       "      <th>154</th>\n",
       "      <td>0</td>\n",
       "      <td>unknown</td>\n",
       "      <td>2006</td>\n",
       "      <td>unknown</td>\n",
       "      <td>129</td>\n",
       "      <td>other</td>\n",
       "      <td>5000</td>\n",
       "      <td>0</td>\n",
       "      <td>unknown</td>\n",
       "      <td>fiat</td>\n",
       "      <td>unknown</td>\n",
       "      <td>0</td>\n",
       "      <td>44867</td>\n",
       "      <td>15</td>\n",
       "    </tr>\n",
       "    <tr>\n",
       "      <th>...</th>\n",
       "      <td>...</td>\n",
       "      <td>...</td>\n",
       "      <td>...</td>\n",
       "      <td>...</td>\n",
       "      <td>...</td>\n",
       "      <td>...</td>\n",
       "      <td>...</td>\n",
       "      <td>...</td>\n",
       "      <td>...</td>\n",
       "      <td>...</td>\n",
       "      <td>...</td>\n",
       "      <td>...</td>\n",
       "      <td>...</td>\n",
       "      <td>...</td>\n",
       "    </tr>\n",
       "    <tr>\n",
       "      <th>354205</th>\n",
       "      <td>0</td>\n",
       "      <td>unknown</td>\n",
       "      <td>2000</td>\n",
       "      <td>manual</td>\n",
       "      <td>65</td>\n",
       "      <td>corsa</td>\n",
       "      <td>150000</td>\n",
       "      <td>0</td>\n",
       "      <td>unknown</td>\n",
       "      <td>opel</td>\n",
       "      <td>yes</td>\n",
       "      <td>0</td>\n",
       "      <td>23758</td>\n",
       "      <td>21</td>\n",
       "    </tr>\n",
       "    <tr>\n",
       "      <th>354238</th>\n",
       "      <td>0</td>\n",
       "      <td>small</td>\n",
       "      <td>2002</td>\n",
       "      <td>manual</td>\n",
       "      <td>60</td>\n",
       "      <td>fiesta</td>\n",
       "      <td>150000</td>\n",
       "      <td>3</td>\n",
       "      <td>petrol</td>\n",
       "      <td>ford</td>\n",
       "      <td>unknown</td>\n",
       "      <td>0</td>\n",
       "      <td>33659</td>\n",
       "      <td>17</td>\n",
       "    </tr>\n",
       "    <tr>\n",
       "      <th>354248</th>\n",
       "      <td>0</td>\n",
       "      <td>small</td>\n",
       "      <td>1999</td>\n",
       "      <td>manual</td>\n",
       "      <td>53</td>\n",
       "      <td>swift</td>\n",
       "      <td>150000</td>\n",
       "      <td>3</td>\n",
       "      <td>petrol</td>\n",
       "      <td>suzuki</td>\n",
       "      <td>unknown</td>\n",
       "      <td>0</td>\n",
       "      <td>42329</td>\n",
       "      <td>14</td>\n",
       "    </tr>\n",
       "    <tr>\n",
       "      <th>354277</th>\n",
       "      <td>0</td>\n",
       "      <td>small</td>\n",
       "      <td>1999</td>\n",
       "      <td>manual</td>\n",
       "      <td>37</td>\n",
       "      <td>arosa</td>\n",
       "      <td>150000</td>\n",
       "      <td>7</td>\n",
       "      <td>petrol</td>\n",
       "      <td>seat</td>\n",
       "      <td>yes</td>\n",
       "      <td>0</td>\n",
       "      <td>22559</td>\n",
       "      <td>2</td>\n",
       "    </tr>\n",
       "    <tr>\n",
       "      <th>354364</th>\n",
       "      <td>0</td>\n",
       "      <td>unknown</td>\n",
       "      <td>2005</td>\n",
       "      <td>manual</td>\n",
       "      <td>88</td>\n",
       "      <td>colt</td>\n",
       "      <td>150000</td>\n",
       "      <td>7</td>\n",
       "      <td>petrol</td>\n",
       "      <td>mitsubishi</td>\n",
       "      <td>yes</td>\n",
       "      <td>0</td>\n",
       "      <td>2694</td>\n",
       "      <td>0</td>\n",
       "    </tr>\n",
       "  </tbody>\n",
       "</table>\n",
       "<p>9326 rows × 14 columns</p>\n",
       "</div>"
      ],
      "text/plain": [
       "        Price VehicleType  RegistrationYear  Gearbox  Power    Model  \\\n",
       "7           0       sedan              1980   manual     50    other   \n",
       "40          0     unknown              1990  unknown     68    corsa   \n",
       "115         0       small              1999  unknown     74  unknown   \n",
       "152         0         bus              2004   manual    101   meriva   \n",
       "154         0     unknown              2006  unknown    129    other   \n",
       "...       ...         ...               ...      ...    ...      ...   \n",
       "354205      0     unknown              2000   manual     65    corsa   \n",
       "354238      0       small              2002   manual     60   fiesta   \n",
       "354248      0       small              1999   manual     53    swift   \n",
       "354277      0       small              1999   manual     37    arosa   \n",
       "354364      0     unknown              2005   manual     88     colt   \n",
       "\n",
       "        Kilometer  RegistrationMonth FuelType       Brand NotRepaired  \\\n",
       "7           40000                  7   petrol  volkswagen          no   \n",
       "40         150000                  1   petrol        opel     unknown   \n",
       "115          5000                  0   petrol  volkswagen     unknown   \n",
       "152        150000                 10      lpg        opel         yes   \n",
       "154          5000                  0  unknown        fiat     unknown   \n",
       "...           ...                ...      ...         ...         ...   \n",
       "354205     150000                  0  unknown        opel         yes   \n",
       "354238     150000                  3   petrol        ford     unknown   \n",
       "354248     150000                  3   petrol      suzuki     unknown   \n",
       "354277     150000                  7   petrol        seat         yes   \n",
       "354364     150000                  7   petrol  mitsubishi         yes   \n",
       "\n",
       "        NumberOfPictures  PostalCode  Actuality  \n",
       "7                      0       19348          4  \n",
       "40                     0       56412          1  \n",
       "115                    0       37520         18  \n",
       "152                    0       27432          1  \n",
       "154                    0       44867         15  \n",
       "...                  ...         ...        ...  \n",
       "354205                 0       23758         21  \n",
       "354238                 0       33659         17  \n",
       "354248                 0       42329         14  \n",
       "354277                 0       22559          2  \n",
       "354364                 0        2694          0  \n",
       "\n",
       "[9326 rows x 14 columns]"
      ]
     },
     "execution_count": 21,
     "metadata": {},
     "output_type": "execute_result"
    }
   ],
   "source": [
    "# нули в столбце 'Price'\n",
    "df.loc[df['Price'] == 0]"
   ]
  },
  {
   "cell_type": "code",
   "execution_count": 22,
   "metadata": {
    "scrolled": true
   },
   "outputs": [
    {
     "data": {
      "text/html": [
       "<div>\n",
       "<style scoped>\n",
       "    .dataframe tbody tr th:only-of-type {\n",
       "        vertical-align: middle;\n",
       "    }\n",
       "\n",
       "    .dataframe tbody tr th {\n",
       "        vertical-align: top;\n",
       "    }\n",
       "\n",
       "    .dataframe thead th {\n",
       "        text-align: right;\n",
       "    }\n",
       "</style>\n",
       "<table border=\"1\" class=\"dataframe\">\n",
       "  <thead>\n",
       "    <tr style=\"text-align: right;\">\n",
       "      <th></th>\n",
       "      <th>Price</th>\n",
       "      <th>VehicleType</th>\n",
       "      <th>RegistrationYear</th>\n",
       "      <th>Gearbox</th>\n",
       "      <th>Power</th>\n",
       "      <th>Model</th>\n",
       "      <th>Kilometer</th>\n",
       "      <th>RegistrationMonth</th>\n",
       "      <th>FuelType</th>\n",
       "      <th>Brand</th>\n",
       "      <th>NotRepaired</th>\n",
       "      <th>NumberOfPictures</th>\n",
       "      <th>PostalCode</th>\n",
       "      <th>Actuality</th>\n",
       "    </tr>\n",
       "  </thead>\n",
       "  <tbody>\n",
       "  </tbody>\n",
       "</table>\n",
       "</div>"
      ],
      "text/plain": [
       "Empty DataFrame\n",
       "Columns: [Price, VehicleType, RegistrationYear, Gearbox, Power, Model, Kilometer, RegistrationMonth, FuelType, Brand, NotRepaired, NumberOfPictures, PostalCode, Actuality]\n",
       "Index: []"
      ]
     },
     "execution_count": 22,
     "metadata": {},
     "output_type": "execute_result"
    }
   ],
   "source": [
    "df.loc[df['Price'] == 0, ['Price']] = np.nan # превратим нули в пропуски\n",
    "df['Price'] = np.where(df['Price'].isnull(), df['Model'].map(df.groupby('Model')['Price'].mean()), df['Price'])\n",
    "                                                                                   \n",
    "df.loc[df['Price'].isnull()].head() # пропуски заполнены                                                                          "
   ]
  },
  {
   "cell_type": "markdown",
   "metadata": {},
   "source": [
    "<div class=\"alert alert-block alert-info\">\n",
    "\n",
    "<b>Комментарий студента:</b> Готово"
   ]
  },
  {
   "cell_type": "code",
   "execution_count": 23,
   "metadata": {
    "scrolled": true
   },
   "outputs": [],
   "source": [
    "# выделение целевого признака\n",
    "target = df['Price']\n",
    "features = df.drop(['Price'], axis=1)"
   ]
  },
  {
   "cell_type": "code",
   "execution_count": 24,
   "metadata": {},
   "outputs": [],
   "source": [
    "# разделение на тестовую и тренировочную выборки\n",
    "features_train, features_test, target_train, target_test = train_test_split(\n",
    "    features, target, test_size=0.4, random_state=12345)"
   ]
  },
  {
   "cell_type": "code",
   "execution_count": 25,
   "metadata": {},
   "outputs": [],
   "source": [
    "# закодированные категориальные признаки помечены цифрой 1\n",
    "# выделение целевого признака\n",
    "# разделение на тестовую и тренировочную выборки\n",
    "target_ohe = df_ohe['Price']\n",
    "features_ohe = df_ohe.drop(['Price'], axis=1)\n",
    "features_train1, features_test1, target_train1, target_test1 = train_test_split(\n",
    "    features_ohe, target_ohe, test_size=0.4, random_state=12345)"
   ]
  },
  {
   "cell_type": "markdown",
   "metadata": {},
   "source": [
    "## Обучение моделей"
   ]
  },
  {
   "cell_type": "code",
   "execution_count": 26,
   "metadata": {},
   "outputs": [
    {
     "name": "stdout",
     "output_type": "stream",
     "text": [
      "Wall time: 11.1 s\n"
     ]
    },
    {
     "data": {
      "text/plain": [
       "LinearRegression()"
      ]
     },
     "execution_count": 26,
     "metadata": {},
     "output_type": "execute_result"
    }
   ],
   "source": [
    "%%time\n",
    "# линейная регрессия\n",
    "model = LinearRegression() # инициализация модели\n",
    "model.fit(features_train1, target_train1) # обучение модели на тренировочной выборке"
   ]
  },
  {
   "cell_type": "code",
   "execution_count": 27,
   "metadata": {},
   "outputs": [
    {
     "data": {
      "image/png": "[encoded data removed]",
      "text/plain": [
       "<Figure size 648x504 with 1 Axes>"
      ]
     },
     "metadata": {
      "needs_background": "light"
     },
     "output_type": "display_data"
    }
   ],
   "source": [
    "coefs = pd.DataFrame(\n",
    "   model.coef_,\n",
    "   columns=['Coefficients'], index=features_train1.columns\n",
    ")\n",
    "\n",
    "coefs.plot(kind='barh', figsize=(9, 7))\n",
    "plt.title('Ridge model')\n",
    "plt.axvline(x=0, color='.5')\n",
    "plt.subplots_adjust(left=.3)\n"
   ]
  },
  {
   "cell_type": "code",
   "execution_count": 28,
   "metadata": {},
   "outputs": [
    {
     "name": "stdout",
     "output_type": "stream",
     "text": [
      "RMSE = 2766.8207489249016\n",
      "Wall time: 660 ms\n"
     ]
    }
   ],
   "source": [
    "%%time\n",
    "# линейная регрессия\n",
    "predictions = model.predict(features_test1) # предсказания модели на тестовой выборке\n",
    "mse = mean_squared_error(target_test1, predictions)\n",
    "print(\"RMSE =\", mse ** 0.5)"
   ]
  },
  {
   "cell_type": "code",
   "execution_count": 29,
   "metadata": {
    "scrolled": true
   },
   "outputs": [
    {
     "name": "stdout",
     "output_type": "stream",
     "text": [
      "Wall time: 18.4 s\n"
     ]
    },
    {
     "data": {
      "text/plain": [
       "DecisionTreeRegressor()"
      ]
     },
     "execution_count": 29,
     "metadata": {},
     "output_type": "execute_result"
    }
   ],
   "source": [
    "%%time\n",
    "#DecisionTreeRegressor\n",
    "model = DecisionTreeRegressor()\n",
    "model.fit(features_train1, target_train1) # обучение модели на тренировочной выборке"
   ]
  },
  {
   "cell_type": "code",
   "execution_count": 32,
   "metadata": {},
   "outputs": [
    {
     "name": "stdout",
     "output_type": "stream",
     "text": [
      "RMSE = 2279.084204071332\n",
      "Wall time: 897 ms\n"
     ]
    }
   ],
   "source": [
    "%%time\n",
    "#DecisionTreeRegressor\n",
    "predictions = model.predict(features_test1) # предсказания модели на тестовой выборке\n",
    "mse = mean_squared_error(target_test1, predictions)\n",
    "print(\"RMSE =\", mse ** 0.5)"
   ]
  },
  {
   "cell_type": "code",
   "execution_count": 33,
   "metadata": {},
   "outputs": [
    {
     "name": "stdout",
     "output_type": "stream",
     "text": [
      "Learning rate set to 0.349389\n",
      "0:\tlearn: 3536.0348338\ttotal: 795ms\tremaining: 2m 38s\n",
      "30:\tlearn: 1782.6255459\ttotal: 13.3s\tremaining: 1m 12s\n",
      "60:\tlearn: 1700.4297417\ttotal: 26.3s\tremaining: 59.9s\n",
      "90:\tlearn: 1660.7346091\ttotal: 37.9s\tremaining: 45.4s\n",
      "120:\tlearn: 1635.1680651\ttotal: 51.3s\tremaining: 33.5s\n",
      "150:\tlearn: 1612.8779656\ttotal: 1m 2s\tremaining: 20.4s\n",
      "180:\tlearn: 1594.7045208\ttotal: 1m 15s\tremaining: 7.89s\n",
      "199:\tlearn: 1583.8562420\ttotal: 1m 22s\tremaining: 0us\n",
      "Wall time: 1min 24s\n"
     ]
    },
    {
     "data": {
      "text/plain": [
       "<catboost.core.CatBoostRegressor at 0x220952f6730>"
      ]
     },
     "execution_count": 33,
     "metadata": {},
     "output_type": "execute_result"
    }
   ],
   "source": [
    "%%time\n",
    "#cat boost\n",
    "cat_features = ['VehicleType', 'Gearbox', 'Model', 'FuelType', 'Brand', 'NotRepaired']\n",
    "model = CatBoostRegressor(loss_function='RMSE', iterations=200)\n",
    "model.fit(features_train, target_train, cat_features=cat_features, verbose=30)"
   ]
  },
  {
   "cell_type": "code",
   "execution_count": 36,
   "metadata": {
    "scrolled": false
   },
   "outputs": [
    {
     "data": {
      "image/png": "[encoded data removed]",
      "text/plain": [
       "<Figure size 432x288 with 1 Axes>"
      ]
     },
     "metadata": {
      "needs_background": "light"
     },
     "output_type": "display_data"
    }
   ],
   "source": [
    "importances = model.feature_importances_\n",
    "indices = np.argsort(importances)\n",
    "\n",
    "fig, ax = plt.subplots()\n",
    "ax.barh(range(len(importances)), importances[indices])\n",
    "ax.set_yticks(range(len(importances)))\n",
    "_ = ax.set_yticklabels(np.array(features_train.columns)[indices])"
   ]
  },
  {
   "cell_type": "code",
   "execution_count": 37,
   "metadata": {
    "scrolled": false
   },
   "outputs": [
    {
     "name": "stdout",
     "output_type": "stream",
     "text": [
      "RMSE = 1652.227087249474\n",
      "Wall time: 815 ms\n"
     ]
    }
   ],
   "source": [
    "%%time\n",
    "#cat boost\n",
    "predictions = model.predict(features_test)\n",
    "mse = mean_squared_error(target_test, predictions)\n",
    "print(\"RMSE =\", mse ** 0.5)"
   ]
  },
  {
   "cell_type": "code",
   "execution_count": 38,
   "metadata": {},
   "outputs": [
    {
     "name": "stdout",
     "output_type": "stream",
     "text": [
      "Learning rate set to 0.349389\n",
      "0:\tlearn: 3592.4105924\ttotal: 56.9ms\tremaining: 11.3s\n",
      "30:\tlearn: 1840.3140223\ttotal: 1.4s\tremaining: 7.63s\n",
      "60:\tlearn: 1759.7052494\ttotal: 2.74s\tremaining: 6.24s\n",
      "90:\tlearn: 1710.4061156\ttotal: 4.11s\tremaining: 4.92s\n",
      "120:\tlearn: 1678.1551529\ttotal: 6.22s\tremaining: 4.06s\n",
      "150:\tlearn: 1651.9719130\ttotal: 7.72s\tremaining: 2.5s\n",
      "180:\tlearn: 1631.5796759\ttotal: 9.22s\tremaining: 968ms\n",
      "199:\tlearn: 1621.1862367\ttotal: 10s\tremaining: 0us\n",
      "Wall time: 12 s\n"
     ]
    },
    {
     "data": {
      "text/plain": [
       "<catboost.core.CatBoostRegressor at 0x22094e3fb80>"
      ]
     },
     "execution_count": 38,
     "metadata": {},
     "output_type": "execute_result"
    }
   ],
   "source": [
    "%%time\n",
    "#cat boost c заранее закодированными категориальными переменными\n",
    "model = CatBoostRegressor(loss_function='RMSE', iterations=200) \n",
    "model.fit(features_train1, target_train1, verbose=30)"
   ]
  },
  {
   "cell_type": "code",
   "execution_count": 39,
   "metadata": {},
   "outputs": [
    {
     "name": "stdout",
     "output_type": "stream",
     "text": [
      "RMSE = 1701.2329880847883\n",
      "Wall time: 465 ms\n"
     ]
    }
   ],
   "source": [
    "%%time\n",
    "#cat boost c заранее закодированными категориальными переменными\n",
    "predictions = model.predict(features_test1)\n",
    "mse = mean_squared_error(target_test1, predictions)\n",
    "print(\"RMSE =\", mse ** 0.5)"
   ]
  },
  {
   "cell_type": "code",
   "execution_count": 40,
   "metadata": {},
   "outputs": [],
   "source": [
    "#%%time\n",
    "#params_cb = {'learning_rate': [0.1, 0.3, 0.5], 'depth':[5, 10, 15]}\n",
    "#model_cb = CatBoostRegressor(loss_function='RMSE', iterations=50)\n",
    "#grid_cb = GridSearchCV(model_cb, params_cb, cv=5, n_jobs=-1)\n",
    "#grid_cb.fit(features_train, target_train, cat_features=cat_features, verbose=20)\n",
    "#grid_cb.best_params_"
   ]
  },
  {
   "cell_type": "code",
   "execution_count": 41,
   "metadata": {},
   "outputs": [],
   "source": [
    "hyper_params = {\n",
    "    'task': 'train',\n",
    "    'boosting_type': 'gbdt',\n",
    "    'objective': 'regression',\n",
    "    'metric': ['l1','l2'],\n",
    "    'verbose': 100,\n",
    "    \"max_depth\": 8,\n",
    "    \"max_bin\": 512,\n",
    "    \"num_iterations\": 200\n",
    "    \n",
    "}"
   ]
  },
  {
   "cell_type": "code",
   "execution_count": 42,
   "metadata": {
    "scrolled": true
   },
   "outputs": [
    {
     "name": "stderr",
     "output_type": "stream",
     "text": [
      "C:\\Users\\dande\\anaconda3\\lib\\site-packages\\lightgbm\\engine.py:177: UserWarning: Found `num_iterations` in params. Will use it instead of argument\n",
      "  _log_warning(f\"Found `{alias}` in params. Will use it instead of argument\")\n"
     ]
    },
    {
     "name": "stdout",
     "output_type": "stream",
     "text": [
      "[LightGBM] [Warning] Accuracy may be bad since you didn't explicitly set num_leaves OR 2^max_depth > num_leaves. (num_leaves=31).\n",
      "[LightGBM] [Warning] Accuracy may be bad since you didn't explicitly set num_leaves OR 2^max_depth > num_leaves. (num_leaves=31).\n",
      "[LightGBM] [Debug] Dataset::GetMultiBinFromSparseFeatures: sparse rate 0.903875\n",
      "[LightGBM] [Debug] Dataset::GetMultiBinFromAllFeatures: sparse rate 0.359683\n",
      "[LightGBM] [Debug] init for col-wise cost 0.009576 seconds, init for row-wise cost 0.037570 seconds\n",
      "[LightGBM] [Warning] Auto-choosing row-wise multi-threading, the overhead of testing was 0.014480 seconds.\n",
      "You can set `force_row_wise=true` to remove the overhead.\n",
      "And if memory is not enough, you can set `force_col_wise=true`.\n",
      "[LightGBM] [Debug] Using Sparse Multi-Val Bin\n",
      "[LightGBM] [Info] Total Bins 1674\n",
      "[LightGBM] [Info] Number of data points in the train set: 197981, number of used features: 294\n",
      "[LightGBM] [Info] Start training from score 4537.456367\n",
      "[LightGBM] [Debug] Trained a tree with leaves = 31 and depth = 8\n",
      "[LightGBM] [Debug] Trained a tree with leaves = 31 and depth = 7\n",
      "[LightGBM] [Debug] Trained a tree with leaves = 31 and depth = 7\n",
      "[LightGBM] [Debug] Trained a tree with leaves = 31 and depth = 8\n",
      "[LightGBM] [Debug] Trained a tree with leaves = 31 and depth = 7\n",
      "[LightGBM] [Debug] Trained a tree with leaves = 31 and depth = 8\n",
      "[LightGBM] [Debug] Trained a tree with leaves = 31 and depth = 6\n",
      "[LightGBM] [Debug] Trained a tree with leaves = 31 and depth = 8\n",
      "[LightGBM] [Debug] Trained a tree with leaves = 31 and depth = 8\n",
      "[LightGBM] [Debug] Trained a tree with leaves = 31 and depth = 8\n",
      "[LightGBM] [Debug] Trained a tree with leaves = 31 and depth = 7\n",
      "[LightGBM] [Debug] Trained a tree with leaves = 31 and depth = 8\n",
      "[LightGBM] [Debug] Trained a tree with leaves = 31 and depth = 7\n",
      "[LightGBM] [Debug] Trained a tree with leaves = 31 and depth = 8\n",
      "[LightGBM] [Debug] Trained a tree with leaves = 31 and depth = 8\n",
      "[LightGBM] [Debug] Trained a tree with leaves = 31 and depth = 8\n",
      "[LightGBM] [Debug] Trained a tree with leaves = 31 and depth = 8\n",
      "[LightGBM] [Debug] Trained a tree with leaves = 31 and depth = 8\n",
      "[LightGBM] [Debug] Trained a tree with leaves = 31 and depth = 8\n",
      "[LightGBM] [Debug] Trained a tree with leaves = 31 and depth = 8\n",
      "[LightGBM] [Debug] Trained a tree with leaves = 31 and depth = 8\n",
      "[LightGBM] [Debug] Trained a tree with leaves = 31 and depth = 8\n",
      "[LightGBM] [Debug] Trained a tree with leaves = 31 and depth = 8\n",
      "[LightGBM] [Debug] Trained a tree with leaves = 31 and depth = 8\n",
      "[LightGBM] [Debug] Trained a tree with leaves = 31 and depth = 8\n",
      "[LightGBM] [Debug] Trained a tree with leaves = 31 and depth = 8\n",
      "[LightGBM] [Debug] Trained a tree with leaves = 31 and depth = 8\n",
      "[LightGBM] [Debug] Trained a tree with leaves = 31 and depth = 8\n",
      "[LightGBM] [Debug] Trained a tree with leaves = 31 and depth = 8\n",
      "[LightGBM] [Debug] Trained a tree with leaves = 31 and depth = 8\n",
      "[LightGBM] [Debug] Trained a tree with leaves = 31 and depth = 8\n",
      "[LightGBM] [Debug] Trained a tree with leaves = 31 and depth = 8\n",
      "[LightGBM] [Debug] Trained a tree with leaves = 31 and depth = 8\n",
      "[LightGBM] [Debug] Trained a tree with leaves = 31 and depth = 8\n",
      "[LightGBM] [Debug] Trained a tree with leaves = 31 and depth = 8\n",
      "[LightGBM] [Debug] Trained a tree with leaves = 31 and depth = 8\n",
      "[LightGBM] [Debug] Trained a tree with leaves = 31 and depth = 8\n",
      "[LightGBM] [Debug] Trained a tree with leaves = 31 and depth = 8\n",
      "[LightGBM] [Debug] Trained a tree with leaves = 31 and depth = 8\n",
      "[LightGBM] [Debug] Trained a tree with leaves = 31 and depth = 8\n",
      "[LightGBM] [Debug] Trained a tree with leaves = 31 and depth = 8\n",
      "[LightGBM] [Debug] Trained a tree with leaves = 31 and depth = 8\n",
      "[LightGBM] [Debug] Trained a tree with leaves = 31 and depth = 8\n",
      "[LightGBM] [Debug] Trained a tree with leaves = 31 and depth = 8\n",
      "[LightGBM] [Debug] Trained a tree with leaves = 31 and depth = 8\n",
      "[LightGBM] [Debug] Trained a tree with leaves = 31 and depth = 8\n",
      "[LightGBM] [Debug] Trained a tree with leaves = 31 and depth = 8\n",
      "[LightGBM] [Debug] Trained a tree with leaves = 31 and depth = 8\n",
      "[LightGBM] [Debug] Trained a tree with leaves = 31 and depth = 8\n",
      "[LightGBM] [Debug] Trained a tree with leaves = 31 and depth = 8\n",
      "[LightGBM] [Debug] Trained a tree with leaves = 31 and depth = 8\n",
      "[LightGBM] [Debug] Trained a tree with leaves = 31 and depth = 8\n",
      "[LightGBM] [Debug] Trained a tree with leaves = 31 and depth = 8\n",
      "[LightGBM] [Debug] Trained a tree with leaves = 31 and depth = 8\n",
      "[LightGBM] [Debug] Trained a tree with leaves = 31 and depth = 8\n",
      "[LightGBM] [Debug] Trained a tree with leaves = 31 and depth = 8\n",
      "[LightGBM] [Debug] Trained a tree with leaves = 31 and depth = 8\n",
      "[LightGBM] [Debug] Trained a tree with leaves = 31 and depth = 8\n",
      "[LightGBM] [Debug] Trained a tree with leaves = 31 and depth = 8\n",
      "[LightGBM] [Debug] Trained a tree with leaves = 31 and depth = 8\n",
      "[LightGBM] [Debug] Trained a tree with leaves = 31 and depth = 8\n",
      "[LightGBM] [Debug] Trained a tree with leaves = 31 and depth = 8\n",
      "[LightGBM] [Debug] Trained a tree with leaves = 31 and depth = 8\n",
      "[LightGBM] [Debug] Trained a tree with leaves = 31 and depth = 8\n",
      "[LightGBM] [Debug] Trained a tree with leaves = 31 and depth = 8\n",
      "[LightGBM] [Debug] Trained a tree with leaves = 31 and depth = 8\n",
      "[LightGBM] [Debug] Trained a tree with leaves = 31 and depth = 8\n",
      "[LightGBM] [Debug] Trained a tree with leaves = 31 and depth = 8\n",
      "[LightGBM] [Debug] Trained a tree with leaves = 31 and depth = 8\n",
      "[LightGBM] [Debug] Trained a tree with leaves = 31 and depth = 8\n",
      "[LightGBM] [Debug] Trained a tree with leaves = 31 and depth = 8\n",
      "[LightGBM] [Debug] Trained a tree with leaves = 31 and depth = 8\n",
      "[LightGBM] [Debug] Trained a tree with leaves = 31 and depth = 8\n",
      "[LightGBM] [Debug] Trained a tree with leaves = 31 and depth = 8\n",
      "[LightGBM] [Debug] Trained a tree with leaves = 31 and depth = 8\n",
      "[LightGBM] [Debug] Trained a tree with leaves = 31 and depth = 8\n",
      "[LightGBM] [Debug] Trained a tree with leaves = 31 and depth = 8\n",
      "[LightGBM] [Debug] Trained a tree with leaves = 31 and depth = 8\n",
      "[LightGBM] [Debug] Trained a tree with leaves = 31 and depth = 8\n",
      "[LightGBM] [Debug] Trained a tree with leaves = 31 and depth = 8\n",
      "[LightGBM] [Debug] Trained a tree with leaves = 31 and depth = 8\n",
      "[LightGBM] [Debug] Trained a tree with leaves = 31 and depth = 8\n",
      "[LightGBM] [Debug] Trained a tree with leaves = 31 and depth = 8\n",
      "[LightGBM] [Debug] Trained a tree with leaves = 31 and depth = 8\n",
      "[LightGBM] [Debug] Trained a tree with leaves = 31 and depth = 8\n",
      "[LightGBM] [Debug] Trained a tree with leaves = 31 and depth = 8\n",
      "[LightGBM] [Debug] Trained a tree with leaves = 31 and depth = 8\n",
      "[LightGBM] [Debug] Trained a tree with leaves = 31 and depth = 8\n",
      "[LightGBM] [Debug] Trained a tree with leaves = 31 and depth = 8\n",
      "[LightGBM] [Debug] Trained a tree with leaves = 31 and depth = 8\n",
      "[LightGBM] [Debug] Trained a tree with leaves = 31 and depth = 8\n",
      "[LightGBM] [Debug] Trained a tree with leaves = 31 and depth = 8\n",
      "[LightGBM] [Debug] Trained a tree with leaves = 31 and depth = 8\n",
      "[LightGBM] [Debug] Trained a tree with leaves = 31 and depth = 8\n",
      "[LightGBM] [Debug] Trained a tree with leaves = 31 and depth = 8\n",
      "[LightGBM] [Debug] Trained a tree with leaves = 31 and depth = 8\n",
      "[LightGBM] [Debug] Trained a tree with leaves = 31 and depth = 8\n",
      "[LightGBM] [Debug] Trained a tree with leaves = 31 and depth = 8\n",
      "[LightGBM] [Debug] Trained a tree with leaves = 31 and depth = 8\n",
      "[LightGBM] [Debug] Trained a tree with leaves = 31 and depth = 8\n",
      "[LightGBM] [Debug] Trained a tree with leaves = 31 and depth = 8\n",
      "[LightGBM] [Warning] No further splits with positive gain, best gain: -inf\n",
      "[LightGBM] [Debug] Trained a tree with leaves = 27 and depth = 8\n",
      "[LightGBM] [Debug] Trained a tree with leaves = 31 and depth = 8\n",
      "[LightGBM] [Debug] Trained a tree with leaves = 31 and depth = 8\n",
      "[LightGBM] [Debug] Trained a tree with leaves = 31 and depth = 8\n",
      "[LightGBM] [Debug] Trained a tree with leaves = 31 and depth = 8\n",
      "[LightGBM] [Debug] Trained a tree with leaves = 31 and depth = 8\n",
      "[LightGBM] [Debug] Trained a tree with leaves = 31 and depth = 8\n",
      "[LightGBM] [Debug] Trained a tree with leaves = 31 and depth = 8\n",
      "[LightGBM] [Debug] Trained a tree with leaves = 31 and depth = 8\n",
      "[LightGBM] [Debug] Trained a tree with leaves = 31 and depth = 8\n",
      "[LightGBM] [Debug] Trained a tree with leaves = 31 and depth = 8\n",
      "[LightGBM] [Debug] Trained a tree with leaves = 31 and depth = 8\n",
      "[LightGBM] [Debug] Trained a tree with leaves = 31 and depth = 8\n",
      "[LightGBM] [Debug] Trained a tree with leaves = 31 and depth = 8\n"
     ]
    },
    {
     "name": "stdout",
     "output_type": "stream",
     "text": [
      "[LightGBM] [Debug] Trained a tree with leaves = 31 and depth = 8\n",
      "[LightGBM] [Debug] Trained a tree with leaves = 31 and depth = 8\n",
      "[LightGBM] [Debug] Trained a tree with leaves = 31 and depth = 8\n",
      "[LightGBM] [Debug] Trained a tree with leaves = 31 and depth = 8\n",
      "[LightGBM] [Debug] Trained a tree with leaves = 31 and depth = 8\n",
      "[LightGBM] [Debug] Trained a tree with leaves = 31 and depth = 8\n",
      "[LightGBM] [Debug] Trained a tree with leaves = 31 and depth = 8\n",
      "[LightGBM] [Debug] Trained a tree with leaves = 31 and depth = 8\n",
      "[LightGBM] [Debug] Trained a tree with leaves = 31 and depth = 8\n",
      "[LightGBM] [Debug] Trained a tree with leaves = 31 and depth = 8\n",
      "[LightGBM] [Debug] Trained a tree with leaves = 31 and depth = 8\n",
      "[LightGBM] [Debug] Trained a tree with leaves = 31 and depth = 8\n",
      "[LightGBM] [Debug] Trained a tree with leaves = 31 and depth = 8\n",
      "[LightGBM] [Debug] Trained a tree with leaves = 31 and depth = 8\n",
      "[LightGBM] [Debug] Trained a tree with leaves = 31 and depth = 8\n",
      "[LightGBM] [Debug] Trained a tree with leaves = 31 and depth = 8\n",
      "[LightGBM] [Debug] Trained a tree with leaves = 31 and depth = 8\n",
      "[LightGBM] [Debug] Trained a tree with leaves = 31 and depth = 8\n",
      "[LightGBM] [Debug] Trained a tree with leaves = 31 and depth = 8\n",
      "[LightGBM] [Debug] Trained a tree with leaves = 31 and depth = 8\n",
      "[LightGBM] [Debug] Trained a tree with leaves = 31 and depth = 8\n",
      "[LightGBM] [Debug] Trained a tree with leaves = 31 and depth = 8\n",
      "[LightGBM] [Debug] Trained a tree with leaves = 31 and depth = 8\n",
      "[LightGBM] [Debug] Trained a tree with leaves = 31 and depth = 8\n",
      "[LightGBM] [Debug] Trained a tree with leaves = 31 and depth = 8\n",
      "[LightGBM] [Debug] Trained a tree with leaves = 31 and depth = 8\n",
      "[LightGBM] [Debug] Trained a tree with leaves = 31 and depth = 8\n",
      "[LightGBM] [Debug] Trained a tree with leaves = 31 and depth = 8\n",
      "[LightGBM] [Debug] Trained a tree with leaves = 31 and depth = 8\n",
      "[LightGBM] [Debug] Trained a tree with leaves = 31 and depth = 8\n",
      "[LightGBM] [Debug] Trained a tree with leaves = 31 and depth = 8\n",
      "[LightGBM] [Debug] Trained a tree with leaves = 31 and depth = 8\n",
      "[LightGBM] [Debug] Trained a tree with leaves = 31 and depth = 8\n",
      "[LightGBM] [Debug] Trained a tree with leaves = 31 and depth = 8\n",
      "[LightGBM] [Debug] Trained a tree with leaves = 31 and depth = 8\n",
      "[LightGBM] [Debug] Trained a tree with leaves = 31 and depth = 8\n",
      "[LightGBM] [Debug] Trained a tree with leaves = 31 and depth = 8\n",
      "[LightGBM] [Debug] Trained a tree with leaves = 31 and depth = 8\n",
      "[LightGBM] [Debug] Trained a tree with leaves = 31 and depth = 8\n",
      "[LightGBM] [Debug] Trained a tree with leaves = 31 and depth = 8\n",
      "[LightGBM] [Debug] Trained a tree with leaves = 31 and depth = 8\n",
      "[LightGBM] [Debug] Trained a tree with leaves = 31 and depth = 8\n",
      "[LightGBM] [Debug] Trained a tree with leaves = 31 and depth = 8\n",
      "[LightGBM] [Debug] Trained a tree with leaves = 31 and depth = 8\n",
      "[LightGBM] [Debug] Trained a tree with leaves = 31 and depth = 8\n",
      "[LightGBM] [Debug] Trained a tree with leaves = 31 and depth = 8\n",
      "[LightGBM] [Debug] Trained a tree with leaves = 31 and depth = 8\n",
      "[LightGBM] [Debug] Trained a tree with leaves = 31 and depth = 8\n",
      "[LightGBM] [Debug] Trained a tree with leaves = 31 and depth = 8\n",
      "[LightGBM] [Debug] Trained a tree with leaves = 31 and depth = 8\n",
      "[LightGBM] [Debug] Trained a tree with leaves = 31 and depth = 8\n",
      "[LightGBM] [Debug] Trained a tree with leaves = 31 and depth = 8\n",
      "[LightGBM] [Debug] Trained a tree with leaves = 31 and depth = 8\n",
      "[LightGBM] [Debug] Trained a tree with leaves = 31 and depth = 8\n",
      "[LightGBM] [Debug] Trained a tree with leaves = 31 and depth = 8\n",
      "[LightGBM] [Debug] Trained a tree with leaves = 31 and depth = 8\n",
      "[LightGBM] [Debug] Trained a tree with leaves = 31 and depth = 8\n",
      "[LightGBM] [Debug] Trained a tree with leaves = 31 and depth = 8\n",
      "[LightGBM] [Debug] Trained a tree with leaves = 31 and depth = 8\n",
      "[LightGBM] [Debug] Trained a tree with leaves = 31 and depth = 8\n",
      "[LightGBM] [Debug] Trained a tree with leaves = 31 and depth = 8\n",
      "[LightGBM] [Debug] Trained a tree with leaves = 31 and depth = 8\n",
      "[LightGBM] [Debug] Trained a tree with leaves = 31 and depth = 8\n",
      "[LightGBM] [Debug] Trained a tree with leaves = 31 and depth = 8\n",
      "[LightGBM] [Debug] Trained a tree with leaves = 31 and depth = 8\n",
      "[LightGBM] [Debug] Trained a tree with leaves = 31 and depth = 8\n",
      "[LightGBM] [Debug] Trained a tree with leaves = 31 and depth = 8\n",
      "[LightGBM] [Debug] Trained a tree with leaves = 31 and depth = 8\n",
      "[LightGBM] [Debug] Trained a tree with leaves = 31 and depth = 8\n",
      "[LightGBM] [Debug] Trained a tree with leaves = 31 and depth = 8\n",
      "[LightGBM] [Debug] Trained a tree with leaves = 31 and depth = 8\n",
      "[LightGBM] [Debug] Trained a tree with leaves = 31 and depth = 8\n",
      "[LightGBM] [Debug] Trained a tree with leaves = 31 and depth = 8\n",
      "[LightGBM] [Debug] Trained a tree with leaves = 31 and depth = 8\n",
      "[LightGBM] [Debug] Trained a tree with leaves = 31 and depth = 8\n",
      "[LightGBM] [Debug] Trained a tree with leaves = 31 and depth = 8\n",
      "[LightGBM] [Debug] Trained a tree with leaves = 31 and depth = 8\n",
      "[LightGBM] [Debug] Trained a tree with leaves = 31 and depth = 8\n",
      "[LightGBM] [Debug] Trained a tree with leaves = 31 and depth = 8\n",
      "[LightGBM] [Debug] Trained a tree with leaves = 31 and depth = 8\n",
      "[LightGBM] [Debug] Trained a tree with leaves = 31 and depth = 8\n",
      "[LightGBM] [Debug] Trained a tree with leaves = 31 and depth = 8\n",
      "[LightGBM] [Debug] Trained a tree with leaves = 31 and depth = 8\n",
      "[LightGBM] [Debug] Trained a tree with leaves = 31 and depth = 8\n",
      "[LightGBM] [Debug] Trained a tree with leaves = 31 and depth = 8\n",
      "Wall time: 6.35 s\n"
     ]
    },
    {
     "data": {
      "text/plain": [
       "LGBMRegressor(max_bin=512, max_depth=8, metric=['l1', 'l2'], num_iterations=200,\n",
       "              objective='regression', task='train', verbose=100)"
      ]
     },
     "execution_count": 42,
     "metadata": {},
     "output_type": "execute_result"
    }
   ],
   "source": [
    "%%time\n",
    "#LGBM с OHE\n",
    "gbm = ltb.LGBMRegressor(**hyper_params)\n",
    "gbm.fit(features_train1, target_train1)"
   ]
  },
  {
   "cell_type": "code",
   "execution_count": 43,
   "metadata": {},
   "outputs": [
    {
     "name": "stdout",
     "output_type": "stream",
     "text": [
      "RMSE = 1714.9669120426659\n"
     ]
    }
   ],
   "source": [
    "predictions = gbm.predict(features_test1, num_iteration=gbm.best_iteration_)\n",
    "mse = mean_squared_error(target_test1, predictions)\n",
    "print(\"RMSE =\", mse ** 0.5)"
   ]
  },
  {
   "cell_type": "code",
   "execution_count": 44,
   "metadata": {
    "scrolled": true
   },
   "outputs": [
    {
     "name": "stderr",
     "output_type": "stream",
     "text": [
      "C:\\Users\\dande\\AppData\\Local\\Temp/ipykernel_6228/283416577.py:3: SettingWithCopyWarning: \n",
      "A value is trying to be set on a copy of a slice from a DataFrame.\n",
      "Try using .loc[row_indexer,col_indexer] = value instead\n",
      "\n",
      "See the caveats in the documentation: https://pandas.pydata.org/pandas-docs/stable/user_guide/indexing.html#returning-a-view-versus-a-copy\n",
      "  features_train[c] = features_train[c].astype('category')\n",
      "C:\\Users\\dande\\AppData\\Local\\Temp/ipykernel_6228/283416577.py:4: SettingWithCopyWarning: \n",
      "A value is trying to be set on a copy of a slice from a DataFrame.\n",
      "Try using .loc[row_indexer,col_indexer] = value instead\n",
      "\n",
      "See the caveats in the documentation: https://pandas.pydata.org/pandas-docs/stable/user_guide/indexing.html#returning-a-view-versus-a-copy\n",
      "  features_test[c] = features_test[c].astype('category')\n"
     ]
    }
   ],
   "source": [
    "# переведем категорииальные признаки в формат, понятный LGBM\n",
    "for c in cat_features:\n",
    "    features_train[c] = features_train[c].astype('category')\n",
    "    features_test[c] = features_test[c].astype('category')"
   ]
  },
  {
   "cell_type": "code",
   "execution_count": 45,
   "metadata": {},
   "outputs": [
    {
     "name": "stdout",
     "output_type": "stream",
     "text": [
      "<class 'pandas.core.frame.DataFrame'>\n",
      "Int64Index: 197981 entries, 200383 to 233640\n",
      "Data columns (total 13 columns):\n",
      " #   Column             Non-Null Count   Dtype   \n",
      "---  ------             --------------   -----   \n",
      " 0   VehicleType        197981 non-null  category\n",
      " 1   RegistrationYear   197981 non-null  int64   \n",
      " 2   Gearbox            197981 non-null  category\n",
      " 3   Power              197981 non-null  int64   \n",
      " 4   Model              197981 non-null  category\n",
      " 5   Kilometer          197981 non-null  int64   \n",
      " 6   RegistrationMonth  197981 non-null  int64   \n",
      " 7   FuelType           197981 non-null  category\n",
      " 8   Brand              197981 non-null  category\n",
      " 9   NotRepaired        197981 non-null  category\n",
      " 10  NumberOfPictures   197981 non-null  int64   \n",
      " 11  PostalCode         197981 non-null  int64   \n",
      " 12  Actuality          197981 non-null  int32   \n",
      "dtypes: category(6), int32(1), int64(6)\n",
      "memory usage: 12.7 MB\n"
     ]
    }
   ],
   "source": [
    "features_train.info()"
   ]
  },
  {
   "cell_type": "code",
   "execution_count": 46,
   "metadata": {},
   "outputs": [
    {
     "name": "stdout",
     "output_type": "stream",
     "text": [
      "[LightGBM] [Warning] Accuracy may be bad since you didn't explicitly set num_leaves OR 2^max_depth > num_leaves. (num_leaves=31).\n"
     ]
    },
    {
     "name": "stderr",
     "output_type": "stream",
     "text": [
      "C:\\Users\\dande\\anaconda3\\lib\\site-packages\\lightgbm\\engine.py:177: UserWarning: Found `num_iterations` in params. Will use it instead of argument\n",
      "  _log_warning(f\"Found `{alias}` in params. Will use it instead of argument\")\n"
     ]
    },
    {
     "name": "stdout",
     "output_type": "stream",
     "text": [
      "[LightGBM] [Warning] Accuracy may be bad since you didn't explicitly set num_leaves OR 2^max_depth > num_leaves. (num_leaves=31).\n",
      "[LightGBM] [Debug] Dataset::GetMultiBinFromSparseFeatures: sparse rate 0.737498\n",
      "[LightGBM] [Debug] Dataset::GetMultiBinFromAllFeatures: sparse rate 0.150342\n",
      "[LightGBM] [Debug] init for col-wise cost 0.005358 seconds, init for row-wise cost 0.020305 seconds\n",
      "[LightGBM] [Warning] Auto-choosing col-wise multi-threading, the overhead of testing was 0.027803 seconds.\n",
      "You can set `force_col_wise=true` to remove the overhead.\n",
      "[LightGBM] [Info] Total Bins 1412\n",
      "[LightGBM] [Info] Number of data points in the train set: 197981, number of used features: 12\n",
      "[LightGBM] [Info] Start training from score 4652.447346\n",
      "[LightGBM] [Debug] Trained a tree with leaves = 31 and depth = 7\n",
      "[LightGBM] [Debug] Trained a tree with leaves = 31 and depth = 7\n",
      "[LightGBM] [Debug] Trained a tree with leaves = 31 and depth = 8\n",
      "[LightGBM] [Debug] Trained a tree with leaves = 31 and depth = 7\n",
      "[LightGBM] [Debug] Trained a tree with leaves = 31 and depth = 8\n",
      "[LightGBM] [Debug] Trained a tree with leaves = 31 and depth = 7\n",
      "[LightGBM] [Debug] Trained a tree with leaves = 31 and depth = 7\n",
      "[LightGBM] [Debug] Trained a tree with leaves = 31 and depth = 7\n",
      "[LightGBM] [Debug] Trained a tree with leaves = 31 and depth = 7\n",
      "[LightGBM] [Debug] Trained a tree with leaves = 31 and depth = 7\n",
      "[LightGBM] [Debug] Trained a tree with leaves = 31 and depth = 7\n",
      "[LightGBM] [Debug] Trained a tree with leaves = 31 and depth = 8\n",
      "[LightGBM] [Debug] Trained a tree with leaves = 31 and depth = 7\n",
      "[LightGBM] [Debug] Trained a tree with leaves = 31 and depth = 8\n",
      "[LightGBM] [Debug] Trained a tree with leaves = 31 and depth = 8\n",
      "[LightGBM] [Debug] Trained a tree with leaves = 31 and depth = 8\n",
      "[LightGBM] [Debug] Trained a tree with leaves = 31 and depth = 8\n",
      "[LightGBM] [Debug] Trained a tree with leaves = 31 and depth = 8\n",
      "[LightGBM] [Debug] Trained a tree with leaves = 31 and depth = 8\n",
      "[LightGBM] [Debug] Trained a tree with leaves = 31 and depth = 8\n",
      "[LightGBM] [Debug] Trained a tree with leaves = 31 and depth = 8\n",
      "[LightGBM] [Debug] Trained a tree with leaves = 31 and depth = 8\n",
      "[LightGBM] [Debug] Trained a tree with leaves = 31 and depth = 8\n",
      "[LightGBM] [Debug] Trained a tree with leaves = 31 and depth = 8\n",
      "[LightGBM] [Debug] Trained a tree with leaves = 31 and depth = 8\n",
      "[LightGBM] [Debug] Trained a tree with leaves = 31 and depth = 8\n",
      "[LightGBM] [Debug] Trained a tree with leaves = 31 and depth = 8\n",
      "[LightGBM] [Debug] Trained a tree with leaves = 31 and depth = 8\n",
      "[LightGBM] [Debug] Trained a tree with leaves = 31 and depth = 8\n",
      "[LightGBM] [Debug] Trained a tree with leaves = 31 and depth = 8\n",
      "[LightGBM] [Debug] Trained a tree with leaves = 31 and depth = 8\n",
      "[LightGBM] [Debug] Trained a tree with leaves = 31 and depth = 8\n",
      "[LightGBM] [Debug] Trained a tree with leaves = 31 and depth = 8\n",
      "[LightGBM] [Debug] Trained a tree with leaves = 31 and depth = 8\n",
      "[LightGBM] [Debug] Trained a tree with leaves = 31 and depth = 8\n",
      "[LightGBM] [Debug] Trained a tree with leaves = 31 and depth = 8\n",
      "[LightGBM] [Debug] Trained a tree with leaves = 31 and depth = 8\n",
      "[LightGBM] [Debug] Trained a tree with leaves = 31 and depth = 8\n",
      "[LightGBM] [Debug] Trained a tree with leaves = 31 and depth = 8\n",
      "[LightGBM] [Debug] Trained a tree with leaves = 31 and depth = 8\n",
      "[LightGBM] [Debug] Trained a tree with leaves = 31 and depth = 8\n",
      "[LightGBM] [Debug] Trained a tree with leaves = 31 and depth = 8\n",
      "[LightGBM] [Debug] Trained a tree with leaves = 31 and depth = 8\n",
      "[LightGBM] [Debug] Trained a tree with leaves = 31 and depth = 8\n",
      "[LightGBM] [Debug] Trained a tree with leaves = 31 and depth = 8\n",
      "[LightGBM] [Debug] Trained a tree with leaves = 31 and depth = 8\n",
      "[LightGBM] [Debug] Trained a tree with leaves = 31 and depth = 8\n",
      "[LightGBM] [Debug] Trained a tree with leaves = 31 and depth = 8\n",
      "[LightGBM] [Debug] Trained a tree with leaves = 31 and depth = 8\n",
      "[LightGBM] [Debug] Trained a tree with leaves = 31 and depth = 8\n",
      "[LightGBM] [Debug] Trained a tree with leaves = 31 and depth = 8\n",
      "[LightGBM] [Debug] Trained a tree with leaves = 31 and depth = 8\n",
      "[LightGBM] [Debug] Trained a tree with leaves = 31 and depth = 8\n",
      "[LightGBM] [Debug] Trained a tree with leaves = 31 and depth = 8\n",
      "[LightGBM] [Debug] Trained a tree with leaves = 31 and depth = 8\n",
      "[LightGBM] [Debug] Trained a tree with leaves = 31 and depth = 8\n",
      "[LightGBM] [Debug] Trained a tree with leaves = 31 and depth = 8\n",
      "[LightGBM] [Debug] Trained a tree with leaves = 31 and depth = 8\n",
      "[LightGBM] [Debug] Trained a tree with leaves = 31 and depth = 8\n",
      "[LightGBM] [Debug] Trained a tree with leaves = 31 and depth = 8\n",
      "[LightGBM] [Debug] Trained a tree with leaves = 31 and depth = 8\n",
      "[LightGBM] [Debug] Trained a tree with leaves = 31 and depth = 8\n",
      "[LightGBM] [Debug] Trained a tree with leaves = 31 and depth = 8\n",
      "[LightGBM] [Debug] Trained a tree with leaves = 31 and depth = 8\n",
      "[LightGBM] [Debug] Trained a tree with leaves = 31 and depth = 8\n",
      "[LightGBM] [Debug] Trained a tree with leaves = 31 and depth = 8\n",
      "[LightGBM] [Debug] Trained a tree with leaves = 31 and depth = 8\n",
      "[LightGBM] [Debug] Trained a tree with leaves = 31 and depth = 8\n",
      "[LightGBM] [Debug] Trained a tree with leaves = 31 and depth = 8\n",
      "[LightGBM] [Debug] Trained a tree with leaves = 31 and depth = 8\n",
      "[LightGBM] [Debug] Trained a tree with leaves = 31 and depth = 8\n",
      "[LightGBM] [Debug] Trained a tree with leaves = 31 and depth = 7\n",
      "[LightGBM] [Debug] Trained a tree with leaves = 31 and depth = 8\n",
      "[LightGBM] [Debug] Trained a tree with leaves = 31 and depth = 8\n",
      "[LightGBM] [Debug] Trained a tree with leaves = 31 and depth = 8\n",
      "[LightGBM] [Debug] Trained a tree with leaves = 31 and depth = 8\n",
      "[LightGBM] [Debug] Trained a tree with leaves = 31 and depth = 8\n",
      "[LightGBM] [Debug] Trained a tree with leaves = 31 and depth = 8\n",
      "[LightGBM] [Debug] Trained a tree with leaves = 31 and depth = 8\n",
      "[LightGBM] [Debug] Trained a tree with leaves = 31 and depth = 8\n",
      "[LightGBM] [Debug] Trained a tree with leaves = 31 and depth = 8\n",
      "[LightGBM] [Debug] Trained a tree with leaves = 31 and depth = 8\n",
      "[LightGBM] [Debug] Trained a tree with leaves = 31 and depth = 8\n",
      "[LightGBM] [Debug] Trained a tree with leaves = 31 and depth = 8\n",
      "[LightGBM] [Debug] Trained a tree with leaves = 31 and depth = 8\n",
      "[LightGBM] [Debug] Trained a tree with leaves = 31 and depth = 8\n",
      "[LightGBM] [Debug] Trained a tree with leaves = 31 and depth = 8\n",
      "[LightGBM] [Debug] Trained a tree with leaves = 31 and depth = 8\n",
      "[LightGBM] [Debug] Trained a tree with leaves = 31 and depth = 8\n",
      "[LightGBM] [Debug] Trained a tree with leaves = 31 and depth = 8\n",
      "[LightGBM] [Debug] Trained a tree with leaves = 31 and depth = 8\n",
      "[LightGBM] [Debug] Trained a tree with leaves = 31 and depth = 8\n",
      "[LightGBM] [Debug] Trained a tree with leaves = 31 and depth = 8\n",
      "[LightGBM] [Debug] Trained a tree with leaves = 31 and depth = 8\n",
      "[LightGBM] [Debug] Trained a tree with leaves = 31 and depth = 8\n",
      "[LightGBM] [Debug] Trained a tree with leaves = 31 and depth = 8\n",
      "[LightGBM] [Debug] Trained a tree with leaves = 31 and depth = 8\n",
      "[LightGBM] [Debug] Trained a tree with leaves = 31 and depth = 8\n",
      "[LightGBM] [Debug] Trained a tree with leaves = 31 and depth = 8\n",
      "[LightGBM] [Debug] Trained a tree with leaves = 31 and depth = 8\n",
      "[LightGBM] [Debug] Trained a tree with leaves = 31 and depth = 8\n",
      "[LightGBM] [Debug] Trained a tree with leaves = 31 and depth = 8\n",
      "[LightGBM] [Debug] Trained a tree with leaves = 31 and depth = 8\n",
      "[LightGBM] [Debug] Trained a tree with leaves = 31 and depth = 8\n",
      "[LightGBM] [Debug] Trained a tree with leaves = 31 and depth = 8\n",
      "[LightGBM] [Debug] Trained a tree with leaves = 31 and depth = 8\n",
      "[LightGBM] [Debug] Trained a tree with leaves = 31 and depth = 8\n",
      "[LightGBM] [Debug] Trained a tree with leaves = 31 and depth = 8\n",
      "[LightGBM] [Debug] Trained a tree with leaves = 31 and depth = 8\n",
      "[LightGBM] [Debug] Trained a tree with leaves = 31 and depth = 8\n",
      "[LightGBM] [Debug] Trained a tree with leaves = 31 and depth = 8\n",
      "[LightGBM] [Debug] Trained a tree with leaves = 31 and depth = 8\n",
      "[LightGBM] [Debug] Trained a tree with leaves = 31 and depth = 8\n",
      "[LightGBM] [Debug] Trained a tree with leaves = 31 and depth = 8\n",
      "[LightGBM] [Debug] Trained a tree with leaves = 31 and depth = 8\n",
      "[LightGBM] [Debug] Trained a tree with leaves = 31 and depth = 8\n",
      "[LightGBM] [Debug] Trained a tree with leaves = 31 and depth = 8\n",
      "[LightGBM] [Debug] Trained a tree with leaves = 31 and depth = 8\n",
      "[LightGBM] [Debug] Trained a tree with leaves = 31 and depth = 8\n",
      "[LightGBM] [Debug] Trained a tree with leaves = 31 and depth = 8\n",
      "[LightGBM] [Debug] Trained a tree with leaves = 31 and depth = 8\n",
      "[LightGBM] [Debug] Trained a tree with leaves = 31 and depth = 8\n",
      "[LightGBM] [Debug] Trained a tree with leaves = 31 and depth = 8\n",
      "[LightGBM] [Debug] Trained a tree with leaves = 31 and depth = 8\n",
      "[LightGBM] [Debug] Trained a tree with leaves = 31 and depth = 8\n",
      "[LightGBM] [Debug] Trained a tree with leaves = 31 and depth = 8\n"
     ]
    },
    {
     "name": "stdout",
     "output_type": "stream",
     "text": [
      "[LightGBM] [Debug] Trained a tree with leaves = 31 and depth = 8\n",
      "[LightGBM] [Debug] Trained a tree with leaves = 31 and depth = 8\n",
      "[LightGBM] [Debug] Trained a tree with leaves = 31 and depth = 8\n",
      "[LightGBM] [Debug] Trained a tree with leaves = 31 and depth = 8\n",
      "[LightGBM] [Debug] Trained a tree with leaves = 31 and depth = 8\n",
      "[LightGBM] [Debug] Trained a tree with leaves = 31 and depth = 8\n",
      "[LightGBM] [Debug] Trained a tree with leaves = 31 and depth = 8\n",
      "[LightGBM] [Debug] Trained a tree with leaves = 31 and depth = 8\n",
      "[LightGBM] [Debug] Trained a tree with leaves = 31 and depth = 8\n",
      "[LightGBM] [Debug] Trained a tree with leaves = 31 and depth = 8\n",
      "[LightGBM] [Debug] Trained a tree with leaves = 31 and depth = 8\n",
      "[LightGBM] [Debug] Trained a tree with leaves = 31 and depth = 8\n",
      "[LightGBM] [Debug] Trained a tree with leaves = 31 and depth = 8\n",
      "[LightGBM] [Debug] Trained a tree with leaves = 31 and depth = 8\n",
      "[LightGBM] [Debug] Trained a tree with leaves = 31 and depth = 8\n",
      "[LightGBM] [Debug] Trained a tree with leaves = 31 and depth = 7\n",
      "[LightGBM] [Debug] Trained a tree with leaves = 31 and depth = 8\n",
      "[LightGBM] [Debug] Trained a tree with leaves = 31 and depth = 8\n",
      "[LightGBM] [Debug] Trained a tree with leaves = 31 and depth = 8\n",
      "[LightGBM] [Debug] Trained a tree with leaves = 31 and depth = 8\n",
      "[LightGBM] [Debug] Trained a tree with leaves = 31 and depth = 8\n",
      "[LightGBM] [Debug] Trained a tree with leaves = 31 and depth = 8\n",
      "[LightGBM] [Debug] Trained a tree with leaves = 31 and depth = 8\n",
      "[LightGBM] [Debug] Trained a tree with leaves = 31 and depth = 8\n",
      "[LightGBM] [Debug] Trained a tree with leaves = 31 and depth = 8\n",
      "[LightGBM] [Debug] Trained a tree with leaves = 31 and depth = 8\n",
      "[LightGBM] [Debug] Trained a tree with leaves = 31 and depth = 8\n",
      "[LightGBM] [Debug] Trained a tree with leaves = 31 and depth = 8\n",
      "[LightGBM] [Debug] Trained a tree with leaves = 31 and depth = 8\n",
      "[LightGBM] [Debug] Trained a tree with leaves = 31 and depth = 8\n",
      "[LightGBM] [Debug] Trained a tree with leaves = 31 and depth = 8\n",
      "[LightGBM] [Debug] Trained a tree with leaves = 31 and depth = 8\n",
      "[LightGBM] [Debug] Trained a tree with leaves = 31 and depth = 8\n",
      "[LightGBM] [Debug] Trained a tree with leaves = 31 and depth = 8\n",
      "[LightGBM] [Debug] Trained a tree with leaves = 31 and depth = 8\n",
      "[LightGBM] [Debug] Trained a tree with leaves = 31 and depth = 8\n",
      "[LightGBM] [Debug] Trained a tree with leaves = 31 and depth = 8\n",
      "[LightGBM] [Debug] Trained a tree with leaves = 31 and depth = 8\n",
      "[LightGBM] [Debug] Trained a tree with leaves = 31 and depth = 8\n",
      "[LightGBM] [Debug] Trained a tree with leaves = 31 and depth = 8\n",
      "[LightGBM] [Debug] Trained a tree with leaves = 31 and depth = 8\n",
      "[LightGBM] [Debug] Trained a tree with leaves = 31 and depth = 8\n",
      "[LightGBM] [Debug] Trained a tree with leaves = 31 and depth = 8\n",
      "[LightGBM] [Debug] Trained a tree with leaves = 31 and depth = 8\n",
      "[LightGBM] [Debug] Trained a tree with leaves = 31 and depth = 8\n",
      "[LightGBM] [Debug] Trained a tree with leaves = 31 and depth = 8\n",
      "[LightGBM] [Debug] Trained a tree with leaves = 31 and depth = 8\n",
      "[LightGBM] [Debug] Trained a tree with leaves = 31 and depth = 8\n",
      "[LightGBM] [Debug] Trained a tree with leaves = 31 and depth = 8\n",
      "[LightGBM] [Debug] Trained a tree with leaves = 31 and depth = 8\n",
      "[LightGBM] [Debug] Trained a tree with leaves = 31 and depth = 8\n",
      "[LightGBM] [Debug] Trained a tree with leaves = 31 and depth = 8\n",
      "[LightGBM] [Debug] Trained a tree with leaves = 31 and depth = 8\n",
      "[LightGBM] [Debug] Trained a tree with leaves = 31 and depth = 8\n",
      "[LightGBM] [Debug] Trained a tree with leaves = 31 and depth = 8\n",
      "[LightGBM] [Debug] Trained a tree with leaves = 31 and depth = 8\n",
      "[LightGBM] [Debug] Trained a tree with leaves = 31 and depth = 8\n",
      "[LightGBM] [Debug] Trained a tree with leaves = 31 and depth = 8\n",
      "[LightGBM] [Debug] Trained a tree with leaves = 31 and depth = 8\n",
      "[LightGBM] [Debug] Trained a tree with leaves = 31 and depth = 8\n",
      "[LightGBM] [Debug] Trained a tree with leaves = 31 and depth = 8\n",
      "[LightGBM] [Debug] Trained a tree with leaves = 31 and depth = 8\n",
      "[LightGBM] [Debug] Trained a tree with leaves = 31 and depth = 8\n",
      "[LightGBM] [Debug] Trained a tree with leaves = 31 and depth = 8\n",
      "[LightGBM] [Debug] Trained a tree with leaves = 31 and depth = 8\n",
      "[LightGBM] [Debug] Trained a tree with leaves = 31 and depth = 8\n",
      "[LightGBM] [Debug] Trained a tree with leaves = 31 and depth = 8\n",
      "[LightGBM] [Debug] Trained a tree with leaves = 31 and depth = 8\n",
      "[LightGBM] [Debug] Trained a tree with leaves = 31 and depth = 8\n",
      "[LightGBM] [Debug] Trained a tree with leaves = 31 and depth = 8\n",
      "[LightGBM] [Debug] Trained a tree with leaves = 31 and depth = 8\n",
      "[LightGBM] [Debug] Trained a tree with leaves = 31 and depth = 8\n",
      "[LightGBM] [Debug] Trained a tree with leaves = 31 and depth = 8\n",
      "[LightGBM] [Debug] Trained a tree with leaves = 31 and depth = 8\n",
      "Wall time: 3.6 s\n"
     ]
    },
    {
     "data": {
      "text/plain": [
       "LGBMRegressor(max_bin=512, max_depth=8, metric=['l1', 'l2'], num_iterations=200,\n",
       "              objective='regression', task='train', verbose=100)"
      ]
     },
     "execution_count": 46,
     "metadata": {},
     "output_type": "execute_result"
    }
   ],
   "source": [
    "%%time\n",
    "gbm = ltb.LGBMRegressor(**hyper_params)\n",
    "gbm.fit(features_train, target_train)"
   ]
  },
  {
   "cell_type": "code",
   "execution_count": 47,
   "metadata": {},
   "outputs": [
    {
     "data": {
      "image/png": "[encoded data removed]",
      "text/plain": [
       "<Figure size 432x288 with 1 Axes>"
      ]
     },
     "metadata": {
      "needs_background": "light"
     },
     "output_type": "display_data"
    }
   ],
   "source": [
    "importances = gbm.feature_importances_\n",
    "indices = np.argsort(importances)\n",
    "\n",
    "fig, ax = plt.subplots()\n",
    "ax.barh(range(len(importances)), importances[indices])\n",
    "ax.set_yticks(range(len(importances)))\n",
    "_ = ax.set_yticklabels(np.array(features_train.columns)[indices])"
   ]
  },
  {
   "cell_type": "code",
   "execution_count": 48,
   "metadata": {},
   "outputs": [
    {
     "name": "stdout",
     "output_type": "stream",
     "text": [
      "RMSE = 1622.2287897025485\n",
      "Wall time: 1.53 s\n"
     ]
    }
   ],
   "source": [
    "%%time\n",
    "predictions = gbm.predict(features_test, num_iteration=gbm.best_iteration_)\n",
    "mse = mean_squared_error(target_test, predictions)\n",
    "print(\"RMSE =\", mse ** 0.5)"
   ]
  },
  {
   "cell_type": "code",
   "execution_count": null,
   "metadata": {},
   "outputs": [],
   "source": []
  },
  {
   "cell_type": "markdown",
   "metadata": {},
   "source": [
    "Модель мучительно долго обучалась, зато метрика RMSE получилась минимальной - 1740."
   ]
  },
  {
   "cell_type": "markdown",
   "metadata": {},
   "source": [
    "<div class=\"alert alert-block alert-info\">\n",
    "\n",
    "<b>Совет:</b> Долго обучалась в связи с выбранным количеством итераций."
   ]
  },
  {
   "cell_type": "markdown",
   "metadata": {},
   "source": [
    "<div class=\"alert alert-block alert-info\">\n",
    "\n",
    "<b>Комментарий студента:</b> Уменьшила до 100"
   ]
  },
  {
   "cell_type": "markdown",
   "metadata": {},
   "source": [
    "## Анализ моделей"
   ]
  },
  {
   "cell_type": "markdown",
   "metadata": {},
   "source": [
    "Самый лучший результат на тестовой выборке показала модель LGBMRegressor, но она дольше всех обучалась - 18 минут, 300 итераций. При большем количестве итераций результат был ещё лучше, но ненамного и длительность обучения выходила за грани разумного. Кроме того, хороший результат был у CatBoost, при этом модель лучше работала на необработанных категориальных признаках, чем на признаках после прямого кодирования"
   ]
  },
  {
   "cell_type": "markdown",
   "metadata": {},
   "source": [
    "<div class=\"alert alert-block alert-success\">\n",
    "    \n",
    "<b>Успех:</b> Хорошо проделан шаг!<br> Радует достаточное количество рассмотренных моделей, и то что был попробован внутренний метод кодировки данных <br> кросс-валидация успешно применена"
   ]
  },
  {
   "cell_type": "markdown",
   "metadata": {},
   "source": [
    "<div class=\"alert alert-block alert-danger\">\n",
    "    \n",
    "<b>Ошибка:</b>  Заказчику интересно время обучения и скорость предсказания для всех моделей, то есть методы `.fit()` и `.predict()` нужно замерить отдельно друг от друга "
   ]
  },
  {
   "cell_type": "markdown",
   "metadata": {},
   "source": [
    "<div class=\"alert alert-block alert-info\">\n",
    "\n",
    "<b>Комментарий студента:</b> Готово"
   ]
  },
  {
   "cell_type": "markdown",
   "metadata": {},
   "source": [
    "\n",
    "\n",
    "<div class=\"alert alert-block alert-info\">\n",
    "<b>Совет:</b> \n",
    "\n",
    "Также если говорить, что можно ещё улучшить в подобных проектах, то я бы выделил такие моменты:<br>\n",
    "    \n",
    "1) Для понимания, а какие в итоге факторы важны при моделировании, можно выводить их важность, использую feature_importances_, ну и график заодно. Это будет смотреться очнь здорово: результативная метрика и график важности факторов)))\n",
    "    \n",
    "2) У нас разный возраст машин. Есть гипотеза, что для разных возрастов - своё ценообразование. Поэтому, можно попробовать ввести фактор \"тип возраста\" (ретро, супер-ретро, старая, новая... надо подумать..)..<br>\n",
    " \n",
    "3) У LGBM тоже  есть внутренний метод кодировки, который хорошо было бы попробовать\n",
    "    \n",
    "4) Лаконично было бы собрать результаты в информативную таблицу\n",
    "</div>\n"
   ]
  },
  {
   "cell_type": "markdown",
   "metadata": {},
   "source": [
    "<div class=\"alert alert-block alert-info\">\n",
    "\n",
    "<b>Комментарий студента:</b> \n",
    "    \n",
    "- проверка feature_importances_ для данных, прошедших OHE, абсолютно нечитаема из-за большого количества признаков\n",
    "    \n",
    "- Внутренний метод кодировки LGBM освоен    \n",
    "\n",
    "- Классификация по типу \"возраста\" машины и сводная таблица чуть позже"
   ]
  },
  {
   "cell_type": "markdown",
   "metadata": {},
   "source": [
    "## Чек-лист проверки"
   ]
  },
  {
   "cell_type": "markdown",
   "metadata": {},
   "source": [
    "Поставьте 'x' в выполненных пунктах. Далее нажмите Shift+Enter."
   ]
  },
  {
   "cell_type": "markdown",
   "metadata": {},
   "source": [
    "- [x]  Jupyter Notebook открыт\n",
    "- [x]  Весь код выполняется без ошибок\n",
    "- [x]  Ячейки с кодом расположены в порядке исполнения\n",
    "- [x]  Выполнена загрузка и подготовка данных\n",
    "- [x]  Выполнено обучение моделей\n",
    "- [x]  Есть анализ скорости работы и качества моделей"
   ]
  }
 ],
 "metadata": {
  "ExecuteTimeLog": [
   {
    "duration": 45,
    "start_time": "2022-04-25T11:53:55.232Z"
   },
   {
    "duration": 0,
    "start_time": "2022-04-25T11:55:42.813Z"
   },
   {
    "duration": 1762,
    "start_time": "2022-04-26T13:29:19.794Z"
   },
   {
    "duration": 1037,
    "start_time": "2022-04-26T13:29:21.558Z"
   },
   {
    "duration": 161,
    "start_time": "2022-04-26T13:29:22.598Z"
   },
   {
    "duration": 157,
    "start_time": "2022-04-26T13:30:28.073Z"
   },
   {
    "duration": 278,
    "start_time": "2022-04-26T13:30:56.184Z"
   },
   {
    "duration": 1446,
    "start_time": "2022-04-26T14:04:20.056Z"
   },
   {
    "duration": 97,
    "start_time": "2022-04-26T14:05:03.128Z"
   },
   {
    "duration": 176,
    "start_time": "2022-04-26T14:06:48.814Z"
   },
   {
    "duration": 297,
    "start_time": "2022-04-26T14:06:57.751Z"
   },
   {
    "duration": 39,
    "start_time": "2022-04-26T14:20:09.390Z"
   },
   {
    "duration": 6,
    "start_time": "2022-04-26T14:23:07.371Z"
   },
   {
    "duration": 6,
    "start_time": "2022-04-26T14:23:32.563Z"
   },
   {
    "duration": 31,
    "start_time": "2022-04-26T14:23:51.342Z"
   },
   {
    "duration": 7,
    "start_time": "2022-04-26T14:48:42.079Z"
   },
   {
    "duration": 10,
    "start_time": "2022-04-26T14:49:07.820Z"
   },
   {
    "duration": 9,
    "start_time": "2022-04-26T14:49:41.156Z"
   },
   {
    "duration": 8,
    "start_time": "2022-04-26T14:50:25.894Z"
   },
   {
    "duration": 162,
    "start_time": "2022-04-26T14:50:53.052Z"
   },
   {
    "duration": 8,
    "start_time": "2022-04-26T14:50:59.196Z"
   },
   {
    "duration": 9,
    "start_time": "2022-04-26T14:51:17.412Z"
   },
   {
    "duration": 8,
    "start_time": "2022-04-26T14:51:29.175Z"
   },
   {
    "duration": 8,
    "start_time": "2022-04-26T14:51:47.627Z"
   },
   {
    "duration": 8,
    "start_time": "2022-04-26T14:55:26.010Z"
   },
   {
    "duration": 15,
    "start_time": "2022-04-26T14:55:33.928Z"
   },
   {
    "duration": 12,
    "start_time": "2022-04-26T14:55:52.573Z"
   },
   {
    "duration": 10,
    "start_time": "2022-04-26T14:55:58.373Z"
   },
   {
    "duration": 8,
    "start_time": "2022-04-26T14:56:21.118Z"
   },
   {
    "duration": 9,
    "start_time": "2022-04-26T14:56:33.883Z"
   },
   {
    "duration": 13,
    "start_time": "2022-04-26T14:56:42.957Z"
   },
   {
    "duration": 8,
    "start_time": "2022-04-26T14:57:00.611Z"
   },
   {
    "duration": 10,
    "start_time": "2022-04-26T15:04:11.257Z"
   },
   {
    "duration": 9,
    "start_time": "2022-04-26T15:04:24.012Z"
   },
   {
    "duration": 176,
    "start_time": "2022-04-26T15:07:27.630Z"
   },
   {
    "duration": 349,
    "start_time": "2022-04-26T15:07:49.178Z"
   },
   {
    "duration": 14,
    "start_time": "2022-04-26T15:08:16.969Z"
   },
   {
    "duration": 273,
    "start_time": "2022-04-26T15:08:28.612Z"
   },
   {
    "duration": 13,
    "start_time": "2022-04-26T15:09:49.844Z"
   },
   {
    "duration": 11,
    "start_time": "2022-04-26T15:09:54.698Z"
   },
   {
    "duration": 10,
    "start_time": "2022-04-26T15:09:58.675Z"
   },
   {
    "duration": 10,
    "start_time": "2022-04-26T15:10:24.678Z"
   },
   {
    "duration": 39,
    "start_time": "2022-04-26T15:11:48.258Z"
   },
   {
    "duration": 14,
    "start_time": "2022-04-26T15:12:56.245Z"
   },
   {
    "duration": 49,
    "start_time": "2022-04-26T15:15:19.534Z"
   },
   {
    "duration": 139,
    "start_time": "2022-04-26T15:15:34.223Z"
   },
   {
    "duration": 78,
    "start_time": "2022-04-27T16:39:22.312Z"
   },
   {
    "duration": 1837,
    "start_time": "2022-04-27T16:39:30.415Z"
   },
   {
    "duration": 1227,
    "start_time": "2022-04-27T16:39:32.254Z"
   },
   {
    "duration": 311,
    "start_time": "2022-04-27T16:39:33.483Z"
   },
   {
    "duration": 429,
    "start_time": "2022-04-27T16:39:33.797Z"
   },
   {
    "duration": 60,
    "start_time": "2022-04-27T16:39:34.228Z"
   },
   {
    "duration": 176,
    "start_time": "2022-04-27T16:39:34.290Z"
   },
   {
    "duration": 3,
    "start_time": "2022-04-27T16:39:34.468Z"
   },
   {
    "duration": 178,
    "start_time": "2022-04-27T16:40:41.061Z"
   },
   {
    "duration": 60,
    "start_time": "2022-04-27T16:41:30.522Z"
   },
   {
    "duration": 32,
    "start_time": "2022-04-27T16:41:51.606Z"
   },
   {
    "duration": 46,
    "start_time": "2022-04-27T16:42:15.313Z"
   },
   {
    "duration": 3,
    "start_time": "2022-04-27T16:42:35.873Z"
   },
   {
    "duration": 10,
    "start_time": "2022-04-27T16:43:27.525Z"
   },
   {
    "duration": 174,
    "start_time": "2022-04-27T16:43:46.542Z"
   },
   {
    "duration": 34,
    "start_time": "2022-04-27T16:43:58.250Z"
   },
   {
    "duration": 13,
    "start_time": "2022-04-27T16:51:57.791Z"
   },
   {
    "duration": 174,
    "start_time": "2022-04-27T17:03:49.137Z"
   },
   {
    "duration": 173,
    "start_time": "2022-04-27T17:04:55.534Z"
   },
   {
    "duration": 174,
    "start_time": "2022-04-27T17:05:13.901Z"
   },
   {
    "duration": 177,
    "start_time": "2022-04-27T17:06:02.957Z"
   },
   {
    "duration": 186,
    "start_time": "2022-04-27T17:06:34.090Z"
   },
   {
    "duration": 212,
    "start_time": "2022-04-27T17:06:52.890Z"
   },
   {
    "duration": 198,
    "start_time": "2022-04-27T17:07:06.186Z"
   },
   {
    "duration": 225,
    "start_time": "2022-04-27T17:07:39.834Z"
   },
   {
    "duration": 3844,
    "start_time": "2022-04-27T17:31:08.592Z"
   },
   {
    "duration": 20,
    "start_time": "2022-04-27T17:36:23.002Z"
   },
   {
    "duration": 89,
    "start_time": "2022-04-27T17:36:33.553Z"
   },
   {
    "duration": 88,
    "start_time": "2022-04-27T17:36:58.698Z"
   },
   {
    "duration": 96,
    "start_time": "2022-04-27T17:38:52.913Z"
   },
   {
    "duration": 92,
    "start_time": "2022-04-27T17:40:33.065Z"
   },
   {
    "duration": 87,
    "start_time": "2022-04-27T17:41:44.390Z"
   },
   {
    "duration": 58,
    "start_time": "2022-04-27T17:43:12.876Z"
   },
   {
    "duration": 71,
    "start_time": "2022-04-27T17:43:25.046Z"
   },
   {
    "duration": 86,
    "start_time": "2022-04-27T17:43:35.311Z"
   },
   {
    "duration": 136,
    "start_time": "2022-04-27T17:45:49.500Z"
   },
   {
    "duration": 42,
    "start_time": "2022-04-27T17:56:23.628Z"
   },
   {
    "duration": 91,
    "start_time": "2022-04-27T17:58:54.607Z"
   },
   {
    "duration": 91,
    "start_time": "2022-04-27T17:59:10.200Z"
   },
   {
    "duration": 94,
    "start_time": "2022-04-27T17:59:25.658Z"
   },
   {
    "duration": 83,
    "start_time": "2022-04-27T18:07:06.971Z"
   },
   {
    "duration": 1510,
    "start_time": "2022-04-27T18:08:03.306Z"
   },
   {
    "duration": 910,
    "start_time": "2022-04-27T18:08:04.818Z"
   },
   {
    "duration": 288,
    "start_time": "2022-04-27T18:08:05.730Z"
   },
   {
    "duration": 387,
    "start_time": "2022-04-27T18:08:06.020Z"
   },
   {
    "duration": 45,
    "start_time": "2022-04-27T18:08:06.409Z"
   },
   {
    "duration": 15,
    "start_time": "2022-04-27T18:08:06.456Z"
   },
   {
    "duration": 88,
    "start_time": "2022-04-27T18:08:06.473Z"
   },
   {
    "duration": 133,
    "start_time": "2022-04-27T18:08:06.563Z"
   },
   {
    "duration": 181,
    "start_time": "2022-04-27T18:08:06.698Z"
   },
   {
    "duration": 0,
    "start_time": "2022-04-27T18:08:06.881Z"
   },
   {
    "duration": 0,
    "start_time": "2022-04-27T18:08:06.883Z"
   },
   {
    "duration": 0,
    "start_time": "2022-04-27T18:08:06.885Z"
   },
   {
    "duration": 144,
    "start_time": "2022-04-27T18:08:34.321Z"
   },
   {
    "duration": 97,
    "start_time": "2022-04-27T18:08:34.467Z"
   },
   {
    "duration": 3,
    "start_time": "2022-04-27T18:08:34.565Z"
   },
   {
    "duration": 286,
    "start_time": "2022-04-27T18:11:16.682Z"
   },
   {
    "duration": 20,
    "start_time": "2022-04-27T18:13:48.332Z"
   },
   {
    "duration": 60,
    "start_time": "2022-04-27T18:14:01.236Z"
   },
   {
    "duration": 97,
    "start_time": "2022-04-27T18:20:00.158Z"
   },
   {
    "duration": 2263,
    "start_time": "2022-04-27T19:51:07.192Z"
   },
   {
    "duration": 1978,
    "start_time": "2022-04-27T19:52:01.845Z"
   },
   {
    "duration": 1542,
    "start_time": "2022-04-27T20:01:46.103Z"
   },
   {
    "duration": 938,
    "start_time": "2022-04-27T20:01:47.647Z"
   },
   {
    "duration": 298,
    "start_time": "2022-04-27T20:01:48.587Z"
   },
   {
    "duration": 2,
    "start_time": "2022-04-27T20:01:48.887Z"
   },
   {
    "duration": 49,
    "start_time": "2022-04-27T20:01:48.892Z"
   },
   {
    "duration": 18,
    "start_time": "2022-04-27T20:01:48.942Z"
   },
   {
    "duration": 97,
    "start_time": "2022-04-27T20:01:48.962Z"
   },
   {
    "duration": 139,
    "start_time": "2022-04-27T20:01:49.061Z"
   },
   {
    "duration": 204,
    "start_time": "2022-04-27T20:01:49.202Z"
   },
   {
    "duration": 88,
    "start_time": "2022-04-27T20:01:49.408Z"
   },
   {
    "duration": 3,
    "start_time": "2022-04-27T20:01:49.497Z"
   },
   {
    "duration": 60,
    "start_time": "2022-04-27T20:01:49.502Z"
   },
   {
    "duration": 197,
    "start_time": "2022-04-27T20:01:49.564Z"
   },
   {
    "duration": 266,
    "start_time": "2022-04-27T20:01:49.764Z"
   },
   {
    "duration": 348,
    "start_time": "2022-04-27T20:13:13.025Z"
   },
   {
    "duration": 152,
    "start_time": "2022-04-27T20:13:25.053Z"
   },
   {
    "duration": 128,
    "start_time": "2022-04-27T20:13:52.705Z"
   },
   {
    "duration": 157,
    "start_time": "2022-04-27T20:14:12.354Z"
   },
   {
    "duration": 1446,
    "start_time": "2022-04-27T20:14:33.246Z"
   },
   {
    "duration": 948,
    "start_time": "2022-04-27T20:14:34.694Z"
   },
   {
    "duration": 294,
    "start_time": "2022-04-27T20:14:35.643Z"
   },
   {
    "duration": 390,
    "start_time": "2022-04-27T20:14:35.939Z"
   },
   {
    "duration": 41,
    "start_time": "2022-04-27T20:14:36.333Z"
   },
   {
    "duration": 13,
    "start_time": "2022-04-27T20:14:36.375Z"
   },
   {
    "duration": 100,
    "start_time": "2022-04-27T20:14:36.389Z"
   },
   {
    "duration": 135,
    "start_time": "2022-04-27T20:14:36.491Z"
   },
   {
    "duration": 150,
    "start_time": "2022-04-27T20:14:36.628Z"
   },
   {
    "duration": 99,
    "start_time": "2022-04-27T20:14:36.780Z"
   },
   {
    "duration": 2,
    "start_time": "2022-04-27T20:14:36.881Z"
   },
   {
    "duration": 28,
    "start_time": "2022-04-27T20:14:36.885Z"
   },
   {
    "duration": 119,
    "start_time": "2022-04-27T20:14:36.914Z"
   },
   {
    "duration": 2161,
    "start_time": "2022-04-27T20:14:37.035Z"
   },
   {
    "duration": 2102,
    "start_time": "2022-04-27T20:28:16.012Z"
   },
   {
    "duration": 134,
    "start_time": "2022-04-28T09:03:37.651Z"
   },
   {
    "duration": 2621,
    "start_time": "2022-04-28T09:03:44.671Z"
   },
   {
    "duration": 1539,
    "start_time": "2022-04-28T09:03:47.296Z"
   },
   {
    "duration": 399,
    "start_time": "2022-04-28T09:03:48.837Z"
   },
   {
    "duration": 582,
    "start_time": "2022-04-28T09:03:49.239Z"
   },
   {
    "duration": 64,
    "start_time": "2022-04-28T09:03:49.824Z"
   },
   {
    "duration": 20,
    "start_time": "2022-04-28T09:03:49.890Z"
   },
   {
    "duration": 126,
    "start_time": "2022-04-28T09:03:49.912Z"
   },
   {
    "duration": 190,
    "start_time": "2022-04-28T09:03:50.041Z"
   },
   {
    "duration": 203,
    "start_time": "2022-04-28T09:03:50.233Z"
   },
   {
    "duration": 128,
    "start_time": "2022-04-28T09:03:50.440Z"
   },
   {
    "duration": 3,
    "start_time": "2022-04-28T09:03:50.570Z"
   },
   {
    "duration": 43,
    "start_time": "2022-04-28T09:03:50.575Z"
   },
   {
    "duration": 191,
    "start_time": "2022-04-28T09:03:50.620Z"
   },
   {
    "duration": 3382,
    "start_time": "2022-04-28T09:03:50.814Z"
   },
   {
    "duration": 0,
    "start_time": "2022-04-28T09:03:54.198Z"
   },
   {
    "duration": 438,
    "start_time": "2022-04-28T09:07:33.769Z"
   },
   {
    "duration": 306,
    "start_time": "2022-04-28T09:07:57.597Z"
   },
   {
    "duration": 3512,
    "start_time": "2022-04-28T09:21:06.174Z"
   },
   {
    "duration": 9747,
    "start_time": "2022-04-28T09:25:31.628Z"
   },
   {
    "duration": 5276,
    "start_time": "2022-04-28T10:07:13.320Z"
   },
   {
    "duration": 72,
    "start_time": "2022-04-28T10:09:52.418Z"
   },
   {
    "duration": 5177,
    "start_time": "2022-04-28T10:10:59.106Z"
   },
   {
    "duration": 217,
    "start_time": "2022-04-28T10:11:50.591Z"
   },
   {
    "duration": 169,
    "start_time": "2022-04-28T10:12:26.663Z"
   },
   {
    "duration": 75,
    "start_time": "2022-04-28T10:14:54.970Z"
   },
   {
    "duration": 5980,
    "start_time": "2022-04-28T10:15:05.876Z"
   },
   {
    "duration": 660,
    "start_time": "2022-04-28T10:18:05.885Z"
   },
   {
    "duration": 194,
    "start_time": "2022-04-28T10:18:55.596Z"
   },
   {
    "duration": 179,
    "start_time": "2022-04-28T10:19:14.600Z"
   },
   {
    "duration": 194,
    "start_time": "2022-04-28T10:19:39.102Z"
   },
   {
    "duration": 97,
    "start_time": "2022-04-28T10:20:00.362Z"
   },
   {
    "duration": 5865,
    "start_time": "2022-04-28T10:20:06.466Z"
   },
   {
    "duration": 3092,
    "start_time": "2022-04-28T10:21:22.516Z"
   },
   {
    "duration": 2287,
    "start_time": "2022-04-28T10:21:45.215Z"
   },
   {
    "duration": 1548,
    "start_time": "2022-04-28T10:21:47.506Z"
   },
   {
    "duration": 389,
    "start_time": "2022-04-28T10:21:49.056Z"
   },
   {
    "duration": 460,
    "start_time": "2022-04-28T10:21:49.449Z"
   },
   {
    "duration": 5268,
    "start_time": "2022-04-28T10:21:49.911Z"
   },
   {
    "duration": 95,
    "start_time": "2022-04-28T10:21:55.182Z"
   },
   {
    "duration": 16,
    "start_time": "2022-04-28T10:21:55.280Z"
   },
   {
    "duration": 124,
    "start_time": "2022-04-28T10:21:55.298Z"
   },
   {
    "duration": 188,
    "start_time": "2022-04-28T10:21:55.424Z"
   },
   {
    "duration": 199,
    "start_time": "2022-04-28T10:21:55.617Z"
   },
   {
    "duration": 135,
    "start_time": "2022-04-28T10:21:55.818Z"
   },
   {
    "duration": 4,
    "start_time": "2022-04-28T10:21:55.955Z"
   },
   {
    "duration": 43,
    "start_time": "2022-04-28T10:21:55.961Z"
   },
   {
    "duration": 206,
    "start_time": "2022-04-28T10:21:56.007Z"
   },
   {
    "duration": 3157,
    "start_time": "2022-04-28T10:21:56.216Z"
   },
   {
    "duration": 0,
    "start_time": "2022-04-28T10:21:59.376Z"
   },
   {
    "duration": 66,
    "start_time": "2022-04-28T10:22:34.890Z"
   },
   {
    "duration": 5110,
    "start_time": "2022-04-28T10:22:34.960Z"
   },
   {
    "duration": 57,
    "start_time": "2022-04-28T10:22:40.073Z"
   },
   {
    "duration": 8,
    "start_time": "2022-04-28T10:22:40.151Z"
   },
   {
    "duration": 104,
    "start_time": "2022-04-28T10:22:40.161Z"
   },
   {
    "duration": 168,
    "start_time": "2022-04-28T10:22:40.267Z"
   },
   {
    "duration": 183,
    "start_time": "2022-04-28T10:22:40.437Z"
   },
   {
    "duration": 118,
    "start_time": "2022-04-28T10:22:40.623Z"
   },
   {
    "duration": 4,
    "start_time": "2022-04-28T10:22:40.751Z"
   },
   {
    "duration": 45,
    "start_time": "2022-04-28T10:22:40.758Z"
   },
   {
    "duration": 168,
    "start_time": "2022-04-28T10:22:40.805Z"
   },
   {
    "duration": 172,
    "start_time": "2022-04-28T10:22:40.976Z"
   },
   {
    "duration": 0,
    "start_time": "2022-04-28T10:22:41.153Z"
   },
   {
    "duration": 17,
    "start_time": "2022-04-28T10:25:08.446Z"
   },
   {
    "duration": 93,
    "start_time": "2022-04-28T10:25:29.311Z"
   },
   {
    "duration": 16,
    "start_time": "2022-04-28T10:25:47.821Z"
   },
   {
    "duration": 55,
    "start_time": "2022-04-28T10:25:55.183Z"
   },
   {
    "duration": 12,
    "start_time": "2022-04-28T10:26:08.298Z"
   },
   {
    "duration": 106,
    "start_time": "2022-04-28T10:26:16.536Z"
   },
   {
    "duration": 14,
    "start_time": "2022-04-28T10:26:29.394Z"
   },
   {
    "duration": 14,
    "start_time": "2022-04-28T10:26:38.379Z"
   },
   {
    "duration": 55,
    "start_time": "2022-04-28T10:26:45.275Z"
   },
   {
    "duration": 41,
    "start_time": "2022-04-28T10:26:54.463Z"
   },
   {
    "duration": 38,
    "start_time": "2022-04-28T10:27:02.719Z"
   },
   {
    "duration": 18,
    "start_time": "2022-04-28T10:27:09.841Z"
   },
   {
    "duration": 13,
    "start_time": "2022-04-28T10:27:20.589Z"
   },
   {
    "duration": 12,
    "start_time": "2022-04-28T10:27:30.040Z"
   },
   {
    "duration": 12,
    "start_time": "2022-04-28T10:27:38.771Z"
   },
   {
    "duration": 11,
    "start_time": "2022-04-28T10:35:24.132Z"
   },
   {
    "duration": 1504,
    "start_time": "2022-04-28T10:35:32.529Z"
   },
   {
    "duration": 2005,
    "start_time": "2022-04-28T10:36:28.924Z"
   },
   {
    "duration": 1119,
    "start_time": "2022-04-28T10:36:30.932Z"
   },
   {
    "duration": 396,
    "start_time": "2022-04-28T10:36:32.054Z"
   },
   {
    "duration": 422,
    "start_time": "2022-04-28T10:36:32.454Z"
   },
   {
    "duration": 4577,
    "start_time": "2022-04-28T10:36:32.879Z"
   },
   {
    "duration": 61,
    "start_time": "2022-04-28T10:36:37.458Z"
   },
   {
    "duration": 44,
    "start_time": "2022-04-28T10:36:37.521Z"
   },
   {
    "duration": 120,
    "start_time": "2022-04-28T10:36:37.567Z"
   },
   {
    "duration": 181,
    "start_time": "2022-04-28T10:36:37.689Z"
   },
   {
    "duration": 192,
    "start_time": "2022-04-28T10:36:37.873Z"
   },
   {
    "duration": 172,
    "start_time": "2022-04-28T10:36:38.067Z"
   },
   {
    "duration": 4,
    "start_time": "2022-04-28T10:36:38.241Z"
   },
   {
    "duration": 1641,
    "start_time": "2022-04-28T10:36:38.253Z"
   },
   {
    "duration": 249,
    "start_time": "2022-04-28T10:36:39.897Z"
   },
   {
    "duration": 484,
    "start_time": "2022-04-28T10:36:40.151Z"
   },
   {
    "duration": 35031,
    "start_time": "2022-04-28T10:36:40.637Z"
   },
   {
    "duration": 0,
    "start_time": "2022-04-28T10:37:15.670Z"
   },
   {
    "duration": 140,
    "start_time": "2022-04-28T10:38:31.338Z"
   },
   {
    "duration": 15,
    "start_time": "2022-04-28T10:38:44.228Z"
   },
   {
    "duration": 35344,
    "start_time": "2022-04-28T10:38:58.720Z"
   },
   {
    "duration": 34979,
    "start_time": "2022-04-28T10:39:58.774Z"
   },
   {
    "duration": 12080,
    "start_time": "2022-04-28T10:42:12.115Z"
   },
   {
    "duration": 3812,
    "start_time": "2022-04-28T11:08:32.009Z"
   },
   {
    "duration": 111,
    "start_time": "2022-04-28T11:25:38.798Z"
   },
   {
    "duration": 157,
    "start_time": "2022-04-28T11:25:49.831Z"
   },
   {
    "duration": 41,
    "start_time": "2022-04-28T11:26:08.731Z"
   },
   {
    "duration": 183566,
    "start_time": "2022-04-28T11:27:04.011Z"
   },
   {
    "duration": 187,
    "start_time": "2022-04-28T11:36:07.589Z"
   },
   {
    "duration": 24,
    "start_time": "2022-04-28T11:40:01.847Z"
   },
   {
    "duration": 614,
    "start_time": "2022-04-28T11:40:06.125Z"
   },
   {
    "duration": 1902,
    "start_time": "2022-04-28T11:40:18.059Z"
   },
   {
    "duration": 34,
    "start_time": "2022-04-28T11:40:19.963Z"
   },
   {
    "duration": 1106,
    "start_time": "2022-04-28T11:40:19.999Z"
   },
   {
    "duration": 386,
    "start_time": "2022-04-28T11:40:21.109Z"
   },
   {
    "duration": 425,
    "start_time": "2022-04-28T11:40:21.498Z"
   },
   {
    "duration": 5111,
    "start_time": "2022-04-28T11:40:21.925Z"
   },
   {
    "duration": 69,
    "start_time": "2022-04-28T11:40:27.038Z"
   },
   {
    "duration": 17,
    "start_time": "2022-04-28T11:40:27.110Z"
   },
   {
    "duration": 128,
    "start_time": "2022-04-28T11:40:27.130Z"
   },
   {
    "duration": 187,
    "start_time": "2022-04-28T11:40:27.264Z"
   },
   {
    "duration": 195,
    "start_time": "2022-04-28T11:40:27.454Z"
   },
   {
    "duration": 126,
    "start_time": "2022-04-28T11:40:27.651Z"
   },
   {
    "duration": 4,
    "start_time": "2022-04-28T11:40:27.780Z"
   },
   {
    "duration": 1430,
    "start_time": "2022-04-28T11:40:27.787Z"
   },
   {
    "duration": 42,
    "start_time": "2022-04-28T11:40:29.219Z"
   },
   {
    "duration": 181,
    "start_time": "2022-04-28T11:40:29.263Z"
   },
   {
    "duration": 748,
    "start_time": "2022-04-28T11:40:29.446Z"
   },
   {
    "duration": 37557,
    "start_time": "2022-04-28T11:40:30.196Z"
   },
   {
    "duration": 366,
    "start_time": "2022-04-28T11:41:07.756Z"
   },
   {
    "duration": 1,
    "start_time": "2022-04-28T11:41:08.124Z"
   },
   {
    "duration": 120,
    "start_time": "2022-04-28T15:30:39.243Z"
   },
   {
    "duration": 9,
    "start_time": "2022-04-28T15:31:43.870Z"
   },
   {
    "duration": 2746,
    "start_time": "2022-04-28T15:31:58.545Z"
   },
   {
    "duration": 43,
    "start_time": "2022-04-28T15:32:01.294Z"
   },
   {
    "duration": 1408,
    "start_time": "2022-04-28T15:32:01.341Z"
   },
   {
    "duration": 775,
    "start_time": "2022-04-28T15:32:02.753Z"
   },
   {
    "duration": 716,
    "start_time": "2022-04-28T15:32:03.534Z"
   },
   {
    "duration": 9813,
    "start_time": "2022-04-28T15:32:04.254Z"
   },
   {
    "duration": 86,
    "start_time": "2022-04-28T15:32:14.071Z"
   },
   {
    "duration": 20,
    "start_time": "2022-04-28T15:32:14.161Z"
   },
   {
    "duration": 165,
    "start_time": "2022-04-28T15:32:14.183Z"
   },
   {
    "duration": 212,
    "start_time": "2022-04-28T15:32:14.350Z"
   },
   {
    "duration": 215,
    "start_time": "2022-04-28T15:32:14.564Z"
   },
   {
    "duration": 204,
    "start_time": "2022-04-28T15:32:14.782Z"
   },
   {
    "duration": 4,
    "start_time": "2022-04-28T15:32:14.989Z"
   },
   {
    "duration": 2305,
    "start_time": "2022-04-28T15:32:14.997Z"
   },
   {
    "duration": 49,
    "start_time": "2022-04-28T15:32:17.305Z"
   },
   {
    "duration": 290,
    "start_time": "2022-04-28T15:32:17.357Z"
   },
   {
    "duration": 1052,
    "start_time": "2022-04-28T15:32:17.650Z"
   },
   {
    "duration": 37326,
    "start_time": "2022-04-28T15:32:18.705Z"
   },
   {
    "duration": 17665,
    "start_time": "2022-04-28T15:32:56.048Z"
   },
   {
    "duration": 227,
    "start_time": "2022-04-28T15:33:13.724Z"
   },
   {
    "duration": 0,
    "start_time": "2022-04-28T15:33:13.954Z"
   },
   {
    "duration": 24,
    "start_time": "2022-04-28T15:34:07.903Z"
   },
   {
    "duration": 110,
    "start_time": "2022-04-28T15:34:52.973Z"
   },
   {
    "duration": 4180,
    "start_time": "2022-04-28T15:34:58.611Z"
   },
   {
    "duration": 224,
    "start_time": "2022-04-28T15:36:14.019Z"
   },
   {
    "duration": 246,
    "start_time": "2022-04-28T15:36:35.564Z"
   },
   {
    "duration": 4165,
    "start_time": "2022-04-28T15:36:44.704Z"
   },
   {
    "duration": 61,
    "start_time": "2022-04-28T15:41:09.384Z"
   },
   {
    "duration": 16,
    "start_time": "2022-04-28T15:41:47.904Z"
   },
   {
    "duration": 159,
    "start_time": "2022-04-28T15:42:12.917Z"
   },
   {
    "duration": 314,
    "start_time": "2022-04-28T15:45:29.910Z"
   },
   {
    "duration": 46,
    "start_time": "2022-04-28T15:45:43.842Z"
   },
   {
    "duration": 211,
    "start_time": "2022-04-28T15:45:46.341Z"
   },
   {
    "duration": 735,
    "start_time": "2022-04-28T15:45:48.966Z"
   },
   {
    "duration": 17259,
    "start_time": "2022-04-28T15:45:56.589Z"
   },
   {
    "duration": 2138,
    "start_time": "2022-05-01T09:18:52.741Z"
   },
   {
    "duration": 197,
    "start_time": "2022-05-01T09:18:54.881Z"
   },
   {
    "duration": 0,
    "start_time": "2022-05-01T09:18:55.080Z"
   },
   {
    "duration": 0,
    "start_time": "2022-05-01T09:18:55.082Z"
   },
   {
    "duration": 0,
    "start_time": "2022-05-01T09:18:55.083Z"
   },
   {
    "duration": 0,
    "start_time": "2022-05-01T09:18:55.084Z"
   },
   {
    "duration": 0,
    "start_time": "2022-05-01T09:18:55.086Z"
   },
   {
    "duration": 0,
    "start_time": "2022-05-01T09:18:55.087Z"
   },
   {
    "duration": 0,
    "start_time": "2022-05-01T09:18:55.088Z"
   },
   {
    "duration": 0,
    "start_time": "2022-05-01T09:18:55.089Z"
   },
   {
    "duration": 0,
    "start_time": "2022-05-01T09:18:55.090Z"
   },
   {
    "duration": 0,
    "start_time": "2022-05-01T09:18:55.091Z"
   },
   {
    "duration": 0,
    "start_time": "2022-05-01T09:18:55.092Z"
   },
   {
    "duration": 0,
    "start_time": "2022-05-01T09:18:55.093Z"
   },
   {
    "duration": 0,
    "start_time": "2022-05-01T09:18:55.094Z"
   },
   {
    "duration": 0,
    "start_time": "2022-05-01T09:18:55.095Z"
   },
   {
    "duration": 0,
    "start_time": "2022-05-01T09:18:55.096Z"
   },
   {
    "duration": 0,
    "start_time": "2022-05-01T09:18:55.097Z"
   },
   {
    "duration": 0,
    "start_time": "2022-05-01T09:18:55.098Z"
   },
   {
    "duration": 0,
    "start_time": "2022-05-01T09:18:55.099Z"
   },
   {
    "duration": 0,
    "start_time": "2022-05-01T09:18:55.100Z"
   },
   {
    "duration": 0,
    "start_time": "2022-05-01T09:18:55.101Z"
   },
   {
    "duration": 25,
    "start_time": "2022-05-01T09:24:51.665Z"
   },
   {
    "duration": 3,
    "start_time": "2022-05-01T09:25:09.374Z"
   },
   {
    "duration": 1031,
    "start_time": "2022-05-01T09:25:09.382Z"
   },
   {
    "duration": 350,
    "start_time": "2022-05-01T09:25:10.416Z"
   },
   {
    "duration": 361,
    "start_time": "2022-05-01T09:25:10.768Z"
   },
   {
    "duration": 3462,
    "start_time": "2022-05-01T09:25:11.131Z"
   },
   {
    "duration": 61,
    "start_time": "2022-05-01T09:25:14.596Z"
   },
   {
    "duration": 13,
    "start_time": "2022-05-01T09:25:14.658Z"
   },
   {
    "duration": 99,
    "start_time": "2022-05-01T09:25:14.673Z"
   },
   {
    "duration": 158,
    "start_time": "2022-05-01T09:25:14.774Z"
   },
   {
    "duration": 133,
    "start_time": "2022-05-01T09:25:14.934Z"
   },
   {
    "duration": 150,
    "start_time": "2022-05-01T09:25:15.068Z"
   },
   {
    "duration": 313,
    "start_time": "2022-05-01T09:25:15.219Z"
   },
   {
    "duration": 2,
    "start_time": "2022-05-01T09:25:15.541Z"
   },
   {
    "duration": 1204,
    "start_time": "2022-05-01T09:25:15.548Z"
   },
   {
    "duration": 20,
    "start_time": "2022-05-01T09:25:16.756Z"
   },
   {
    "duration": 117,
    "start_time": "2022-05-01T09:25:16.778Z"
   },
   {
    "duration": 693,
    "start_time": "2022-05-01T09:25:16.897Z"
   },
   {
    "duration": 67746,
    "start_time": "2022-05-01T09:25:17.592Z"
   },
   {
    "duration": 10152,
    "start_time": "2022-05-01T09:26:25.340Z"
   },
   {
    "duration": 8258,
    "start_time": "2022-05-01T09:26:35.494Z"
   },
   {
    "duration": 146,
    "start_time": "2022-05-01T09:26:43.753Z"
   },
   {
    "duration": 386714,
    "start_time": "2022-05-01T09:30:05.711Z"
   },
   {
    "duration": 824,
    "start_time": "2022-05-01T09:42:55.683Z"
   },
   {
    "duration": 24,
    "start_time": "2022-05-01T09:43:25.578Z"
   },
   {
    "duration": 277,
    "start_time": "2022-05-01T10:03:16.339Z"
   },
   {
    "duration": 5,
    "start_time": "2022-05-01T10:04:09.112Z"
   },
   {
    "duration": 1729,
    "start_time": "2022-05-01T10:43:17.800Z"
   },
   {
    "duration": 26,
    "start_time": "2022-05-01T10:43:19.531Z"
   },
   {
    "duration": 1017,
    "start_time": "2022-05-01T10:43:19.558Z"
   },
   {
    "duration": 297,
    "start_time": "2022-05-01T10:43:20.578Z"
   },
   {
    "duration": 304,
    "start_time": "2022-05-01T10:43:20.876Z"
   },
   {
    "duration": 3330,
    "start_time": "2022-05-01T10:43:21.182Z"
   },
   {
    "duration": 54,
    "start_time": "2022-05-01T10:43:24.514Z"
   },
   {
    "duration": 13,
    "start_time": "2022-05-01T10:43:24.570Z"
   },
   {
    "duration": 146,
    "start_time": "2022-05-01T10:43:24.586Z"
   },
   {
    "duration": 154,
    "start_time": "2022-05-01T10:43:24.735Z"
   },
   {
    "duration": 155,
    "start_time": "2022-05-01T10:43:24.891Z"
   },
   {
    "duration": 133,
    "start_time": "2022-05-01T10:43:25.048Z"
   },
   {
    "duration": 208,
    "start_time": "2022-05-01T10:43:25.182Z"
   },
   {
    "duration": 3,
    "start_time": "2022-05-01T10:43:25.392Z"
   },
   {
    "duration": 1033,
    "start_time": "2022-05-01T10:43:25.397Z"
   },
   {
    "duration": 19,
    "start_time": "2022-05-01T10:43:26.436Z"
   },
   {
    "duration": 106,
    "start_time": "2022-05-01T10:43:26.457Z"
   },
   {
    "duration": 880,
    "start_time": "2022-05-01T10:43:26.565Z"
   },
   {
    "duration": 34181,
    "start_time": "2022-05-01T10:43:27.448Z"
   },
   {
    "duration": 12316,
    "start_time": "2022-05-01T10:44:01.638Z"
   },
   {
    "duration": 107,
    "start_time": "2022-05-01T10:44:13.955Z"
   },
   {
    "duration": 0,
    "start_time": "2022-05-01T10:44:14.064Z"
   },
   {
    "duration": 0,
    "start_time": "2022-05-01T10:44:14.066Z"
   },
   {
    "duration": 8999,
    "start_time": "2022-05-01T10:45:43.325Z"
   },
   {
    "duration": 1082260,
    "start_time": "2022-05-01T10:46:31.719Z"
   },
   {
    "duration": 4508,
    "start_time": "2022-05-01T11:06:00.363Z"
   },
   {
    "duration": 6,
    "start_time": "2022-05-01T11:06:25.137Z"
   },
   {
    "duration": 332,
    "start_time": "2022-05-01T11:07:00.384Z"
   },
   {
    "duration": 218,
    "start_time": "2022-05-01T11:07:53.201Z"
   },
   {
    "duration": 379829,
    "start_time": "2022-05-01T11:15:26.671Z"
   },
   {
    "duration": 4,
    "start_time": "2022-05-01T11:24:37.120Z"
   },
   {
    "duration": 15,
    "start_time": "2022-05-01T11:24:40.723Z"
   },
   {
    "duration": 1716,
    "start_time": "2022-05-01T11:53:41.033Z"
   },
   {
    "duration": 23,
    "start_time": "2022-05-01T11:53:42.752Z"
   },
   {
    "duration": 984,
    "start_time": "2022-05-01T11:53:42.777Z"
   },
   {
    "duration": 422,
    "start_time": "2022-05-01T11:53:43.763Z"
   },
   {
    "duration": 329,
    "start_time": "2022-05-01T11:53:44.187Z"
   },
   {
    "duration": 3309,
    "start_time": "2022-05-01T11:53:44.517Z"
   },
   {
    "duration": 51,
    "start_time": "2022-05-01T11:53:47.828Z"
   },
   {
    "duration": 13,
    "start_time": "2022-05-01T11:53:47.881Z"
   },
   {
    "duration": 112,
    "start_time": "2022-05-01T11:53:47.895Z"
   },
   {
    "duration": 150,
    "start_time": "2022-05-01T11:53:48.010Z"
   },
   {
    "duration": 129,
    "start_time": "2022-05-01T11:53:48.161Z"
   },
   {
    "duration": 174,
    "start_time": "2022-05-01T11:53:48.292Z"
   },
   {
    "duration": 236,
    "start_time": "2022-05-01T11:53:48.467Z"
   },
   {
    "duration": 2,
    "start_time": "2022-05-01T11:53:48.705Z"
   },
   {
    "duration": 958,
    "start_time": "2022-05-01T11:53:48.709Z"
   },
   {
    "duration": 19,
    "start_time": "2022-05-01T11:53:49.669Z"
   },
   {
    "duration": 105,
    "start_time": "2022-05-01T11:53:49.690Z"
   },
   {
    "duration": 564,
    "start_time": "2022-05-01T11:53:49.797Z"
   },
   {
    "duration": 38068,
    "start_time": "2022-05-01T11:53:50.363Z"
   },
   {
    "duration": 11155,
    "start_time": "2022-05-01T11:54:28.434Z"
   },
   {
    "duration": 7055,
    "start_time": "2022-05-01T11:54:39.591Z"
   },
   {
    "duration": 4793,
    "start_time": "2022-05-01T11:54:46.647Z"
   },
   {
    "duration": 3,
    "start_time": "2022-05-01T11:54:51.442Z"
   },
   {
    "duration": 1848,
    "start_time": "2022-05-01T12:26:13.176Z"
   },
   {
    "duration": 27,
    "start_time": "2022-05-01T12:26:15.026Z"
   },
   {
    "duration": 1033,
    "start_time": "2022-05-01T12:26:15.054Z"
   },
   {
    "duration": 334,
    "start_time": "2022-05-01T12:26:16.090Z"
   },
   {
    "duration": 332,
    "start_time": "2022-05-01T12:26:16.426Z"
   },
   {
    "duration": 3672,
    "start_time": "2022-05-01T12:26:16.760Z"
   },
   {
    "duration": 48,
    "start_time": "2022-05-01T12:26:20.434Z"
   },
   {
    "duration": 14,
    "start_time": "2022-05-01T12:26:20.484Z"
   },
   {
    "duration": 109,
    "start_time": "2022-05-01T12:26:20.500Z"
   },
   {
    "duration": 151,
    "start_time": "2022-05-01T12:26:20.622Z"
   },
   {
    "duration": 116,
    "start_time": "2022-05-01T12:26:20.776Z"
   },
   {
    "duration": 142,
    "start_time": "2022-05-01T12:26:20.893Z"
   },
   {
    "duration": 210,
    "start_time": "2022-05-01T12:26:21.037Z"
   },
   {
    "duration": 3,
    "start_time": "2022-05-01T12:26:21.249Z"
   },
   {
    "duration": 1054,
    "start_time": "2022-05-01T12:26:21.253Z"
   },
   {
    "duration": 28,
    "start_time": "2022-05-01T12:26:22.308Z"
   },
   {
    "duration": 106,
    "start_time": "2022-05-01T12:26:22.338Z"
   },
   {
    "duration": 576,
    "start_time": "2022-05-01T12:26:22.446Z"
   },
   {
    "duration": 36117,
    "start_time": "2022-05-01T12:26:23.024Z"
   },
   {
    "duration": 11145,
    "start_time": "2022-05-01T12:26:59.144Z"
   },
   {
    "duration": 6647,
    "start_time": "2022-05-01T12:27:10.291Z"
   },
   {
    "duration": 5003,
    "start_time": "2022-05-01T12:27:16.942Z"
   },
   {
    "duration": 3,
    "start_time": "2022-05-01T12:27:21.947Z"
   },
   {
    "duration": 23,
    "start_time": "2022-05-01T12:27:21.952Z"
   },
   {
    "duration": 1678,
    "start_time": "2022-05-01T12:33:40.919Z"
   },
   {
    "duration": 24,
    "start_time": "2022-05-01T12:33:42.599Z"
   },
   {
    "duration": 950,
    "start_time": "2022-05-01T12:33:42.625Z"
   },
   {
    "duration": 311,
    "start_time": "2022-05-01T12:33:43.577Z"
   },
   {
    "duration": 331,
    "start_time": "2022-05-01T12:33:43.890Z"
   },
   {
    "duration": 3283,
    "start_time": "2022-05-01T12:33:44.226Z"
   },
   {
    "duration": 48,
    "start_time": "2022-05-01T12:33:47.511Z"
   },
   {
    "duration": 12,
    "start_time": "2022-05-01T12:33:47.561Z"
   },
   {
    "duration": 101,
    "start_time": "2022-05-01T12:33:47.575Z"
   },
   {
    "duration": 148,
    "start_time": "2022-05-01T12:33:47.679Z"
   },
   {
    "duration": 123,
    "start_time": "2022-05-01T12:33:47.830Z"
   },
   {
    "duration": 143,
    "start_time": "2022-05-01T12:33:47.955Z"
   },
   {
    "duration": 203,
    "start_time": "2022-05-01T12:33:48.100Z"
   },
   {
    "duration": 3,
    "start_time": "2022-05-01T12:33:48.305Z"
   },
   {
    "duration": 970,
    "start_time": "2022-05-01T12:33:48.309Z"
   },
   {
    "duration": 29,
    "start_time": "2022-05-01T12:33:49.281Z"
   },
   {
    "duration": 104,
    "start_time": "2022-05-01T12:33:49.312Z"
   },
   {
    "duration": 566,
    "start_time": "2022-05-01T12:33:49.425Z"
   },
   {
    "duration": 34943,
    "start_time": "2022-05-01T12:33:49.992Z"
   },
   {
    "duration": 9341,
    "start_time": "2022-05-01T12:34:24.937Z"
   },
   {
    "duration": 6778,
    "start_time": "2022-05-01T12:34:34.280Z"
   },
   {
    "duration": 4388,
    "start_time": "2022-05-01T12:34:41.060Z"
   },
   {
    "duration": 2,
    "start_time": "2022-05-01T12:34:45.451Z"
   },
   {
    "duration": 12,
    "start_time": "2022-05-01T12:34:45.455Z"
   },
   {
    "duration": 2851,
    "start_time": "2022-05-01T13:01:32.914Z"
   },
   {
    "duration": 35,
    "start_time": "2022-05-01T13:01:35.768Z"
   },
   {
    "duration": 1457,
    "start_time": "2022-05-01T13:01:35.806Z"
   },
   {
    "duration": 427,
    "start_time": "2022-05-01T13:01:37.267Z"
   },
   {
    "duration": 483,
    "start_time": "2022-05-01T13:01:37.697Z"
   },
   {
    "duration": 4522,
    "start_time": "2022-05-01T13:01:38.183Z"
   },
   {
    "duration": 64,
    "start_time": "2022-05-01T13:01:42.707Z"
   },
   {
    "duration": 13,
    "start_time": "2022-05-01T13:01:42.773Z"
   },
   {
    "duration": 107,
    "start_time": "2022-05-01T13:01:42.788Z"
   },
   {
    "duration": 176,
    "start_time": "2022-05-01T13:01:42.898Z"
   },
   {
    "duration": 132,
    "start_time": "2022-05-01T13:01:43.076Z"
   },
   {
    "duration": 142,
    "start_time": "2022-05-01T13:01:43.210Z"
   },
   {
    "duration": 226,
    "start_time": "2022-05-01T13:01:43.355Z"
   },
   {
    "duration": 4,
    "start_time": "2022-05-01T13:01:43.585Z"
   },
   {
    "duration": 972,
    "start_time": "2022-05-01T13:01:43.591Z"
   },
   {
    "duration": 18,
    "start_time": "2022-05-01T13:01:44.565Z"
   },
   {
    "duration": 118,
    "start_time": "2022-05-01T13:01:44.585Z"
   },
   {
    "duration": 569,
    "start_time": "2022-05-01T13:01:44.705Z"
   },
   {
    "duration": 38868,
    "start_time": "2022-05-01T13:01:45.275Z"
   },
   {
    "duration": 12651,
    "start_time": "2022-05-01T13:02:24.149Z"
   },
   {
    "duration": 8870,
    "start_time": "2022-05-01T13:02:36.802Z"
   },
   {
    "duration": 5426,
    "start_time": "2022-05-01T13:02:45.674Z"
   },
   {
    "duration": 3,
    "start_time": "2022-05-01T13:02:51.102Z"
   },
   {
    "duration": 13,
    "start_time": "2022-05-01T13:02:51.107Z"
   },
   {
    "duration": 1090136,
    "start_time": "2022-05-01T13:02:51.126Z"
   },
   {
    "duration": 3473,
    "start_time": "2022-05-01T13:21:01.264Z"
   },
   {
    "duration": 432234,
    "start_time": "2022-05-01T13:21:04.741Z"
   },
   {
    "duration": 1656,
    "start_time": "2022-05-02T09:06:40.033Z"
   },
   {
    "duration": 21,
    "start_time": "2022-05-02T09:06:41.690Z"
   },
   {
    "duration": 823,
    "start_time": "2022-05-02T09:06:41.712Z"
   },
   {
    "duration": 257,
    "start_time": "2022-05-02T09:06:42.537Z"
   },
   {
    "duration": 267,
    "start_time": "2022-05-02T09:06:42.796Z"
   },
   {
    "duration": 2783,
    "start_time": "2022-05-02T09:06:43.064Z"
   },
   {
    "duration": 40,
    "start_time": "2022-05-02T09:06:45.848Z"
   },
   {
    "duration": 11,
    "start_time": "2022-05-02T09:06:45.900Z"
   },
   {
    "duration": 66,
    "start_time": "2022-05-02T09:06:45.913Z"
   },
   {
    "duration": 131,
    "start_time": "2022-05-02T09:06:45.981Z"
   },
   {
    "duration": 101,
    "start_time": "2022-05-02T09:06:46.114Z"
   },
   {
    "duration": 116,
    "start_time": "2022-05-02T09:06:46.217Z"
   },
   {
    "duration": 160,
    "start_time": "2022-05-02T09:06:46.334Z"
   },
   {
    "duration": 2,
    "start_time": "2022-05-02T09:06:46.500Z"
   },
   {
    "duration": 814,
    "start_time": "2022-05-02T09:06:46.504Z"
   },
   {
    "duration": 17,
    "start_time": "2022-05-02T09:06:47.319Z"
   },
   {
    "duration": 99,
    "start_time": "2022-05-02T09:06:47.337Z"
   },
   {
    "duration": 532,
    "start_time": "2022-05-02T09:06:47.438Z"
   },
   {
    "duration": 3,
    "start_time": "2022-05-02T09:07:00.575Z"
   },
   {
    "duration": 3,
    "start_time": "2022-05-02T09:08:21.839Z"
   },
   {
    "duration": 3,
    "start_time": "2022-05-02T09:08:24.421Z"
   },
   {
    "duration": 51314,
    "start_time": "2022-05-02T09:08:28.793Z"
   },
   {
    "duration": 1478,
    "start_time": "2022-05-02T09:09:33.942Z"
   }
  ],
  "kernelspec": {
   "display_name": "Python 3 (ipykernel)",
   "language": "python",
   "name": "python3"
  },
  "language_info": {
   "codemirror_mode": {
    "name": "ipython",
    "version": 3
   },
   "file_extension": ".py",
   "mimetype": "text/x-python",
   "name": "python",
   "nbconvert_exporter": "python",
   "pygments_lexer": "ipython3",
   "version": "3.9.7"
  },
  "toc": {
   "base_numbering": 1,
   "nav_menu": {},
   "number_sections": true,
   "sideBar": true,
   "skip_h1_title": true,
   "title_cell": "Table of Contents",
   "title_sidebar": "Contents",
   "toc_cell": false,
   "toc_position": {},
   "toc_section_display": true,
   "toc_window_display": false
  }
 },
 "nbformat": 4,
 "nbformat_minor": 2
}
