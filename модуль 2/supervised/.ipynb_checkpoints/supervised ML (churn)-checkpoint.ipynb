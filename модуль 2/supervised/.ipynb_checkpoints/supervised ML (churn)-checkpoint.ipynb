{
 "cells": [
  {
   "cell_type": "markdown",
   "metadata": {},
   "source": [
    "# Отток клиентов"
   ]
  },
  {
   "cell_type": "markdown",
   "metadata": {},
   "source": [
    "Из «Бета-Банка» стали уходить клиенты. Каждый месяц. Немного, но заметно. Банковские маркетологи посчитали: сохранять текущих клиентов дешевле, чем привлекать новых.\n",
    "\n",
    "Нужно спрогнозировать, уйдёт клиент из банка в ближайшее время или нет. Вам предоставлены исторические данные о поведении клиентов и расторжении договоров с банком. \n",
    "\n",
    "Постройте модель с предельно большим значением *F1*-меры. Чтобы сдать проект успешно, нужно довести метрику до 0.59. Проверьте *F1*-меру на тестовой выборке самостоятельно.\n",
    "\n",
    "Дополнительно измеряйте *AUC-ROC*, сравнивайте её значение с *F1*-мерой.\n",
    "\n",
    "Источник данных: [https://www.kaggle.com/barelydedicated/bank-customer-churn-modeling](https://www.kaggle.com/barelydedicated/bank-customer-churn-modeling)"
   ]
  },
  {
   "cell_type": "markdown",
   "metadata": {
    "toc": true
   },
   "source": [
    "<h1>Содержание<span class=\"tocSkip\"></span></h1>\n",
    "<div class=\"toc\"><ul class=\"toc-item\"><li><span><a href=\"#Подготовка-данных\" data-toc-modified-id=\"Подготовка-данных-1\"><span class=\"toc-item-num\">1&nbsp;&nbsp;</span>Подготовка данных</a></span></li><li><span><a href=\"#Исследование-задачи\" data-toc-modified-id=\"Исследование-задачи-2\"><span class=\"toc-item-num\">2&nbsp;&nbsp;</span>Исследование задачи</a></span></li><li><span><a href=\"#Борьба-с-дисбалансом\" data-toc-modified-id=\"Борьба-с-дисбалансом-3\"><span class=\"toc-item-num\">3&nbsp;&nbsp;</span>Борьба с дисбалансом</a></span><ul class=\"toc-item\"><li><span><a href=\"#Соотношение-классов\" data-toc-modified-id=\"Соотношение-классов-3.1\"><span class=\"toc-item-num\">3.1&nbsp;&nbsp;</span>Соотношение классов</a></span></li><li><span><a href=\"#Подбор-гиперпараметров-модели\" data-toc-modified-id=\"Подбор-гиперпараметров-модели-3.2\"><span class=\"toc-item-num\">3.2&nbsp;&nbsp;</span>Подбор гиперпараметров модели</a></span></li></ul></li><li><span><a href=\"#Тестирование-модели\" data-toc-modified-id=\"Тестирование-модели-4\"><span class=\"toc-item-num\">4&nbsp;&nbsp;</span>Тестирование модели</a></span><ul class=\"toc-item\"><li><span><a href=\"#Тестовая-выборка\" data-toc-modified-id=\"Тестовая-выборка-4.1\"><span class=\"toc-item-num\">4.1&nbsp;&nbsp;</span>Тестовая выборка</a></span></li><li><span><a href=\"#AUC-ROC\" data-toc-modified-id=\"AUC-ROC-4.2\"><span class=\"toc-item-num\">4.2&nbsp;&nbsp;</span>AUC-ROC</a></span></li><li><span><a href=\"#Выводы\" data-toc-modified-id=\"Выводы-4.3\"><span class=\"toc-item-num\">4.3&nbsp;&nbsp;</span>Выводы</a></span></li></ul></li><li><span><a href=\"#Чек-лист-готовности-проекта\" data-toc-modified-id=\"Чек-лист-готовности-проекта-5\"><span class=\"toc-item-num\">5&nbsp;&nbsp;</span>Чек-лист готовности проекта</a></span></li></ul></div>"
   ]
  },
  {
   "cell_type": "markdown",
   "metadata": {},
   "source": [
    "## Подготовка данных"
   ]
  },
  {
   "cell_type": "code",
   "execution_count": 1,
   "metadata": {
    "scrolled": false
   },
   "outputs": [
    {
     "data": {
      "text/html": [
       "<div>\n",
       "<style scoped>\n",
       "    .dataframe tbody tr th:only-of-type {\n",
       "        vertical-align: middle;\n",
       "    }\n",
       "\n",
       "    .dataframe tbody tr th {\n",
       "        vertical-align: top;\n",
       "    }\n",
       "\n",
       "    .dataframe thead th {\n",
       "        text-align: right;\n",
       "    }\n",
       "</style>\n",
       "<table border=\"1\" class=\"dataframe\">\n",
       "  <thead>\n",
       "    <tr style=\"text-align: right;\">\n",
       "      <th></th>\n",
       "      <th>RowNumber</th>\n",
       "      <th>CustomerId</th>\n",
       "      <th>Surname</th>\n",
       "      <th>CreditScore</th>\n",
       "      <th>Geography</th>\n",
       "      <th>Gender</th>\n",
       "      <th>Age</th>\n",
       "      <th>Tenure</th>\n",
       "      <th>Balance</th>\n",
       "      <th>NumOfProducts</th>\n",
       "      <th>HasCrCard</th>\n",
       "      <th>IsActiveMember</th>\n",
       "      <th>EstimatedSalary</th>\n",
       "      <th>Exited</th>\n",
       "    </tr>\n",
       "  </thead>\n",
       "  <tbody>\n",
       "    <tr>\n",
       "      <td>9995</td>\n",
       "      <td>9996</td>\n",
       "      <td>15606229</td>\n",
       "      <td>Obijiaku</td>\n",
       "      <td>771</td>\n",
       "      <td>France</td>\n",
       "      <td>Male</td>\n",
       "      <td>39</td>\n",
       "      <td>5.0</td>\n",
       "      <td>0.00</td>\n",
       "      <td>2</td>\n",
       "      <td>1</td>\n",
       "      <td>0</td>\n",
       "      <td>96270.64</td>\n",
       "      <td>0</td>\n",
       "    </tr>\n",
       "    <tr>\n",
       "      <td>9996</td>\n",
       "      <td>9997</td>\n",
       "      <td>15569892</td>\n",
       "      <td>Johnstone</td>\n",
       "      <td>516</td>\n",
       "      <td>France</td>\n",
       "      <td>Male</td>\n",
       "      <td>35</td>\n",
       "      <td>10.0</td>\n",
       "      <td>57369.61</td>\n",
       "      <td>1</td>\n",
       "      <td>1</td>\n",
       "      <td>1</td>\n",
       "      <td>101699.77</td>\n",
       "      <td>0</td>\n",
       "    </tr>\n",
       "    <tr>\n",
       "      <td>9997</td>\n",
       "      <td>9998</td>\n",
       "      <td>15584532</td>\n",
       "      <td>Liu</td>\n",
       "      <td>709</td>\n",
       "      <td>France</td>\n",
       "      <td>Female</td>\n",
       "      <td>36</td>\n",
       "      <td>7.0</td>\n",
       "      <td>0.00</td>\n",
       "      <td>1</td>\n",
       "      <td>0</td>\n",
       "      <td>1</td>\n",
       "      <td>42085.58</td>\n",
       "      <td>1</td>\n",
       "    </tr>\n",
       "    <tr>\n",
       "      <td>9998</td>\n",
       "      <td>9999</td>\n",
       "      <td>15682355</td>\n",
       "      <td>Sabbatini</td>\n",
       "      <td>772</td>\n",
       "      <td>Germany</td>\n",
       "      <td>Male</td>\n",
       "      <td>42</td>\n",
       "      <td>3.0</td>\n",
       "      <td>75075.31</td>\n",
       "      <td>2</td>\n",
       "      <td>1</td>\n",
       "      <td>0</td>\n",
       "      <td>92888.52</td>\n",
       "      <td>1</td>\n",
       "    </tr>\n",
       "    <tr>\n",
       "      <td>9999</td>\n",
       "      <td>10000</td>\n",
       "      <td>15628319</td>\n",
       "      <td>Walker</td>\n",
       "      <td>792</td>\n",
       "      <td>France</td>\n",
       "      <td>Female</td>\n",
       "      <td>28</td>\n",
       "      <td>NaN</td>\n",
       "      <td>130142.79</td>\n",
       "      <td>1</td>\n",
       "      <td>1</td>\n",
       "      <td>0</td>\n",
       "      <td>38190.78</td>\n",
       "      <td>0</td>\n",
       "    </tr>\n",
       "  </tbody>\n",
       "</table>\n",
       "</div>"
      ],
      "text/plain": [
       "      RowNumber  CustomerId    Surname  CreditScore Geography  Gender  Age  \\\n",
       "9995       9996    15606229   Obijiaku          771    France    Male   39   \n",
       "9996       9997    15569892  Johnstone          516    France    Male   35   \n",
       "9997       9998    15584532        Liu          709    France  Female   36   \n",
       "9998       9999    15682355  Sabbatini          772   Germany    Male   42   \n",
       "9999      10000    15628319     Walker          792    France  Female   28   \n",
       "\n",
       "      Tenure    Balance  NumOfProducts  HasCrCard  IsActiveMember  \\\n",
       "9995     5.0       0.00              2          1               0   \n",
       "9996    10.0   57369.61              1          1               1   \n",
       "9997     7.0       0.00              1          0               1   \n",
       "9998     3.0   75075.31              2          1               0   \n",
       "9999     NaN  130142.79              1          1               0   \n",
       "\n",
       "      EstimatedSalary  Exited  \n",
       "9995         96270.64       0  \n",
       "9996        101699.77       0  \n",
       "9997         42085.58       1  \n",
       "9998         92888.52       1  \n",
       "9999         38190.78       0  "
      ]
     },
     "metadata": {},
     "output_type": "display_data"
    },
    {
     "name": "stdout",
     "output_type": "stream",
     "text": [
      "<class 'pandas.core.frame.DataFrame'>\n",
      "RangeIndex: 10000 entries, 0 to 9999\n",
      "Data columns (total 14 columns):\n",
      "RowNumber          10000 non-null int64\n",
      "CustomerId         10000 non-null int64\n",
      "Surname            10000 non-null object\n",
      "CreditScore        10000 non-null int64\n",
      "Geography          10000 non-null object\n",
      "Gender             10000 non-null object\n",
      "Age                10000 non-null int64\n",
      "Tenure             9091 non-null float64\n",
      "Balance            10000 non-null float64\n",
      "NumOfProducts      10000 non-null int64\n",
      "HasCrCard          10000 non-null int64\n",
      "IsActiveMember     10000 non-null int64\n",
      "EstimatedSalary    10000 non-null float64\n",
      "Exited             10000 non-null int64\n",
      "dtypes: float64(3), int64(8), object(3)\n",
      "memory usage: 1.1+ MB\n"
     ]
    }
   ],
   "source": [
    "import pandas as pd\n",
    "import numpy as np\n",
    "import matplotlib.pyplot as plt\n",
    "\n",
    "from sklearn.model_selection import train_test_split\n",
    "from sklearn.linear_model import LogisticRegression\n",
    "from sklearn.tree import DecisionTreeClassifier\n",
    "from sklearn.ensemble import RandomForestClassifier\n",
    "from sklearn.preprocessing import StandardScaler \n",
    "from sklearn.metrics import f1_score\n",
    "from sklearn.utils import shuffle\n",
    "from sklearn.metrics import roc_curve\n",
    "from sklearn.metrics import roc_auc_score \n",
    "from random import randint\n",
    "\n",
    "try:\n",
    "    data = pd.read_csv('Churn.csv')\n",
    "except:\n",
    "    data = pd.read_csv('/datasets/Churn.csv')\n",
    "\n",
    "display(data.tail())\n",
    "data.info()\n"
   ]
  },
  {
   "cell_type": "markdown",
   "metadata": {},
   "source": [
    "В исследуемом датасете для прогноза используются следующие признаки: \n",
    "RowNumber — индекс строки в данных\n",
    "CustomerId — уникальный идентификатор клиента\n",
    "Surname — фамилия\n",
    "CreditScore — кредитный рейтинг\n",
    "Geography — страна проживания\n",
    "Gender — пол\n",
    "Age — возраст\n",
    "Tenure — сколько лет человек является клиентом банка\n",
    "Balance — баланс на счёте\n",
    "NumOfProducts — количество продуктов банка, используемых клиентом\n",
    "HasCrCard — наличие кредитной карты\n",
    "IsActiveMember — активность клиента\n",
    "EstimatedSalary — предполагаемая зарплата\n",
    "Скорее всего номер строки, индекс строки, ID клиента и его фамилия никак не влияют на вероятность ухода клиента, поэтому эти столбцы следует заранее убрать из таблицы. В столбце Tenure есть пропуски, но проигнорировать их нельзя, есть два варианта: 1) заполнить нулями, если эти клиенты сотрудничают с банком менее года, 2) нужно заполнять средними значениями \n",
    "Столбец Exited - целевой признак, относится к категориальным переменным, значит перед нами стоит задача классификации."
   ]
  },
  {
   "cell_type": "code",
   "execution_count": 2,
   "metadata": {},
   "outputs": [],
   "source": [
    "#выделение нужных столбцов\n",
    "data = data.drop(['RowNumber', 'CustomerId', 'Surname'], axis=1)"
   ]
  },
  {
   "cell_type": "markdown",
   "metadata": {},
   "source": [
    "## Исследование задачи"
   ]
  },
  {
   "cell_type": "markdown",
   "metadata": {},
   "source": [
    "Предстоит обучить модель для выполнения задачи классификации, для обучения нужно подготовить признаки. Целевой признак Exited, остальные столбцы требуют предобработки: заполнение пропусков, кодирование категориальных переменных, масштабирование количественных переменных. Кроме того, нужно разделить данные на тренировочные, валидационные и тестовые, планируется соотношение 60:20:20."
   ]
  },
  {
   "cell_type": "code",
   "execution_count": 3,
   "metadata": {},
   "outputs": [],
   "source": [
    "#Прямое кодирование категориальных признаков One-hot encoding\n",
    "data = pd.get_dummies(data, drop_first=True)"
   ]
  },
  {
   "cell_type": "code",
   "execution_count": 5,
   "metadata": {},
   "outputs": [
    {
     "data": {
      "text/plain": [
       "CreditScore          0\n",
       "Age                  0\n",
       "Tenure               0\n",
       "Balance              0\n",
       "NumOfProducts        0\n",
       "HasCrCard            0\n",
       "IsActiveMember       0\n",
       "EstimatedSalary      0\n",
       "Exited               0\n",
       "Geography_Germany    0\n",
       "Geography_Spain      0\n",
       "Gender_Male          0\n",
       "dtype: int64"
      ]
     },
     "execution_count": 5,
     "metadata": {},
     "output_type": "execute_result"
    }
   ],
   "source": [
    "# Заполнение пропусков случайными числами - они не повлияют на нормальное распределение\n",
    "filler = []\n",
    "maiximum = data['Tenure'].max()\n",
    "for i in range(len(data['Tenure'])):\n",
    "    filler.append(float(randint(0, maiximum)))\n",
    "filler = pd.Series(filler)\n",
    "data['Tenure'] = data['Tenure'].fillna(filler)\n",
    "data.isnull().sum()"
   ]
  },
  {
   "cell_type": "code",
   "execution_count": 6,
   "metadata": {},
   "outputs": [],
   "source": [
    "features = data.drop(['Exited'], axis=1)# извлечение признаков\n",
    "target = data['Exited'] # извлечение  целевого признака\n"
   ]
  },
  {
   "cell_type": "code",
   "execution_count": 7,
   "metadata": {},
   "outputs": [],
   "source": [
    " # разделение данных на тренировочные и валидационные+тестовые\n",
    "features_train, features_test_and_valid, target_train, target_test_and_valid = train_test_split(\n",
    "    features, target, test_size=0.4, random_state=12345, stratify=target)\n",
    "# разделение данных на валидационные и тестовые\n",
    "features_valid, features_test, target_valid, target_test = train_test_split(\n",
    "    features_test_and_valid, target_test_and_valid, test_size=0.5, random_state=12345, stratify=target_test_and_valid) \n"
   ]
  },
  {
   "cell_type": "code",
   "execution_count": 8,
   "metadata": {
    "scrolled": true
   },
   "outputs": [
    {
     "data": {
      "text/html": [
       "<div>\n",
       "<style scoped>\n",
       "    .dataframe tbody tr th:only-of-type {\n",
       "        vertical-align: middle;\n",
       "    }\n",
       "\n",
       "    .dataframe tbody tr th {\n",
       "        vertical-align: top;\n",
       "    }\n",
       "\n",
       "    .dataframe thead th {\n",
       "        text-align: right;\n",
       "    }\n",
       "</style>\n",
       "<table border=\"1\" class=\"dataframe\">\n",
       "  <thead>\n",
       "    <tr style=\"text-align: right;\">\n",
       "      <th></th>\n",
       "      <th>CreditScore</th>\n",
       "      <th>Age</th>\n",
       "      <th>Tenure</th>\n",
       "      <th>Balance</th>\n",
       "      <th>NumOfProducts</th>\n",
       "      <th>HasCrCard</th>\n",
       "      <th>IsActiveMember</th>\n",
       "      <th>EstimatedSalary</th>\n",
       "      <th>Geography_Germany</th>\n",
       "      <th>Geography_Spain</th>\n",
       "      <th>Gender_Male</th>\n",
       "    </tr>\n",
       "  </thead>\n",
       "  <tbody>\n",
       "    <tr>\n",
       "      <td>0</td>\n",
       "      <td>-0.318980</td>\n",
       "      <td>0.286049</td>\n",
       "      <td>-1.032264</td>\n",
       "      <td>-1.219673</td>\n",
       "      <td>1</td>\n",
       "      <td>1</td>\n",
       "      <td>1</td>\n",
       "      <td>0.016424</td>\n",
       "      <td>0</td>\n",
       "      <td>0</td>\n",
       "      <td>0</td>\n",
       "    </tr>\n",
       "    <tr>\n",
       "      <td>1</td>\n",
       "      <td>-0.432352</td>\n",
       "      <td>0.190726</td>\n",
       "      <td>-1.376755</td>\n",
       "      <td>0.119281</td>\n",
       "      <td>1</td>\n",
       "      <td>0</td>\n",
       "      <td>1</td>\n",
       "      <td>0.210988</td>\n",
       "      <td>0</td>\n",
       "      <td>1</td>\n",
       "      <td>0</td>\n",
       "    </tr>\n",
       "    <tr>\n",
       "      <td>2</td>\n",
       "      <td>-1.524838</td>\n",
       "      <td>0.286049</td>\n",
       "      <td>1.034676</td>\n",
       "      <td>1.331143</td>\n",
       "      <td>3</td>\n",
       "      <td>1</td>\n",
       "      <td>0</td>\n",
       "      <td>0.235131</td>\n",
       "      <td>0</td>\n",
       "      <td>0</td>\n",
       "      <td>0</td>\n",
       "    </tr>\n",
       "    <tr>\n",
       "      <td>3</td>\n",
       "      <td>0.505538</td>\n",
       "      <td>0.000079</td>\n",
       "      <td>-1.376755</td>\n",
       "      <td>-1.219673</td>\n",
       "      <td>2</td>\n",
       "      <td>0</td>\n",
       "      <td>0</td>\n",
       "      <td>-0.114325</td>\n",
       "      <td>0</td>\n",
       "      <td>0</td>\n",
       "      <td>0</td>\n",
       "    </tr>\n",
       "    <tr>\n",
       "      <td>4</td>\n",
       "      <td>2.061816</td>\n",
       "      <td>0.381372</td>\n",
       "      <td>-1.032264</td>\n",
       "      <td>0.785547</td>\n",
       "      <td>1</td>\n",
       "      <td>1</td>\n",
       "      <td>1</td>\n",
       "      <td>-0.370574</td>\n",
       "      <td>0</td>\n",
       "      <td>1</td>\n",
       "      <td>0</td>\n",
       "    </tr>\n",
       "  </tbody>\n",
       "</table>\n",
       "</div>"
      ],
      "text/plain": [
       "   CreditScore       Age    Tenure   Balance  NumOfProducts  HasCrCard  \\\n",
       "0    -0.318980  0.286049 -1.032264 -1.219673              1          1   \n",
       "1    -0.432352  0.190726 -1.376755  0.119281              1          0   \n",
       "2    -1.524838  0.286049  1.034676  1.331143              3          1   \n",
       "3     0.505538  0.000079 -1.376755 -1.219673              2          0   \n",
       "4     2.061816  0.381372 -1.032264  0.785547              1          1   \n",
       "\n",
       "   IsActiveMember  EstimatedSalary  Geography_Germany  Geography_Spain  \\\n",
       "0               1         0.016424                  0                0   \n",
       "1               1         0.210988                  0                1   \n",
       "2               0         0.235131                  0                0   \n",
       "3               0        -0.114325                  0                0   \n",
       "4               1        -0.370574                  0                1   \n",
       "\n",
       "   Gender_Male  \n",
       "0            0  \n",
       "1            0  \n",
       "2            0  \n",
       "3            0  \n",
       "4            0  "
      ]
     },
     "metadata": {},
     "output_type": "display_data"
    }
   ],
   "source": [
    "#Масштабирование количественных признаков - стандартизация\n",
    "# выберем числовые признаки\n",
    "numeric = ['CreditScore', 'Age', 'Tenure', 'Balance', 'EstimatedSalary']\n",
    "# стандартизация\n",
    "scaler = StandardScaler()\n",
    "scaler.fit(features_train[numeric])\n",
    "features[numeric] = scaler.transform(features[numeric])\n",
    "pd.options.mode.chained_assignment = None\n",
    "display(features.head())"
   ]
  },
  {
   "cell_type": "code",
   "execution_count": 9,
   "metadata": {
    "scrolled": true
   },
   "outputs": [
    {
     "name": "stdout",
     "output_type": "stream",
     "text": [
      "0    0.7963\n",
      "1    0.2037\n",
      "Name: Exited, dtype: float64\n"
     ]
    },
    {
     "data": {
      "text/plain": [
       "<matplotlib.axes._subplots.AxesSubplot at 0x7f01de300d90>"
      ]
     },
     "execution_count": 9,
     "metadata": {},
     "output_type": "execute_result"
    },
    {
     "data": {
      "image/png": "[encoded data removed]",
      "text/plain": [
       "<Figure size 432x288 with 1 Axes>"
      ]
     },
     "metadata": {
      "needs_background": "light"
     },
     "output_type": "display_data"
    }
   ],
   "source": [
    "#подсчет частоты классов\n",
    "class_frequency = target.value_counts(normalize=True)\n",
    "print(class_frequency)\n",
    "class_frequency.plot(kind='bar')"
   ]
  },
  {
   "cell_type": "markdown",
   "metadata": {},
   "source": [
    "Имеет место дисбаланс классов, нулей в выборке в 4 раза больше, чем единиц. Посмотрим, к чему это может привести."
   ]
  },
  {
   "cell_type": "code",
   "execution_count": 10,
   "metadata": {},
   "outputs": [
    {
     "name": "stdout",
     "output_type": "stream",
     "text": [
      "0.6062407132243686\n"
     ]
    }
   ],
   "source": [
    "#Попробуем обучить модель без учета дисбаланса\n",
    "model = RandomForestClassifier(n_estimators = 100, random_state=12345)\n",
    "model.fit(features_train, target_train)\n",
    "predicted_valid = model.predict(features_valid)\n",
    "print(f1_score(target_valid, predicted_valid))"
   ]
  },
  {
   "cell_type": "markdown",
   "metadata": {},
   "source": [
    "F1-мера без учета дисбаланса довольно мала. В любом случае, признаки подготовлены к анализу, пропуски заполнены, категориальные признаки закодированы, можно приступать к борьбе с дисбалансом классов"
   ]
  },
  {
   "cell_type": "code",
   "execution_count": 11,
   "metadata": {},
   "outputs": [
    {
     "name": "stdout",
     "output_type": "stream",
     "text": [
      "0.8641099184648734\n"
     ]
    }
   ],
   "source": [
    "probabilities_valid = model.predict_proba(features_valid)\n",
    "probabilities_one_valid = probabilities_valid[:, 1]\n",
    "# посчитаем площадь под ROC кривой\n",
    "auc_roc = roc_auc_score(target_valid, probabilities_one_valid)\n",
    "\n",
    "print(auc_roc)"
   ]
  },
  {
   "cell_type": "markdown",
   "metadata": {},
   "source": [
    "ROC-AUC получилась довольно высокой, по некоторым классификациям это соответствует интервалу 0,8-0,9, очень хорошему качеству модели. Однако существуют данные о том, что AUC-ROC плохо подходит для несбалансированной классификации, и это похоже на правду."
   ]
  },
  {
   "cell_type": "markdown",
   "metadata": {},
   "source": [
    "## Борьба с дисбалансом"
   ]
  },
  {
   "cell_type": "markdown",
   "metadata": {},
   "source": [
    "### Соотношение классов"
   ]
  },
  {
   "cell_type": "code",
   "execution_count": 12,
   "metadata": {},
   "outputs": [
    {
     "name": "stdout",
     "output_type": "stream",
     "text": [
      "F1: 0.582701062215478\n"
     ]
    }
   ],
   "source": [
    "#взвешивание классов\n",
    "model = RandomForestClassifier(random_state=12345, n_estimators = 100, class_weight='balanced')\n",
    "model.fit(features_train, target_train)\n",
    "predicted_valid = model.predict(features_valid)\n",
    "print(\"F1:\", f1_score(target_valid, predicted_valid))"
   ]
  },
  {
   "cell_type": "markdown",
   "metadata": {},
   "source": [
    "После \"взвешивания\" классов F1 метрика уменьшилась, что-то пошло не так."
   ]
  },
  {
   "cell_type": "code",
   "execution_count": 13,
   "metadata": {},
   "outputs": [
    {
     "name": "stdout",
     "output_type": "stream",
     "text": [
      "F1: 0.6351351351351351\n",
      "0    0.66159\n",
      "1    0.33841\n",
      "Name: Exited, dtype: float64\n"
     ]
    }
   ],
   "source": [
    "#увеличение выборки - upsampling\n",
    "def upsample(features, target, repeat): \n",
    "    features_zeros = features[target == 0]\n",
    "    features_ones = features[target == 1]\n",
    "    target_zeros = target[target == 0]\n",
    "    target_ones = target[target == 1]\n",
    "\n",
    "    features_upsampled = pd.concat([features_zeros] + [features_ones] * repeat)\n",
    "    target_upsampled = pd.concat([target_zeros] + [target_ones] * repeat)\n",
    "    \n",
    "    features_upsampled, target_upsampled = shuffle(    #перемешивание значений\n",
    "        features_upsampled, target_upsampled, random_state=12345)\n",
    "    \n",
    "    return features_upsampled, target_upsampled\n",
    "\n",
    "features_upsampled, target_upsampled = upsample(features_train, target_train, 2)\n",
    "\n",
    "model = RandomForestClassifier(n_estimators = 100, random_state=12345)\n",
    "model.fit(features_upsampled, target_upsampled)\n",
    "predicted_valid = model.predict(features_valid)\n",
    "print(\"F1:\", f1_score(target_valid, predicted_valid))\n",
    "print(target_upsampled.value_counts(normalize=True))\n"
   ]
  },
  {
   "cell_type": "markdown",
   "metadata": {},
   "source": [
    "Увеличение выборки немного помогло улучшить F1, но этого всё ещё мало. Параметр repeat я выбрала равным 2, т.к. значений 1 в исходном наборе данных примерно в 4 раза больше, чем 0, но предстоит ещё уменьшить выборку."
   ]
  },
  {
   "cell_type": "code",
   "execution_count": 14,
   "metadata": {},
   "outputs": [
    {
     "name": "stdout",
     "output_type": "stream",
     "text": [
      "F1: 0.6365638766519823\n",
      "1    0.50569\n",
      "0    0.49431\n",
      "Name: Exited, dtype: float64\n"
     ]
    }
   ],
   "source": [
    "#уменьшение выборки - downsampling\n",
    "def downsample(features, target, fraction):\n",
    "    features_zeros = features[target == 0]\n",
    "    features_ones = features[target == 1]\n",
    "    target_zeros = target[target == 0]\n",
    "    target_ones = target[target == 1]\n",
    "\n",
    "    features_downsampled = pd.concat(\n",
    "        [features_zeros.sample(frac=fraction, random_state=12345)] + [features_ones])\n",
    "    target_downsampled = pd.concat(\n",
    "        [target_zeros.sample(frac=fraction, random_state=12345)] + [target_ones])\n",
    "    \n",
    "    features_downsampled, target_downsampled = shuffle(\n",
    "        features_downsampled, target_downsampled, random_state=12345)\n",
    "    \n",
    "    return features_downsampled, target_downsampled\n",
    "\n",
    "features_train, target_train = downsample(features_upsampled, target_upsampled, 0.5)\n",
    "\n",
    "model = RandomForestClassifier(n_estimators = 100, random_state=12345)\n",
    "model.fit(features_train, target_train)\n",
    "predicted_valid = model.predict(features_valid)\n",
    "best_f1 = f1_score(target_valid, predicted_valid)\n",
    "print(\"F1:\", best_f1)\n",
    "print(target_train.value_counts(normalize=True))\n"
   ]
  },
  {
   "cell_type": "markdown",
   "metadata": {},
   "source": [
    "Уменьшение выборки ещё немного помогло, теперь классы представлены примерно поровну. Перейдем к настройке гиперпараметров модели."
   ]
  },
  {
   "cell_type": "markdown",
   "metadata": {},
   "source": [
    "### Подбор гиперпараметров модели"
   ]
  },
  {
   "cell_type": "code",
   "execution_count": 15,
   "metadata": {},
   "outputs": [
    {
     "name": "stdout",
     "output_type": "stream",
     "text": [
      "f1 наилучшей модели на валидационной выборке: 0.644559585492228 Количество деревьев 58 Глубина дерева 10 вес классов None\n"
     ]
    }
   ],
   "source": [
    "#random forest\n",
    "model_1 = None\n",
    "best_result = 0\n",
    "balance = ['balanced', None]\n",
    "for bal in balance:\n",
    "    for est in range(50, 60, 1):\n",
    "        for d in range(3, 11):\n",
    "            model = RandomForestClassifier(random_state=12345, n_estimators=est, max_depth = d, class_weight= bal) # обучение модели с заданным количеством деревьев\n",
    "            model.fit(features_train, target_train) # обучение модели на тренировочной выборке\n",
    "            predicted_valid = model.predict(features_valid)\n",
    "            result = f1_score(target_valid, predicted_valid) # оценка качества модели на валидационной выборке\n",
    "            if result > best_result:\n",
    "                model_1 = model\n",
    "                best_result = result\n",
    "                n_est = est\n",
    "                depth = d\n",
    "                weight = bal\n",
    "\n",
    "print(\"f1 наилучшей модели на валидационной выборке:\", best_result, \"Количество деревьев\", n_est, \"Глубина дерева\", d, \"вес классов\", weight)"
   ]
  },
  {
   "cell_type": "code",
   "execution_count": 16,
   "metadata": {},
   "outputs": [
    {
     "name": "stdout",
     "output_type": "stream",
     "text": [
      "f1 на обучающей выборке 0.9209167871154244\n"
     ]
    }
   ],
   "source": [
    "#random forest\n",
    "#Сравним метрики для обучающей и валидационной выборок, проверим на переобученность\n",
    "predicted_train = model_1.predict(features_train)\n",
    "print('f1 на обучающей выборке', f1_score(target_train, predicted_train))"
   ]
  },
  {
   "cell_type": "code",
   "execution_count": 17,
   "metadata": {},
   "outputs": [
    {
     "name": "stdout",
     "output_type": "stream",
     "text": [
      "0.8663276554340329\n"
     ]
    }
   ],
   "source": [
    "#random forest\n",
    "probabilities_valid = model_1.predict_proba(features_valid)\n",
    "probabilities_one_valid = probabilities_valid[:, 1]\n",
    "# посчитаем площадь под ROC кривой\n",
    "auc_roc = roc_auc_score(target_valid, probabilities_one_valid)\n",
    "\n",
    "print(auc_roc)"
   ]
  },
  {
   "cell_type": "markdown",
   "metadata": {},
   "source": [
    "Получается, что наилучший лес включает 58 деревьев с максимальной глубиной 10, со несбалансированным весом классов (этот параметр необязателен, т.к. дисбаланс выборки уже ликвидирован). Его F1 метрика составляет 0.643. Однако мы отлично помним насколько случайный лес склонен к переобучению, если проверить предсказания на тренировочной выборке, получится 0,923. Тем временем auc_roc почти не отличается от auc_roc до балансирования классов."
   ]
  },
  {
   "cell_type": "code",
   "execution_count": 18,
   "metadata": {},
   "outputs": [
    {
     "name": "stdout",
     "output_type": "stream",
     "text": [
      "f1 на валидационной выборке 0.6438213914849428\n"
     ]
    }
   ],
   "source": [
    "#LogisticRegression\n",
    "model_2 = LogisticRegression(random_state=12345, solver='liblinear', class_weight='balanced')# инициализация модели логистической регрессии с параметром random_state=12345\n",
    "model_2.fit(features_train, target_train) # обучение модели на тренировочной выборке\n",
    "predicted_valid = model.predict(features_valid)\n",
    "print('f1 на валидационной выборке', f1_score(target_valid, predicted_valid)) # получение метрики качества модели на валидационной выборке\n"
   ]
  },
  {
   "cell_type": "code",
   "execution_count": 19,
   "metadata": {},
   "outputs": [
    {
     "name": "stdout",
     "output_type": "stream",
     "text": [
      "f1 на обучающей выборке 0.665438919582566\n"
     ]
    }
   ],
   "source": [
    "predicted_train = model_2.predict(features_train)\n",
    "print('f1 на обучающей выборке', f1_score(target_train, predicted_train))"
   ]
  },
  {
   "cell_type": "code",
   "execution_count": 20,
   "metadata": {},
   "outputs": [
    {
     "name": "stdout",
     "output_type": "stream",
     "text": [
      "0.7421035939501428\n"
     ]
    }
   ],
   "source": [
    "#LogisticRegression\n",
    "probabilities_valid = model_2.predict_proba(features_valid)\n",
    "probabilities_one_valid = probabilities_valid[:, 1]\n",
    "# посчитаем площадь под ROC кривой\n",
    "auc_roc = roc_auc_score(target_valid, probabilities_one_valid)\n",
    "\n",
    "print(auc_roc)"
   ]
  },
  {
   "cell_type": "markdown",
   "metadata": {},
   "source": [
    "На валидационной выборке логистическая регрессия тоже хорошо справляется с заданием и проблема переобучения перед ней не стоит. Однако auc_roc для нее значительно ниже, чем у случайного леса. В любом случае всех рассудит тестовая выборка. "
   ]
  },
  {
   "cell_type": "markdown",
   "metadata": {},
   "source": [
    "## Тестирование модели"
   ]
  },
  {
   "cell_type": "markdown",
   "metadata": {},
   "source": [
    "### Тестовая выборка"
   ]
  },
  {
   "cell_type": "code",
   "execution_count": 21,
   "metadata": {
    "scrolled": true
   },
   "outputs": [
    {
     "name": "stdout",
     "output_type": "stream",
     "text": [
      "f1 на тестовой выборке 0.5962343096234309\n"
     ]
    }
   ],
   "source": [
    "#тестовая выборка - random forest\n",
    "predicted_test = model_1.predict(features_test)\n",
    "print('f1 на тестовой выборке', f1_score(target_test, predicted_test))"
   ]
  },
  {
   "cell_type": "markdown",
   "metadata": {},
   "source": [
    "Случайный лес с параметрами n_estimators=58, max_depth =10, class_weight=None выдает на тестовой выборке достаточно хороший результат, он превышает заданный порог в 0,59."
   ]
  },
  {
   "cell_type": "code",
   "execution_count": 22,
   "metadata": {
    "scrolled": true
   },
   "outputs": [
    {
     "name": "stdout",
     "output_type": "stream",
     "text": [
      "f1 на тестовой выборке 0.4401606425702812\n"
     ]
    }
   ],
   "source": [
    "#тестовая выборка - LogisticRegression\n",
    "predicted_test = model_2.predict(features_test)\n",
    "print('f1 на тестовой выборке', f1_score(target_test, predicted_test))"
   ]
  },
  {
   "cell_type": "markdown",
   "metadata": {},
   "source": [
    "Логистическая регрессия явно справляется с задачей хуже случайного леса, она не проходит испытание."
   ]
  },
  {
   "cell_type": "markdown",
   "metadata": {},
   "source": [
    "### AUC-ROC"
   ]
  },
  {
   "cell_type": "code",
   "execution_count": 23,
   "metadata": {
    "scrolled": true
   },
   "outputs": [
    {
     "data": {
      "image/png": "[encoded data removed]",
      "text/plain": [
       "<Figure size 432x288 with 1 Axes>"
      ]
     },
     "metadata": {
      "needs_background": "light"
     },
     "output_type": "display_data"
    }
   ],
   "source": [
    "#график ROC для лучшей модели\n",
    "probabilities_valid = model_1.predict_proba(features_valid)\n",
    "probabilities_one_valid = probabilities_valid[:, 1]\n",
    "\n",
    "fpr, tpr, thresholds = roc_curve(target_valid, probabilities_one_valid) \n",
    "\n",
    "plt.figure()\n",
    "\n",
    "# построим график\n",
    "plt.plot(fpr, tpr) # это наша кривая\n",
    "plt.plot([0, 1], [0, 1], linestyle='--') # а это кривая случайной модели, она обозначена пунктиром\n",
    "\n",
    "plt.ylim([0.0, 1.0])\n",
    "plt.xlim([0.0, 1.0])\n",
    "plt.xlabel('False Positive Rate')\n",
    "plt.ylabel('True Positive Rate')\n",
    "plt.title('ROC-кривая')\n",
    "plt.show()"
   ]
  },
  {
   "cell_type": "code",
   "execution_count": 24,
   "metadata": {},
   "outputs": [
    {
     "name": "stdout",
     "output_type": "stream",
     "text": [
      "0.8663276554340329\n"
     ]
    }
   ],
   "source": [
    "# посчитаем площадь под ROC кривой\n",
    "auc_roc = roc_auc_score(target_valid, probabilities_one_valid)\n",
    "\n",
    "print(auc_roc)"
   ]
  },
  {
   "cell_type": "markdown",
   "metadata": {},
   "source": [
    "### Выводы\n",
    "F1 оказалась более требовательной метрикой, чем accuracy, это связано с тем, что она оценивает не только долю правильных ответов, а взвешивает качество положительных и отрицательных предсказаний. В любом случае, площадь под кривой ROC оказалась больше 0,5, частота истинно позитивных ответов составляет 0,87, что приближается к 1."
   ]
  },
  {
   "cell_type": "markdown",
   "metadata": {},
   "source": [
    "### P.S.: feature importances"
   ]
  },
  {
   "cell_type": "code",
   "execution_count": 29,
   "metadata": {
    "scrolled": true
   },
   "outputs": [
    {
     "data": {
      "image/png": "[encoded data removed]",
      "text/plain": [
       "<Figure size 432x288 with 1 Axes>"
      ]
     },
     "metadata": {
      "needs_background": "light"
     },
     "output_type": "display_data"
    }
   ],
   "source": [
    "importances = model_1.feature_importances_\n",
    "std = np.std([tree.feature_importances_ for tree in model_1.estimators_], axis=0)\n",
    "feature_names = list(features.columns)\n",
    "forest_importances = pd.Series(importances, index=feature_names)\n",
    "fig, ax = plt.subplots()\n",
    "forest_importances.plot.bar(yerr=std, ax=ax)\n",
    "ax.set_title(\"Feature importances using MDI\")\n",
    "ax.set_ylabel(\"Mean decrease in impurity\")\n",
    "fig.tight_layout()"
   ]
  }
 ],
 "metadata": {
  "ExecuteTimeLog": [
   {
    "duration": 86,
    "start_time": "2022-02-28T15:00:58.161Z"
   },
   {
    "duration": 1060,
    "start_time": "2022-02-28T15:01:06.410Z"
   },
   {
    "duration": 31,
    "start_time": "2022-02-28T15:02:24.914Z"
   },
   {
    "duration": 29,
    "start_time": "2022-02-28T15:02:44.380Z"
   },
   {
    "duration": 41,
    "start_time": "2022-02-28T15:03:00.811Z"
   },
   {
    "duration": 39,
    "start_time": "2022-02-28T15:11:32.318Z"
   },
   {
    "duration": 43,
    "start_time": "2022-02-28T15:11:43.256Z"
   },
   {
    "duration": 42,
    "start_time": "2022-02-28T15:11:59.305Z"
   },
   {
    "duration": 71,
    "start_time": "2022-02-28T15:13:40.539Z"
   },
   {
    "duration": 252,
    "start_time": "2022-02-28T15:13:54.843Z"
   },
   {
    "duration": 205,
    "start_time": "2022-03-01T16:47:46.752Z"
   },
   {
    "duration": 2029,
    "start_time": "2022-03-01T16:47:54.069Z"
   },
   {
    "duration": 20,
    "start_time": "2022-03-01T16:48:00.789Z"
   },
   {
    "duration": 11,
    "start_time": "2022-03-01T16:49:49.522Z"
   },
   {
    "duration": 19,
    "start_time": "2022-03-01T16:51:14.420Z"
   },
   {
    "duration": 25,
    "start_time": "2022-03-01T16:51:22.452Z"
   },
   {
    "duration": 261,
    "start_time": "2022-03-01T17:11:09.555Z"
   },
   {
    "duration": 1128,
    "start_time": "2022-03-01T17:11:25.685Z"
   },
   {
    "duration": 4,
    "start_time": "2022-03-01T17:11:26.815Z"
   },
   {
    "duration": 266,
    "start_time": "2022-03-01T17:11:26.821Z"
   },
   {
    "duration": -27,
    "start_time": "2022-03-01T17:11:27.115Z"
   },
   {
    "duration": -34,
    "start_time": "2022-03-01T17:11:27.123Z"
   },
   {
    "duration": 10,
    "start_time": "2022-03-01T17:11:41.991Z"
   },
   {
    "duration": 16,
    "start_time": "2022-03-01T17:11:44.889Z"
   },
   {
    "duration": 22,
    "start_time": "2022-03-01T17:13:22.233Z"
   },
   {
    "duration": 25,
    "start_time": "2022-03-01T17:21:06.711Z"
   },
   {
    "duration": 23,
    "start_time": "2022-03-01T17:21:42.609Z"
   },
   {
    "duration": 11,
    "start_time": "2022-03-01T17:25:30.428Z"
   },
   {
    "duration": 3,
    "start_time": "2022-03-01T17:25:32.722Z"
   },
   {
    "duration": 21,
    "start_time": "2022-03-01T17:25:35.658Z"
   },
   {
    "duration": 22,
    "start_time": "2022-03-01T17:25:44.803Z"
   },
   {
    "duration": 1296,
    "start_time": "2022-03-03T12:21:18.383Z"
   },
   {
    "duration": 5,
    "start_time": "2022-03-03T12:21:19.681Z"
   },
   {
    "duration": 33,
    "start_time": "2022-03-03T12:21:19.688Z"
   },
   {
    "duration": 6,
    "start_time": "2022-03-03T12:21:19.723Z"
   },
   {
    "duration": 30,
    "start_time": "2022-03-03T12:21:19.731Z"
   },
   {
    "duration": 30,
    "start_time": "2022-03-03T12:21:19.762Z"
   },
   {
    "duration": 252,
    "start_time": "2022-03-03T12:21:19.793Z"
   },
   {
    "duration": 341,
    "start_time": "2022-03-03T12:28:34.342Z"
   },
   {
    "duration": 193,
    "start_time": "2022-03-03T12:28:48.899Z"
   },
   {
    "duration": 37,
    "start_time": "2022-03-03T12:28:55.457Z"
   },
   {
    "duration": 307,
    "start_time": "2022-03-03T12:36:10.619Z"
   },
   {
    "duration": 18,
    "start_time": "2022-03-03T12:39:00.843Z"
   },
   {
    "duration": 22,
    "start_time": "2022-03-03T12:39:56.103Z"
   },
   {
    "duration": 17,
    "start_time": "2022-03-03T12:40:18.956Z"
   },
   {
    "duration": 17,
    "start_time": "2022-03-03T12:40:46.818Z"
   },
   {
    "duration": 149,
    "start_time": "2022-03-03T12:42:01.845Z"
   },
   {
    "duration": 170,
    "start_time": "2022-03-03T12:42:39.589Z"
   },
   {
    "duration": 21,
    "start_time": "2022-03-03T12:42:49.369Z"
   },
   {
    "duration": 38,
    "start_time": "2022-03-03T12:46:49.836Z"
   },
   {
    "duration": 1330,
    "start_time": "2022-03-03T12:47:09.614Z"
   },
   {
    "duration": 4,
    "start_time": "2022-03-03T12:47:10.946Z"
   },
   {
    "duration": 18,
    "start_time": "2022-03-03T12:47:10.953Z"
   },
   {
    "duration": 4,
    "start_time": "2022-03-03T12:47:10.974Z"
   },
   {
    "duration": 39,
    "start_time": "2022-03-03T12:47:10.980Z"
   },
   {
    "duration": 30,
    "start_time": "2022-03-03T12:47:11.021Z"
   },
   {
    "duration": 244,
    "start_time": "2022-03-03T12:47:11.052Z"
   },
   {
    "duration": 37,
    "start_time": "2022-03-03T12:47:11.301Z"
   },
   {
    "duration": 35,
    "start_time": "2022-03-03T12:47:11.340Z"
   },
   {
    "duration": 465,
    "start_time": "2022-03-03T12:56:24.403Z"
   },
   {
    "duration": 195,
    "start_time": "2022-03-03T12:56:52.141Z"
   },
   {
    "duration": 65,
    "start_time": "2022-03-03T12:57:06.131Z"
   },
   {
    "duration": 255,
    "start_time": "2022-03-03T13:07:38.829Z"
   },
   {
    "duration": 189,
    "start_time": "2022-03-03T13:08:06.540Z"
   },
   {
    "duration": 72,
    "start_time": "2022-03-03T13:08:15.918Z"
   },
   {
    "duration": 250,
    "start_time": "2022-03-03T13:11:31.591Z"
   },
   {
    "duration": 204,
    "start_time": "2022-03-03T13:12:01.029Z"
   },
   {
    "duration": 251,
    "start_time": "2022-03-03T13:12:08.172Z"
   },
   {
    "duration": 182,
    "start_time": "2022-03-03T13:12:39.980Z"
   },
   {
    "duration": 208,
    "start_time": "2022-03-03T13:12:53.060Z"
   },
   {
    "duration": 203,
    "start_time": "2022-03-03T13:15:30.011Z"
   },
   {
    "duration": 7,
    "start_time": "2022-03-03T13:16:54.102Z"
   },
   {
    "duration": 67,
    "start_time": "2022-03-03T13:31:42.196Z"
   },
   {
    "duration": 55,
    "start_time": "2022-03-03T13:35:24.835Z"
   },
   {
    "duration": 72,
    "start_time": "2022-03-03T13:36:00.573Z"
   },
   {
    "duration": 55,
    "start_time": "2022-03-03T13:36:33.050Z"
   },
   {
    "duration": 61,
    "start_time": "2022-03-03T13:43:26.594Z"
   },
   {
    "duration": 46,
    "start_time": "2022-03-03T13:43:48.368Z"
   },
   {
    "duration": 49,
    "start_time": "2022-03-03T13:44:34.190Z"
   },
   {
    "duration": 53,
    "start_time": "2022-03-03T13:44:40.785Z"
   },
   {
    "duration": 52,
    "start_time": "2022-03-03T13:44:47.792Z"
   },
   {
    "duration": 58,
    "start_time": "2022-03-03T13:45:09.246Z"
   },
   {
    "duration": 69,
    "start_time": "2022-03-03T13:45:26.872Z"
   },
   {
    "duration": 62,
    "start_time": "2022-03-03T13:45:33.487Z"
   },
   {
    "duration": 56,
    "start_time": "2022-03-03T13:48:30.677Z"
   },
   {
    "duration": 49,
    "start_time": "2022-03-03T13:48:40.033Z"
   },
   {
    "duration": 56,
    "start_time": "2022-03-03T13:49:20.482Z"
   },
   {
    "duration": 51,
    "start_time": "2022-03-03T13:49:39.999Z"
   },
   {
    "duration": 56,
    "start_time": "2022-03-03T13:49:44.949Z"
   },
   {
    "duration": 53,
    "start_time": "2022-03-03T13:49:54.548Z"
   },
   {
    "duration": 57,
    "start_time": "2022-03-03T13:50:04.496Z"
   },
   {
    "duration": 91,
    "start_time": "2022-03-03T14:03:01.938Z"
   },
   {
    "duration": 849,
    "start_time": "2022-03-03T14:03:50.985Z"
   },
   {
    "duration": 83,
    "start_time": "2022-03-03T14:04:27.228Z"
   },
   {
    "duration": 721,
    "start_time": "2022-03-03T14:04:45.123Z"
   },
   {
    "duration": 754,
    "start_time": "2022-03-03T14:05:06.250Z"
   },
   {
    "duration": 748,
    "start_time": "2022-03-03T14:05:09.461Z"
   },
   {
    "duration": 858,
    "start_time": "2022-03-03T14:06:25.464Z"
   },
   {
    "duration": 880,
    "start_time": "2022-03-03T14:06:46.494Z"
   },
   {
    "duration": 876,
    "start_time": "2022-03-03T14:07:00.347Z"
   },
   {
    "duration": 897,
    "start_time": "2022-03-03T14:07:10.738Z"
   },
   {
    "duration": 606,
    "start_time": "2022-03-03T14:08:03.783Z"
   },
   {
    "duration": 616,
    "start_time": "2022-03-03T14:08:37.823Z"
   },
   {
    "duration": 987,
    "start_time": "2022-03-03T14:09:02.298Z"
   },
   {
    "duration": 1287,
    "start_time": "2022-03-04T14:16:40.866Z"
   },
   {
    "duration": 4,
    "start_time": "2022-03-04T14:16:42.155Z"
   },
   {
    "duration": 14,
    "start_time": "2022-03-04T14:16:42.161Z"
   },
   {
    "duration": 3,
    "start_time": "2022-03-04T14:16:42.177Z"
   },
   {
    "duration": 22,
    "start_time": "2022-03-04T14:16:42.182Z"
   },
   {
    "duration": 26,
    "start_time": "2022-03-04T14:16:42.205Z"
   },
   {
    "duration": 172,
    "start_time": "2022-03-04T14:16:42.232Z"
   },
   {
    "duration": 681,
    "start_time": "2022-03-04T14:16:42.406Z"
   },
   {
    "duration": 652,
    "start_time": "2022-03-04T14:16:43.089Z"
   },
   {
    "duration": 813,
    "start_time": "2022-03-04T14:16:43.743Z"
   },
   {
    "duration": 594,
    "start_time": "2022-03-04T14:16:44.558Z"
   },
   {
    "duration": 1705,
    "start_time": "2022-03-04T14:16:45.154Z"
   },
   {
    "duration": 209,
    "start_time": "2022-03-04T14:16:46.861Z"
   },
   {
    "duration": 5,
    "start_time": "2022-03-04T14:16:47.071Z"
   },
   {
    "duration": 991,
    "start_time": "2022-03-04T14:17:38.225Z"
   },
   {
    "duration": 1034,
    "start_time": "2022-03-04T14:19:21.132Z"
   },
   {
    "duration": 7934,
    "start_time": "2022-03-04T14:22:51.854Z"
   },
   {
    "duration": 18559,
    "start_time": "2022-03-04T14:23:53.350Z"
   },
   {
    "duration": 4535,
    "start_time": "2022-03-04T14:25:56.639Z"
   },
   {
    "duration": 5031,
    "start_time": "2022-03-04T14:28:21.120Z"
   },
   {
    "duration": 161,
    "start_time": "2022-03-04T14:31:04.815Z"
   },
   {
    "duration": 4,
    "start_time": "2022-03-04T14:31:04.978Z"
   },
   {
    "duration": 14,
    "start_time": "2022-03-04T14:31:04.983Z"
   },
   {
    "duration": 3,
    "start_time": "2022-03-04T14:31:04.998Z"
   },
   {
    "duration": 23,
    "start_time": "2022-03-04T14:31:05.003Z"
   },
   {
    "duration": 41,
    "start_time": "2022-03-04T14:31:05.028Z"
   },
   {
    "duration": 206,
    "start_time": "2022-03-04T14:31:05.070Z"
   },
   {
    "duration": 708,
    "start_time": "2022-03-04T14:31:05.278Z"
   },
   {
    "duration": 669,
    "start_time": "2022-03-04T14:31:05.988Z"
   },
   {
    "duration": 806,
    "start_time": "2022-03-04T14:31:06.659Z"
   },
   {
    "duration": 588,
    "start_time": "2022-03-04T14:31:07.467Z"
   },
   {
    "duration": 5788,
    "start_time": "2022-03-04T14:31:08.058Z"
   },
   {
    "duration": 206,
    "start_time": "2022-03-04T14:31:13.847Z"
   },
   {
    "duration": 8,
    "start_time": "2022-03-04T14:31:14.054Z"
   },
   {
    "duration": 8725,
    "start_time": "2022-03-04T14:34:03.492Z"
   },
   {
    "duration": 3837,
    "start_time": "2022-03-04T14:34:42.139Z"
   },
   {
    "duration": 3805,
    "start_time": "2022-03-04T14:34:53.611Z"
   },
   {
    "duration": 6141,
    "start_time": "2022-03-04T14:39:19.414Z"
   },
   {
    "duration": 8652,
    "start_time": "2022-03-04T14:39:47.534Z"
   },
   {
    "duration": 5864,
    "start_time": "2022-03-04T14:45:04.695Z"
   },
   {
    "duration": 13556,
    "start_time": "2022-03-04T14:45:51.561Z"
   },
   {
    "duration": 9005,
    "start_time": "2022-03-04T15:01:26.995Z"
   },
   {
    "duration": 325,
    "start_time": "2022-03-04T15:02:16.353Z"
   },
   {
    "duration": 28,
    "start_time": "2022-03-04T15:02:53.305Z"
   },
   {
    "duration": 5993,
    "start_time": "2022-03-04T15:05:11.995Z"
   },
   {
    "duration": 24,
    "start_time": "2022-03-04T15:05:24.059Z"
   },
   {
    "duration": 15,
    "start_time": "2022-03-04T16:37:42.570Z"
   },
   {
    "duration": 5971,
    "start_time": "2022-03-04T16:38:05.843Z"
   },
   {
    "duration": 175,
    "start_time": "2022-03-04T16:38:53.852Z"
   },
   {
    "duration": 6,
    "start_time": "2022-03-04T16:39:08.332Z"
   },
   {
    "duration": 13,
    "start_time": "2022-03-04T16:39:18.531Z"
   },
   {
    "duration": 8692,
    "start_time": "2022-03-04T16:39:48.141Z"
   },
   {
    "duration": 30,
    "start_time": "2022-03-04T16:40:08.052Z"
   },
   {
    "duration": 15,
    "start_time": "2022-03-04T16:40:13.412Z"
   },
   {
    "duration": 1312,
    "start_time": "2022-03-06T12:02:51.656Z"
   },
   {
    "duration": 4,
    "start_time": "2022-03-06T12:02:52.970Z"
   },
   {
    "duration": 14,
    "start_time": "2022-03-06T12:02:52.976Z"
   },
   {
    "duration": 3,
    "start_time": "2022-03-06T12:02:52.992Z"
   },
   {
    "duration": 22,
    "start_time": "2022-03-06T12:02:52.997Z"
   },
   {
    "duration": 56,
    "start_time": "2022-03-06T12:02:53.020Z"
   },
   {
    "duration": 162,
    "start_time": "2022-03-06T12:02:53.078Z"
   },
   {
    "duration": 688,
    "start_time": "2022-03-06T12:02:53.244Z"
   },
   {
    "duration": 664,
    "start_time": "2022-03-06T12:02:53.934Z"
   },
   {
    "duration": 810,
    "start_time": "2022-03-06T12:02:54.600Z"
   },
   {
    "duration": 584,
    "start_time": "2022-03-06T12:02:55.412Z"
   },
   {
    "duration": 8826,
    "start_time": "2022-03-06T12:02:55.999Z"
   },
   {
    "duration": 38,
    "start_time": "2022-03-06T12:03:04.827Z"
   },
   {
    "duration": 16,
    "start_time": "2022-03-06T12:03:04.867Z"
   },
   {
    "duration": 207,
    "start_time": "2022-03-06T12:03:04.884Z"
   },
   {
    "duration": 6,
    "start_time": "2022-03-06T12:03:05.094Z"
   },
   {
    "duration": 32072,
    "start_time": "2022-03-06T12:04:20.609Z"
   },
   {
    "duration": 911,
    "start_time": "2022-03-06T12:05:22.580Z"
   },
   {
    "duration": 999,
    "start_time": "2022-03-06T12:05:29.436Z"
   },
   {
    "duration": 785,
    "start_time": "2022-03-06T12:05:37.732Z"
   },
   {
    "duration": 900,
    "start_time": "2022-03-06T12:05:46.724Z"
   },
   {
    "duration": 554,
    "start_time": "2022-03-06T12:05:55.996Z"
   },
   {
    "duration": 32280,
    "start_time": "2022-03-06T12:06:01.780Z"
   },
   {
    "duration": 36,
    "start_time": "2022-03-06T12:06:46.653Z"
   },
   {
    "duration": 77,
    "start_time": "2022-03-06T12:06:55.269Z"
   },
   {
    "duration": 16942,
    "start_time": "2022-03-06T12:07:50.678Z"
   },
   {
    "duration": 71,
    "start_time": "2022-03-06T12:08:17.446Z"
   },
   {
    "duration": 28,
    "start_time": "2022-03-06T12:08:20.295Z"
   },
   {
    "duration": 994,
    "start_time": "2022-03-06T12:09:48.688Z"
   },
   {
    "duration": 16821,
    "start_time": "2022-03-06T12:09:56.248Z"
   },
   {
    "duration": 44417,
    "start_time": "2022-03-06T12:10:26.305Z"
   },
   {
    "duration": 64,
    "start_time": "2022-03-06T12:13:56.604Z"
   },
   {
    "duration": 30,
    "start_time": "2022-03-06T12:14:00.621Z"
   },
   {
    "duration": 640,
    "start_time": "2022-03-06T12:14:32.101Z"
   },
   {
    "duration": 8857,
    "start_time": "2022-03-06T12:16:01.967Z"
   },
   {
    "duration": 29,
    "start_time": "2022-03-06T12:16:17.143Z"
   },
   {
    "duration": 15,
    "start_time": "2022-03-06T12:16:21.575Z"
   },
   {
    "duration": 653,
    "start_time": "2022-03-06T12:23:50.407Z"
   },
   {
    "duration": 1001,
    "start_time": "2022-03-06T12:24:16.176Z"
   },
   {
    "duration": 17935,
    "start_time": "2022-03-06T12:24:57.280Z"
   },
   {
    "duration": 71,
    "start_time": "2022-03-06T12:25:24.329Z"
   },
   {
    "duration": 29,
    "start_time": "2022-03-06T12:25:28.778Z"
   },
   {
    "duration": 30749,
    "start_time": "2022-03-06T12:28:33.349Z"
   },
   {
    "duration": 38,
    "start_time": "2022-03-06T12:29:04.100Z"
   },
   {
    "duration": 21104,
    "start_time": "2022-03-06T12:29:17.918Z"
   },
   {
    "duration": 338,
    "start_time": "2022-03-06T12:29:52.782Z"
   },
   {
    "duration": 26,
    "start_time": "2022-03-06T12:30:17.424Z"
   },
   {
    "duration": 15,
    "start_time": "2022-03-06T12:30:28.998Z"
   },
   {
    "duration": 24,
    "start_time": "2022-03-06T12:35:46.924Z"
   },
   {
    "duration": 23,
    "start_time": "2022-03-06T12:35:52.412Z"
   },
   {
    "duration": 35,
    "start_time": "2022-03-06T12:36:27.935Z"
   },
   {
    "duration": 139,
    "start_time": "2022-03-06T12:36:33.341Z"
   },
   {
    "duration": 669,
    "start_time": "2022-03-06T12:36:46.973Z"
   },
   {
    "duration": 675,
    "start_time": "2022-03-06T12:36:51.533Z"
   },
   {
    "duration": 21394,
    "start_time": "2022-03-06T12:37:02.926Z"
   },
   {
    "duration": 25,
    "start_time": "2022-03-06T12:37:45.119Z"
   },
   {
    "duration": 202,
    "start_time": "2022-03-06T12:38:13.494Z"
   },
   {
    "duration": 49,
    "start_time": "2022-03-06T12:38:55.177Z"
   },
   {
    "duration": 53,
    "start_time": "2022-03-06T12:39:13.953Z"
   },
   {
    "duration": 14,
    "start_time": "2022-03-06T12:39:19.161Z"
   },
   {
    "duration": 178,
    "start_time": "2022-03-06T12:39:37.840Z"
   },
   {
    "duration": 6,
    "start_time": "2022-03-06T12:39:43.985Z"
   },
   {
    "duration": 9,
    "start_time": "2022-03-06T12:40:13.705Z"
   },
   {
    "duration": 825,
    "start_time": "2022-03-06T12:41:51.107Z"
   },
   {
    "duration": 580,
    "start_time": "2022-03-06T12:42:02.207Z"
   },
   {
    "duration": 568,
    "start_time": "2022-03-06T12:42:36.669Z"
   },
   {
    "duration": 18103,
    "start_time": "2022-03-06T12:42:51.173Z"
   },
   {
    "duration": 17911,
    "start_time": "2022-03-06T12:43:22.342Z"
   },
   {
    "duration": 18157,
    "start_time": "2022-03-06T12:44:17.614Z"
   },
   {
    "duration": 38,
    "start_time": "2022-03-06T12:45:23.359Z"
   },
   {
    "duration": 16,
    "start_time": "2022-03-06T12:45:50.511Z"
   },
   {
    "duration": 51,
    "start_time": "2022-03-06T12:46:11.448Z"
   },
   {
    "duration": 9,
    "start_time": "2022-03-06T12:46:15.264Z"
   },
   {
    "duration": 18335,
    "start_time": "2022-03-06T12:47:14.729Z"
   },
   {
    "duration": 16,
    "start_time": "2022-03-06T12:47:44.041Z"
   },
   {
    "duration": 6191,
    "start_time": "2022-03-06T12:48:07.202Z"
   },
   {
    "duration": 16,
    "start_time": "2022-03-06T12:49:02.667Z"
   },
   {
    "duration": 13135,
    "start_time": "2022-03-06T12:49:30.684Z"
   },
   {
    "duration": 2149,
    "start_time": "2022-03-06T12:51:13.094Z"
   },
   {
    "duration": 2079,
    "start_time": "2022-03-06T12:51:41.118Z"
   },
   {
    "duration": 24,
    "start_time": "2022-03-06T12:51:50.367Z"
   },
   {
    "duration": 27,
    "start_time": "2022-03-06T12:52:01.239Z"
   },
   {
    "duration": 29,
    "start_time": "2022-03-06T12:52:13.806Z"
   },
   {
    "duration": 16,
    "start_time": "2022-03-06T12:52:22.918Z"
   },
   {
    "duration": 10,
    "start_time": "2022-03-06T12:52:34.863Z"
   },
   {
    "duration": 176,
    "start_time": "2022-03-06T12:53:35.504Z"
   },
   {
    "duration": 6,
    "start_time": "2022-03-06T12:53:53.433Z"
   },
   {
    "duration": 15,
    "start_time": "2022-03-06T14:19:58.814Z"
   },
   {
    "duration": 650,
    "start_time": "2022-03-06T14:21:53.440Z"
   },
   {
    "duration": 805,
    "start_time": "2022-03-06T14:22:01.931Z"
   },
   {
    "duration": 591,
    "start_time": "2022-03-06T14:22:09.530Z"
   },
   {
    "duration": 2114,
    "start_time": "2022-03-06T14:22:24.384Z"
   },
   {
    "duration": 4314,
    "start_time": "2022-03-06T14:22:47.906Z"
   },
   {
    "duration": 6816,
    "start_time": "2022-03-06T14:23:48.827Z"
   },
   {
    "duration": 4434,
    "start_time": "2022-03-06T14:24:14.139Z"
   },
   {
    "duration": 8587,
    "start_time": "2022-03-06T14:38:35.835Z"
   },
   {
    "duration": 38472,
    "start_time": "2022-03-06T14:39:04.027Z"
   },
   {
    "duration": 60744,
    "start_time": "2022-03-06T14:41:01.296Z"
   },
   {
    "duration": 82938,
    "start_time": "2022-03-06T14:43:18.480Z"
   },
   {
    "duration": 44806,
    "start_time": "2022-03-06T14:57:33.215Z"
   },
   {
    "duration": 50,
    "start_time": "2022-03-06T15:43:25.631Z"
   },
   {
    "duration": 30,
    "start_time": "2022-03-06T15:43:30.855Z"
   },
   {
    "duration": 26809,
    "start_time": "2022-03-06T15:44:07.272Z"
   },
   {
    "duration": 29,
    "start_time": "2022-03-06T15:44:40.800Z"
   },
   {
    "duration": 18,
    "start_time": "2022-03-06T15:44:48.848Z"
   },
   {
    "duration": 65125,
    "start_time": "2022-03-06T15:45:09.849Z"
   },
   {
    "duration": 49,
    "start_time": "2022-03-06T15:47:07.204Z"
   },
   {
    "duration": 54843,
    "start_time": "2022-03-06T15:47:29.900Z"
   },
   {
    "duration": 55160,
    "start_time": "2022-03-06T15:49:40.015Z"
   },
   {
    "duration": 55353,
    "start_time": "2022-03-06T15:55:38.793Z"
   },
   {
    "duration": 12,
    "start_time": "2022-03-06T15:56:45.006Z"
   },
   {
    "duration": 23,
    "start_time": "2022-03-06T15:56:50.678Z"
   },
   {
    "duration": 38,
    "start_time": "2022-03-06T15:57:37.999Z"
   },
   {
    "duration": 41,
    "start_time": "2022-03-06T15:59:07.675Z"
   },
   {
    "duration": 24,
    "start_time": "2022-03-06T15:59:10.464Z"
   },
   {
    "duration": 91,
    "start_time": "2022-03-06T15:59:13.673Z"
   },
   {
    "duration": 39,
    "start_time": "2022-03-06T16:02:54.357Z"
   },
   {
    "duration": 12,
    "start_time": "2022-03-06T16:03:09.629Z"
   },
   {
    "duration": 193,
    "start_time": "2022-03-06T16:04:09.887Z"
   },
   {
    "duration": 98,
    "start_time": "2022-03-08T07:32:06.185Z"
   },
   {
    "duration": 309,
    "start_time": "2022-03-08T07:47:28.442Z"
   },
   {
    "duration": 1658,
    "start_time": "2022-03-08T07:47:41.006Z"
   },
   {
    "duration": 5,
    "start_time": "2022-03-08T07:47:42.667Z"
   },
   {
    "duration": 25,
    "start_time": "2022-03-08T07:47:42.675Z"
   },
   {
    "duration": 9,
    "start_time": "2022-03-08T07:47:42.703Z"
   },
   {
    "duration": 14,
    "start_time": "2022-03-08T07:47:42.715Z"
   },
   {
    "duration": 11,
    "start_time": "2022-03-08T07:47:42.732Z"
   },
   {
    "duration": 52,
    "start_time": "2022-03-08T07:47:42.746Z"
   },
   {
    "duration": 19,
    "start_time": "2022-03-08T07:47:42.802Z"
   },
   {
    "duration": 287,
    "start_time": "2022-03-08T07:47:42.824Z"
   },
   {
    "duration": 351,
    "start_time": "2022-03-08T07:47:43.114Z"
   },
   {
    "duration": 52815,
    "start_time": "2022-03-08T07:46:50.653Z"
   },
   {
    "duration": 52805,
    "start_time": "2022-03-08T07:46:50.665Z"
   },
   {
    "duration": 52798,
    "start_time": "2022-03-08T07:46:50.675Z"
   },
   {
    "duration": 52795,
    "start_time": "2022-03-08T07:46:50.680Z"
   },
   {
    "duration": 52786,
    "start_time": "2022-03-08T07:46:50.691Z"
   },
   {
    "duration": 52764,
    "start_time": "2022-03-08T07:46:50.716Z"
   },
   {
    "duration": 52756,
    "start_time": "2022-03-08T07:46:50.726Z"
   },
   {
    "duration": 52748,
    "start_time": "2022-03-08T07:46:50.736Z"
   },
   {
    "duration": 52742,
    "start_time": "2022-03-08T07:46:50.744Z"
   },
   {
    "duration": 52737,
    "start_time": "2022-03-08T07:46:50.751Z"
   },
   {
    "duration": 52730,
    "start_time": "2022-03-08T07:46:50.760Z"
   },
   {
    "duration": 282,
    "start_time": "2022-03-08T08:05:46.955Z"
   },
   {
    "duration": 1752,
    "start_time": "2022-03-08T13:07:51.198Z"
   },
   {
    "duration": 384,
    "start_time": "2022-03-08T13:08:00.211Z"
   },
   {
    "duration": 218,
    "start_time": "2022-03-08T13:12:21.552Z"
   },
   {
    "duration": 260,
    "start_time": "2022-03-08T15:22:00.077Z"
   },
   {
    "duration": 11,
    "start_time": "2022-03-08T15:22:12.178Z"
   },
   {
    "duration": 15,
    "start_time": "2022-03-08T15:22:25.018Z"
   },
   {
    "duration": 243,
    "start_time": "2022-03-08T15:23:20.135Z"
   },
   {
    "duration": 12,
    "start_time": "2022-03-08T15:23:24.994Z"
   },
   {
    "duration": 14,
    "start_time": "2022-03-08T15:24:13.194Z"
   },
   {
    "duration": 13,
    "start_time": "2022-03-08T15:24:35.568Z"
   },
   {
    "duration": 37,
    "start_time": "2022-03-08T15:26:53.378Z"
   },
   {
    "duration": 14,
    "start_time": "2022-03-08T15:27:16.686Z"
   },
   {
    "duration": 1203,
    "start_time": "2022-03-08T15:30:15.029Z"
   },
   {
    "duration": 13,
    "start_time": "2022-03-08T15:31:07.672Z"
   },
   {
    "duration": 13,
    "start_time": "2022-03-08T15:33:44.230Z"
   },
   {
    "duration": 13,
    "start_time": "2022-03-08T15:34:28.528Z"
   },
   {
    "duration": 14,
    "start_time": "2022-03-08T15:34:40.248Z"
   },
   {
    "duration": 1220,
    "start_time": "2022-03-08T15:42:25.680Z"
   },
   {
    "duration": 1263,
    "start_time": "2022-03-08T15:46:34.970Z"
   },
   {
    "duration": 14,
    "start_time": "2022-03-08T15:52:41.318Z"
   },
   {
    "duration": 18,
    "start_time": "2022-03-08T15:52:50.728Z"
   },
   {
    "duration": 1621,
    "start_time": "2022-03-08T15:53:11.138Z"
   },
   {
    "duration": 6,
    "start_time": "2022-03-08T15:53:12.761Z"
   },
   {
    "duration": 22,
    "start_time": "2022-03-08T15:53:12.772Z"
   },
   {
    "duration": 7,
    "start_time": "2022-03-08T15:53:12.797Z"
   },
   {
    "duration": 18,
    "start_time": "2022-03-08T15:53:12.806Z"
   },
   {
    "duration": 5,
    "start_time": "2022-03-08T15:53:12.827Z"
   },
   {
    "duration": 60,
    "start_time": "2022-03-08T15:53:12.834Z"
   },
   {
    "duration": 18,
    "start_time": "2022-03-08T15:53:12.897Z"
   },
   {
    "duration": 261,
    "start_time": "2022-03-08T15:53:12.919Z"
   },
   {
    "duration": 374,
    "start_time": "2022-03-08T15:53:13.182Z"
   },
   {
    "duration": 52698,
    "start_time": "2022-03-08T15:52:20.860Z"
   },
   {
    "duration": 52660,
    "start_time": "2022-03-08T15:52:20.900Z"
   },
   {
    "duration": 52645,
    "start_time": "2022-03-08T15:52:20.917Z"
   },
   {
    "duration": 52623,
    "start_time": "2022-03-08T15:52:20.941Z"
   },
   {
    "duration": 52619,
    "start_time": "2022-03-08T15:52:20.948Z"
   },
   {
    "duration": 52611,
    "start_time": "2022-03-08T15:52:20.958Z"
   },
   {
    "duration": 52605,
    "start_time": "2022-03-08T15:52:20.966Z"
   },
   {
    "duration": 52597,
    "start_time": "2022-03-08T15:52:20.976Z"
   },
   {
    "duration": 52585,
    "start_time": "2022-03-08T15:52:20.991Z"
   },
   {
    "duration": 52579,
    "start_time": "2022-03-08T15:52:20.999Z"
   },
   {
    "duration": 52566,
    "start_time": "2022-03-08T15:52:21.014Z"
   },
   {
    "duration": 19,
    "start_time": "2022-03-08T15:54:11.349Z"
   },
   {
    "duration": 17,
    "start_time": "2022-03-08T15:54:15.108Z"
   },
   {
    "duration": 220,
    "start_time": "2022-03-08T15:55:45.148Z"
   },
   {
    "duration": 57,
    "start_time": "2022-03-08T15:56:07.607Z"
   },
   {
    "duration": 50,
    "start_time": "2022-03-08T15:56:32.068Z"
   },
   {
    "duration": 53,
    "start_time": "2022-03-08T15:56:43.720Z"
   },
   {
    "duration": 56,
    "start_time": "2022-03-08T15:57:11.392Z"
   },
   {
    "duration": 54,
    "start_time": "2022-03-08T15:57:58.424Z"
   },
   {
    "duration": 45,
    "start_time": "2022-03-08T15:58:06.153Z"
   },
   {
    "duration": 243,
    "start_time": "2022-03-08T15:58:40.724Z"
   },
   {
    "duration": 212,
    "start_time": "2022-03-08T15:59:04.607Z"
   },
   {
    "duration": 5,
    "start_time": "2022-03-08T15:59:04.821Z"
   },
   {
    "duration": 23,
    "start_time": "2022-03-08T15:59:04.829Z"
   },
   {
    "duration": 2,
    "start_time": "2022-03-08T15:59:04.855Z"
   },
   {
    "duration": 259,
    "start_time": "2022-03-08T15:59:04.888Z"
   },
   {
    "duration": 52787,
    "start_time": "2022-03-08T15:58:12.364Z"
   },
   {
    "duration": 52774,
    "start_time": "2022-03-08T15:58:12.378Z"
   },
   {
    "duration": 52769,
    "start_time": "2022-03-08T15:58:12.385Z"
   },
   {
    "duration": 52758,
    "start_time": "2022-03-08T15:58:12.397Z"
   },
   {
    "duration": 52751,
    "start_time": "2022-03-08T15:58:12.405Z"
   },
   {
    "duration": 52743,
    "start_time": "2022-03-08T15:58:12.415Z"
   },
   {
    "duration": 52734,
    "start_time": "2022-03-08T15:58:12.426Z"
   },
   {
    "duration": 52731,
    "start_time": "2022-03-08T15:58:12.430Z"
   },
   {
    "duration": 52727,
    "start_time": "2022-03-08T15:58:12.436Z"
   },
   {
    "duration": 52718,
    "start_time": "2022-03-08T15:58:12.446Z"
   },
   {
    "duration": 52712,
    "start_time": "2022-03-08T15:58:12.454Z"
   },
   {
    "duration": 52705,
    "start_time": "2022-03-08T15:58:12.463Z"
   },
   {
    "duration": 52698,
    "start_time": "2022-03-08T15:58:12.471Z"
   },
   {
    "duration": 52690,
    "start_time": "2022-03-08T15:58:12.480Z"
   },
   {
    "duration": 52685,
    "start_time": "2022-03-08T15:58:12.487Z"
   },
   {
    "duration": 52678,
    "start_time": "2022-03-08T15:58:12.495Z"
   },
   {
    "duration": 56,
    "start_time": "2022-03-08T15:59:31.700Z"
   },
   {
    "duration": 56,
    "start_time": "2022-03-08T15:59:55.050Z"
   },
   {
    "duration": 31,
    "start_time": "2022-03-08T16:00:59.332Z"
   },
   {
    "duration": 90,
    "start_time": "2022-03-08T16:05:56.459Z"
   },
   {
    "duration": 85,
    "start_time": "2022-03-08T16:06:11.446Z"
   },
   {
    "duration": 58,
    "start_time": "2022-03-08T16:06:26.660Z"
   },
   {
    "duration": 59,
    "start_time": "2022-03-08T16:06:48.413Z"
   },
   {
    "duration": 59,
    "start_time": "2022-03-08T16:07:48.663Z"
   },
   {
    "duration": 59,
    "start_time": "2022-03-08T16:13:08.571Z"
   },
   {
    "duration": 58,
    "start_time": "2022-03-08T16:13:32.827Z"
   },
   {
    "duration": 81,
    "start_time": "2022-03-08T16:14:49.321Z"
   },
   {
    "duration": 60,
    "start_time": "2022-03-08T16:15:13.562Z"
   },
   {
    "duration": 41,
    "start_time": "2022-03-08T16:16:54.690Z"
   },
   {
    "duration": 1677,
    "start_time": "2022-03-09T10:33:57.676Z"
   },
   {
    "duration": 6,
    "start_time": "2022-03-09T10:33:59.355Z"
   },
   {
    "duration": 22,
    "start_time": "2022-03-09T10:33:59.364Z"
   },
   {
    "duration": 2,
    "start_time": "2022-03-09T10:33:59.389Z"
   },
   {
    "duration": 43,
    "start_time": "2022-03-09T10:33:59.394Z"
   },
   {
    "duration": 5,
    "start_time": "2022-03-09T10:33:59.439Z"
   },
   {
    "duration": 400,
    "start_time": "2022-03-09T10:33:59.447Z"
   },
   {
    "duration": 52830,
    "start_time": "2022-03-09T10:33:07.020Z"
   },
   {
    "duration": 52830,
    "start_time": "2022-03-09T10:33:07.022Z"
   },
   {
    "duration": 52828,
    "start_time": "2022-03-09T10:33:07.025Z"
   },
   {
    "duration": 52818,
    "start_time": "2022-03-09T10:33:07.037Z"
   },
   {
    "duration": 52816,
    "start_time": "2022-03-09T10:33:07.040Z"
   },
   {
    "duration": 52813,
    "start_time": "2022-03-09T10:33:07.045Z"
   },
   {
    "duration": 52772,
    "start_time": "2022-03-09T10:33:07.087Z"
   },
   {
    "duration": 52769,
    "start_time": "2022-03-09T10:33:07.091Z"
   },
   {
    "duration": 52767,
    "start_time": "2022-03-09T10:33:07.095Z"
   },
   {
    "duration": 52760,
    "start_time": "2022-03-09T10:33:07.103Z"
   },
   {
    "duration": 52758,
    "start_time": "2022-03-09T10:33:07.106Z"
   },
   {
    "duration": 52755,
    "start_time": "2022-03-09T10:33:07.111Z"
   },
   {
    "duration": 52753,
    "start_time": "2022-03-09T10:33:07.114Z"
   },
   {
    "duration": 52743,
    "start_time": "2022-03-09T10:33:07.125Z"
   },
   {
    "duration": 52732,
    "start_time": "2022-03-09T10:33:07.138Z"
   },
   {
    "duration": 226,
    "start_time": "2022-03-09T10:36:18.074Z"
   },
   {
    "duration": 6,
    "start_time": "2022-03-09T10:36:18.304Z"
   },
   {
    "duration": 25,
    "start_time": "2022-03-09T10:36:18.313Z"
   },
   {
    "duration": 3,
    "start_time": "2022-03-09T10:36:18.340Z"
   },
   {
    "duration": 68,
    "start_time": "2022-03-09T10:36:18.345Z"
   },
   {
    "duration": 6,
    "start_time": "2022-03-09T10:36:18.416Z"
   },
   {
    "duration": 20,
    "start_time": "2022-03-09T10:36:18.424Z"
   },
   {
    "duration": 54,
    "start_time": "2022-03-09T10:36:18.446Z"
   },
   {
    "duration": 249,
    "start_time": "2022-03-09T10:36:18.505Z"
   },
   {
    "duration": 1255,
    "start_time": "2022-03-09T10:36:18.757Z"
   },
   {
    "duration": 96,
    "start_time": "2022-03-09T10:36:20.016Z"
   },
   {
    "duration": 1231,
    "start_time": "2022-03-09T10:36:20.116Z"
   },
   {
    "duration": 1276,
    "start_time": "2022-03-09T10:36:21.350Z"
   },
   {
    "duration": 269,
    "start_time": "2022-03-09T10:36:22.630Z"
   },
   {
    "duration": 52813,
    "start_time": "2022-03-09T10:35:30.089Z"
   },
   {
    "duration": 52812,
    "start_time": "2022-03-09T10:35:30.092Z"
   },
   {
    "duration": 52811,
    "start_time": "2022-03-09T10:35:30.095Z"
   },
   {
    "duration": 52807,
    "start_time": "2022-03-09T10:35:30.100Z"
   },
   {
    "duration": 52795,
    "start_time": "2022-03-09T10:35:30.113Z"
   },
   {
    "duration": 52738,
    "start_time": "2022-03-09T10:35:30.172Z"
   },
   {
    "duration": 52736,
    "start_time": "2022-03-09T10:35:30.175Z"
   },
   {
    "duration": 52734,
    "start_time": "2022-03-09T10:35:30.178Z"
   },
   {
    "duration": 1083,
    "start_time": "2022-03-09T10:39:18.476Z"
   },
   {
    "duration": 845,
    "start_time": "2022-03-09T10:40:01.847Z"
   },
   {
    "duration": 49178,
    "start_time": "2022-03-09T10:40:50.996Z"
   },
   {
    "duration": 58,
    "start_time": "2022-03-09T10:41:40.182Z"
   },
   {
    "duration": 87,
    "start_time": "2022-03-09T10:41:40.244Z"
   },
   {
    "duration": 149,
    "start_time": "2022-03-09T10:41:40.334Z"
   },
   {
    "duration": 38,
    "start_time": "2022-03-09T10:41:40.493Z"
   },
   {
    "duration": 59,
    "start_time": "2022-03-09T10:41:40.534Z"
   },
   {
    "duration": 396,
    "start_time": "2022-03-09T10:41:40.597Z"
   },
   {
    "duration": 9,
    "start_time": "2022-03-09T10:41:40.996Z"
   },
   {
    "duration": 13,
    "start_time": "2022-03-09T14:40:56.319Z"
   },
   {
    "duration": 34,
    "start_time": "2022-03-09T14:42:14.543Z"
   },
   {
    "duration": 79067,
    "start_time": "2022-03-09T14:45:14.063Z"
   },
   {
    "duration": 72833,
    "start_time": "2022-03-09T14:50:46.871Z"
   },
   {
    "duration": 271,
    "start_time": "2022-03-09T20:00:47.774Z"
   },
   {
    "duration": 1345,
    "start_time": "2022-03-09T20:01:58.011Z"
   },
   {
    "duration": 3,
    "start_time": "2022-03-09T20:01:59.358Z"
   },
   {
    "duration": 17,
    "start_time": "2022-03-09T20:01:59.363Z"
   },
   {
    "duration": 2,
    "start_time": "2022-03-09T20:01:59.382Z"
   },
   {
    "duration": 28,
    "start_time": "2022-03-09T20:01:59.386Z"
   },
   {
    "duration": 10,
    "start_time": "2022-03-09T20:01:59.415Z"
   },
   {
    "duration": 20,
    "start_time": "2022-03-09T20:01:59.427Z"
   },
   {
    "duration": 32,
    "start_time": "2022-03-09T20:01:59.450Z"
   },
   {
    "duration": 150,
    "start_time": "2022-03-09T20:01:59.484Z"
   },
   {
    "duration": 665,
    "start_time": "2022-03-09T20:01:59.635Z"
   },
   {
    "duration": 41,
    "start_time": "2022-03-09T20:02:00.302Z"
   },
   {
    "duration": 644,
    "start_time": "2022-03-09T20:02:00.344Z"
   },
   {
    "duration": 825,
    "start_time": "2022-03-09T20:02:00.989Z"
   },
   {
    "duration": 573,
    "start_time": "2022-03-09T20:02:01.816Z"
   },
   {
    "duration": 31791,
    "start_time": "2022-03-09T20:02:02.390Z"
   },
   {
    "duration": 40,
    "start_time": "2022-03-09T20:02:34.182Z"
   },
   {
    "duration": 39,
    "start_time": "2022-03-09T20:02:34.224Z"
   },
   {
    "duration": 44,
    "start_time": "2022-03-09T20:02:34.264Z"
   },
   {
    "duration": 60,
    "start_time": "2022-03-09T20:02:34.310Z"
   },
   {
    "duration": 98,
    "start_time": "2022-03-09T20:02:34.372Z"
   },
   {
    "duration": 201,
    "start_time": "2022-03-09T20:02:34.472Z"
   },
   {
    "duration": 8,
    "start_time": "2022-03-09T20:02:34.675Z"
   },
   {
    "duration": 339,
    "start_time": "2022-03-09T20:02:34.687Z"
   },
   {
    "duration": 6,
    "start_time": "2022-03-09T20:02:35.028Z"
   },
   {
    "duration": 313,
    "start_time": "2022-03-09T20:02:35.036Z"
   },
   {
    "duration": 12,
    "start_time": "2022-03-09T20:03:12.617Z"
   },
   {
    "duration": 11,
    "start_time": "2022-03-09T20:03:38.600Z"
   },
   {
    "duration": 419,
    "start_time": "2022-03-09T20:05:24.894Z"
   },
   {
    "duration": 358,
    "start_time": "2022-03-09T20:05:45.786Z"
   }
  ],
  "kernelspec": {
   "display_name": "Python 3 (ipykernel)",
   "language": "python",
   "name": "python3"
  },
  "language_info": {
   "codemirror_mode": {
    "name": "ipython",
    "version": 3
   },
   "file_extension": ".py",
   "mimetype": "text/x-python",
   "name": "python",
   "nbconvert_exporter": "python",
   "pygments_lexer": "ipython3",
   "version": "3.9.7"
  },
  "toc": {
   "base_numbering": 1,
   "nav_menu": {},
   "number_sections": true,
   "sideBar": true,
   "skip_h1_title": true,
   "title_cell": "Содержание",
   "title_sidebar": "Contents",
   "toc_cell": true,
   "toc_position": {},
   "toc_section_display": true,
   "toc_window_display": true
  }
 },
 "nbformat": 4,
 "nbformat_minor": 2
}
