{
 "cells": [
  {
   "cell_type": "code",
   "execution_count": 4,
   "id": "dd11d01d",
   "metadata": {},
   "outputs": [],
   "source": [
    "import pandas as pd\n",
    "from sklearn.model_selection import train_test_split\n",
    "from sklearn.linear_model import LinearRegression\n",
    "from sklearn.tree import DecisionTreeRegressor\n",
    "from sklearn.ensemble import RandomForestRegressor\n",
    "try:\n",
    "    data = pd.read_csv('flights_preprocessed.csv')\n",
    "except:\n",
    "    data = pd.read_csv('/datasets/flights_preprocessed.csv')\n",
    "\n",
    "target = data['Arrival Delay']\n",
    "features = data.drop(['Arrival Delay'] , axis=1)\n",
    "features_train, features_valid, target_train, target_valid = train_test_split(\n",
    "    features, target, test_size=0.25, random_state=12345) \n"
   ]
  },
  {
   "cell_type": "code",
   "execution_count": 5,
   "id": "78a2782c",
   "metadata": {},
   "outputs": [
    {
     "name": "stdout",
     "output_type": "stream",
     "text": [
      "0.09710497146204955\n"
     ]
    }
   ],
   "source": [
    "# LinearRegression\n",
    "model = LinearRegression()\n",
    "model.fit(features_train, target_train)\n",
    "print(model.score(features_valid, target_valid)) "
   ]
  },
  {
   "cell_type": "code",
   "execution_count": 10,
   "id": "09232ed4",
   "metadata": {},
   "outputs": [
    {
     "name": "stdout",
     "output_type": "stream",
     "text": [
      "0.16165140416942136 depth =  11\n",
      "Wall time: 41.1 s\n"
     ]
    }
   ],
   "source": [
    "%%time\n",
    "# RandomForest\n",
    "model_2 = None\n",
    "best_depth = 0\n",
    "best_result = 0\n",
    "for depth in range(1, 16, 1):\n",
    "    model = RandomForestRegressor(n_estimators=20, max_depth=depth, random_state=12345)\n",
    "    model.fit(features_train, target_train)\n",
    "    result = model.score(features_valid, target_valid) # оценка качества модели на валидационной выборке\n",
    "    if result > best_result:\n",
    "        model_2 = model\n",
    "        best_result = result\n",
    "        best_depth = depth\n",
    "print('best_result = ', best_result, 'depth = ', best_depth)"
   ]
  },
  {
   "cell_type": "code",
   "execution_count": 20,
   "id": "3cc81271",
   "metadata": {},
   "outputs": [
    {
     "name": "stdout",
     "output_type": "stream",
     "text": [
      "best_result =  0.16484615175853512 estimators =  58\n",
      "Wall time: 2min 33s\n"
     ]
    }
   ],
   "source": [
    "%%time\n",
    "#number of estimators\n",
    "model_2 = None\n",
    "best_result = 0\n",
    "for est in range(55, 65, 1):\n",
    "    model = RandomForestRegressor(random_state=12345, max_depth = best_depth, n_estimators=est) # обучение модели с заданным количеством деревьев\n",
    "    model.fit(features_train, target_train) # обучение модели на тренировочной выборке\n",
    "    result = model.score(features_valid, target_valid) # оценка качества модели на валидационной выборке\n",
    "    if result > best_result:\n",
    "        model_2 = model\n",
    "        best_result = result\n",
    "        n_est = est\n",
    "print('best_result = ', best_result, 'estimators = ', n_est)"
   ]
  },
  {
   "cell_type": "code",
   "execution_count": 23,
   "id": "5ca2f36a",
   "metadata": {},
   "outputs": [
    {
     "name": "stdout",
     "output_type": "stream",
     "text": [
      "Wall time: 10.6 s\n"
     ]
    },
    {
     "data": {
      "text/plain": [
       "RandomForestRegressor(max_depth=11, n_estimators=58, random_state=12345)"
      ]
     },
     "execution_count": 23,
     "metadata": {},
     "output_type": "execute_result"
    }
   ],
   "source": [
    "%%time\n",
    "#лучший лес\n",
    "model = RandomForestRegressor(n_estimators=58, max_depth = 11, random_state=12345)\n",
    "model.fit(features_train, target_train) "
   ]
  },
  {
   "cell_type": "code",
   "execution_count": 21,
   "id": "b50bb5bb",
   "metadata": {},
   "outputs": [
    {
     "name": "stdout",
     "output_type": "stream",
     "text": [
      "0.37967851473148706\n",
      "0.16484615175853512\n"
     ]
    }
   ],
   "source": [
    "print(model_2.score(features_train, target_train))\n",
    "print(model_2.score(features_valid, target_valid)) "
   ]
  }
 ],
 "metadata": {
  "kernelspec": {
   "display_name": "Python 3 (ipykernel)",
   "language": "python",
   "name": "python3"
  },
  "language_info": {
   "codemirror_mode": {
    "name": "ipython",
    "version": 3
   },
   "file_extension": ".py",
   "mimetype": "text/x-python",
   "name": "python",
   "nbconvert_exporter": "python",
   "pygments_lexer": "ipython3",
   "version": "3.9.7"
  }
 },
 "nbformat": 4,
 "nbformat_minor": 5
}
