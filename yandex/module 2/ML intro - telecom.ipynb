{
 "cells": [
  {
   "cell_type": "markdown",
   "id": "5a449998",
   "metadata": {},
   "source": [
    "# Модель для выбора подходящего тарифа\n",
    "Оператор мобильной связи «Мегалайн» выяснил: многие клиенты пользуются архивными тарифами. Нужно построить систему, способную проанализировать поведение клиентов и предложить пользователям новый тариф: «Смарт» или «Ультра».\n",
    "Имеются данные о поведении клиентов, которые уже перешли на эти тарифы, на основании этих данных планируется построить модель для задачи классификации, которая выберет подходящий тариф."
   ]
  },
  {
   "cell_type": "markdown",
   "id": "131fc8b9",
   "metadata": {},
   "source": [
    "## 1. Изучение данных из файла \n",
    "<a id=\"start\"></a>"
   ]
  },
  {
   "cell_type": "code",
   "execution_count": 1,
   "id": "6f1343f1",
   "metadata": {},
   "outputs": [],
   "source": [
    "#импорт библиотек\n",
    "import pandas as pd\n",
    "from sklearn.linear_model import LogisticRegression\n",
    "from sklearn.ensemble import RandomForestClassifier \n",
    "from sklearn.tree import DecisionTreeClassifier\n",
    "from sklearn.metrics import accuracy_score\n",
    "from sklearn.model_selection import train_test_split\n",
    "from sklearn.metrics import mean_squared_error\n",
    "from sklearn.dummy import DummyClassifier"
   ]
  },
  {
   "cell_type": "code",
   "execution_count": 2,
   "id": "b7e0ce4a",
   "metadata": {
    "scrolled": true
   },
   "outputs": [
    {
     "data": {
      "text/html": [
       "<div>\n",
       "<style scoped>\n",
       "    .dataframe tbody tr th:only-of-type {\n",
       "        vertical-align: middle;\n",
       "    }\n",
       "\n",
       "    .dataframe tbody tr th {\n",
       "        vertical-align: top;\n",
       "    }\n",
       "\n",
       "    .dataframe thead th {\n",
       "        text-align: right;\n",
       "    }\n",
       "</style>\n",
       "<table border=\"1\" class=\"dataframe\">\n",
       "  <thead>\n",
       "    <tr style=\"text-align: right;\">\n",
       "      <th></th>\n",
       "      <th>calls</th>\n",
       "      <th>minutes</th>\n",
       "      <th>messages</th>\n",
       "      <th>mb_used</th>\n",
       "      <th>is_ultra</th>\n",
       "    </tr>\n",
       "  </thead>\n",
       "  <tbody>\n",
       "    <tr>\n",
       "      <td>0</td>\n",
       "      <td>40.0</td>\n",
       "      <td>311.90</td>\n",
       "      <td>83.0</td>\n",
       "      <td>19915.42</td>\n",
       "      <td>0</td>\n",
       "    </tr>\n",
       "    <tr>\n",
       "      <td>1</td>\n",
       "      <td>85.0</td>\n",
       "      <td>516.75</td>\n",
       "      <td>56.0</td>\n",
       "      <td>22696.96</td>\n",
       "      <td>0</td>\n",
       "    </tr>\n",
       "    <tr>\n",
       "      <td>2</td>\n",
       "      <td>77.0</td>\n",
       "      <td>467.66</td>\n",
       "      <td>86.0</td>\n",
       "      <td>21060.45</td>\n",
       "      <td>0</td>\n",
       "    </tr>\n",
       "    <tr>\n",
       "      <td>3</td>\n",
       "      <td>106.0</td>\n",
       "      <td>745.53</td>\n",
       "      <td>81.0</td>\n",
       "      <td>8437.39</td>\n",
       "      <td>1</td>\n",
       "    </tr>\n",
       "    <tr>\n",
       "      <td>4</td>\n",
       "      <td>66.0</td>\n",
       "      <td>418.74</td>\n",
       "      <td>1.0</td>\n",
       "      <td>14502.75</td>\n",
       "      <td>0</td>\n",
       "    </tr>\n",
       "  </tbody>\n",
       "</table>\n",
       "</div>"
      ],
      "text/plain": [
       "   calls  minutes  messages   mb_used  is_ultra\n",
       "0   40.0   311.90      83.0  19915.42         0\n",
       "1   85.0   516.75      56.0  22696.96         0\n",
       "2   77.0   467.66      86.0  21060.45         0\n",
       "3  106.0   745.53      81.0   8437.39         1\n",
       "4   66.0   418.74       1.0  14502.75         0"
      ]
     },
     "metadata": {},
     "output_type": "display_data"
    }
   ],
   "source": [
    "#открытие файлов\n",
    "try:\n",
    "    df = pd.read_csv('users_behavior.csv') # чтение файла локально\n",
    "except:\n",
    "    df = pd.read_csv('/datasets/users_behavior.csv')  # чтение файла с сервера\n",
    "    \n",
    "display(df.head())"
   ]
  },
  {
   "cell_type": "markdown",
   "id": "1d713db4",
   "metadata": {},
   "source": [
    "Данные уже подготовлены к анализу, количество звонков, их продолжительность, количество сообщений и объём трафика посчитаны. Тариф обозначен булевым значением: 0 это смарт, 1 это ультра"
   ]
  },
  {
   "cell_type": "markdown",
   "id": "c7e453b5",
   "metadata": {},
   "source": [
    "## 2.  Разделение данных\n",
    "<a id=\"split\"></a>"
   ]
  },
  {
   "cell_type": "markdown",
   "id": "03d52089",
   "metadata": {},
   "source": [
    "Теперь нужно разделить данные на целевой признак и остальные данные, а эти группы в свою очередь на тренировочные, валидационные и тестовые. В курсе рекомендовано соотношение: 60% тренировочные данные, 20% валидационные, 20% тестовые."
   ]
  },
  {
   "cell_type": "code",
   "execution_count": 3,
   "id": "f36ca9f4",
   "metadata": {},
   "outputs": [],
   "source": [
    "features = df.drop(['is_ultra'], axis=1)# извлечение признаков\n",
    "target = df['is_ultra'] # извлечение  целевого признака\n",
    "\n",
    "features_train, features_test_and_valid, target_train, target_test_and_valid = train_test_split(\n",
    "    features, target, test_size=0.4, random_state=12345, stratify=target) # разделение данных на тренировочные и валидационные+тестовые\n",
    "features_valid, features_test, target_valid, target_test = train_test_split(\n",
    "    features_test_and_valid, target_test_and_valid, test_size=0.5, random_state=12345, stratify=target_test_and_valid) \n",
    "# разделение данных на валидационные и тестовые\n"
   ]
  },
  {
   "cell_type": "markdown",
   "id": "2a29ec93",
   "metadata": {},
   "source": [
    "## 3. Исследование качества моделей\n",
    "<a id=\"models\"></a>"
   ]
  },
  {
   "cell_type": "markdown",
   "id": "1f60b005",
   "metadata": {},
   "source": [
    "Нам предстоит исследовать качество разных моделей в отношении задачи классификации, а затем проверить его на тестовой выборке."
   ]
  },
  {
   "cell_type": "markdown",
   "id": "a3439264",
   "metadata": {},
   "source": [
    "#### Дерево решений\n",
    "<a id=\"tree\"></a>"
   ]
  },
  {
   "cell_type": "code",
   "execution_count": 4,
   "id": "f981e98f",
   "metadata": {
    "scrolled": false
   },
   "outputs": [
    {
     "name": "stdout",
     "output_type": "stream",
     "text": [
      "max_depth = 1 : 0.7402799377916018\n",
      "max_depth = 2 : 0.7729393468118196\n",
      "max_depth = 3 : 0.7776049766718507\n",
      "max_depth = 4 : 0.7542768273716952\n",
      "max_depth = 5 : 0.7853810264385692\n"
     ]
    }
   ],
   "source": [
    "#decisiontree\n",
    "for i in range(1, 6):\n",
    "    model_1 = DecisionTreeClassifier(random_state=12345, max_depth=i) # инициализация модели с заданной глубиной дерева\n",
    "    model_1.fit(features_train, target_train) # обучение модели\n",
    "    predictions_valid = model_1.predict(features_valid)# предсказания модели\n",
    "    print(\"max_depth =\", i, \": \", end='')\n",
    "    print(accuracy_score(target_valid, predictions_valid))\n"
   ]
  },
  {
   "cell_type": "code",
   "execution_count": 5,
   "id": "5f07feb7",
   "metadata": {},
   "outputs": [
    {
     "name": "stdout",
     "output_type": "stream",
     "text": [
      "Accuracy модели на обучающей выборке: 0.8137966804979253\n",
      "Accuracy модели на валидационной выборке: 0.7853810264385692\n"
     ]
    }
   ],
   "source": [
    "#Сравним метрики для обучающей и валидационной выборок\n",
    "result1 = model_1.score(features_train, target_train)\n",
    "result2 = model_1.score(features_valid, target_valid)\n",
    "print(\"Accuracy модели на обучающей выборке:\", result1)\n",
    "print(\"Accuracy модели на валидационной выборке:\", result2)"
   ]
  },
  {
   "cell_type": "markdown",
   "id": "e1d72f89",
   "metadata": {},
   "source": [
    "Лучший показатель оказался у модели с максимальной глубиной дерева 3. Но нужно посмотреть на другие алгоритмы, кроме того, тестовая выборка рассудит.\n",
    "Как и свойственно деревьям решений, эта модель склонна к переобучению, точность предсказаний на тренировочной выборке выше, чем на валиационной, но не намного."
   ]
  },
  {
   "cell_type": "markdown",
   "id": "734a31a4",
   "metadata": {},
   "source": [
    "#### Случайный лес\n",
    "<a id=\"forest\"></a>"
   ]
  },
  {
   "cell_type": "code",
   "execution_count": 18,
   "id": "1378ed97",
   "metadata": {
    "scrolled": true
   },
   "outputs": [
    {
     "name": "stdout",
     "output_type": "stream",
     "text": [
      "Accuracy наилучшей модели на валидационной выборке: 0.8258164852255054 Количество деревьев 43 Глубина дерева 5\n"
     ]
    }
   ],
   "source": [
    "#random forest\n",
    "model_2 = None\n",
    "best_result = 0\n",
    "for est in range(40, 60):\n",
    "    for d in range(1, 6):\n",
    "        model = RandomForestClassifier(random_state=12345, n_estimators=est, max_depth = d) # обучение модели с заданным количеством деревьев\n",
    "        model.fit(features_train, target_train) # обучение модели на тренировочной выборке\n",
    "        result = model.score(features_valid, target_valid) # оценка качества модели на валидационной выборке\n",
    "        if result > best_result:\n",
    "            model_2 = model\n",
    "            best_result = result\n",
    "            n_est = est\n",
    "            depth = d\n",
    "\n",
    "print(\"Accuracy наилучшей модели на валидационной выборке:\", best_result, \"Количество деревьев\", n_est, \"Глубина дерева\", d)"
   ]
  },
  {
   "cell_type": "code",
   "execution_count": 19,
   "id": "7d688dc8",
   "metadata": {},
   "outputs": [
    {
     "name": "stdout",
     "output_type": "stream",
     "text": [
      "Accuracy модели на обучающей выборке: 0.8164138467522365\n",
      "Accuracy модели на валидационной выборке: 0.8258164852255054\n"
     ]
    }
   ],
   "source": [
    "#Сравним метрики для обучающей и валидационной выборок\n",
    "result1 = model_2.score(features_train, target_train)\n",
    "result2 = model_2.score(features_valid, target_valid)\n",
    "print(\"Accuracy модели на обучающей выборке:\", result1)\n",
    "print(\"Accuracy модели на валидационной выборке:\", result2)"
   ]
  },
  {
   "cell_type": "markdown",
   "id": "fe8992fe",
   "metadata": {},
   "source": [
    "43 дерева пока выдали лучший результат 0.825. Если перебирать количество деревьев от 10 до 200 с разными шагами, а максимальную глубину от 1 до 5, оптимальный результат получается на уровне 43 деревьев и максимальной глубины 5. И как ни станно, модель даже не переобучена."
   ]
  },
  {
   "cell_type": "markdown",
   "id": "38ab859b",
   "metadata": {},
   "source": [
    "#### Логистическая регрессия\n",
    "<a id=\"regr\"></a>"
   ]
  },
  {
   "cell_type": "code",
   "execution_count": 8,
   "id": "b4c8d17b",
   "metadata": {
    "scrolled": true
   },
   "outputs": [
    {
     "name": "stdout",
     "output_type": "stream",
     "text": [
      "Accuracy модели логистической регрессии на валидационной выборке: 0.71850699844479\n"
     ]
    },
    {
     "name": "stderr",
     "output_type": "stream",
     "text": [
      "/opt/conda/lib/python3.7/site-packages/sklearn/linear_model/logistic.py:432: FutureWarning: Default solver will be changed to 'lbfgs' in 0.22. Specify a solver to silence this warning.\n",
      "  FutureWarning)\n"
     ]
    }
   ],
   "source": [
    "#logisticregression\n",
    "\n",
    "model_3 = LogisticRegression(random_state=12345)# инициализация модели логистической регрессии с параметром random_state=12345\n",
    "model_3.fit(features_train, target_train) # обучение модели на тренировочной выборке\n",
    "\n",
    "result = model_3.score(features_valid, target_valid) # получение метрики качества модели на валидационной выборке\n",
    "\n",
    "print(\"Accuracy модели логистической регрессии на валидационной выборке:\", result)"
   ]
  },
  {
   "cell_type": "code",
   "execution_count": 9,
   "id": "440c7ae8",
   "metadata": {},
   "outputs": [
    {
     "name": "stdout",
     "output_type": "stream",
     "text": [
      "Accuracy модели на обучающей выборке: 0.7105809128630706\n",
      "Accuracy модели на валидационной выборке: 0.71850699844479\n"
     ]
    }
   ],
   "source": [
    "#Сравним метрики для обучающей и валидационной выборок\n",
    "result1 = model_3.score(features_train, target_train)\n",
    "result2 = model_3.score(features_valid, target_valid)\n",
    "print(\"Accuracy модели на обучающей выборке:\", result1)\n",
    "print(\"Accuracy модели на валидационной выборке:\", result2)"
   ]
  },
  {
   "cell_type": "markdown",
   "id": "053e69c1",
   "metadata": {},
   "source": [
    "Логистическая регрессия явно проигрывает остальным моделям, но зато не склонна к переобучению"
   ]
  },
  {
   "cell_type": "markdown",
   "id": "87fb6e27",
   "metadata": {},
   "source": [
    "## 4. Проверка качества моделей на тестовой выборке\n",
    "<a id=\"test\"></a>"
   ]
  },
  {
   "cell_type": "code",
   "execution_count": 20,
   "id": "0b44f8f6",
   "metadata": {},
   "outputs": [
    {
     "name": "stdout",
     "output_type": "stream",
     "text": [
      "(2571, 4) (643, 4) (2571,) (643,)\n"
     ]
    },
    {
     "data": {
      "text/plain": [
       "RandomForestClassifier(bootstrap=True, class_weight=None, criterion='gini',\n",
       "                       max_depth=5, max_features='auto', max_leaf_nodes=None,\n",
       "                       min_impurity_decrease=0.0, min_impurity_split=None,\n",
       "                       min_samples_leaf=1, min_samples_split=2,\n",
       "                       min_weight_fraction_leaf=0.0, n_estimators=43,\n",
       "                       n_jobs=None, oob_score=False, random_state=12345,\n",
       "                       verbose=0, warm_start=False)"
      ]
     },
     "execution_count": 20,
     "metadata": {},
     "output_type": "execute_result"
    }
   ],
   "source": [
    "# новая обучающая выборка\n",
    "print(features_train.shape, features_valid.shape, target_train.shape, target_valid.shape)\n",
    "features_train = pd.concat([features_train, features_valid], ignore_index=True)\n",
    "target_train = pd.concat([target_train, target_valid], ignore_index=True)\n",
    "#display(features_train)\n",
    "#display(target_train)\n",
    "#print(features_train.shape, features_valid.shape, target_train.shape, target_valid.shape)\n",
    "model_2.fit(features_train, target_train) #обучение модели с помощью новой обучающей выборки"
   ]
  },
  {
   "cell_type": "code",
   "execution_count": 21,
   "id": "5f1c29e1",
   "metadata": {
    "scrolled": true
   },
   "outputs": [
    {
     "name": "stdout",
     "output_type": "stream",
     "text": [
      "0.8273716951788491\n"
     ]
    }
   ],
   "source": [
    "predictions_test = model_2.predict(features_test) # предсказания модели на тестовой выборке\n",
    "print(accuracy_score(target_test, predictions_test))"
   ]
  },
  {
   "cell_type": "markdown",
   "id": "57346fe4",
   "metadata": {},
   "source": [
    "Качество модели на тестовой выборке оказалось действительно высоким. Можно ещё сравнить с второй по качеству моделью."
   ]
  },
  {
   "cell_type": "code",
   "execution_count": 22,
   "id": "05416a83",
   "metadata": {
    "scrolled": true
   },
   "outputs": [
    {
     "name": "stdout",
     "output_type": "stream",
     "text": [
      "0.8118195956454122\n"
     ]
    }
   ],
   "source": [
    " predictions_test2 = model_1.predict(features_test)\n",
    " print(accuracy_score(target_test, predictions_test2))   "
   ]
  },
  {
   "cell_type": "markdown",
   "id": "9b7ccd7b",
   "metadata": {},
   "source": [
    "Тоже подходит (в задании указан порог в 0,75), но уступает случайному лесу с параметром estimators = 48. "
   ]
  },
  {
   "cell_type": "markdown",
   "id": "7fcd81db",
   "metadata": {},
   "source": [
    "Вывод: Лучшая по качеству модель получается из случайного леса на 43 дерева, с глубиной 5, значение метрики accuracy на тестовой выборке для неё равно 82.7, что является достаточно высоким показателем, кроме того модель не подает признаков значимого переобучения. "
   ]
  },
  {
   "cell_type": "markdown",
   "id": "f0fed795",
   "metadata": {},
   "source": [
    "## 5. Дополнительное задание: проверка модели на вменяемость\n",
    "<a id=\"sanity\"></a>"
   ]
  },
  {
   "cell_type": "code",
   "execution_count": 23,
   "id": "cd42f5cf",
   "metadata": {},
   "outputs": [
    {
     "name": "stdout",
     "output_type": "stream",
     "text": [
      "0.6936236391912908\n"
     ]
    }
   ],
   "source": [
    "#создадим молель-пустышку, которая выдает самый распространенный в выборке класс\n",
    "model_d = DummyClassifier(strategy='most_frequent', random_state=0) \n",
    "model_d.fit(features_train, target_train) # обучим её с помощью обучающей выборки\n",
    "predictions_valid = model_d.predict(features_valid) # запишем предсказания\n",
    "print(accuracy_score(target_valid, predictions_valid)) # проверим их точность"
   ]
  },
  {
   "cell_type": "markdown",
   "id": "39c32367",
   "metadata": {},
   "source": [
    "Ну, кажется наша модель оказалась качественнее пустышки-классификатора, которая выдает только нули в качестве ответов"
   ]
  },
  {
   "cell_type": "markdown",
   "id": "846af8da",
   "metadata": {},
   "source": [
    "## Вывод\n",
    "Построена модель, которая на основании данных о совершенных звонках, использовании интернета и отправленных смс с точностью 79% предсказывает какой тариф больше подходит пользователю смарт или ультра. Модель проверена на вменяемость, её точность заметно больше, чем точность модели-пустышки. Параметры лучшей модели - случайный лес с количеством деревьев, равным 50, он дает наибольшую точность и его работа не занимает много времени."
   ]
  }
 ],
 "metadata": {
  "ExecuteTimeLog": [
   {
    "duration": 1398,
    "start_time": "2022-02-16T18:21:19.785Z"
   },
   {
    "duration": 255,
    "start_time": "2022-02-16T18:21:21.185Z"
   },
   {
    "duration": 11,
    "start_time": "2022-02-16T18:21:21.444Z"
   },
   {
    "duration": 50,
    "start_time": "2022-02-16T18:21:21.458Z"
   },
   {
    "duration": 1415,
    "start_time": "2022-02-16T18:21:21.510Z"
   },
   {
    "duration": 28,
    "start_time": "2022-02-16T18:21:22.931Z"
   },
   {
    "duration": 20,
    "start_time": "2022-02-16T18:21:22.962Z"
   },
   {
    "duration": 7,
    "start_time": "2022-02-16T18:21:22.985Z"
   },
   {
    "duration": 44,
    "start_time": "2022-02-16T18:21:22.994Z"
   },
   {
    "duration": 87,
    "start_time": "2022-02-16T18:31:06.110Z"
   },
   {
    "duration": 94,
    "start_time": "2022-02-16T18:36:30.692Z"
   },
   {
    "duration": 350,
    "start_time": "2022-02-17T10:01:50.850Z"
   },
   {
    "duration": 1543,
    "start_time": "2022-02-17T10:01:57.443Z"
   },
   {
    "duration": 209,
    "start_time": "2022-02-17T10:01:58.989Z"
   },
   {
    "duration": 13,
    "start_time": "2022-02-17T10:01:59.200Z"
   },
   {
    "duration": 54,
    "start_time": "2022-02-17T10:01:59.215Z"
   },
   {
    "duration": 1195,
    "start_time": "2022-02-17T10:01:59.273Z"
   },
   {
    "duration": 27,
    "start_time": "2022-02-17T10:02:00.471Z"
   },
   {
    "duration": 24,
    "start_time": "2022-02-17T10:02:00.500Z"
   },
   {
    "duration": 37,
    "start_time": "2022-02-17T10:02:00.527Z"
   },
   {
    "duration": 18,
    "start_time": "2022-02-17T10:02:00.566Z"
   },
   {
    "duration": 103,
    "start_time": "2022-02-17T10:03:08.952Z"
   },
   {
    "duration": 10,
    "start_time": "2022-02-17T10:11:25.399Z"
   },
   {
    "duration": 56,
    "start_time": "2022-02-17T10:13:11.981Z"
   },
   {
    "duration": 24,
    "start_time": "2022-02-17T10:14:08.169Z"
   },
   {
    "duration": 474,
    "start_time": "2022-02-17T10:20:11.715Z"
   },
   {
    "duration": 45,
    "start_time": "2022-02-17T10:20:18.676Z"
   },
   {
    "duration": 9457,
    "start_time": "2022-02-17T10:20:54.893Z"
   },
   {
    "duration": 645,
    "start_time": "2022-02-17T10:21:38.035Z"
   },
   {
    "duration": 1242,
    "start_time": "2022-02-17T10:21:54.701Z"
   },
   {
    "duration": 1686,
    "start_time": "2022-02-17T10:22:11.797Z"
   },
   {
    "duration": 4293,
    "start_time": "2022-02-17T10:22:42.815Z"
   },
   {
    "duration": 5601,
    "start_time": "2022-02-17T10:23:01.449Z"
   },
   {
    "duration": 42,
    "start_time": "2022-02-17T10:23:29.087Z"
   },
   {
    "duration": 4484,
    "start_time": "2022-02-17T10:25:09.638Z"
   },
   {
    "duration": 24,
    "start_time": "2022-02-17T10:27:22.703Z"
   },
   {
    "duration": 7,
    "start_time": "2022-02-17T10:27:35.338Z"
   },
   {
    "duration": 104,
    "start_time": "2022-02-17T10:28:52.232Z"
   },
   {
    "duration": 369,
    "start_time": "2022-02-17T12:39:32.755Z"
   },
   {
    "duration": 13,
    "start_time": "2022-02-17T12:40:24.281Z"
   },
   {
    "duration": 9,
    "start_time": "2022-02-17T12:40:45.552Z"
   },
   {
    "duration": 5,
    "start_time": "2022-02-17T12:40:50.286Z"
   },
   {
    "duration": 1160,
    "start_time": "2022-02-17T12:40:50.294Z"
   },
   {
    "duration": 11,
    "start_time": "2022-02-17T12:40:51.456Z"
   },
   {
    "duration": 43,
    "start_time": "2022-02-17T12:40:51.470Z"
   },
   {
    "duration": 46,
    "start_time": "2022-02-17T12:40:51.515Z"
   },
   {
    "duration": 4748,
    "start_time": "2022-02-17T12:40:51.564Z"
   },
   {
    "duration": 57,
    "start_time": "2022-02-17T12:40:56.315Z"
   },
   {
    "duration": 27,
    "start_time": "2022-02-17T12:40:56.375Z"
   },
   {
    "duration": 8,
    "start_time": "2022-02-17T12:40:56.405Z"
   },
   {
    "duration": 47,
    "start_time": "2022-02-17T12:40:56.415Z"
   },
   {
    "duration": 26,
    "start_time": "2022-02-17T12:40:56.465Z"
   },
   {
    "duration": 7,
    "start_time": "2022-02-17T12:40:56.493Z"
   },
   {
    "duration": 141,
    "start_time": "2022-02-17T12:40:56.502Z"
   },
   {
    "duration": 51910,
    "start_time": "2022-02-17T12:40:04.736Z"
   },
   {
    "duration": 18,
    "start_time": "2022-02-17T12:41:29.463Z"
   },
   {
    "duration": 2259,
    "start_time": "2022-02-17T12:44:18.052Z"
   },
   {
    "duration": 203,
    "start_time": "2022-02-17T12:44:20.314Z"
   },
   {
    "duration": 11,
    "start_time": "2022-02-17T12:44:20.521Z"
   },
   {
    "duration": 53,
    "start_time": "2022-02-17T12:44:20.536Z"
   },
   {
    "duration": 463,
    "start_time": "2022-02-17T12:44:20.592Z"
   },
   {
    "duration": 51898,
    "start_time": "2022-02-17T12:43:29.160Z"
   },
   {
    "duration": 51894,
    "start_time": "2022-02-17T12:43:29.165Z"
   },
   {
    "duration": 51891,
    "start_time": "2022-02-17T12:43:29.170Z"
   },
   {
    "duration": 51868,
    "start_time": "2022-02-17T12:43:29.195Z"
   },
   {
    "duration": 51866,
    "start_time": "2022-02-17T12:43:29.198Z"
   },
   {
    "duration": 51863,
    "start_time": "2022-02-17T12:43:29.203Z"
   },
   {
    "duration": 51856,
    "start_time": "2022-02-17T12:43:29.211Z"
   },
   {
    "duration": 51855,
    "start_time": "2022-02-17T12:43:29.214Z"
   },
   {
    "duration": 51852,
    "start_time": "2022-02-17T12:43:29.218Z"
   },
   {
    "duration": 11,
    "start_time": "2022-02-17T12:46:26.611Z"
   },
   {
    "duration": 4493,
    "start_time": "2022-02-17T12:46:34.346Z"
   },
   {
    "duration": 42,
    "start_time": "2022-02-17T12:46:42.159Z"
   },
   {
    "duration": 17,
    "start_time": "2022-02-17T12:47:11.241Z"
   },
   {
    "duration": 334,
    "start_time": "2022-02-17T12:48:10.608Z"
   },
   {
    "duration": 349,
    "start_time": "2022-02-17T12:49:35.406Z"
   },
   {
    "duration": 350,
    "start_time": "2022-02-17T12:50:45.127Z"
   },
   {
    "duration": 375,
    "start_time": "2022-02-17T12:53:12.804Z"
   },
   {
    "duration": 5,
    "start_time": "2022-02-17T12:54:11.812Z"
   },
   {
    "duration": 231,
    "start_time": "2022-02-17T12:54:11.820Z"
   },
   {
    "duration": 11,
    "start_time": "2022-02-17T12:54:12.054Z"
   },
   {
    "duration": 38,
    "start_time": "2022-02-17T12:54:12.068Z"
   },
   {
    "duration": 9,
    "start_time": "2022-02-17T12:54:12.109Z"
   },
   {
    "duration": 4578,
    "start_time": "2022-02-17T12:54:12.120Z"
   },
   {
    "duration": 60,
    "start_time": "2022-02-17T12:54:16.703Z"
   },
   {
    "duration": 27,
    "start_time": "2022-02-17T12:54:16.765Z"
   },
   {
    "duration": 8,
    "start_time": "2022-02-17T12:54:16.794Z"
   },
   {
    "duration": 8,
    "start_time": "2022-02-17T12:54:16.804Z"
   },
   {
    "duration": 57,
    "start_time": "2022-02-17T12:54:16.814Z"
   },
   {
    "duration": 6,
    "start_time": "2022-02-17T12:54:16.873Z"
   },
   {
    "duration": 106,
    "start_time": "2022-02-17T12:54:16.881Z"
   },
   {
    "duration": 51903,
    "start_time": "2022-02-17T12:53:25.086Z"
   },
   {
    "duration": 17,
    "start_time": "2022-02-17T12:55:13.001Z"
   },
   {
    "duration": 12,
    "start_time": "2022-02-17T12:56:13.397Z"
   },
   {
    "duration": 1332,
    "start_time": "2022-02-17T12:57:15.962Z"
   },
   {
    "duration": 208,
    "start_time": "2022-02-17T12:57:17.297Z"
   },
   {
    "duration": 12,
    "start_time": "2022-02-17T12:57:17.508Z"
   },
   {
    "duration": 39,
    "start_time": "2022-02-17T12:57:17.522Z"
   },
   {
    "duration": 12,
    "start_time": "2022-02-17T12:57:17.564Z"
   },
   {
    "duration": 4476,
    "start_time": "2022-02-17T12:57:17.578Z"
   },
   {
    "duration": 45,
    "start_time": "2022-02-17T12:57:22.061Z"
   },
   {
    "duration": 25,
    "start_time": "2022-02-17T12:57:22.109Z"
   },
   {
    "duration": 29,
    "start_time": "2022-02-17T12:57:22.137Z"
   },
   {
    "duration": 346,
    "start_time": "2022-02-17T12:57:22.169Z"
   },
   {
    "duration": 20,
    "start_time": "2022-02-17T12:57:22.518Z"
   },
   {
    "duration": 24,
    "start_time": "2022-02-17T12:57:22.540Z"
   },
   {
    "duration": 97,
    "start_time": "2022-02-17T12:57:22.567Z"
   },
   {
    "duration": 51904,
    "start_time": "2022-02-17T12:56:30.762Z"
   },
   {
    "duration": 310,
    "start_time": "2022-02-18T05:48:51.374Z"
   },
   {
    "duration": 414,
    "start_time": "2022-02-18T13:09:09.416Z"
   },
   {
    "duration": 1462,
    "start_time": "2022-02-18T13:09:13.384Z"
   },
   {
    "duration": 346,
    "start_time": "2022-02-18T13:09:14.848Z"
   },
   {
    "duration": 459,
    "start_time": "2022-02-18T13:09:15.197Z"
   },
   {
    "duration": -17,
    "start_time": "2022-02-18T13:09:15.676Z"
   },
   {
    "duration": -20,
    "start_time": "2022-02-18T13:09:15.680Z"
   },
   {
    "duration": -21,
    "start_time": "2022-02-18T13:09:15.683Z"
   },
   {
    "duration": -22,
    "start_time": "2022-02-18T13:09:15.686Z"
   },
   {
    "duration": -24,
    "start_time": "2022-02-18T13:09:15.689Z"
   },
   {
    "duration": -25,
    "start_time": "2022-02-18T13:09:15.692Z"
   },
   {
    "duration": -27,
    "start_time": "2022-02-18T13:09:15.695Z"
   },
   {
    "duration": -28,
    "start_time": "2022-02-18T13:09:15.697Z"
   },
   {
    "duration": -31,
    "start_time": "2022-02-18T13:09:15.702Z"
   },
   {
    "duration": -32,
    "start_time": "2022-02-18T13:09:15.704Z"
   },
   {
    "duration": 450,
    "start_time": "2022-02-18T13:11:42.835Z"
   },
   {
    "duration": 15,
    "start_time": "2022-02-18T13:12:57.570Z"
   },
   {
    "duration": 12132,
    "start_time": "2022-02-18T13:35:28.219Z"
   },
   {
    "duration": 1699,
    "start_time": "2022-02-18T13:35:46.676Z"
   },
   {
    "duration": 740,
    "start_time": "2022-02-18T13:35:48.378Z"
   },
   {
    "duration": 15,
    "start_time": "2022-02-18T13:35:49.121Z"
   },
   {
    "duration": 38,
    "start_time": "2022-02-18T13:35:49.139Z"
   },
   {
    "duration": 37,
    "start_time": "2022-02-18T13:35:49.179Z"
   },
   {
    "duration": 13765,
    "start_time": "2022-02-18T13:35:49.219Z"
   },
   {
    "duration": 62,
    "start_time": "2022-02-18T13:36:02.987Z"
   },
   {
    "duration": 32,
    "start_time": "2022-02-18T13:36:03.054Z"
   },
   {
    "duration": 27,
    "start_time": "2022-02-18T13:36:03.089Z"
   },
   {
    "duration": 280,
    "start_time": "2022-02-18T13:36:03.119Z"
   },
   {
    "duration": 23,
    "start_time": "2022-02-18T13:36:03.402Z"
   },
   {
    "duration": 6,
    "start_time": "2022-02-18T13:36:03.427Z"
   },
   {
    "duration": 7,
    "start_time": "2022-02-18T13:36:03.435Z"
   },
   {
    "duration": 28837,
    "start_time": "2022-02-18T13:41:16.698Z"
   },
   {
    "duration": 5998,
    "start_time": "2022-02-18T13:42:23.042Z"
   },
   {
    "duration": 15761,
    "start_time": "2022-02-18T13:43:00.572Z"
   },
   {
    "duration": 32,
    "start_time": "2022-02-18T13:43:26.402Z"
   },
   {
    "duration": 16009,
    "start_time": "2022-02-18T13:44:00.451Z"
   },
   {
    "duration": 50,
    "start_time": "2022-02-18T13:44:35.949Z"
   },
   {
    "duration": 202,
    "start_time": "2022-02-18T13:46:59.140Z"
   },
   {
    "duration": 17,
    "start_time": "2022-02-18T13:47:04.540Z"
   },
   {
    "duration": 7,
    "start_time": "2022-02-18T13:47:09.364Z"
   },
   {
    "duration": 7,
    "start_time": "2022-02-18T13:48:43.983Z"
   }
  ],
  "kernelspec": {
   "display_name": "Python 3 (ipykernel)",
   "language": "python",
   "name": "python3"
  },
  "language_info": {
   "codemirror_mode": {
    "name": "ipython",
    "version": 3
   },
   "file_extension": ".py",
   "mimetype": "text/x-python",
   "name": "python",
   "nbconvert_exporter": "python",
   "pygments_lexer": "ipython3",
   "version": "3.9.7"
  },
  "toc": {
   "base_numbering": 1,
   "nav_menu": {},
   "number_sections": true,
   "sideBar": true,
   "skip_h1_title": true,
   "title_cell": "Table of Contents",
   "title_sidebar": "Contents",
   "toc_cell": false,
   "toc_position": {},
   "toc_section_display": true,
   "toc_window_display": false
  }
 },
 "nbformat": 4,
 "nbformat_minor": 5
}
