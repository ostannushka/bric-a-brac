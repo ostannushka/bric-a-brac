{
 "cells": [
  {
   "cell_type": "markdown",
   "metadata": {},
   "source": [
    "# Восстановление золота из руды"
   ]
  },
  {
   "cell_type": "markdown",
   "metadata": {},
   "source": [
    "Подготовьте прототип модели машинного обучения для «Цифры». Компания разрабатывает решения для эффективной работы промышленных предприятий.\n",
    "\n",
    "Модель должна предсказать коэффициент восстановления золота из золотосодержащей руды. Используйте данные с параметрами добычи и очистки. \n",
    "\n",
    "Модель поможет оптимизировать производство, чтобы не запускать предприятие с убыточными характеристиками.\n",
    "\n",
    "Вам нужно:\n",
    "\n",
    "1. Подготовить данные;\n",
    "2. Провести исследовательский анализ данных;\n",
    "3. Построить и обучить модель.\n",
    "\n",
    "Чтобы выполнить проект, обращайтесь к библиотекам *pandas*, *matplotlib* и *sklearn.* Вам поможет их документация."
   ]
  },
  {
   "cell_type": "markdown",
   "metadata": {
    "toc": true
   },
   "source": [
    "<h1>Содержание<span class=\"tocSkip\"></span></h1>\n",
    "<div class=\"toc\"><ul class=\"toc-item\"><li><span><a href=\"#Подготовка-данных\" data-toc-modified-id=\"Подготовка-данных-1\"><span class=\"toc-item-num\">1&nbsp;&nbsp;</span>Подготовка данных</a></span></li><li><span><a href=\"#Анализ-данных\" data-toc-modified-id=\"Анализ-данных-2\"><span class=\"toc-item-num\">2&nbsp;&nbsp;</span>Анализ данных</a></span><ul class=\"toc-item\"><li><ul class=\"toc-item\"><li><span><a href=\"#2.1-Концентрация-металлов-(Au,-Ag,-Pb)-на-различных-этапах-очистки\" data-toc-modified-id=\"2.1-Концентрация-металлов-(Au,-Ag,-Pb)-на-различных-этапах-очистки-2.0.1\"><span class=\"toc-item-num\">2.0.1&nbsp;&nbsp;</span>2.1 Концентрация металлов (Au, Ag, Pb) на различных этапах очистки</a></span></li><li><span><a href=\"#2.2-Распределение-размеров-гранул-сырья-на-обучающей-и-тестовой-выборках\" data-toc-modified-id=\"2.2-Распределение-размеров-гранул-сырья-на-обучающей-и-тестовой-выборках-2.0.2\"><span class=\"toc-item-num\">2.0.2&nbsp;&nbsp;</span>2.2 Распределение размеров гранул сырья на обучающей и тестовой выборках</a></span></li><li><span><a href=\"#2.3.-Исследование-суммарной-концентрации-всех-веществ-на-разных-стадиях:-в-сырье,-в-черновом-и-финальном-концентратах.\" data-toc-modified-id=\"2.3.-Исследование-суммарной-концентрации-всех-веществ-на-разных-стадиях:-в-сырье,-в-черновом-и-финальном-концентратах.-2.0.3\"><span class=\"toc-item-num\">2.0.3&nbsp;&nbsp;</span>2.3. Исследование суммарной концентрации всех веществ на разных стадиях: в сырье, в черновом и финальном концентратах.</a></span></li></ul></li></ul></li><li><span><a href=\"#Модель\" data-toc-modified-id=\"Модель-3\"><span class=\"toc-item-num\">3&nbsp;&nbsp;</span>Модель</a></span><ul class=\"toc-item\"><li><ul class=\"toc-item\"><li><span><a href=\"#3.1.-Функция-для-вычисления-итоговой-sMAPE.\" data-toc-modified-id=\"3.1.-Функция-для-вычисления-итоговой-sMAPE.-3.0.1\"><span class=\"toc-item-num\">3.0.1&nbsp;&nbsp;</span>3.1. Функция для вычисления итоговой sMAPE.</a></span></li><li><span><a href=\"#3.2.-Построение-модели\" data-toc-modified-id=\"3.2.-Построение-модели-3.0.2\"><span class=\"toc-item-num\">3.0.2&nbsp;&nbsp;</span>3.2. Построение модели</a></span></li></ul></li></ul></li><li><span><a href=\"#Чек-лист-готовности-проекта\" data-toc-modified-id=\"Чек-лист-готовности-проекта-4\"><span class=\"toc-item-num\">4&nbsp;&nbsp;</span>Чек-лист готовности проекта</a></span></li></ul></div>"
   ]
  },
  {
   "cell_type": "markdown",
   "metadata": {},
   "source": [
    "## Подготовка данных"
   ]
  },
  {
   "cell_type": "code",
   "execution_count": 46,
   "metadata": {},
   "outputs": [
    {
     "name": "stdout",
     "output_type": "stream",
     "text": [
      "Requirement already satisfied: missingno in /opt/conda/lib/python3.9/site-packages (0.5.1)\n",
      "Requirement already satisfied: numpy in /opt/conda/lib/python3.9/site-packages (from missingno) (1.21.1)\n",
      "Requirement already satisfied: seaborn in /opt/conda/lib/python3.9/site-packages (from missingno) (0.11.1)\n",
      "Requirement already satisfied: scipy in /opt/conda/lib/python3.9/site-packages (from missingno) (1.8.0)\n",
      "Requirement already satisfied: matplotlib in /opt/conda/lib/python3.9/site-packages (from missingno) (3.3.4)\n",
      "Requirement already satisfied: kiwisolver>=1.0.1 in /opt/conda/lib/python3.9/site-packages (from matplotlib->missingno) (1.4.0)\n",
      "Requirement already satisfied: pyparsing!=2.0.4,!=2.1.2,!=2.1.6,>=2.0.3 in /opt/conda/lib/python3.9/site-packages (from matplotlib->missingno) (2.4.7)\n",
      "Requirement already satisfied: cycler>=0.10 in /opt/conda/lib/python3.9/site-packages (from matplotlib->missingno) (0.11.0)\n",
      "Requirement already satisfied: pillow>=6.2.0 in /opt/conda/lib/python3.9/site-packages (from matplotlib->missingno) (8.4.0)\n",
      "Requirement already satisfied: python-dateutil>=2.1 in /opt/conda/lib/python3.9/site-packages (from matplotlib->missingno) (2.8.1)\n",
      "Requirement already satisfied: six>=1.5 in /opt/conda/lib/python3.9/site-packages (from python-dateutil>=2.1->matplotlib->missingno) (1.16.0)\n",
      "Requirement already satisfied: pandas>=0.23 in /opt/conda/lib/python3.9/site-packages (from seaborn->missingno) (1.2.4)\n",
      "Requirement already satisfied: pytz>=2017.3 in /opt/conda/lib/python3.9/site-packages (from pandas>=0.23->seaborn->missingno) (2021.1)\n"
     ]
    }
   ],
   "source": [
    "# импорт библиотек\n",
    "import pandas as pd\n",
    "import numpy as np\n",
    "import matplotlib.pyplot as plt\n",
    "from sklearn.model_selection import train_test_split\n",
    "from sklearn.model_selection import cross_val_score\n",
    "from sklearn.metrics import mean_absolute_error\n",
    "from sklearn.metrics import make_scorer\n",
    "from sklearn.model_selection import cross_val_score\n",
    "from numpy.random import RandomState\n",
    "from sklearn.tree import DecisionTreeRegressor\n",
    "from sklearn.ensemble import RandomForestRegressor\n",
    "from sklearn.linear_model import LinearRegression\n",
    "from sklearn.model_selection import GridSearchCV\n",
    "from sklearn.dummy import DummyRegressor\n",
    "!pip install missingno\n",
    "import missingno as msn\n",
    "from scipy import stats as st"
   ]
  },
  {
   "cell_type": "code",
   "execution_count": 2,
   "metadata": {},
   "outputs": [],
   "source": [
    "# загрузка датасетов\n",
    "try:\n",
    "    train = pd.read_csv('gold_recovery_train_new.csv')\n",
    "    test = pd.read_csv('gold_recovery_test_new.csv')\n",
    "    full = pd.read_csv('gold_recovery_full_new.csv')\n",
    "except:\n",
    "    train = pd.read_csv('/datasets/gold_recovery_train_new.csv')\n",
    "    test = pd.read_csv('/datasets/gold_recovery_test_new.csv')\n",
    "    full = pd.read_csv('/datasets/gold_recovery_full_new.csv')"
   ]
  },
  {
   "cell_type": "code",
   "execution_count": 3,
   "metadata": {},
   "outputs": [
    {
     "data": {
      "text/html": [
       "<div>\n",
       "<style scoped>\n",
       "    .dataframe tbody tr th:only-of-type {\n",
       "        vertical-align: middle;\n",
       "    }\n",
       "\n",
       "    .dataframe tbody tr th {\n",
       "        vertical-align: top;\n",
       "    }\n",
       "\n",
       "    .dataframe thead th {\n",
       "        text-align: right;\n",
       "    }\n",
       "</style>\n",
       "<table border=\"1\" class=\"dataframe\">\n",
       "  <thead>\n",
       "    <tr style=\"text-align: right;\">\n",
       "      <th></th>\n",
       "      <th>date</th>\n",
       "      <th>final.output.concentrate_ag</th>\n",
       "      <th>final.output.concentrate_pb</th>\n",
       "      <th>final.output.concentrate_sol</th>\n",
       "      <th>final.output.concentrate_au</th>\n",
       "      <th>final.output.recovery</th>\n",
       "      <th>final.output.tail_ag</th>\n",
       "      <th>final.output.tail_pb</th>\n",
       "      <th>final.output.tail_sol</th>\n",
       "      <th>final.output.tail_au</th>\n",
       "      <th>...</th>\n",
       "      <th>secondary_cleaner.state.floatbank4_a_air</th>\n",
       "      <th>secondary_cleaner.state.floatbank4_a_level</th>\n",
       "      <th>secondary_cleaner.state.floatbank4_b_air</th>\n",
       "      <th>secondary_cleaner.state.floatbank4_b_level</th>\n",
       "      <th>secondary_cleaner.state.floatbank5_a_air</th>\n",
       "      <th>secondary_cleaner.state.floatbank5_a_level</th>\n",
       "      <th>secondary_cleaner.state.floatbank5_b_air</th>\n",
       "      <th>secondary_cleaner.state.floatbank5_b_level</th>\n",
       "      <th>secondary_cleaner.state.floatbank6_a_air</th>\n",
       "      <th>secondary_cleaner.state.floatbank6_a_level</th>\n",
       "    </tr>\n",
       "  </thead>\n",
       "  <tbody>\n",
       "    <tr>\n",
       "      <th>0</th>\n",
       "      <td>2016-01-15 00:00:00</td>\n",
       "      <td>6.055403</td>\n",
       "      <td>9.889648</td>\n",
       "      <td>5.507324</td>\n",
       "      <td>42.192020</td>\n",
       "      <td>70.541216</td>\n",
       "      <td>10.411962</td>\n",
       "      <td>0.895447</td>\n",
       "      <td>16.904297</td>\n",
       "      <td>2.143149</td>\n",
       "      <td>...</td>\n",
       "      <td>14.016835</td>\n",
       "      <td>-502.488007</td>\n",
       "      <td>12.099931</td>\n",
       "      <td>-504.715942</td>\n",
       "      <td>9.925633</td>\n",
       "      <td>-498.310211</td>\n",
       "      <td>8.079666</td>\n",
       "      <td>-500.470978</td>\n",
       "      <td>14.151341</td>\n",
       "      <td>-605.841980</td>\n",
       "    </tr>\n",
       "    <tr>\n",
       "      <th>1</th>\n",
       "      <td>2016-01-15 01:00:00</td>\n",
       "      <td>6.029369</td>\n",
       "      <td>9.968944</td>\n",
       "      <td>5.257781</td>\n",
       "      <td>42.701629</td>\n",
       "      <td>69.266198</td>\n",
       "      <td>10.462676</td>\n",
       "      <td>0.927452</td>\n",
       "      <td>16.634514</td>\n",
       "      <td>2.224930</td>\n",
       "      <td>...</td>\n",
       "      <td>13.992281</td>\n",
       "      <td>-505.503262</td>\n",
       "      <td>11.950531</td>\n",
       "      <td>-501.331529</td>\n",
       "      <td>10.039245</td>\n",
       "      <td>-500.169983</td>\n",
       "      <td>7.984757</td>\n",
       "      <td>-500.582168</td>\n",
       "      <td>13.998353</td>\n",
       "      <td>-599.787184</td>\n",
       "    </tr>\n",
       "    <tr>\n",
       "      <th>2</th>\n",
       "      <td>2016-01-15 02:00:00</td>\n",
       "      <td>6.055926</td>\n",
       "      <td>10.213995</td>\n",
       "      <td>5.383759</td>\n",
       "      <td>42.657501</td>\n",
       "      <td>68.116445</td>\n",
       "      <td>10.507046</td>\n",
       "      <td>0.953716</td>\n",
       "      <td>16.208849</td>\n",
       "      <td>2.257889</td>\n",
       "      <td>...</td>\n",
       "      <td>14.015015</td>\n",
       "      <td>-502.520901</td>\n",
       "      <td>11.912783</td>\n",
       "      <td>-501.133383</td>\n",
       "      <td>10.070913</td>\n",
       "      <td>-500.129135</td>\n",
       "      <td>8.013877</td>\n",
       "      <td>-500.517572</td>\n",
       "      <td>14.028663</td>\n",
       "      <td>-601.427363</td>\n",
       "    </tr>\n",
       "  </tbody>\n",
       "</table>\n",
       "<p>3 rows × 87 columns</p>\n",
       "</div>"
      ],
      "text/plain": [
       "                  date  final.output.concentrate_ag  \\\n",
       "0  2016-01-15 00:00:00                     6.055403   \n",
       "1  2016-01-15 01:00:00                     6.029369   \n",
       "2  2016-01-15 02:00:00                     6.055926   \n",
       "\n",
       "   final.output.concentrate_pb  final.output.concentrate_sol  \\\n",
       "0                     9.889648                      5.507324   \n",
       "1                     9.968944                      5.257781   \n",
       "2                    10.213995                      5.383759   \n",
       "\n",
       "   final.output.concentrate_au  final.output.recovery  final.output.tail_ag  \\\n",
       "0                    42.192020              70.541216             10.411962   \n",
       "1                    42.701629              69.266198             10.462676   \n",
       "2                    42.657501              68.116445             10.507046   \n",
       "\n",
       "   final.output.tail_pb  final.output.tail_sol  final.output.tail_au  ...  \\\n",
       "0              0.895447              16.904297              2.143149  ...   \n",
       "1              0.927452              16.634514              2.224930  ...   \n",
       "2              0.953716              16.208849              2.257889  ...   \n",
       "\n",
       "   secondary_cleaner.state.floatbank4_a_air  \\\n",
       "0                                 14.016835   \n",
       "1                                 13.992281   \n",
       "2                                 14.015015   \n",
       "\n",
       "   secondary_cleaner.state.floatbank4_a_level  \\\n",
       "0                                 -502.488007   \n",
       "1                                 -505.503262   \n",
       "2                                 -502.520901   \n",
       "\n",
       "   secondary_cleaner.state.floatbank4_b_air  \\\n",
       "0                                 12.099931   \n",
       "1                                 11.950531   \n",
       "2                                 11.912783   \n",
       "\n",
       "   secondary_cleaner.state.floatbank4_b_level  \\\n",
       "0                                 -504.715942   \n",
       "1                                 -501.331529   \n",
       "2                                 -501.133383   \n",
       "\n",
       "   secondary_cleaner.state.floatbank5_a_air  \\\n",
       "0                                  9.925633   \n",
       "1                                 10.039245   \n",
       "2                                 10.070913   \n",
       "\n",
       "   secondary_cleaner.state.floatbank5_a_level  \\\n",
       "0                                 -498.310211   \n",
       "1                                 -500.169983   \n",
       "2                                 -500.129135   \n",
       "\n",
       "   secondary_cleaner.state.floatbank5_b_air  \\\n",
       "0                                  8.079666   \n",
       "1                                  7.984757   \n",
       "2                                  8.013877   \n",
       "\n",
       "   secondary_cleaner.state.floatbank5_b_level  \\\n",
       "0                                 -500.470978   \n",
       "1                                 -500.582168   \n",
       "2                                 -500.517572   \n",
       "\n",
       "   secondary_cleaner.state.floatbank6_a_air  \\\n",
       "0                                 14.151341   \n",
       "1                                 13.998353   \n",
       "2                                 14.028663   \n",
       "\n",
       "   secondary_cleaner.state.floatbank6_a_level  \n",
       "0                                 -605.841980  \n",
       "1                                 -599.787184  \n",
       "2                                 -601.427363  \n",
       "\n",
       "[3 rows x 87 columns]"
      ]
     },
     "metadata": {},
     "output_type": "display_data"
    },
    {
     "name": "stdout",
     "output_type": "stream",
     "text": [
      "<class 'pandas.core.frame.DataFrame'>\n",
      "RangeIndex: 19439 entries, 0 to 19438\n",
      "Data columns (total 87 columns):\n",
      " #   Column                                              Non-Null Count  Dtype  \n",
      "---  ------                                              --------------  -----  \n",
      " 0   date                                                19439 non-null  object \n",
      " 1   final.output.concentrate_ag                         19438 non-null  float64\n",
      " 2   final.output.concentrate_pb                         19438 non-null  float64\n",
      " 3   final.output.concentrate_sol                        19228 non-null  float64\n",
      " 4   final.output.concentrate_au                         19439 non-null  float64\n",
      " 5   final.output.recovery                               19439 non-null  float64\n",
      " 6   final.output.tail_ag                                19438 non-null  float64\n",
      " 7   final.output.tail_pb                                19338 non-null  float64\n",
      " 8   final.output.tail_sol                               19433 non-null  float64\n",
      " 9   final.output.tail_au                                19439 non-null  float64\n",
      " 10  primary_cleaner.input.sulfate                       19415 non-null  float64\n",
      " 11  primary_cleaner.input.depressant                    19402 non-null  float64\n",
      " 12  primary_cleaner.input.feed_size                     19439 non-null  float64\n",
      " 13  primary_cleaner.input.xanthate                      19335 non-null  float64\n",
      " 14  primary_cleaner.output.concentrate_ag               19439 non-null  float64\n",
      " 15  primary_cleaner.output.concentrate_pb               19323 non-null  float64\n",
      " 16  primary_cleaner.output.concentrate_sol              19069 non-null  float64\n",
      " 17  primary_cleaner.output.concentrate_au               19439 non-null  float64\n",
      " 18  primary_cleaner.output.tail_ag                      19435 non-null  float64\n",
      " 19  primary_cleaner.output.tail_pb                      19418 non-null  float64\n",
      " 20  primary_cleaner.output.tail_sol                     19377 non-null  float64\n",
      " 21  primary_cleaner.output.tail_au                      19439 non-null  float64\n",
      " 22  primary_cleaner.state.floatbank8_a_air              19435 non-null  float64\n",
      " 23  primary_cleaner.state.floatbank8_a_level            19438 non-null  float64\n",
      " 24  primary_cleaner.state.floatbank8_b_air              19435 non-null  float64\n",
      " 25  primary_cleaner.state.floatbank8_b_level            19438 non-null  float64\n",
      " 26  primary_cleaner.state.floatbank8_c_air              19437 non-null  float64\n",
      " 27  primary_cleaner.state.floatbank8_c_level            19438 non-null  float64\n",
      " 28  primary_cleaner.state.floatbank8_d_air              19436 non-null  float64\n",
      " 29  primary_cleaner.state.floatbank8_d_level            19438 non-null  float64\n",
      " 30  rougher.calculation.sulfate_to_au_concentrate       19437 non-null  float64\n",
      " 31  rougher.calculation.floatbank10_sulfate_to_au_feed  19437 non-null  float64\n",
      " 32  rougher.calculation.floatbank11_sulfate_to_au_feed  19437 non-null  float64\n",
      " 33  rougher.calculation.au_pb_ratio                     19439 non-null  float64\n",
      " 34  rougher.input.feed_ag                               19439 non-null  float64\n",
      " 35  rougher.input.feed_pb                               19339 non-null  float64\n",
      " 36  rougher.input.feed_rate                             19428 non-null  float64\n",
      " 37  rougher.input.feed_size                             19294 non-null  float64\n",
      " 38  rougher.input.feed_sol                              19340 non-null  float64\n",
      " 39  rougher.input.feed_au                               19439 non-null  float64\n",
      " 40  rougher.input.floatbank10_sulfate                   19405 non-null  float64\n",
      " 41  rougher.input.floatbank10_xanthate                  19431 non-null  float64\n",
      " 42  rougher.input.floatbank11_sulfate                   19395 non-null  float64\n",
      " 43  rougher.input.floatbank11_xanthate                  18986 non-null  float64\n",
      " 44  rougher.output.concentrate_ag                       19439 non-null  float64\n",
      " 45  rougher.output.concentrate_pb                       19439 non-null  float64\n",
      " 46  rougher.output.concentrate_sol                      19416 non-null  float64\n",
      " 47  rougher.output.concentrate_au                       19439 non-null  float64\n",
      " 48  rougher.output.recovery                             19439 non-null  float64\n",
      " 49  rougher.output.tail_ag                              19438 non-null  float64\n",
      " 50  rougher.output.tail_pb                              19439 non-null  float64\n",
      " 51  rougher.output.tail_sol                             19439 non-null  float64\n",
      " 52  rougher.output.tail_au                              19439 non-null  float64\n",
      " 53  rougher.state.floatbank10_a_air                     19438 non-null  float64\n",
      " 54  rougher.state.floatbank10_a_level                   19438 non-null  float64\n",
      " 55  rougher.state.floatbank10_b_air                     19438 non-null  float64\n",
      " 56  rougher.state.floatbank10_b_level                   19438 non-null  float64\n",
      " 57  rougher.state.floatbank10_c_air                     19438 non-null  float64\n",
      " 58  rougher.state.floatbank10_c_level                   19438 non-null  float64\n",
      " 59  rougher.state.floatbank10_d_air                     19439 non-null  float64\n",
      " 60  rougher.state.floatbank10_d_level                   19439 non-null  float64\n",
      " 61  rougher.state.floatbank10_e_air                     19003 non-null  float64\n",
      " 62  rougher.state.floatbank10_e_level                   19439 non-null  float64\n",
      " 63  rougher.state.floatbank10_f_air                     19439 non-null  float64\n",
      " 64  rougher.state.floatbank10_f_level                   19439 non-null  float64\n",
      " 65  secondary_cleaner.output.tail_ag                    19437 non-null  float64\n",
      " 66  secondary_cleaner.output.tail_pb                    19427 non-null  float64\n",
      " 67  secondary_cleaner.output.tail_sol                   17691 non-null  float64\n",
      " 68  secondary_cleaner.output.tail_au                    19439 non-null  float64\n",
      " 69  secondary_cleaner.state.floatbank2_a_air            19219 non-null  float64\n",
      " 70  secondary_cleaner.state.floatbank2_a_level          19438 non-null  float64\n",
      " 71  secondary_cleaner.state.floatbank2_b_air            19416 non-null  float64\n",
      " 72  secondary_cleaner.state.floatbank2_b_level          19438 non-null  float64\n",
      " 73  secondary_cleaner.state.floatbank3_a_air            19426 non-null  float64\n",
      " 74  secondary_cleaner.state.floatbank3_a_level          19438 non-null  float64\n",
      " 75  secondary_cleaner.state.floatbank3_b_air            19438 non-null  float64\n",
      " 76  secondary_cleaner.state.floatbank3_b_level          19438 non-null  float64\n",
      " 77  secondary_cleaner.state.floatbank4_a_air            19433 non-null  float64\n",
      " 78  secondary_cleaner.state.floatbank4_a_level          19438 non-null  float64\n",
      " 79  secondary_cleaner.state.floatbank4_b_air            19438 non-null  float64\n",
      " 80  secondary_cleaner.state.floatbank4_b_level          19438 non-null  float64\n",
      " 81  secondary_cleaner.state.floatbank5_a_air            19438 non-null  float64\n",
      " 82  secondary_cleaner.state.floatbank5_a_level          19438 non-null  float64\n",
      " 83  secondary_cleaner.state.floatbank5_b_air            19438 non-null  float64\n",
      " 84  secondary_cleaner.state.floatbank5_b_level          19438 non-null  float64\n",
      " 85  secondary_cleaner.state.floatbank6_a_air            19437 non-null  float64\n",
      " 86  secondary_cleaner.state.floatbank6_a_level          19438 non-null  float64\n",
      "dtypes: float64(86), object(1)\n",
      "memory usage: 12.9+ MB\n"
     ]
    },
    {
     "data": {
      "text/plain": [
       "None"
      ]
     },
     "metadata": {},
     "output_type": "display_data"
    },
    {
     "name": "stdout",
     "output_type": "stream",
     "text": [
      "<class 'pandas.core.frame.DataFrame'>\n",
      "RangeIndex: 14149 entries, 0 to 14148\n",
      "Data columns (total 87 columns):\n",
      " #   Column                                              Non-Null Count  Dtype  \n",
      "---  ------                                              --------------  -----  \n",
      " 0   date                                                14149 non-null  object \n",
      " 1   final.output.concentrate_ag                         14148 non-null  float64\n",
      " 2   final.output.concentrate_pb                         14148 non-null  float64\n",
      " 3   final.output.concentrate_sol                        13938 non-null  float64\n",
      " 4   final.output.concentrate_au                         14149 non-null  float64\n",
      " 5   final.output.recovery                               14149 non-null  float64\n",
      " 6   final.output.tail_ag                                14149 non-null  float64\n",
      " 7   final.output.tail_pb                                14049 non-null  float64\n",
      " 8   final.output.tail_sol                               14144 non-null  float64\n",
      " 9   final.output.tail_au                                14149 non-null  float64\n",
      " 10  primary_cleaner.input.sulfate                       14129 non-null  float64\n",
      " 11  primary_cleaner.input.depressant                    14117 non-null  float64\n",
      " 12  primary_cleaner.input.feed_size                     14149 non-null  float64\n",
      " 13  primary_cleaner.input.xanthate                      14049 non-null  float64\n",
      " 14  primary_cleaner.output.concentrate_ag               14149 non-null  float64\n",
      " 15  primary_cleaner.output.concentrate_pb               14063 non-null  float64\n",
      " 16  primary_cleaner.output.concentrate_sol              13863 non-null  float64\n",
      " 17  primary_cleaner.output.concentrate_au               14149 non-null  float64\n",
      " 18  primary_cleaner.output.tail_ag                      14148 non-null  float64\n",
      " 19  primary_cleaner.output.tail_pb                      14134 non-null  float64\n",
      " 20  primary_cleaner.output.tail_sol                     14103 non-null  float64\n",
      " 21  primary_cleaner.output.tail_au                      14149 non-null  float64\n",
      " 22  primary_cleaner.state.floatbank8_a_air              14145 non-null  float64\n",
      " 23  primary_cleaner.state.floatbank8_a_level            14148 non-null  float64\n",
      " 24  primary_cleaner.state.floatbank8_b_air              14145 non-null  float64\n",
      " 25  primary_cleaner.state.floatbank8_b_level            14148 non-null  float64\n",
      " 26  primary_cleaner.state.floatbank8_c_air              14147 non-null  float64\n",
      " 27  primary_cleaner.state.floatbank8_c_level            14148 non-null  float64\n",
      " 28  primary_cleaner.state.floatbank8_d_air              14146 non-null  float64\n",
      " 29  primary_cleaner.state.floatbank8_d_level            14148 non-null  float64\n",
      " 30  rougher.calculation.sulfate_to_au_concentrate       14148 non-null  float64\n",
      " 31  rougher.calculation.floatbank10_sulfate_to_au_feed  14148 non-null  float64\n",
      " 32  rougher.calculation.floatbank11_sulfate_to_au_feed  14148 non-null  float64\n",
      " 33  rougher.calculation.au_pb_ratio                     14149 non-null  float64\n",
      " 34  rougher.input.feed_ag                               14149 non-null  float64\n",
      " 35  rougher.input.feed_pb                               14049 non-null  float64\n",
      " 36  rougher.input.feed_rate                             14141 non-null  float64\n",
      " 37  rougher.input.feed_size                             14005 non-null  float64\n",
      " 38  rougher.input.feed_sol                              14071 non-null  float64\n",
      " 39  rougher.input.feed_au                               14149 non-null  float64\n",
      " 40  rougher.input.floatbank10_sulfate                   14120 non-null  float64\n",
      " 41  rougher.input.floatbank10_xanthate                  14141 non-null  float64\n",
      " 42  rougher.input.floatbank11_sulfate                   14113 non-null  float64\n",
      " 43  rougher.input.floatbank11_xanthate                  13721 non-null  float64\n",
      " 44  rougher.output.concentrate_ag                       14149 non-null  float64\n",
      " 45  rougher.output.concentrate_pb                       14149 non-null  float64\n",
      " 46  rougher.output.concentrate_sol                      14127 non-null  float64\n",
      " 47  rougher.output.concentrate_au                       14149 non-null  float64\n",
      " 48  rougher.output.recovery                             14149 non-null  float64\n",
      " 49  rougher.output.tail_ag                              14148 non-null  float64\n",
      " 50  rougher.output.tail_pb                              14149 non-null  float64\n",
      " 51  rougher.output.tail_sol                             14149 non-null  float64\n",
      " 52  rougher.output.tail_au                              14149 non-null  float64\n",
      " 53  rougher.state.floatbank10_a_air                     14148 non-null  float64\n",
      " 54  rougher.state.floatbank10_a_level                   14148 non-null  float64\n",
      " 55  rougher.state.floatbank10_b_air                     14148 non-null  float64\n",
      " 56  rougher.state.floatbank10_b_level                   14148 non-null  float64\n",
      " 57  rougher.state.floatbank10_c_air                     14148 non-null  float64\n",
      " 58  rougher.state.floatbank10_c_level                   14148 non-null  float64\n",
      " 59  rougher.state.floatbank10_d_air                     14149 non-null  float64\n",
      " 60  rougher.state.floatbank10_d_level                   14149 non-null  float64\n",
      " 61  rougher.state.floatbank10_e_air                     13713 non-null  float64\n",
      " 62  rougher.state.floatbank10_e_level                   14149 non-null  float64\n",
      " 63  rougher.state.floatbank10_f_air                     14149 non-null  float64\n",
      " 64  rougher.state.floatbank10_f_level                   14149 non-null  float64\n",
      " 65  secondary_cleaner.output.tail_ag                    14147 non-null  float64\n",
      " 66  secondary_cleaner.output.tail_pb                    14139 non-null  float64\n",
      " 67  secondary_cleaner.output.tail_sol                   12544 non-null  float64\n",
      " 68  secondary_cleaner.output.tail_au                    14149 non-null  float64\n",
      " 69  secondary_cleaner.state.floatbank2_a_air            13932 non-null  float64\n",
      " 70  secondary_cleaner.state.floatbank2_a_level          14148 non-null  float64\n",
      " 71  secondary_cleaner.state.floatbank2_b_air            14128 non-null  float64\n",
      " 72  secondary_cleaner.state.floatbank2_b_level          14148 non-null  float64\n",
      " 73  secondary_cleaner.state.floatbank3_a_air            14145 non-null  float64\n",
      " 74  secondary_cleaner.state.floatbank3_a_level          14148 non-null  float64\n",
      " 75  secondary_cleaner.state.floatbank3_b_air            14148 non-null  float64\n",
      " 76  secondary_cleaner.state.floatbank3_b_level          14148 non-null  float64\n",
      " 77  secondary_cleaner.state.floatbank4_a_air            14143 non-null  float64\n",
      " 78  secondary_cleaner.state.floatbank4_a_level          14148 non-null  float64\n",
      " 79  secondary_cleaner.state.floatbank4_b_air            14148 non-null  float64\n",
      " 80  secondary_cleaner.state.floatbank4_b_level          14148 non-null  float64\n",
      " 81  secondary_cleaner.state.floatbank5_a_air            14148 non-null  float64\n",
      " 82  secondary_cleaner.state.floatbank5_a_level          14148 non-null  float64\n",
      " 83  secondary_cleaner.state.floatbank5_b_air            14148 non-null  float64\n",
      " 84  secondary_cleaner.state.floatbank5_b_level          14148 non-null  float64\n",
      " 85  secondary_cleaner.state.floatbank6_a_air            14147 non-null  float64\n",
      " 86  secondary_cleaner.state.floatbank6_a_level          14148 non-null  float64\n",
      "dtypes: float64(86), object(1)\n",
      "memory usage: 9.4+ MB\n",
      "<class 'pandas.core.frame.DataFrame'>\n",
      "RangeIndex: 5290 entries, 0 to 5289\n",
      "Data columns (total 53 columns):\n",
      " #   Column                                      Non-Null Count  Dtype  \n",
      "---  ------                                      --------------  -----  \n",
      " 0   date                                        5290 non-null   object \n",
      " 1   primary_cleaner.input.sulfate               5286 non-null   float64\n",
      " 2   primary_cleaner.input.depressant            5285 non-null   float64\n",
      " 3   primary_cleaner.input.feed_size             5290 non-null   float64\n",
      " 4   primary_cleaner.input.xanthate              5286 non-null   float64\n",
      " 5   primary_cleaner.state.floatbank8_a_air      5290 non-null   float64\n",
      " 6   primary_cleaner.state.floatbank8_a_level    5290 non-null   float64\n",
      " 7   primary_cleaner.state.floatbank8_b_air      5290 non-null   float64\n",
      " 8   primary_cleaner.state.floatbank8_b_level    5290 non-null   float64\n",
      " 9   primary_cleaner.state.floatbank8_c_air      5290 non-null   float64\n",
      " 10  primary_cleaner.state.floatbank8_c_level    5290 non-null   float64\n",
      " 11  primary_cleaner.state.floatbank8_d_air      5290 non-null   float64\n",
      " 12  primary_cleaner.state.floatbank8_d_level    5290 non-null   float64\n",
      " 13  rougher.input.feed_ag                       5290 non-null   float64\n",
      " 14  rougher.input.feed_pb                       5290 non-null   float64\n",
      " 15  rougher.input.feed_rate                     5287 non-null   float64\n",
      " 16  rougher.input.feed_size                     5289 non-null   float64\n",
      " 17  rougher.input.feed_sol                      5269 non-null   float64\n",
      " 18  rougher.input.feed_au                       5290 non-null   float64\n",
      " 19  rougher.input.floatbank10_sulfate           5285 non-null   float64\n",
      " 20  rougher.input.floatbank10_xanthate          5290 non-null   float64\n",
      " 21  rougher.input.floatbank11_sulfate           5282 non-null   float64\n",
      " 22  rougher.input.floatbank11_xanthate          5265 non-null   float64\n",
      " 23  rougher.state.floatbank10_a_air             5290 non-null   float64\n",
      " 24  rougher.state.floatbank10_a_level           5290 non-null   float64\n",
      " 25  rougher.state.floatbank10_b_air             5290 non-null   float64\n",
      " 26  rougher.state.floatbank10_b_level           5290 non-null   float64\n",
      " 27  rougher.state.floatbank10_c_air             5290 non-null   float64\n",
      " 28  rougher.state.floatbank10_c_level           5290 non-null   float64\n",
      " 29  rougher.state.floatbank10_d_air             5290 non-null   float64\n",
      " 30  rougher.state.floatbank10_d_level           5290 non-null   float64\n",
      " 31  rougher.state.floatbank10_e_air             5290 non-null   float64\n",
      " 32  rougher.state.floatbank10_e_level           5290 non-null   float64\n",
      " 33  rougher.state.floatbank10_f_air             5290 non-null   float64\n",
      " 34  rougher.state.floatbank10_f_level           5290 non-null   float64\n",
      " 35  secondary_cleaner.state.floatbank2_a_air    5287 non-null   float64\n",
      " 36  secondary_cleaner.state.floatbank2_a_level  5290 non-null   float64\n",
      " 37  secondary_cleaner.state.floatbank2_b_air    5288 non-null   float64\n",
      " 38  secondary_cleaner.state.floatbank2_b_level  5290 non-null   float64\n",
      " 39  secondary_cleaner.state.floatbank3_a_air    5281 non-null   float64\n",
      " 40  secondary_cleaner.state.floatbank3_a_level  5290 non-null   float64\n",
      " 41  secondary_cleaner.state.floatbank3_b_air    5290 non-null   float64\n",
      " 42  secondary_cleaner.state.floatbank3_b_level  5290 non-null   float64\n",
      " 43  secondary_cleaner.state.floatbank4_a_air    5290 non-null   float64\n",
      " 44  secondary_cleaner.state.floatbank4_a_level  5290 non-null   float64\n",
      " 45  secondary_cleaner.state.floatbank4_b_air    5290 non-null   float64\n",
      " 46  secondary_cleaner.state.floatbank4_b_level  5290 non-null   float64\n",
      " 47  secondary_cleaner.state.floatbank5_a_air    5290 non-null   float64\n",
      " 48  secondary_cleaner.state.floatbank5_a_level  5290 non-null   float64\n",
      " 49  secondary_cleaner.state.floatbank5_b_air    5290 non-null   float64\n",
      " 50  secondary_cleaner.state.floatbank5_b_level  5290 non-null   float64\n",
      " 51  secondary_cleaner.state.floatbank6_a_air    5290 non-null   float64\n",
      " 52  secondary_cleaner.state.floatbank6_a_level  5290 non-null   float64\n",
      "dtypes: float64(52), object(1)\n",
      "memory usage: 2.1+ MB\n"
     ]
    }
   ],
   "source": [
    "#громоздкий вывод информации о таблицах\n",
    "display(full.head(3))\n",
    "display(full.info())\n",
    "train.info()\n",
    "test.info()"
   ]
  },
  {
   "cell_type": "markdown",
   "metadata": {},
   "source": [
    "Представлен довольно крупный датасет, его полная версия содержит 87 столбцов, тестовая выборка состоит из 53 столбцов. Скорее всего все 87 признаков не понадобятся для анализа, модель будет осуществлять предсказания по 52 признакам, указанным в тестовой выборке (дата не считается). В данных есть пропуски, т.к. на момент сбора информации не все значения были доступны. "
   ]
  },
  {
   "cell_type": "code",
   "execution_count": 4,
   "metadata": {},
   "outputs": [
    {
     "name": "stdout",
     "output_type": "stream",
     "text": [
      "secondary_cleaner.output.tail_sol           1748\n",
      "rougher.input.floatbank11_xanthate           453\n",
      "rougher.state.floatbank10_e_air              436\n",
      "primary_cleaner.output.concentrate_sol       370\n",
      "secondary_cleaner.state.floatbank2_a_air     220\n",
      "final.output.concentrate_sol                 211\n",
      "rougher.input.feed_size                      145\n",
      "primary_cleaner.output.concentrate_pb        116\n",
      "primary_cleaner.input.xanthate               104\n",
      "final.output.tail_pb                         101\n",
      "dtype: int64\n",
      "rougher.input.floatbank11_xanthate          25\n",
      "rougher.input.feed_sol                      21\n",
      "secondary_cleaner.state.floatbank3_a_air     9\n",
      "rougher.input.floatbank11_sulfate            8\n",
      "primary_cleaner.input.depressant             5\n",
      "rougher.input.floatbank10_sulfate            5\n",
      "primary_cleaner.input.xanthate               4\n",
      "primary_cleaner.input.sulfate                4\n",
      "rougher.input.feed_rate                      3\n",
      "secondary_cleaner.state.floatbank2_a_air     3\n",
      "secondary_cleaner.state.floatbank2_b_air     2\n",
      "rougher.input.feed_size                      1\n",
      "dtype: int64\n",
      "secondary_cleaner.output.tail_sol                1605\n",
      "rougher.state.floatbank10_e_air                   436\n",
      "rougher.input.floatbank11_xanthate                428\n",
      "primary_cleaner.output.concentrate_sol            286\n",
      "secondary_cleaner.state.floatbank2_a_air          217\n",
      "                                                 ... \n",
      "primary_cleaner.output.tail_ag                      1\n",
      "final.output.concentrate_ag                         1\n",
      "rougher.calculation.sulfate_to_au_concentrate       1\n",
      "rougher.output.tail_ag                              1\n",
      "final.output.concentrate_pb                         1\n",
      "Length: 62, dtype: int64\n"
     ]
    },
    {
     "data": {
      "image/png": "[encoded data removed]",
      "text/plain": [
       "<Figure size 1800x720 with 2 Axes>"
      ]
     },
     "metadata": {
      "needs_background": "light"
     },
     "output_type": "display_data"
    }
   ],
   "source": [
    "# пропуски в данных \n",
    "msn.matrix(full) # матрица, которая ещё и отражает места пропусков в датасете\n",
    "def count_missing(df): # функция для подсчета пропусков в столбцах\n",
    "    nan = df.isnull().sum().sort_values(ascending=False) \n",
    "    missing_val = nan[nan > 0]\n",
    "    return missing_val\n",
    "\n",
    "print(count_missing(full).head(10))\n",
    "print(count_missing(test))\n",
    "print(count_missing(train))"
   ]
  },
  {
   "cell_type": "markdown",
   "metadata": {},
   "source": [
    "Попробуем посчитать пропущенные значения и оценить их количество. В полном датасете больше всего пропусков в столбце secondary_cleaner.output.tail_sol - 1748, затем 453 и 436 пропусков в столбцах rougher.input.floatbank11_xanthate и rougher.state.floatbank10_e_air соответственно, затем 370 и 220 для столбцов primary_cleaner.output.concentrate_sol и secondary_cleaner.state.floatbank2_a_air, 211 пропусков в столбце final.output.concentrate_sol, а дальше можно не считать, т.к. всё, что меньше 200 пропусков является менее, чем 1% датасета. \n",
    "В тестовой выборке пропусков меньше, в нем всего 5290 строк, больше всего просков в столбцах rougher.input.floatbank11_xanthate - 25 и в rougher.input.feed_sol - 21, это менее 0,5% датасета, поэтому поводом для беспокойства они не являются.\n",
    " "
   ]
  },
  {
   "cell_type": "code",
   "execution_count": 5,
   "metadata": {},
   "outputs": [
    {
     "name": "stdout",
     "output_type": "stream",
     "text": [
      "Series([], dtype: int64)\n",
      "Series([], dtype: int64)\n",
      "Series([], dtype: int64)\n"
     ]
    }
   ],
   "source": [
    "# обработка пропусков\n",
    "full.fillna(method=\"ffill\", inplace=True)\n",
    "train.fillna(method=\"ffill\", inplace=True)\n",
    "test.fillna(method=\"ffill\", inplace=True)\n",
    "print(count_missing(full).head(10))\n",
    "print(count_missing(test))\n",
    "print(count_missing(train))"
   ]
  },
  {
   "cell_type": "markdown",
   "metadata": {},
   "source": [
    "В задании была подсказка о том, что близкие по дате значения близки и по характеристикам, поэтому здесь уместен метод ffill функции fillna. "
   ]
  },
  {
   "cell_type": "code",
   "execution_count": 6,
   "metadata": {},
   "outputs": [
    {
     "name": "stdout",
     "output_type": "stream",
     "text": [
      "9.73512347450521e-15\n"
     ]
    }
   ],
   "source": [
    "# эффективность обогащения\n",
    "C = train['rougher.output.concentrate_au'] # доля золота в концентрате после флотации/очистки\n",
    "F = train['rougher.input.feed_au'] # доля золота в сырье/концентрате до флотации/очистки\n",
    "T = train['rougher.output.tail_au'] # доля золота в отвальных хвостах после флотации/очистки\n",
    "rougher_output_recovery = (C * (F - T)) / (F * (C - T)) * 100\n",
    "#display(rougher_output_recovery)\n",
    "#display(train['rougher.output.recovery'])\n",
    "mae = mean_absolute_error(rougher_output_recovery, train['rougher.output.recovery'])\n",
    "print(mae)\n"
   ]
  },
  {
   "cell_type": "markdown",
   "metadata": {},
   "source": [
    "Вывод: 9.73512347450521e-15 это очень маленькое число, вероятно оно получилось из-за особенностей существования дробных чисел в Python. По сути же вычисления верны."
   ]
  },
  {
   "cell_type": "code",
   "execution_count": 7,
   "metadata": {
    "scrolled": true
   },
   "outputs": [
    {
     "data": {
      "text/plain": [
       "{'final.output.concentrate_ag',\n",
       " 'final.output.concentrate_au',\n",
       " 'final.output.concentrate_pb',\n",
       " 'final.output.concentrate_sol',\n",
       " 'final.output.recovery',\n",
       " 'final.output.tail_ag',\n",
       " 'final.output.tail_au',\n",
       " 'final.output.tail_pb',\n",
       " 'final.output.tail_sol',\n",
       " 'primary_cleaner.output.concentrate_ag',\n",
       " 'primary_cleaner.output.concentrate_au',\n",
       " 'primary_cleaner.output.concentrate_pb',\n",
       " 'primary_cleaner.output.concentrate_sol',\n",
       " 'primary_cleaner.output.tail_ag',\n",
       " 'primary_cleaner.output.tail_au',\n",
       " 'primary_cleaner.output.tail_pb',\n",
       " 'primary_cleaner.output.tail_sol',\n",
       " 'rougher.calculation.au_pb_ratio',\n",
       " 'rougher.calculation.floatbank10_sulfate_to_au_feed',\n",
       " 'rougher.calculation.floatbank11_sulfate_to_au_feed',\n",
       " 'rougher.calculation.sulfate_to_au_concentrate',\n",
       " 'rougher.output.concentrate_ag',\n",
       " 'rougher.output.concentrate_au',\n",
       " 'rougher.output.concentrate_pb',\n",
       " 'rougher.output.concentrate_sol',\n",
       " 'rougher.output.recovery',\n",
       " 'rougher.output.tail_ag',\n",
       " 'rougher.output.tail_au',\n",
       " 'rougher.output.tail_pb',\n",
       " 'rougher.output.tail_sol',\n",
       " 'secondary_cleaner.output.tail_ag',\n",
       " 'secondary_cleaner.output.tail_au',\n",
       " 'secondary_cleaner.output.tail_pb',\n",
       " 'secondary_cleaner.output.tail_sol'}"
      ]
     },
     "execution_count": 7,
     "metadata": {},
     "output_type": "execute_result"
    }
   ],
   "source": [
    "# признаки, недоступные в тестовой выборке\n",
    "train_set = set(train.columns) #множество признаков в тренировочной выборке\n",
    "test_set = set(test.columns)#множество признаков в тестовой выборке\n",
    "train_only = train_set.difference(test_set) \n",
    "train_only"
   ]
  },
  {
   "cell_type": "markdown",
   "metadata": {},
   "source": [
    "В тестовой выборке не хватает выходных концентраций металлов в продуктах после каждого этапа очистки, отвальных хвостов и расчетных характеристик расхода сульфида натрия. Эти значения получаются только в ходе обработки руды, поэтому их нельзя выяснить до запуска процесса. Они будут удалены перед обучением модели, но не сейчас, сейчас они ещё понадобятся для анализа данных."
   ]
  },
  {
   "cell_type": "markdown",
   "metadata": {},
   "source": [
    "## Анализ данных"
   ]
  },
  {
   "cell_type": "markdown",
   "metadata": {},
   "source": [
    "#### 2.1 Концентрация металлов (Au, Ag, Pb) на различных этапах очистки"
   ]
  },
  {
   "cell_type": "code",
   "execution_count": 8,
   "metadata": {},
   "outputs": [
    {
     "name": "stdout",
     "output_type": "stream",
     "text": [
      "aurum\n",
      "1 8.266097326589103\n",
      "2 19.772000139486316\n",
      "3 32.1194004078765\n",
      "4 44.0765129419528\n"
     ]
    },
    {
     "data": {
      "image/png": "[encoded data removed]",
      "text/plain": [
       "<Figure size 432x288 with 1 Axes>"
      ]
     },
     "metadata": {
      "needs_background": "light"
     },
     "output_type": "display_data"
    },
    {
     "name": "stdout",
     "output_type": "stream",
     "text": [
      "argentum\n",
      "1 8.794927425814688\n",
      "2 11.994759359873429\n",
      "3 8.44240807771906\n",
      "4 5.168386967510243\n"
     ]
    },
    {
     "data": {
      "image/png": "[encoded data removed]",
      "text/plain": [
       "<Figure size 432x288 with 1 Axes>"
      ]
     },
     "metadata": {
      "needs_background": "light"
     },
     "output_type": "display_data"
    },
    {
     "name": "stdout",
     "output_type": "stream",
     "text": [
      "plumbum\n",
      "1 3.585095711585748\n",
      "2 7.606272313195003\n",
      "3 9.810316539310149\n",
      "4 9.978821384192907\n"
     ]
    },
    {
     "data": {
      "image/png": "[encoded data removed]",
      "text/plain": [
       "<Figure size 432x288 with 1 Axes>"
      ]
     },
     "metadata": {
      "needs_background": "light"
     },
     "output_type": "display_data"
    }
   ],
   "source": [
    "aurum = full[['rougher.input.feed_au', 'rougher.output.concentrate_au', 'primary_cleaner.output.concentrate_au', 'final.output.concentrate_au']]\n",
    "argentum = full[['rougher.input.feed_ag', 'rougher.output.concentrate_ag', 'primary_cleaner.output.concentrate_ag', 'final.output.concentrate_ag']]\n",
    "plumbum = full[['rougher.input.feed_pb', 'rougher.output.concentrate_pb', 'primary_cleaner.output.concentrate_pb',  'final.output.concentrate_pb']]\n",
    "metals = [aurum, argentum, plumbum]\n",
    "metal_name = ['aurum', 'argentum', 'plumbum']\n",
    "metal_counter = 0\n",
    "stages = ['ore', 'rougher', 'primary_cleaner', 'final']\n",
    "for metal in metals:\n",
    "    counter = 1\n",
    "    print(metal_name[metal_counter])\n",
    "    color = 0.4\n",
    "    for col in metal.columns:\n",
    "        print(counter, metal[col].mean())\n",
    "        metal[col].hist(bins=100, alpha=color, label = stages[counter-1])\n",
    "        counter +=1\n",
    "        color += 0.1\n",
    "    plt.legend()\n",
    "    plt.title(metal_name[metal_counter])\n",
    "    plt.show()\n",
    "    metal_counter +=1\n"
   ]
  },
  {
   "cell_type": "markdown",
   "metadata": {},
   "source": [
    "Концентрация золота на разных этапах отражена в столбцах 'rougher.input.feed_au', 'rougher.output.concentrate_au', 'primary_cleaner.output.concentrate_au', 'final.output.concentrate_au', аналогично называются столбцы с другими металлами. Получилось запустить процесс подсчета концентраций металлов в каждой из проб и построение графиков в цикле. Судя по всему, серебро и свинец являются побочными проуктами в производстве золота, т.к. концентрация серебра падает в пробах по мере очистки золота, концентрация свинца нарастает после флотации и первичной очистки, но после вторичной почти не меняется. Возможно это связано с высокой плотностью этого металла или его высокой молекулярной массой.\n",
    "Кроме того, обращают на себя внимание пики в области нуля, их анализ планируется далее."
   ]
  },
  {
   "cell_type": "markdown",
   "metadata": {},
   "source": [
    "#### 2.2 Распределение размеров гранул сырья на обучающей и тестовой выборках"
   ]
  },
  {
   "cell_type": "code",
   "execution_count": 9,
   "metadata": {
    "scrolled": true
   },
   "outputs": [
    {
     "name": "stdout",
     "output_type": "stream",
     "text": [
      "count    14149.000000\n",
      "mean        60.239856\n",
      "std         23.005310\n",
      "min          9.659576\n",
      "25%         48.966751\n",
      "50%         55.269784\n",
      "75%         66.007526\n",
      "max        484.967466\n",
      "Name: rougher.input.feed_size, dtype: float64\n",
      "count    5290.000000\n",
      "mean       55.952754\n",
      "std        19.080334\n",
      "min         0.046369\n",
      "25%        43.906504\n",
      "50%        50.846843\n",
      "75%        62.451165\n",
      "max       392.494040\n",
      "Name: rougher.input.feed_size, dtype: float64\n"
     ]
    },
    {
     "data": {
      "image/png": "[encoded data removed]",
      "text/plain": [
       "<Figure size 432x288 with 1 Axes>"
      ]
     },
     "metadata": {
      "needs_background": "light"
     },
     "output_type": "display_data"
    }
   ],
   "source": [
    "print(train['rougher.input.feed_size'].describe())\n",
    "print(test['rougher.input.feed_size'].describe())\n",
    "train['rougher.input.feed_size'].hist(bins=100, alpha=0.5, label = 'train')\n",
    "test['rougher.input.feed_size'].hist(bins=100, alpha=0.7, label = 'test')\n",
    "plt.legend()\n",
    "plt.title('размер гранул сырья')\n",
    "plt.show()"
   ]
  },
  {
   "cell_type": "markdown",
   "metadata": {},
   "source": [
    "По форме графиков обучающая и тестовая выборка почти не отличаются, среднее в обучающей выборке больше, но больше и разброс. Форма гистограммы схожая, поэтому можно сдлать вывод об однаковом распределении, графики одинаково скошены вправо."
   ]
  },
  {
   "cell_type": "markdown",
   "metadata": {},
   "source": [
    "#### 2.3. Исследование суммарной концентрации всех веществ на разных стадиях: в сырье, в черновом и финальном концентратах. "
   ]
  },
  {
   "cell_type": "code",
   "execution_count": 10,
   "metadata": {
    "scrolled": true
   },
   "outputs": [
    {
     "data": {
      "image/png": "[encoded data removed]",
      "text/plain": [
       "<Figure size 432x288 with 1 Axes>"
      ]
     },
     "metadata": {
      "needs_background": "light"
     },
     "output_type": "display_data"
    }
   ],
   "source": [
    "sum_metals = pd.DataFrame()\n",
    "sum_metals['date'] = full['date']\n",
    "sum_metals['ore'] = aurum['rougher.input.feed_au'] + argentum['rougher.input.feed_ag'] + plumbum['rougher.input.feed_pb']\n",
    "sum_metals['rougher'] = aurum['rougher.output.concentrate_au'] + argentum['rougher.output.concentrate_ag'] + plumbum['rougher.output.concentrate_pb']\n",
    "sum_metals['primary_cleaner'] = aurum['primary_cleaner.output.concentrate_au'] + argentum['primary_cleaner.output.concentrate_ag'] + plumbum['primary_cleaner.output.concentrate_pb']\n",
    "sum_metals['final'] = aurum['final.output.concentrate_au'] + argentum['final.output.concentrate_ag'] + plumbum['final.output.concentrate_pb']\n",
    "for_plots = sum_metals.drop('date', axis=1)\n",
    "stages_for_plots = for_plots.columns\n",
    "for stage in stages_for_plots:\n",
    "    for_plots[stage].hist(alpha=0.7, label = stage)\n",
    "plt.legend()\n",
    "plt.show()\n",
    " \n",
    "    \n"
   ]
  },
  {
   "cell_type": "markdown",
   "metadata": {},
   "source": [
    "Как было видно на графиках из п.2.1 и текущем графике, в данных есть выбросы с нулевыми значениями. От них разумно избавиться, тем более их не так много."
   ]
  },
  {
   "cell_type": "code",
   "execution_count": 11,
   "metadata": {
    "scrolled": true
   },
   "outputs": [
    {
     "name": "stdout",
     "output_type": "stream",
     "text": [
      "(14149, 87)\n",
      "(14091, 87)\n"
     ]
    },
    {
     "data": {
      "text/html": [
       "<div>\n",
       "<style scoped>\n",
       "    .dataframe tbody tr th:only-of-type {\n",
       "        vertical-align: middle;\n",
       "    }\n",
       "\n",
       "    .dataframe tbody tr th {\n",
       "        vertical-align: top;\n",
       "    }\n",
       "\n",
       "    .dataframe thead th {\n",
       "        text-align: right;\n",
       "    }\n",
       "</style>\n",
       "<table border=\"1\" class=\"dataframe\">\n",
       "  <thead>\n",
       "    <tr style=\"text-align: right;\">\n",
       "      <th></th>\n",
       "      <th>date</th>\n",
       "      <th>final.output.concentrate_ag</th>\n",
       "      <th>final.output.concentrate_pb</th>\n",
       "      <th>final.output.concentrate_sol</th>\n",
       "      <th>final.output.concentrate_au</th>\n",
       "      <th>final.output.recovery</th>\n",
       "      <th>final.output.tail_ag</th>\n",
       "      <th>final.output.tail_pb</th>\n",
       "      <th>final.output.tail_sol</th>\n",
       "      <th>final.output.tail_au</th>\n",
       "      <th>...</th>\n",
       "      <th>secondary_cleaner.state.floatbank4_a_air</th>\n",
       "      <th>secondary_cleaner.state.floatbank4_a_level</th>\n",
       "      <th>secondary_cleaner.state.floatbank4_b_air</th>\n",
       "      <th>secondary_cleaner.state.floatbank4_b_level</th>\n",
       "      <th>secondary_cleaner.state.floatbank5_a_air</th>\n",
       "      <th>secondary_cleaner.state.floatbank5_a_level</th>\n",
       "      <th>secondary_cleaner.state.floatbank5_b_air</th>\n",
       "      <th>secondary_cleaner.state.floatbank5_b_level</th>\n",
       "      <th>secondary_cleaner.state.floatbank6_a_air</th>\n",
       "      <th>secondary_cleaner.state.floatbank6_a_level</th>\n",
       "    </tr>\n",
       "  </thead>\n",
       "  <tbody>\n",
       "  </tbody>\n",
       "</table>\n",
       "<p>0 rows × 87 columns</p>\n",
       "</div>"
      ],
      "text/plain": [
       "Empty DataFrame\n",
       "Columns: [date, final.output.concentrate_ag, final.output.concentrate_pb, final.output.concentrate_sol, final.output.concentrate_au, final.output.recovery, final.output.tail_ag, final.output.tail_pb, final.output.tail_sol, final.output.tail_au, primary_cleaner.input.sulfate, primary_cleaner.input.depressant, primary_cleaner.input.feed_size, primary_cleaner.input.xanthate, primary_cleaner.output.concentrate_ag, primary_cleaner.output.concentrate_pb, primary_cleaner.output.concentrate_sol, primary_cleaner.output.concentrate_au, primary_cleaner.output.tail_ag, primary_cleaner.output.tail_pb, primary_cleaner.output.tail_sol, primary_cleaner.output.tail_au, primary_cleaner.state.floatbank8_a_air, primary_cleaner.state.floatbank8_a_level, primary_cleaner.state.floatbank8_b_air, primary_cleaner.state.floatbank8_b_level, primary_cleaner.state.floatbank8_c_air, primary_cleaner.state.floatbank8_c_level, primary_cleaner.state.floatbank8_d_air, primary_cleaner.state.floatbank8_d_level, rougher.calculation.sulfate_to_au_concentrate, rougher.calculation.floatbank10_sulfate_to_au_feed, rougher.calculation.floatbank11_sulfate_to_au_feed, rougher.calculation.au_pb_ratio, rougher.input.feed_ag, rougher.input.feed_pb, rougher.input.feed_rate, rougher.input.feed_size, rougher.input.feed_sol, rougher.input.feed_au, rougher.input.floatbank10_sulfate, rougher.input.floatbank10_xanthate, rougher.input.floatbank11_sulfate, rougher.input.floatbank11_xanthate, rougher.output.concentrate_ag, rougher.output.concentrate_pb, rougher.output.concentrate_sol, rougher.output.concentrate_au, rougher.output.recovery, rougher.output.tail_ag, rougher.output.tail_pb, rougher.output.tail_sol, rougher.output.tail_au, rougher.state.floatbank10_a_air, rougher.state.floatbank10_a_level, rougher.state.floatbank10_b_air, rougher.state.floatbank10_b_level, rougher.state.floatbank10_c_air, rougher.state.floatbank10_c_level, rougher.state.floatbank10_d_air, rougher.state.floatbank10_d_level, rougher.state.floatbank10_e_air, rougher.state.floatbank10_e_level, rougher.state.floatbank10_f_air, rougher.state.floatbank10_f_level, secondary_cleaner.output.tail_ag, secondary_cleaner.output.tail_pb, secondary_cleaner.output.tail_sol, secondary_cleaner.output.tail_au, secondary_cleaner.state.floatbank2_a_air, secondary_cleaner.state.floatbank2_a_level, secondary_cleaner.state.floatbank2_b_air, secondary_cleaner.state.floatbank2_b_level, secondary_cleaner.state.floatbank3_a_air, secondary_cleaner.state.floatbank3_a_level, secondary_cleaner.state.floatbank3_b_air, secondary_cleaner.state.floatbank3_b_level, secondary_cleaner.state.floatbank4_a_air, secondary_cleaner.state.floatbank4_a_level, secondary_cleaner.state.floatbank4_b_air, secondary_cleaner.state.floatbank4_b_level, secondary_cleaner.state.floatbank5_a_air, secondary_cleaner.state.floatbank5_a_level, secondary_cleaner.state.floatbank5_b_air, secondary_cleaner.state.floatbank5_b_level, secondary_cleaner.state.floatbank6_a_air, secondary_cleaner.state.floatbank6_a_level]\n",
       "Index: []\n",
       "\n",
       "[0 rows x 87 columns]"
      ]
     },
     "execution_count": 11,
     "metadata": {},
     "output_type": "execute_result"
    }
   ],
   "source": [
    "print(train.shape)\n",
    "train = train.loc[train['final.output.concentrate_au'] != 0]\n",
    "print(train.shape)\n",
    "train.loc[train['final.output.concentrate_pb'] == 0]\n",
    "train.loc[train['final.output.concentrate_ag'] == 0]"
   ]
  },
  {
   "cell_type": "markdown",
   "metadata": {},
   "source": [
    "Все строки с нулевыми концентрациями металлов удалены."
   ]
  },
  {
   "cell_type": "code",
   "execution_count": 12,
   "metadata": {
    "scrolled": true
   },
   "outputs": [],
   "source": [
    "# выделим целевые признаки\n",
    "# это rougher.output.recovery и final.output.recovery \n",
    "features_train = train.drop(['rougher.output.recovery', 'final.output.recovery'], axis=1)\n",
    "target_train = train[['rougher.output.recovery', 'final.output.recovery']] \n",
    "target_train_1 = train['rougher.output.recovery']\n",
    "target_train_2 = train['final.output.recovery']\n",
    "features_test = test\n",
    "target_to_add = full[['date', 'rougher.output.recovery', 'final.output.recovery']]\n",
    "test_plus_target = test.merge(target_to_add, on='date')\n",
    "target_test = test_plus_target[['rougher.output.recovery', 'final.output.recovery']]\n",
    "target_test1 = target_test['rougher.output.recovery']\n",
    "target_test2 = target_test['final.output.recovery']"
   ]
  },
  {
   "cell_type": "markdown",
   "metadata": {},
   "source": [
    "<font color='blue'><b>Комментарий ревьюера: </b></font> ✔️\\\n",
    "<font color='green'> Верно лучше привязаться ко времени. "
   ]
  },
  {
   "cell_type": "markdown",
   "metadata": {},
   "source": [
    "В данной задаче целевых признаков два, нужно научить модель предсказывать оба. Для подбора гиперпараметров модели можно разделить целевые признаки на два и тренировать модель на каждый из них."
   ]
  },
  {
   "cell_type": "code",
   "execution_count": 13,
   "metadata": {},
   "outputs": [],
   "source": [
    "# удаление лишних столбцов из обучающей выборки\n",
    "train_only = list(train_only)\n",
    "features_train = train.drop(columns=train_only, axis=1) # удаление столбцов, которых нет в тестовой выборке\n",
    "#удаление столбца с датой\n",
    "features_train = features_train.drop('date', axis=1)\n",
    "features_test = features_test.drop('date', axis=1)"
   ]
  },
  {
   "cell_type": "markdown",
   "metadata": {},
   "source": [
    "## Модель"
   ]
  },
  {
   "cell_type": "markdown",
   "metadata": {},
   "source": [
    "#### 3.1. Функция для вычисления итоговой sMAPE."
   ]
  },
  {
   "cell_type": "code",
   "execution_count": 14,
   "metadata": {},
   "outputs": [],
   "source": [
    "#итоговое smape = 25% * smape(rougher) + 75% * smape(final)\n",
    "def smape(predictions, target):\n",
    "    smapes = abs(target - predictions)/((abs(target) + abs(predictions))/ 2)\n",
    "    smape = np.mean(smapes)\n",
    "    return(smape)\n",
    "def final_smape(rougher_smape, output_smape):\n",
    "    return rougher_smape * 0.25 + output_smape * 0.75\n",
    "SMAPE = make_scorer(smape, greater_is_better=True)"
   ]
  },
  {
   "cell_type": "code",
   "execution_count": 15,
   "metadata": {
    "scrolled": true
   },
   "outputs": [
    {
     "name": "stdout",
     "output_type": "stream",
     "text": [
      "0.09710340558000893\n"
     ]
    }
   ],
   "source": [
    "# проверим, работает ли функция\n",
    "# поробуем предсказать rougher.output.recovery\n",
    "model = LinearRegression() # инициализация модели логистической регрессии\n",
    "model.fit(features_train, target_train_1) # обучение модели на тренировочной выборке\n",
    "predictions = pd.Series(model.predict(features_train)) # предсказания модели на валидационной выборке\n",
    "rougher_smape = smape(predictions, target_train_1)\n",
    "\n",
    "# поробуем предсказать final.output.recovery\n",
    "model = LinearRegression() # инициализация модели логистической регрессии\n",
    "model.fit(features_train, target_train_2) # обучение модели на тренировочной выборке\n",
    "predictions = pd.Series(model.predict(features_train)) # предсказания модели на валидационной выборке\n",
    "output_smape = smape(predictions, target_train_2)\n",
    "\n",
    "print(final_smape(rougher_smape, output_smape))"
   ]
  },
  {
   "cell_type": "markdown",
   "metadata": {},
   "source": [
    "Похоже что всё работает. Можно приступать к выполению задания"
   ]
  },
  {
   "cell_type": "markdown",
   "metadata": {},
   "source": [
    "#### 3.2. Построение модели"
   ]
  },
  {
   "cell_type": "code",
   "execution_count": 16,
   "metadata": {},
   "outputs": [
    {
     "name": "stdout",
     "output_type": "stream",
     "text": [
      "sMAPE для оценки rougher.output.recovery: 0.20885109952194245\n",
      "sMAPE для оценки final.output.recovery: 0.1604762100459664\n",
      "sMAPE: 0.1725699324149604\n"
     ]
    }
   ],
   "source": [
    "#DecisionTreeRegressor\n",
    "#rougher.output.recovery\n",
    "model = DecisionTreeRegressor(random_state=12345)\n",
    "scores = cross_val_score(model, features_train, target_train_1, scoring=SMAPE, cv=5)\n",
    "rougher_score = sum(scores)/ 5\n",
    "print(\"sMAPE для оценки rougher.output.recovery:\", rougher_score)\n",
    "#final.output.recovery\n",
    "model = DecisionTreeRegressor(random_state=12345)\n",
    "scores = cross_val_score(model, features_train, target_train_2, scoring=SMAPE, cv=5)\n",
    "output_score = sum(scores)/ 5\n",
    "print(\"sMAPE для оценки final.output.recovery:\", output_score)\n",
    "print('sMAPE:', final_smape(rougher_score, output_score))"
   ]
  },
  {
   "cell_type": "code",
   "execution_count": 17,
   "metadata": {
    "scrolled": true
   },
   "outputs": [
    {
     "name": "stdout",
     "output_type": "stream",
     "text": [
      "sMAPE для оценки rougher.output.recovery: 0.1276095096676852\n",
      "sMAPE для оценки final.output.recovery: 0.10976969248287563\n",
      "sMAPE: 0.11422964677907803\n"
     ]
    }
   ],
   "source": [
    "#LinearRegression\n",
    "# rougher.output.recovery\n",
    "model_lr_1 = LinearRegression()\n",
    "model_lr_1.fit(features_train, target_train_1)\n",
    "scores = cross_val_score(model_lr_1, features_train, target_train_1, scoring=SMAPE, cv=5)\n",
    "rougher_score = sum(scores)/ 5\n",
    "print(\"sMAPE для оценки rougher.output.recovery:\", rougher_score)\n",
    "# поробуем предсказать final.output.recovery\n",
    "model_lr_2 = LinearRegression() # инициализация модели логистической регрессии\n",
    "model_lr_2.fit(features_train, target_train_2)\n",
    "scores = cross_val_score(model_lr_2, features_train, target_train_2, scoring=SMAPE, cv=5)\n",
    "output_score = sum(scores)/ 5\n",
    "print(\"sMAPE для оценки final.output.recovery:\", output_score)\n",
    "print('sMAPE:', final_smape(rougher_score, output_score))"
   ]
  },
  {
   "cell_type": "markdown",
   "metadata": {},
   "source": [
    "Подбор гиперпараметров случайного леса посредством кросс-валидации это мучительно долго, однако этого требуют условия задачи, придется потратить время. Часть вариантов пребора намеренно опущена."
   ]
  },
  {
   "cell_type": "code",
   "execution_count": 26,
   "metadata": {},
   "outputs": [
    {
     "name": "stdout",
     "output_type": "stream",
     "text": [
      "best_result =  0.10671734244288585 depth =  6\n"
     ]
    }
   ],
   "source": [
    "#RandomForestRegressor\n",
    "#rougher.output.recovery\n",
    "#подбор гиперпараметров\n",
    "#max_depth\n",
    "model_1 = None\n",
    "best_depth = 0\n",
    "best_result = 1\n",
    "for depth in range(5, 8, 1):\n",
    "    model = RandomForestRegressor(n_estimators=20, max_depth=depth, random_state=12345)\n",
    "    scores = cross_val_score(model, features_train, target_train_1, scoring=SMAPE, cv=5)\n",
    "    rougher_score = sum(scores)/ 5\n",
    "    if rougher_score < best_result:\n",
    "        model_1 = model\n",
    "        best_result = rougher_score\n",
    "        best_depth_1 = depth\n",
    "print('best_result = ', best_result, 'depth = ', best_depth_1)"
   ]
  },
  {
   "cell_type": "code",
   "execution_count": 31,
   "metadata": {},
   "outputs": [
    {
     "name": "stdout",
     "output_type": "stream",
     "text": [
      "best_result =  0.10639035447521752 est =  17\n"
     ]
    }
   ],
   "source": [
    "#RandomForestRegressor\n",
    "#rougher.output.recovery\n",
    "#подбор гиперпараметров\n",
    "#n_estimators\n",
    "model_1 = None\n",
    "best_est = 0\n",
    "best_result = 1\n",
    "for est in range(15, 18, 1):\n",
    "    model = RandomForestRegressor(n_estimators=est, max_depth=best_depth_1, random_state=12345)\n",
    "    scores = cross_val_score(model, features_train, target_train_1, scoring=SMAPE, cv=5)\n",
    "    rougher_score = sum(scores)/ 5\n",
    "    if rougher_score < best_result:\n",
    "        model_1 = model\n",
    "        best_result = rougher_score\n",
    "        best_est_1 = est\n",
    "print('best_result = ', best_result, 'est = ', best_est_1)"
   ]
  },
  {
   "cell_type": "code",
   "execution_count": 33,
   "metadata": {},
   "outputs": [
    {
     "name": "stdout",
     "output_type": "stream",
     "text": [
      "best_result =  0.0914585637160647 depth =  5\n"
     ]
    }
   ],
   "source": [
    "#RandomForestRegressor\n",
    "#final.output.recovery\n",
    "#подбор гиперпараметров\n",
    "#max_depth\n",
    "model_2 = None\n",
    "best_depth = 0\n",
    "best_result = 1\n",
    "for depth in range(5, 8, 1):\n",
    "    model = RandomForestRegressor(n_estimators=20, max_depth=depth, random_state=12345)\n",
    "    scores = cross_val_score(model, features_train, target_train_2, scoring=SMAPE, cv=5)\n",
    "    output_score = sum(scores)/ 5\n",
    "    if output_score < best_result:\n",
    "        model_2 = model\n",
    "        best_result = output_score\n",
    "        best_depth_2 = depth\n",
    "print('best_result = ', best_result, 'depth = ', best_depth_2)"
   ]
  },
  {
   "cell_type": "code",
   "execution_count": 36,
   "metadata": {},
   "outputs": [
    {
     "name": "stdout",
     "output_type": "stream",
     "text": [
      "best_result =  0.0914585637160647 est =  20\n"
     ]
    }
   ],
   "source": [
    "#RandomForestRegressor\n",
    "#final.output.recovery\n",
    "#подбор гиперпараметров\n",
    "#n_estimators\n",
    "model_2 = None\n",
    "best_est = 0\n",
    "best_result = 1\n",
    "for est in range(19, 22, 1):\n",
    "    model = RandomForestRegressor(n_estimators=est, max_depth=best_depth_2, random_state=12345)\n",
    "    scores = cross_val_score(model, features_train, target_train_2, scoring=SMAPE, cv=5)\n",
    "    output_score = sum(scores)/ 5\n",
    "    if output_score < best_result:\n",
    "        model_2 = model\n",
    "        best_result = output_score\n",
    "        best_est_2 = est\n",
    "print('best_result = ', best_result, 'est = ', best_est_2)"
   ]
  },
  {
   "cell_type": "code",
   "execution_count": 41,
   "metadata": {
    "scrolled": true
   },
   "outputs": [
    {
     "name": "stdout",
     "output_type": "stream",
     "text": [
      "sMAPE: 0.09533775734987446\n"
     ]
    }
   ],
   "source": [
    "#обучение моделей\n",
    "# rougher.output.recovery\n",
    "model_1 = RandomForestRegressor(n_estimators=best_est_1, max_depth=best_depth_1, random_state=12345)\n",
    "model_1.fit(features_train, target_train_1)\n",
    "# final.output.recovery\n",
    "model_2 = RandomForestRegressor(n_estimators=best_est_2, max_depth=best_depth_2, random_state=12345) \n",
    "model_2.fit(features_train, target_train_2)\n",
    "print('sMAPE:', final_smape(rougher_score, output_score))"
   ]
  },
  {
   "cell_type": "markdown",
   "metadata": {},
   "source": [
    "Согласно данным кросс-валидации, лучшей моделью для предсказания rougher.output.recovery оказался случайный лес с параметрами глубина = 6, количество деревьев = 17, sMAPE получился 0.106. Лучшая модель для предсказания final.output.recovery это случайный лес с гиперпараметрами глубина = 5, количество деревьев = 20, для него sMAPE = 0.091. Осталось проверить на тестовой выборке, не упадет ли ощутимо качество моделей."
   ]
  },
  {
   "cell_type": "code",
   "execution_count": 42,
   "metadata": {
    "scrolled": true
   },
   "outputs": [
    {
     "name": "stdout",
     "output_type": "stream",
     "text": [
      "RandomForest score =  0.10692054158374428\n",
      "LinearRegression score =  0.09788094090197053\n"
     ]
    }
   ],
   "source": [
    "# rougher.output.recovery\n",
    "#RandomForest\n",
    "predictions = pd.Series(model_1.predict(features_test)) \n",
    "result = smape(predictions, target_test1)\n",
    "print('RandomForest score = ', result)\n",
    "#linearRegression\n",
    "predictions = pd.Series(model_lr_1.predict(features_test)) \n",
    "result = smape(predictions, target_test1)\n",
    "print('LinearRegression score = ', result)"
   ]
  },
  {
   "cell_type": "code",
   "execution_count": 44,
   "metadata": {
    "scrolled": true
   },
   "outputs": [
    {
     "name": "stdout",
     "output_type": "stream",
     "text": [
      "RandomForest score =  0.098638647462053\n",
      "LinearRegression score =  0.09929313518335633\n"
     ]
    }
   ],
   "source": [
    "# final.output.recovery\n",
    "#RandomForest\n",
    "predictions = pd.Series(model_2.predict(features_test)) \n",
    "result = smape(predictions, target_test2)\n",
    "print('RandomForest score = ', result)\n",
    "#linearRegression\n",
    "predictions = pd.Series(model_lr_2.predict(features_test)) \n",
    "result = smape(predictions, target_test2)\n",
    "print('LinearRegression score = ', result)"
   ]
  },
  {
   "cell_type": "code",
   "execution_count": 45,
   "metadata": {},
   "outputs": [
    {
     "name": "stdout",
     "output_type": "stream",
     "text": [
      "sMAPE: 0.09844922082203239\n"
     ]
    }
   ],
   "source": [
    "print('sMAPE:', final_smape(0.09788094090197053, 0.098638647462053))"
   ]
  },
  {
   "cell_type": "markdown",
   "metadata": {},
   "source": [
    "Судя по тестовой выборке, для предсказания rougher.output.recovery более эффективной оказалась модель линейной регресии, а для final.output.recovery случайный лес."
   ]
  },
  {
   "cell_type": "code",
   "execution_count": 54,
   "metadata": {},
   "outputs": [
    {
     "name": "stdout",
     "output_type": "stream",
     "text": [
      "0.10359118895499324\n"
     ]
    }
   ],
   "source": [
    "#проверка модели на вменяемость - сравнение с константной моделью\n",
    "# rougher.output.recovery\n",
    "dummy_regr = DummyRegressor(strategy=\"mean\")\n",
    "dummy_regr.fit(features_train, target_train_1)\n",
    "predictions = pd.Series(dummy_regr.predict(features_test)) \n",
    "result1 = smape(predictions, target_test1)\n",
    "print(result1)"
   ]
  },
  {
   "cell_type": "code",
   "execution_count": 51,
   "metadata": {
    "scrolled": false
   },
   "outputs": [
    {
     "name": "stdout",
     "output_type": "stream",
     "text": [
      "0.10095986964588229\n"
     ]
    }
   ],
   "source": [
    "# final.output.recovery\n",
    "dummy_regr = DummyRegressor(strategy=\"mean\")\n",
    "dummy_regr.fit(features_train, target_train_2)\n",
    "predictions = pd.Series(dummy_regr.predict(features_test)) \n",
    "result2 = smape(predictions, target_test2)\n",
    "print(result2)"
   ]
  },
  {
   "cell_type": "code",
   "execution_count": 52,
   "metadata": {
    "scrolled": true
   },
   "outputs": [
    {
     "name": "stdout",
     "output_type": "stream",
     "text": [
      "sMAPE: 0.10161769947316003\n"
     ]
    }
   ],
   "source": [
    "print('sMAPE:', final_smape(result1, result2))"
   ]
  },
  {
   "cell_type": "markdown",
   "metadata": {},
   "source": [
    "### Вывод"
   ]
  },
  {
   "cell_type": "markdown",
   "metadata": {},
   "source": [
    "Построены модели для предсказания двух целевых признаков: rougher.output.recovery и final.output.recovery. Качество моделей оценивалось с помощью метрики sMAPE (симметричный средний процент отклонения), ориентируясь на эту метрику лучшей моделью для предсказания rougher.output.recovery оказалась линейная регресия, а лучшей моделью для предсказания final.output.recovery стал случайный лес с гиперпараметрами глубина = 5, количество деревьев = 20. Кросс-валидация для подбора гиперпараметров оказалась очень медленным инструментом, однако позволила заметно уменьшить фактор переобучения случайного леса. Итоговый sMAPE получился 0.098, что превышает показатель случайной модели 0.102, хотя и ненамного."
   ]
  }
 ],
 "metadata": {
  "ExecuteTimeLog": [
   {
    "duration": 115,
    "start_time": "2022-04-01T14:23:11.218Z"
   },
   {
    "duration": 81,
    "start_time": "2022-04-01T16:33:24.817Z"
   },
   {
    "duration": 137484,
    "start_time": "2022-04-01T16:33:44.070Z"
   },
   {
    "duration": 783,
    "start_time": "2022-04-01T16:36:01.557Z"
   },
   {
    "duration": 63,
    "start_time": "2022-04-01T16:36:02.343Z"
   },
   {
    "duration": 735,
    "start_time": "2022-04-01T16:36:02.408Z"
   },
   {
    "duration": 25,
    "start_time": "2022-04-01T16:36:03.146Z"
   },
   {
    "duration": 7,
    "start_time": "2022-04-01T16:36:03.172Z"
   },
   {
    "duration": 7,
    "start_time": "2022-04-01T16:36:03.180Z"
   },
   {
    "duration": 2301,
    "start_time": "2022-04-01T16:36:03.189Z"
   },
   {
    "duration": 404,
    "start_time": "2022-04-01T16:36:05.492Z"
   },
   {
    "duration": 235,
    "start_time": "2022-04-01T16:36:05.898Z"
   },
   {
    "duration": 21,
    "start_time": "2022-04-01T16:36:06.135Z"
   },
   {
    "duration": 37,
    "start_time": "2022-04-01T16:36:06.159Z"
   },
   {
    "duration": 12,
    "start_time": "2022-04-01T16:36:06.198Z"
   },
   {
    "duration": 11,
    "start_time": "2022-04-01T16:36:06.232Z"
   },
   {
    "duration": 703,
    "start_time": "2022-04-01T16:36:06.245Z"
   },
   {
    "duration": 9467,
    "start_time": "2022-04-01T16:36:06.950Z"
   },
   {
    "duration": 3917,
    "start_time": "2022-04-01T16:36:16.419Z"
   },
   {
    "duration": 2598,
    "start_time": "2022-04-01T16:36:20.344Z"
   },
   {
    "duration": 25457,
    "start_time": "2022-04-01T16:36:22.954Z"
   },
   {
    "duration": 21037,
    "start_time": "2022-04-01T16:36:48.414Z"
   },
   {
    "duration": 152404,
    "start_time": "2022-04-01T16:37:09.453Z"
   },
   {
    "duration": 122,
    "start_time": "2022-04-01T16:39:41.859Z"
   },
   {
    "duration": 0,
    "start_time": "2022-04-01T16:39:41.983Z"
   },
   {
    "duration": 0,
    "start_time": "2022-04-01T16:39:41.984Z"
   },
   {
    "duration": 0,
    "start_time": "2022-04-01T16:39:41.985Z"
   },
   {
    "duration": 89,
    "start_time": "2022-04-01T19:28:15.161Z"
   },
   {
    "duration": 6939,
    "start_time": "2022-04-01T19:28:27.596Z"
   },
   {
    "duration": 947,
    "start_time": "2022-04-01T19:28:34.537Z"
   },
   {
    "duration": 148,
    "start_time": "2022-04-01T19:28:35.487Z"
   },
   {
    "duration": 1162,
    "start_time": "2022-04-01T19:28:35.637Z"
   },
   {
    "duration": 37,
    "start_time": "2022-04-01T19:28:36.802Z"
   },
   {
    "duration": 38,
    "start_time": "2022-04-01T19:28:36.841Z"
   },
   {
    "duration": 14,
    "start_time": "2022-04-01T19:28:36.883Z"
   },
   {
    "duration": 6180,
    "start_time": "2022-04-01T19:28:36.900Z"
   },
   {
    "duration": 822,
    "start_time": "2022-04-01T19:28:43.083Z"
   },
   {
    "duration": 416,
    "start_time": "2022-04-01T19:28:43.910Z"
   },
   {
    "duration": 56,
    "start_time": "2022-04-01T19:28:44.328Z"
   },
   {
    "duration": 35,
    "start_time": "2022-04-01T19:28:44.387Z"
   },
   {
    "duration": 13,
    "start_time": "2022-04-01T19:28:44.425Z"
   },
   {
    "duration": 11,
    "start_time": "2022-04-01T19:28:44.441Z"
   },
   {
    "duration": 1390,
    "start_time": "2022-04-01T19:28:44.483Z"
   },
   {
    "duration": 13216,
    "start_time": "2022-04-01T19:28:45.876Z"
   },
   {
    "duration": 7517,
    "start_time": "2022-04-01T19:28:59.094Z"
   },
   {
    "duration": 9899,
    "start_time": "2022-04-01T19:29:06.693Z"
   },
   {
    "duration": 30810,
    "start_time": "2022-04-01T19:29:16.599Z"
   },
   {
    "duration": 30965,
    "start_time": "2022-04-01T19:29:47.411Z"
   },
   {
    "duration": 267350,
    "start_time": "2022-04-01T19:30:18.379Z"
   },
   {
    "duration": 283308,
    "start_time": "2022-04-01T19:34:45.732Z"
   },
   {
    "duration": 58,
    "start_time": "2022-04-01T19:39:29.043Z"
   },
   {
    "duration": 271,
    "start_time": "2022-04-01T19:39:29.104Z"
   },
   {
    "duration": 168070,
    "start_time": "2022-04-01T19:39:29.380Z"
   },
   {
    "duration": 91965,
    "start_time": "2022-04-01T19:43:43.765Z"
   },
   {
    "duration": 86408,
    "start_time": "2022-04-01T19:46:29.422Z"
   },
   {
    "duration": 337969,
    "start_time": "2022-04-01T19:51:32.691Z"
   },
   {
    "duration": 101944,
    "start_time": "2022-04-01T19:58:37.706Z"
   },
   {
    "duration": 82715,
    "start_time": "2022-04-01T20:02:36.253Z"
   },
   {
    "duration": 73369,
    "start_time": "2022-04-01T20:05:31.913Z"
   },
   {
    "duration": 121136,
    "start_time": "2022-04-01T20:09:54.298Z"
   },
   {
    "duration": 92360,
    "start_time": "2022-04-01T20:12:33.887Z"
   },
   {
    "duration": 559846,
    "start_time": "2022-04-01T20:16:35.270Z"
   },
   {
    "duration": 229648,
    "start_time": "2022-04-01T20:26:30.692Z"
   },
   {
    "duration": 74003,
    "start_time": "2022-04-01T20:33:48.645Z"
   },
   {
    "duration": 11665,
    "start_time": "2022-04-01T20:37:40.829Z"
   },
   {
    "duration": 292,
    "start_time": "2022-04-01T20:38:29.748Z"
   },
   {
    "duration": 11115,
    "start_time": "2022-04-01T20:39:25.617Z"
   },
   {
    "duration": 18,
    "start_time": "2022-04-01T20:40:03.498Z"
   },
   {
    "duration": 12033,
    "start_time": "2022-04-01T20:40:37.368Z"
   },
   {
    "duration": 39,
    "start_time": "2022-04-01T20:41:15.147Z"
   },
   {
    "duration": 127,
    "start_time": "2022-04-01T20:41:51.649Z"
   },
   {
    "duration": 42,
    "start_time": "2022-04-01T20:42:25.650Z"
   },
   {
    "duration": 6,
    "start_time": "2022-04-01T20:44:52.903Z"
   },
   {
    "duration": 3497,
    "start_time": "2022-04-01T21:22:50.666Z"
   },
   {
    "duration": 10,
    "start_time": "2022-04-01T21:26:24.769Z"
   },
   {
    "duration": 9,
    "start_time": "2022-04-01T21:26:47.288Z"
   },
   {
    "duration": 11,
    "start_time": "2022-04-01T21:27:31.043Z"
   },
   {
    "duration": 9,
    "start_time": "2022-04-01T21:31:02.559Z"
   },
   {
    "duration": 9,
    "start_time": "2022-04-01T21:31:05.086Z"
   },
   {
    "duration": 5,
    "start_time": "2022-04-01T21:31:26.896Z"
   },
   {
    "duration": 91,
    "start_time": "2022-04-01T21:46:34.605Z"
   },
   {
    "duration": 9,
    "start_time": "2022-04-01T21:46:44.887Z"
   }
  ],
  "kernelspec": {
   "display_name": "Python 3 (ipykernel)",
   "language": "python",
   "name": "python3"
  },
  "language_info": {
   "codemirror_mode": {
    "name": "ipython",
    "version": 3
   },
   "file_extension": ".py",
   "mimetype": "text/x-python",
   "name": "python",
   "nbconvert_exporter": "python",
   "pygments_lexer": "ipython3",
   "version": "3.9.7"
  },
  "toc": {
   "base_numbering": 1,
   "nav_menu": {},
   "number_sections": true,
   "sideBar": true,
   "skip_h1_title": true,
   "title_cell": "Содержание",
   "title_sidebar": "Contents",
   "toc_cell": true,
   "toc_position": {},
   "toc_section_display": true,
   "toc_window_display": true
  }
 },
 "nbformat": 4,
 "nbformat_minor": 2
}
