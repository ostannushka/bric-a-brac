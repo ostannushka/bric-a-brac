{
 "cells": [
  {
   "cell_type": "markdown",
   "metadata": {},
   "source": [
    "# Определение перспективного тарифа для телеком-компании"
   ]
  },
  {
   "cell_type": "markdown",
   "metadata": {},
   "source": [
    "Компания «Мегалайн» — федеральный оператор сотовой связи. Клиентам предлагают два тарифных плана: «Смарт» и «Ультра». \n",
    "Чтобы скорректировать рекламный бюджет, коммерческий департамент хочет понять, какой тариф приносит больше денег.\n",
    "В данном проекте представлен предварительный анализ тарифов на небольшой выборке клиентов. Выборка содержит данные 500 пользователей «Мегалайна»: кто они, откуда, каким тарифом пользуются, сколько звонков и сообщений каждый отправил за 2018 год. Цель проекта - анализ поведения клиентов и выбор лучшего тарифа."
   ]
  },
  {
   "cell_type": "markdown",
   "metadata": {},
   "source": [
    "## 1. Изучение данных из файла"
   ]
  },
  {
   "cell_type": "code",
   "execution_count": 1,
   "metadata": {},
   "outputs": [
    {
     "data": {
      "text/html": [
       "<div>\n",
       "<style scoped>\n",
       "    .dataframe tbody tr th:only-of-type {\n",
       "        vertical-align: middle;\n",
       "    }\n",
       "\n",
       "    .dataframe tbody tr th {\n",
       "        vertical-align: top;\n",
       "    }\n",
       "\n",
       "    .dataframe thead th {\n",
       "        text-align: right;\n",
       "    }\n",
       "</style>\n",
       "<table border=\"1\" class=\"dataframe\">\n",
       "  <thead>\n",
       "    <tr style=\"text-align: right;\">\n",
       "      <th></th>\n",
       "      <th>messages_included</th>\n",
       "      <th>mb_per_month_included</th>\n",
       "      <th>minutes_included</th>\n",
       "      <th>rub_monthly_fee</th>\n",
       "      <th>rub_per_gb</th>\n",
       "      <th>rub_per_message</th>\n",
       "      <th>rub_per_minute</th>\n",
       "      <th>tariff_name</th>\n",
       "    </tr>\n",
       "  </thead>\n",
       "  <tbody>\n",
       "    <tr>\n",
       "      <th>0</th>\n",
       "      <td>50</td>\n",
       "      <td>15360</td>\n",
       "      <td>500</td>\n",
       "      <td>550</td>\n",
       "      <td>200</td>\n",
       "      <td>3</td>\n",
       "      <td>3</td>\n",
       "      <td>smart</td>\n",
       "    </tr>\n",
       "    <tr>\n",
       "      <th>1</th>\n",
       "      <td>1000</td>\n",
       "      <td>30720</td>\n",
       "      <td>3000</td>\n",
       "      <td>1950</td>\n",
       "      <td>150</td>\n",
       "      <td>1</td>\n",
       "      <td>1</td>\n",
       "      <td>ultra</td>\n",
       "    </tr>\n",
       "  </tbody>\n",
       "</table>\n",
       "</div>"
      ],
      "text/plain": [
       "   messages_included  mb_per_month_included  minutes_included  \\\n",
       "0                 50                  15360               500   \n",
       "1               1000                  30720              3000   \n",
       "\n",
       "   rub_monthly_fee  rub_per_gb  rub_per_message  rub_per_minute tariff_name  \n",
       "0              550         200                3               3       smart  \n",
       "1             1950         150                1               1       ultra  "
      ]
     },
     "metadata": {},
     "output_type": "display_data"
    },
    {
     "data": {
      "text/html": [
       "<div>\n",
       "<style scoped>\n",
       "    .dataframe tbody tr th:only-of-type {\n",
       "        vertical-align: middle;\n",
       "    }\n",
       "\n",
       "    .dataframe tbody tr th {\n",
       "        vertical-align: top;\n",
       "    }\n",
       "\n",
       "    .dataframe thead th {\n",
       "        text-align: right;\n",
       "    }\n",
       "</style>\n",
       "<table border=\"1\" class=\"dataframe\">\n",
       "  <thead>\n",
       "    <tr style=\"text-align: right;\">\n",
       "      <th></th>\n",
       "      <th>user_id</th>\n",
       "      <th>age</th>\n",
       "      <th>churn_date</th>\n",
       "      <th>city</th>\n",
       "      <th>first_name</th>\n",
       "      <th>last_name</th>\n",
       "      <th>reg_date</th>\n",
       "      <th>tariff</th>\n",
       "    </tr>\n",
       "  </thead>\n",
       "  <tbody>\n",
       "    <tr>\n",
       "      <th>0</th>\n",
       "      <td>1000</td>\n",
       "      <td>52</td>\n",
       "      <td>NaN</td>\n",
       "      <td>Краснодар</td>\n",
       "      <td>Рафаил</td>\n",
       "      <td>Верещагин</td>\n",
       "      <td>2018-05-25</td>\n",
       "      <td>ultra</td>\n",
       "    </tr>\n",
       "    <tr>\n",
       "      <th>1</th>\n",
       "      <td>1001</td>\n",
       "      <td>41</td>\n",
       "      <td>NaN</td>\n",
       "      <td>Москва</td>\n",
       "      <td>Иван</td>\n",
       "      <td>Ежов</td>\n",
       "      <td>2018-11-01</td>\n",
       "      <td>smart</td>\n",
       "    </tr>\n",
       "    <tr>\n",
       "      <th>2</th>\n",
       "      <td>1002</td>\n",
       "      <td>59</td>\n",
       "      <td>NaN</td>\n",
       "      <td>Стерлитамак</td>\n",
       "      <td>Евгений</td>\n",
       "      <td>Абрамович</td>\n",
       "      <td>2018-06-17</td>\n",
       "      <td>smart</td>\n",
       "    </tr>\n",
       "    <tr>\n",
       "      <th>3</th>\n",
       "      <td>1003</td>\n",
       "      <td>23</td>\n",
       "      <td>NaN</td>\n",
       "      <td>Москва</td>\n",
       "      <td>Белла</td>\n",
       "      <td>Белякова</td>\n",
       "      <td>2018-08-17</td>\n",
       "      <td>ultra</td>\n",
       "    </tr>\n",
       "    <tr>\n",
       "      <th>4</th>\n",
       "      <td>1004</td>\n",
       "      <td>68</td>\n",
       "      <td>NaN</td>\n",
       "      <td>Новокузнецк</td>\n",
       "      <td>Татьяна</td>\n",
       "      <td>Авдеенко</td>\n",
       "      <td>2018-05-14</td>\n",
       "      <td>ultra</td>\n",
       "    </tr>\n",
       "  </tbody>\n",
       "</table>\n",
       "</div>"
      ],
      "text/plain": [
       "   user_id  age churn_date         city first_name  last_name    reg_date  \\\n",
       "0     1000   52        NaN    Краснодар     Рафаил  Верещагин  2018-05-25   \n",
       "1     1001   41        NaN       Москва       Иван       Ежов  2018-11-01   \n",
       "2     1002   59        NaN  Стерлитамак    Евгений  Абрамович  2018-06-17   \n",
       "3     1003   23        NaN       Москва      Белла   Белякова  2018-08-17   \n",
       "4     1004   68        NaN  Новокузнецк    Татьяна   Авдеенко  2018-05-14   \n",
       "\n",
       "  tariff  \n",
       "0  ultra  \n",
       "1  smart  \n",
       "2  smart  \n",
       "3  ultra  \n",
       "4  ultra  "
      ]
     },
     "metadata": {},
     "output_type": "display_data"
    },
    {
     "data": {
      "text/html": [
       "<div>\n",
       "<style scoped>\n",
       "    .dataframe tbody tr th:only-of-type {\n",
       "        vertical-align: middle;\n",
       "    }\n",
       "\n",
       "    .dataframe tbody tr th {\n",
       "        vertical-align: top;\n",
       "    }\n",
       "\n",
       "    .dataframe thead th {\n",
       "        text-align: right;\n",
       "    }\n",
       "</style>\n",
       "<table border=\"1\" class=\"dataframe\">\n",
       "  <thead>\n",
       "    <tr style=\"text-align: right;\">\n",
       "      <th></th>\n",
       "      <th>id</th>\n",
       "      <th>message_date</th>\n",
       "      <th>user_id</th>\n",
       "    </tr>\n",
       "  </thead>\n",
       "  <tbody>\n",
       "    <tr>\n",
       "      <th>0</th>\n",
       "      <td>1000_0</td>\n",
       "      <td>2018-06-27</td>\n",
       "      <td>1000</td>\n",
       "    </tr>\n",
       "    <tr>\n",
       "      <th>1</th>\n",
       "      <td>1000_1</td>\n",
       "      <td>2018-10-08</td>\n",
       "      <td>1000</td>\n",
       "    </tr>\n",
       "    <tr>\n",
       "      <th>2</th>\n",
       "      <td>1000_2</td>\n",
       "      <td>2018-08-04</td>\n",
       "      <td>1000</td>\n",
       "    </tr>\n",
       "    <tr>\n",
       "      <th>3</th>\n",
       "      <td>1000_3</td>\n",
       "      <td>2018-06-16</td>\n",
       "      <td>1000</td>\n",
       "    </tr>\n",
       "    <tr>\n",
       "      <th>4</th>\n",
       "      <td>1000_4</td>\n",
       "      <td>2018-12-05</td>\n",
       "      <td>1000</td>\n",
       "    </tr>\n",
       "  </tbody>\n",
       "</table>\n",
       "</div>"
      ],
      "text/plain": [
       "       id message_date  user_id\n",
       "0  1000_0   2018-06-27     1000\n",
       "1  1000_1   2018-10-08     1000\n",
       "2  1000_2   2018-08-04     1000\n",
       "3  1000_3   2018-06-16     1000\n",
       "4  1000_4   2018-12-05     1000"
      ]
     },
     "metadata": {},
     "output_type": "display_data"
    },
    {
     "data": {
      "text/html": [
       "<div>\n",
       "<style scoped>\n",
       "    .dataframe tbody tr th:only-of-type {\n",
       "        vertical-align: middle;\n",
       "    }\n",
       "\n",
       "    .dataframe tbody tr th {\n",
       "        vertical-align: top;\n",
       "    }\n",
       "\n",
       "    .dataframe thead th {\n",
       "        text-align: right;\n",
       "    }\n",
       "</style>\n",
       "<table border=\"1\" class=\"dataframe\">\n",
       "  <thead>\n",
       "    <tr style=\"text-align: right;\">\n",
       "      <th></th>\n",
       "      <th>Unnamed: 0</th>\n",
       "      <th>id</th>\n",
       "      <th>mb_used</th>\n",
       "      <th>session_date</th>\n",
       "      <th>user_id</th>\n",
       "    </tr>\n",
       "  </thead>\n",
       "  <tbody>\n",
       "    <tr>\n",
       "      <th>0</th>\n",
       "      <td>0</td>\n",
       "      <td>1000_0</td>\n",
       "      <td>112.95</td>\n",
       "      <td>2018-11-25</td>\n",
       "      <td>1000</td>\n",
       "    </tr>\n",
       "    <tr>\n",
       "      <th>1</th>\n",
       "      <td>1</td>\n",
       "      <td>1000_1</td>\n",
       "      <td>1052.81</td>\n",
       "      <td>2018-09-07</td>\n",
       "      <td>1000</td>\n",
       "    </tr>\n",
       "    <tr>\n",
       "      <th>2</th>\n",
       "      <td>2</td>\n",
       "      <td>1000_2</td>\n",
       "      <td>1197.26</td>\n",
       "      <td>2018-06-25</td>\n",
       "      <td>1000</td>\n",
       "    </tr>\n",
       "    <tr>\n",
       "      <th>3</th>\n",
       "      <td>3</td>\n",
       "      <td>1000_3</td>\n",
       "      <td>550.27</td>\n",
       "      <td>2018-08-22</td>\n",
       "      <td>1000</td>\n",
       "    </tr>\n",
       "    <tr>\n",
       "      <th>4</th>\n",
       "      <td>4</td>\n",
       "      <td>1000_4</td>\n",
       "      <td>302.56</td>\n",
       "      <td>2018-09-24</td>\n",
       "      <td>1000</td>\n",
       "    </tr>\n",
       "  </tbody>\n",
       "</table>\n",
       "</div>"
      ],
      "text/plain": [
       "   Unnamed: 0      id  mb_used session_date  user_id\n",
       "0           0  1000_0   112.95   2018-11-25     1000\n",
       "1           1  1000_1  1052.81   2018-09-07     1000\n",
       "2           2  1000_2  1197.26   2018-06-25     1000\n",
       "3           3  1000_3   550.27   2018-08-22     1000\n",
       "4           4  1000_4   302.56   2018-09-24     1000"
      ]
     },
     "metadata": {},
     "output_type": "display_data"
    },
    {
     "data": {
      "text/html": [
       "<div>\n",
       "<style scoped>\n",
       "    .dataframe tbody tr th:only-of-type {\n",
       "        vertical-align: middle;\n",
       "    }\n",
       "\n",
       "    .dataframe tbody tr th {\n",
       "        vertical-align: top;\n",
       "    }\n",
       "\n",
       "    .dataframe thead th {\n",
       "        text-align: right;\n",
       "    }\n",
       "</style>\n",
       "<table border=\"1\" class=\"dataframe\">\n",
       "  <thead>\n",
       "    <tr style=\"text-align: right;\">\n",
       "      <th></th>\n",
       "      <th>id</th>\n",
       "      <th>call_date</th>\n",
       "      <th>duration</th>\n",
       "      <th>user_id</th>\n",
       "    </tr>\n",
       "  </thead>\n",
       "  <tbody>\n",
       "    <tr>\n",
       "      <th>0</th>\n",
       "      <td>1000_0</td>\n",
       "      <td>2018-07-25</td>\n",
       "      <td>0.00</td>\n",
       "      <td>1000</td>\n",
       "    </tr>\n",
       "    <tr>\n",
       "      <th>1</th>\n",
       "      <td>1000_1</td>\n",
       "      <td>2018-08-17</td>\n",
       "      <td>0.00</td>\n",
       "      <td>1000</td>\n",
       "    </tr>\n",
       "    <tr>\n",
       "      <th>2</th>\n",
       "      <td>1000_2</td>\n",
       "      <td>2018-06-11</td>\n",
       "      <td>2.85</td>\n",
       "      <td>1000</td>\n",
       "    </tr>\n",
       "    <tr>\n",
       "      <th>3</th>\n",
       "      <td>1000_3</td>\n",
       "      <td>2018-09-21</td>\n",
       "      <td>13.80</td>\n",
       "      <td>1000</td>\n",
       "    </tr>\n",
       "    <tr>\n",
       "      <th>4</th>\n",
       "      <td>1000_4</td>\n",
       "      <td>2018-12-15</td>\n",
       "      <td>5.18</td>\n",
       "      <td>1000</td>\n",
       "    </tr>\n",
       "  </tbody>\n",
       "</table>\n",
       "</div>"
      ],
      "text/plain": [
       "       id   call_date  duration  user_id\n",
       "0  1000_0  2018-07-25      0.00     1000\n",
       "1  1000_1  2018-08-17      0.00     1000\n",
       "2  1000_2  2018-06-11      2.85     1000\n",
       "3  1000_3  2018-09-21     13.80     1000\n",
       "4  1000_4  2018-12-15      5.18     1000"
      ]
     },
     "metadata": {},
     "output_type": "display_data"
    },
    {
     "name": "stdout",
     "output_type": "stream",
     "text": [
      "<class 'pandas.core.frame.DataFrame'>\n",
      "RangeIndex: 2 entries, 0 to 1\n",
      "Data columns (total 8 columns):\n",
      " #   Column                 Non-Null Count  Dtype \n",
      "---  ------                 --------------  ----- \n",
      " 0   messages_included      2 non-null      int64 \n",
      " 1   mb_per_month_included  2 non-null      int64 \n",
      " 2   minutes_included       2 non-null      int64 \n",
      " 3   rub_monthly_fee        2 non-null      int64 \n",
      " 4   rub_per_gb             2 non-null      int64 \n",
      " 5   rub_per_message        2 non-null      int64 \n",
      " 6   rub_per_minute         2 non-null      int64 \n",
      " 7   tariff_name            2 non-null      object\n",
      "dtypes: int64(7), object(1)\n",
      "memory usage: 256.0+ bytes\n",
      "<class 'pandas.core.frame.DataFrame'>\n",
      "RangeIndex: 500 entries, 0 to 499\n",
      "Data columns (total 8 columns):\n",
      " #   Column      Non-Null Count  Dtype \n",
      "---  ------      --------------  ----- \n",
      " 0   user_id     500 non-null    int64 \n",
      " 1   age         500 non-null    int64 \n",
      " 2   churn_date  38 non-null     object\n",
      " 3   city        500 non-null    object\n",
      " 4   first_name  500 non-null    object\n",
      " 5   last_name   500 non-null    object\n",
      " 6   reg_date    500 non-null    object\n",
      " 7   tariff      500 non-null    object\n",
      "dtypes: int64(2), object(6)\n",
      "memory usage: 31.4+ KB\n",
      "<class 'pandas.core.frame.DataFrame'>\n",
      "RangeIndex: 123036 entries, 0 to 123035\n",
      "Data columns (total 3 columns):\n",
      " #   Column        Non-Null Count   Dtype \n",
      "---  ------        --------------   ----- \n",
      " 0   id            123036 non-null  object\n",
      " 1   message_date  123036 non-null  object\n",
      " 2   user_id       123036 non-null  int64 \n",
      "dtypes: int64(1), object(2)\n",
      "memory usage: 2.8+ MB\n",
      "<class 'pandas.core.frame.DataFrame'>\n",
      "RangeIndex: 149396 entries, 0 to 149395\n",
      "Data columns (total 5 columns):\n",
      " #   Column        Non-Null Count   Dtype  \n",
      "---  ------        --------------   -----  \n",
      " 0   Unnamed: 0    149396 non-null  int64  \n",
      " 1   id            149396 non-null  object \n",
      " 2   mb_used       149396 non-null  float64\n",
      " 3   session_date  149396 non-null  object \n",
      " 4   user_id       149396 non-null  int64  \n",
      "dtypes: float64(1), int64(2), object(2)\n",
      "memory usage: 5.7+ MB\n",
      "<class 'pandas.core.frame.DataFrame'>\n",
      "RangeIndex: 202607 entries, 0 to 202606\n",
      "Data columns (total 4 columns):\n",
      " #   Column     Non-Null Count   Dtype  \n",
      "---  ------     --------------   -----  \n",
      " 0   id         202607 non-null  object \n",
      " 1   call_date  202607 non-null  object \n",
      " 2   duration   202607 non-null  float64\n",
      " 3   user_id    202607 non-null  int64  \n",
      "dtypes: float64(1), int64(1), object(2)\n",
      "memory usage: 6.2+ MB\n",
      "None None None None None\n"
     ]
    }
   ],
   "source": [
    "import pandas as pd\n",
    "import numpy as np\n",
    "import math\n",
    "import matplotlib.pyplot as plt\n",
    "from scipy import stats as st\n",
    "\n",
    "tariffs = pd.read_csv('tariffs.csv', sep = ',')\n",
    "users = pd.read_csv('users.csv', sep = ',')\n",
    "messages = pd.read_csv('messages.csv', sep = ',')\n",
    "internet = pd.read_csv('internet.csv', sep = ',')\n",
    "calls = pd.read_csv('calls.csv', sep = ',')\n",
    "display(tariffs.head(), users.head(), messages.head(), internet.head(), calls.head())\n",
    "print(tariffs.info(), users.info(), messages.info(), internet.info(), calls.info())"
   ]
  },
  {
   "cell_type": "markdown",
   "metadata": {},
   "source": [
    "Для начала нужно посмотреть на имеющиеся данные. В данном случае это 5 таблиц, содержащие информацию о пользователях, тарифах, звонках, сообщениях, интернет-трафике. Таблица о тарифах состоит из двух строк и соответственно содержит данные о двух тарифах smart и ultra, в них описаны тарифные условия, пропусков нет, типы данных - int.  В ней ничего менять не нужно.\n",
    "Таблица о пользователях содержит информацию об id, возрасте, дате прекращения пользования тарифом, городе, дате регистрации, имени и фамилии, и тарифе. В этой таблице пропуски есть только в столбце churn_date, но они там и должны быть, т.к. большая часть пользователей продолжает пользоваться тарифом. В таблице указаны даты, однако формат данных object, потребуется предобработка. \n",
    "Таблица про сообщения содержит информацию о каждом отправленном смс, пропусков нет, но дата так же в формате object.\n",
    "Таблица об интернет трафике содержит информацию о всех сессиях выхода в интернет, она не содержит пропусков, однако там есть столбец, дублирующий индексы, и дата снова в формате object\n",
    "В таблице со звонками точно такая же проблема с типом даты, судя по значениям, продолжительность звонка указана в минутах и в формате десятичной дроби, это удобнее, чем минуты и секунды."
   ]
  },
  {
   "cell_type": "markdown",
   "metadata": {},
   "source": [
    "## 2.  Предобработка данных"
   ]
  },
  {
   "cell_type": "markdown",
   "metadata": {},
   "source": [
    "### 2.1 Типы данных"
   ]
  },
  {
   "cell_type": "code",
   "execution_count": 2,
   "metadata": {},
   "outputs": [],
   "source": [
    "# формат даты и времени во всех таблицах одинаковый, напишем функцию\n",
    "def to_date(col):\n",
    "    return pd.to_datetime(col, format='%Y-%m-%d')\n",
    "users['reg_date'] = to_date(users['reg_date'])\n",
    "users['churn_date'] = to_date(users['churn_date'])\n",
    "messages['message_date'] = to_date(messages['message_date'])\n",
    "internet['session_date'] = to_date(internet['session_date'])\n",
    "calls['call_date'] = to_date(calls['call_date'])\n",
    "#print(tariffs.info(), users.info(), messages.info(), internet.info(), calls.info())"
   ]
  },
  {
   "cell_type": "markdown",
   "metadata": {},
   "source": [
    "Теперь все даты переведены в правильный формат. Я проверила это с помощью метода .info(), но его вывод загромождает тетрадь проекта."
   ]
  },
  {
   "cell_type": "markdown",
   "metadata": {},
   "source": [
    "### 2.2 Ошибки в данных"
   ]
  },
  {
   "cell_type": "code",
   "execution_count": 3,
   "metadata": {},
   "outputs": [
    {
     "name": "stdout",
     "output_type": "stream",
     "text": [
      "        Unnamed: 0        id  mb_used session_date  user_id\n",
      "0                0    1000_0   112.95   2018-11-25     1000\n",
      "1                1    1000_1  1052.81   2018-09-07     1000\n",
      "2                2    1000_2  1197.26   2018-06-25     1000\n",
      "3                3    1000_3   550.27   2018-08-22     1000\n",
      "4                4    1000_4   302.56   2018-09-24     1000\n",
      "...            ...       ...      ...          ...      ...\n",
      "149390      149390  1499_151   752.72   2018-10-11     1499\n",
      "149391      149391  1499_152   318.90   2018-10-03     1499\n",
      "149392      149392  1499_153   490.13   2018-12-14     1499\n",
      "149394      149394  1499_155  1246.32   2018-11-26     1499\n",
      "149395      149395  1499_156   544.37   2018-10-26     1499\n",
      "\n",
      "[129798 rows x 5 columns]\n"
     ]
    }
   ],
   "source": [
    "# display(users.describe(), internet.describe(), calls.describe()) # данные выглядят хорошо, никаких явных выбросов нет\n",
    "# осталось только округлить длительность звонков до минут\n",
    "calls['duration'] = np.ceil(calls['duration'])\n",
    "internet = internet.query('mb_used != 0 ') #избавимся от нулевых сессий\n",
    "print(internet)"
   ]
  },
  {
   "cell_type": "markdown",
   "metadata": {},
   "source": [
    "### 2.2 Группировка по месяцам"
   ]
  },
  {
   "cell_type": "code",
   "execution_count": 4,
   "metadata": {},
   "outputs": [
    {
     "data": {
      "text/html": [
       "<div>\n",
       "<style scoped>\n",
       "    .dataframe tbody tr th:only-of-type {\n",
       "        vertical-align: middle;\n",
       "    }\n",
       "\n",
       "    .dataframe tbody tr th {\n",
       "        vertical-align: top;\n",
       "    }\n",
       "\n",
       "    .dataframe thead th {\n",
       "        text-align: right;\n",
       "    }\n",
       "</style>\n",
       "<table border=\"1\" class=\"dataframe\">\n",
       "  <thead>\n",
       "    <tr style=\"text-align: right;\">\n",
       "      <th></th>\n",
       "      <th>user_id</th>\n",
       "      <th>month</th>\n",
       "      <th>mb_used</th>\n",
       "    </tr>\n",
       "  </thead>\n",
       "  <tbody>\n",
       "    <tr>\n",
       "      <td>0</td>\n",
       "      <td>1000</td>\n",
       "      <td>5</td>\n",
       "      <td>2254</td>\n",
       "    </tr>\n",
       "    <tr>\n",
       "      <td>1</td>\n",
       "      <td>1000</td>\n",
       "      <td>6</td>\n",
       "      <td>23234</td>\n",
       "    </tr>\n",
       "    <tr>\n",
       "      <td>2</td>\n",
       "      <td>1000</td>\n",
       "      <td>7</td>\n",
       "      <td>14004</td>\n",
       "    </tr>\n",
       "    <tr>\n",
       "      <td>3</td>\n",
       "      <td>1000</td>\n",
       "      <td>8</td>\n",
       "      <td>14056</td>\n",
       "    </tr>\n",
       "    <tr>\n",
       "      <td>4</td>\n",
       "      <td>1000</td>\n",
       "      <td>9</td>\n",
       "      <td>14569</td>\n",
       "    </tr>\n",
       "    <tr>\n",
       "      <td>...</td>\n",
       "      <td>...</td>\n",
       "      <td>...</td>\n",
       "      <td>...</td>\n",
       "    </tr>\n",
       "    <tr>\n",
       "      <td>3196</td>\n",
       "      <td>1498</td>\n",
       "      <td>10</td>\n",
       "      <td>20580</td>\n",
       "    </tr>\n",
       "    <tr>\n",
       "      <td>3197</td>\n",
       "      <td>1499</td>\n",
       "      <td>9</td>\n",
       "      <td>1846</td>\n",
       "    </tr>\n",
       "    <tr>\n",
       "      <td>3198</td>\n",
       "      <td>1499</td>\n",
       "      <td>10</td>\n",
       "      <td>17789</td>\n",
       "    </tr>\n",
       "    <tr>\n",
       "      <td>3199</td>\n",
       "      <td>1499</td>\n",
       "      <td>11</td>\n",
       "      <td>17964</td>\n",
       "    </tr>\n",
       "    <tr>\n",
       "      <td>3200</td>\n",
       "      <td>1499</td>\n",
       "      <td>12</td>\n",
       "      <td>13056</td>\n",
       "    </tr>\n",
       "  </tbody>\n",
       "</table>\n",
       "<p>3201 rows × 3 columns</p>\n",
       "</div>"
      ],
      "text/plain": [
       "      user_id  month  mb_used\n",
       "0        1000      5     2254\n",
       "1        1000      6    23234\n",
       "2        1000      7    14004\n",
       "3        1000      8    14056\n",
       "4        1000      9    14569\n",
       "...       ...    ...      ...\n",
       "3196     1498     10    20580\n",
       "3197     1499      9     1846\n",
       "3198     1499     10    17789\n",
       "3199     1499     11    17964\n",
       "3200     1499     12    13056\n",
       "\n",
       "[3201 rows x 3 columns]"
      ]
     },
     "execution_count": 4,
     "metadata": {},
     "output_type": "execute_result"
    }
   ],
   "source": [
    "messages['month'] = pd.DatetimeIndex(messages['message_date']).month #выделение месяца из даты\n",
    "calls['month'] = pd.DatetimeIndex(calls['call_date']).month \n",
    "internet['month'] = pd.DatetimeIndex(internet['session_date']).month \n",
    "messages_gr = pd.pivot_table(messages, index=['user_id', 'month'], values=['message_date'], aggfunc=len).reset_index()\n",
    "calls_count = pd.pivot_table(calls, index=['user_id', 'month'], values=['call_date'], aggfunc=len).reset_index()\n",
    "calls_duration = pd.pivot_table(calls, index=['user_id', 'month'], values=['duration'], aggfunc=sum).reset_index()\n",
    "traffic_gr = pd.pivot_table(internet, index=['user_id', 'month'], values=['mb_used'], aggfunc=sum).reset_index()\n",
    "\n",
    "# а вот теперь пришло время округлить трафик до мегабайтов\n",
    "traffic_gr['mb_used'] = np.ceil(traffic_gr['mb_used'])\n",
    "traffic_gr['mb_used'] = traffic_gr['mb_used'].astype(int)\n",
    "traffic_gr"
   ]
  },
  {
   "cell_type": "markdown",
   "metadata": {},
   "source": [
    "### 2.3 Сведение в таблицу"
   ]
  },
  {
   "cell_type": "code",
   "execution_count": 5,
   "metadata": {},
   "outputs": [
    {
     "data": {
      "text/html": [
       "<div>\n",
       "<style scoped>\n",
       "    .dataframe tbody tr th:only-of-type {\n",
       "        vertical-align: middle;\n",
       "    }\n",
       "\n",
       "    .dataframe tbody tr th {\n",
       "        vertical-align: top;\n",
       "    }\n",
       "\n",
       "    .dataframe thead th {\n",
       "        text-align: right;\n",
       "    }\n",
       "</style>\n",
       "<table border=\"1\" class=\"dataframe\">\n",
       "  <thead>\n",
       "    <tr style=\"text-align: right;\">\n",
       "      <th></th>\n",
       "      <th>user_id</th>\n",
       "      <th>month</th>\n",
       "      <th>message_date</th>\n",
       "      <th>call_date</th>\n",
       "      <th>duration</th>\n",
       "      <th>mb_used</th>\n",
       "      <th>age</th>\n",
       "      <th>churn_date</th>\n",
       "      <th>city</th>\n",
       "      <th>first_name</th>\n",
       "      <th>last_name</th>\n",
       "      <th>reg_date</th>\n",
       "      <th>tariff</th>\n",
       "    </tr>\n",
       "  </thead>\n",
       "  <tbody>\n",
       "    <tr>\n",
       "      <td>0</td>\n",
       "      <td>1000</td>\n",
       "      <td>5</td>\n",
       "      <td>22.0</td>\n",
       "      <td>22.0</td>\n",
       "      <td>159.0</td>\n",
       "      <td>2254</td>\n",
       "      <td>52</td>\n",
       "      <td>NaT</td>\n",
       "      <td>Краснодар</td>\n",
       "      <td>Рафаил</td>\n",
       "      <td>Верещагин</td>\n",
       "      <td>2018-05-25</td>\n",
       "      <td>ultra</td>\n",
       "    </tr>\n",
       "    <tr>\n",
       "      <td>1</td>\n",
       "      <td>1000</td>\n",
       "      <td>6</td>\n",
       "      <td>60.0</td>\n",
       "      <td>43.0</td>\n",
       "      <td>172.0</td>\n",
       "      <td>23234</td>\n",
       "      <td>52</td>\n",
       "      <td>NaT</td>\n",
       "      <td>Краснодар</td>\n",
       "      <td>Рафаил</td>\n",
       "      <td>Верещагин</td>\n",
       "      <td>2018-05-25</td>\n",
       "      <td>ultra</td>\n",
       "    </tr>\n",
       "    <tr>\n",
       "      <td>2</td>\n",
       "      <td>1000</td>\n",
       "      <td>7</td>\n",
       "      <td>75.0</td>\n",
       "      <td>47.0</td>\n",
       "      <td>340.0</td>\n",
       "      <td>14004</td>\n",
       "      <td>52</td>\n",
       "      <td>NaT</td>\n",
       "      <td>Краснодар</td>\n",
       "      <td>Рафаил</td>\n",
       "      <td>Верещагин</td>\n",
       "      <td>2018-05-25</td>\n",
       "      <td>ultra</td>\n",
       "    </tr>\n",
       "    <tr>\n",
       "      <td>3</td>\n",
       "      <td>1000</td>\n",
       "      <td>8</td>\n",
       "      <td>81.0</td>\n",
       "      <td>52.0</td>\n",
       "      <td>408.0</td>\n",
       "      <td>14056</td>\n",
       "      <td>52</td>\n",
       "      <td>NaT</td>\n",
       "      <td>Краснодар</td>\n",
       "      <td>Рафаил</td>\n",
       "      <td>Верещагин</td>\n",
       "      <td>2018-05-25</td>\n",
       "      <td>ultra</td>\n",
       "    </tr>\n",
       "    <tr>\n",
       "      <td>4</td>\n",
       "      <td>1000</td>\n",
       "      <td>9</td>\n",
       "      <td>57.0</td>\n",
       "      <td>58.0</td>\n",
       "      <td>466.0</td>\n",
       "      <td>14569</td>\n",
       "      <td>52</td>\n",
       "      <td>NaT</td>\n",
       "      <td>Краснодар</td>\n",
       "      <td>Рафаил</td>\n",
       "      <td>Верещагин</td>\n",
       "      <td>2018-05-25</td>\n",
       "      <td>ultra</td>\n",
       "    </tr>\n",
       "    <tr>\n",
       "      <td>...</td>\n",
       "      <td>...</td>\n",
       "      <td>...</td>\n",
       "      <td>...</td>\n",
       "      <td>...</td>\n",
       "      <td>...</td>\n",
       "      <td>...</td>\n",
       "      <td>...</td>\n",
       "      <td>...</td>\n",
       "      <td>...</td>\n",
       "      <td>...</td>\n",
       "      <td>...</td>\n",
       "      <td>...</td>\n",
       "      <td>...</td>\n",
       "    </tr>\n",
       "    <tr>\n",
       "      <td>3195</td>\n",
       "      <td>1494</td>\n",
       "      <td>8</td>\n",
       "      <td>NaN</td>\n",
       "      <td>32.0</td>\n",
       "      <td>262.0</td>\n",
       "      <td>6591</td>\n",
       "      <td>62</td>\n",
       "      <td>NaT</td>\n",
       "      <td>Омск</td>\n",
       "      <td>Ренат</td>\n",
       "      <td>Андропов</td>\n",
       "      <td>2018-08-17</td>\n",
       "      <td>smart</td>\n",
       "    </tr>\n",
       "    <tr>\n",
       "      <td>3196</td>\n",
       "      <td>1494</td>\n",
       "      <td>9</td>\n",
       "      <td>NaN</td>\n",
       "      <td>66.0</td>\n",
       "      <td>501.0</td>\n",
       "      <td>16963</td>\n",
       "      <td>62</td>\n",
       "      <td>NaT</td>\n",
       "      <td>Омск</td>\n",
       "      <td>Ренат</td>\n",
       "      <td>Андропов</td>\n",
       "      <td>2018-08-17</td>\n",
       "      <td>smart</td>\n",
       "    </tr>\n",
       "    <tr>\n",
       "      <td>3197</td>\n",
       "      <td>1494</td>\n",
       "      <td>10</td>\n",
       "      <td>NaN</td>\n",
       "      <td>52.0</td>\n",
       "      <td>354.0</td>\n",
       "      <td>17768</td>\n",
       "      <td>62</td>\n",
       "      <td>NaT</td>\n",
       "      <td>Омск</td>\n",
       "      <td>Ренат</td>\n",
       "      <td>Андропов</td>\n",
       "      <td>2018-08-17</td>\n",
       "      <td>smart</td>\n",
       "    </tr>\n",
       "    <tr>\n",
       "      <td>3198</td>\n",
       "      <td>1494</td>\n",
       "      <td>11</td>\n",
       "      <td>NaN</td>\n",
       "      <td>63.0</td>\n",
       "      <td>411.0</td>\n",
       "      <td>18053</td>\n",
       "      <td>62</td>\n",
       "      <td>NaT</td>\n",
       "      <td>Омск</td>\n",
       "      <td>Ренат</td>\n",
       "      <td>Андропов</td>\n",
       "      <td>2018-08-17</td>\n",
       "      <td>smart</td>\n",
       "    </tr>\n",
       "    <tr>\n",
       "      <td>3199</td>\n",
       "      <td>1494</td>\n",
       "      <td>12</td>\n",
       "      <td>NaN</td>\n",
       "      <td>62.0</td>\n",
       "      <td>418.0</td>\n",
       "      <td>17622</td>\n",
       "      <td>62</td>\n",
       "      <td>NaT</td>\n",
       "      <td>Омск</td>\n",
       "      <td>Ренат</td>\n",
       "      <td>Андропов</td>\n",
       "      <td>2018-08-17</td>\n",
       "      <td>smart</td>\n",
       "    </tr>\n",
       "  </tbody>\n",
       "</table>\n",
       "<p>3200 rows × 13 columns</p>\n",
       "</div>"
      ],
      "text/plain": [
       "      user_id  month  message_date  call_date  duration  mb_used  age  \\\n",
       "0        1000      5          22.0       22.0     159.0     2254   52   \n",
       "1        1000      6          60.0       43.0     172.0    23234   52   \n",
       "2        1000      7          75.0       47.0     340.0    14004   52   \n",
       "3        1000      8          81.0       52.0     408.0    14056   52   \n",
       "4        1000      9          57.0       58.0     466.0    14569   52   \n",
       "...       ...    ...           ...        ...       ...      ...  ...   \n",
       "3195     1494      8           NaN       32.0     262.0     6591   62   \n",
       "3196     1494      9           NaN       66.0     501.0    16963   62   \n",
       "3197     1494     10           NaN       52.0     354.0    17768   62   \n",
       "3198     1494     11           NaN       63.0     411.0    18053   62   \n",
       "3199     1494     12           NaN       62.0     418.0    17622   62   \n",
       "\n",
       "     churn_date       city first_name  last_name   reg_date tariff  \n",
       "0           NaT  Краснодар     Рафаил  Верещагин 2018-05-25  ultra  \n",
       "1           NaT  Краснодар     Рафаил  Верещагин 2018-05-25  ultra  \n",
       "2           NaT  Краснодар     Рафаил  Верещагин 2018-05-25  ultra  \n",
       "3           NaT  Краснодар     Рафаил  Верещагин 2018-05-25  ultra  \n",
       "4           NaT  Краснодар     Рафаил  Верещагин 2018-05-25  ultra  \n",
       "...         ...        ...        ...        ...        ...    ...  \n",
       "3195        NaT       Омск      Ренат   Андропов 2018-08-17  smart  \n",
       "3196        NaT       Омск      Ренат   Андропов 2018-08-17  smart  \n",
       "3197        NaT       Омск      Ренат   Андропов 2018-08-17  smart  \n",
       "3198        NaT       Омск      Ренат   Андропов 2018-08-17  smart  \n",
       "3199        NaT       Омск      Ренат   Андропов 2018-08-17  smart  \n",
       "\n",
       "[3200 rows x 13 columns]"
      ]
     },
     "metadata": {},
     "output_type": "display_data"
    },
    {
     "name": "stdout",
     "output_type": "stream",
     "text": [
      "<class 'pandas.core.frame.DataFrame'>\n",
      "Int64Index: 3200 entries, 0 to 3199\n",
      "Data columns (total 13 columns):\n",
      "user_id         3200 non-null int64\n",
      "month           3200 non-null int64\n",
      "message_date    2704 non-null float64\n",
      "call_date       3161 non-null float64\n",
      "duration        3161 non-null float64\n",
      "mb_used         3200 non-null int64\n",
      "age             3200 non-null int64\n",
      "churn_date      186 non-null datetime64[ns]\n",
      "city            3200 non-null object\n",
      "first_name      3200 non-null object\n",
      "last_name       3200 non-null object\n",
      "reg_date        3200 non-null datetime64[ns]\n",
      "tariff          3200 non-null object\n",
      "dtypes: datetime64[ns](2), float64(3), int64(4), object(4)\n",
      "memory usage: 350.0+ KB\n"
     ]
    },
    {
     "data": {
      "text/plain": [
       "None"
      ]
     },
     "metadata": {},
     "output_type": "display_data"
    }
   ],
   "source": [
    "df = messages_gr.merge(calls_count, how='outer', on=['user_id', 'month'])\n",
    "df = df.merge(calls_duration, how='outer', on=['user_id', 'month'])\n",
    "df = df.merge(traffic_gr, on=['user_id', 'month'])\n",
    "df = df.merge(users, on=['user_id'], )\n",
    "display(df)\n",
    "display(df.info())"
   ]
  },
  {
   "cell_type": "markdown",
   "metadata": {},
   "source": [
    "Соединила поочередно таблицы messages, calls_count, calls_duration, traffic_gr и users. Получилось так, что в столбцах про звонки и смс есть пропуски. Можно заменить их на нули, т.к. в исходных таблицах этих значений не было вообще."
   ]
  },
  {
   "cell_type": "code",
   "execution_count": 6,
   "metadata": {},
   "outputs": [
    {
     "name": "stdout",
     "output_type": "stream",
     "text": [
      "<class 'pandas.core.frame.DataFrame'>\n",
      "Int64Index: 3200 entries, 0 to 3199\n",
      "Data columns (total 13 columns):\n",
      "user_id         3200 non-null int64\n",
      "month           3200 non-null int64\n",
      "message_date    3200 non-null float64\n",
      "call_date       3200 non-null float64\n",
      "duration        3200 non-null float64\n",
      "mb_used         3200 non-null int64\n",
      "age             3200 non-null int64\n",
      "churn_date      186 non-null datetime64[ns]\n",
      "city            3200 non-null object\n",
      "first_name      3200 non-null object\n",
      "last_name       3200 non-null object\n",
      "reg_date        3200 non-null datetime64[ns]\n",
      "tariff          3200 non-null object\n",
      "dtypes: datetime64[ns](2), float64(3), int64(4), object(4)\n",
      "memory usage: 350.0+ KB\n"
     ]
    },
    {
     "data": {
      "text/plain": [
       "None"
      ]
     },
     "metadata": {},
     "output_type": "display_data"
    }
   ],
   "source": [
    "df['message_date'] = df['message_date'].fillna(0)\n",
    "df['call_date'] = df['call_date'].fillna(0)\n",
    "df['duration'] = df['duration'].fillna(0)\n",
    "display(df.info())"
   ]
  },
  {
   "cell_type": "markdown",
   "metadata": {},
   "source": [
    "### 2.4 Помесячная выручка с каждого пользователя"
   ]
  },
  {
   "cell_type": "code",
   "execution_count": 7,
   "metadata": {},
   "outputs": [
    {
     "data": {
      "text/html": [
       "<div>\n",
       "<style scoped>\n",
       "    .dataframe tbody tr th:only-of-type {\n",
       "        vertical-align: middle;\n",
       "    }\n",
       "\n",
       "    .dataframe tbody tr th {\n",
       "        vertical-align: top;\n",
       "    }\n",
       "\n",
       "    .dataframe thead th {\n",
       "        text-align: right;\n",
       "    }\n",
       "</style>\n",
       "<table border=\"1\" class=\"dataframe\">\n",
       "  <thead>\n",
       "    <tr style=\"text-align: right;\">\n",
       "      <th></th>\n",
       "      <th>user_id</th>\n",
       "      <th>month</th>\n",
       "      <th>message_date</th>\n",
       "      <th>call_date</th>\n",
       "      <th>duration</th>\n",
       "      <th>mb_used</th>\n",
       "      <th>city</th>\n",
       "      <th>tariff</th>\n",
       "      <th>sum_per_month</th>\n",
       "    </tr>\n",
       "  </thead>\n",
       "  <tbody>\n",
       "    <tr>\n",
       "      <td>0</td>\n",
       "      <td>1000</td>\n",
       "      <td>5</td>\n",
       "      <td>22.0</td>\n",
       "      <td>22.0</td>\n",
       "      <td>159.0</td>\n",
       "      <td>2254</td>\n",
       "      <td>Краснодар</td>\n",
       "      <td>ultra</td>\n",
       "      <td>1950.0</td>\n",
       "    </tr>\n",
       "    <tr>\n",
       "      <td>1</td>\n",
       "      <td>1000</td>\n",
       "      <td>6</td>\n",
       "      <td>60.0</td>\n",
       "      <td>43.0</td>\n",
       "      <td>172.0</td>\n",
       "      <td>23234</td>\n",
       "      <td>Краснодар</td>\n",
       "      <td>ultra</td>\n",
       "      <td>1950.0</td>\n",
       "    </tr>\n",
       "    <tr>\n",
       "      <td>2</td>\n",
       "      <td>1000</td>\n",
       "      <td>7</td>\n",
       "      <td>75.0</td>\n",
       "      <td>47.0</td>\n",
       "      <td>340.0</td>\n",
       "      <td>14004</td>\n",
       "      <td>Краснодар</td>\n",
       "      <td>ultra</td>\n",
       "      <td>1950.0</td>\n",
       "    </tr>\n",
       "    <tr>\n",
       "      <td>3</td>\n",
       "      <td>1000</td>\n",
       "      <td>8</td>\n",
       "      <td>81.0</td>\n",
       "      <td>52.0</td>\n",
       "      <td>408.0</td>\n",
       "      <td>14056</td>\n",
       "      <td>Краснодар</td>\n",
       "      <td>ultra</td>\n",
       "      <td>1950.0</td>\n",
       "    </tr>\n",
       "    <tr>\n",
       "      <td>4</td>\n",
       "      <td>1000</td>\n",
       "      <td>9</td>\n",
       "      <td>57.0</td>\n",
       "      <td>58.0</td>\n",
       "      <td>466.0</td>\n",
       "      <td>14569</td>\n",
       "      <td>Краснодар</td>\n",
       "      <td>ultra</td>\n",
       "      <td>1950.0</td>\n",
       "    </tr>\n",
       "    <tr>\n",
       "      <td>...</td>\n",
       "      <td>...</td>\n",
       "      <td>...</td>\n",
       "      <td>...</td>\n",
       "      <td>...</td>\n",
       "      <td>...</td>\n",
       "      <td>...</td>\n",
       "      <td>...</td>\n",
       "      <td>...</td>\n",
       "      <td>...</td>\n",
       "    </tr>\n",
       "    <tr>\n",
       "      <td>3195</td>\n",
       "      <td>1494</td>\n",
       "      <td>8</td>\n",
       "      <td>0.0</td>\n",
       "      <td>32.0</td>\n",
       "      <td>262.0</td>\n",
       "      <td>6591</td>\n",
       "      <td>Омск</td>\n",
       "      <td>smart</td>\n",
       "      <td>550.0</td>\n",
       "    </tr>\n",
       "    <tr>\n",
       "      <td>3196</td>\n",
       "      <td>1494</td>\n",
       "      <td>9</td>\n",
       "      <td>0.0</td>\n",
       "      <td>66.0</td>\n",
       "      <td>501.0</td>\n",
       "      <td>16963</td>\n",
       "      <td>Омск</td>\n",
       "      <td>smart</td>\n",
       "      <td>2303.0</td>\n",
       "    </tr>\n",
       "    <tr>\n",
       "      <td>3197</td>\n",
       "      <td>1494</td>\n",
       "      <td>10</td>\n",
       "      <td>0.0</td>\n",
       "      <td>52.0</td>\n",
       "      <td>354.0</td>\n",
       "      <td>17768</td>\n",
       "      <td>Омск</td>\n",
       "      <td>smart</td>\n",
       "      <td>1150.0</td>\n",
       "    </tr>\n",
       "    <tr>\n",
       "      <td>3198</td>\n",
       "      <td>1494</td>\n",
       "      <td>11</td>\n",
       "      <td>0.0</td>\n",
       "      <td>63.0</td>\n",
       "      <td>411.0</td>\n",
       "      <td>18053</td>\n",
       "      <td>Омск</td>\n",
       "      <td>smart</td>\n",
       "      <td>1150.0</td>\n",
       "    </tr>\n",
       "    <tr>\n",
       "      <td>3199</td>\n",
       "      <td>1494</td>\n",
       "      <td>12</td>\n",
       "      <td>0.0</td>\n",
       "      <td>62.0</td>\n",
       "      <td>418.0</td>\n",
       "      <td>17622</td>\n",
       "      <td>Омск</td>\n",
       "      <td>smart</td>\n",
       "      <td>1150.0</td>\n",
       "    </tr>\n",
       "  </tbody>\n",
       "</table>\n",
       "<p>3200 rows × 9 columns</p>\n",
       "</div>"
      ],
      "text/plain": [
       "      user_id  month  message_date  call_date  duration  mb_used       city  \\\n",
       "0        1000      5          22.0       22.0     159.0     2254  Краснодар   \n",
       "1        1000      6          60.0       43.0     172.0    23234  Краснодар   \n",
       "2        1000      7          75.0       47.0     340.0    14004  Краснодар   \n",
       "3        1000      8          81.0       52.0     408.0    14056  Краснодар   \n",
       "4        1000      9          57.0       58.0     466.0    14569  Краснодар   \n",
       "...       ...    ...           ...        ...       ...      ...        ...   \n",
       "3195     1494      8           0.0       32.0     262.0     6591       Омск   \n",
       "3196     1494      9           0.0       66.0     501.0    16963       Омск   \n",
       "3197     1494     10           0.0       52.0     354.0    17768       Омск   \n",
       "3198     1494     11           0.0       63.0     411.0    18053       Омск   \n",
       "3199     1494     12           0.0       62.0     418.0    17622       Омск   \n",
       "\n",
       "     tariff  sum_per_month  \n",
       "0     ultra         1950.0  \n",
       "1     ultra         1950.0  \n",
       "2     ultra         1950.0  \n",
       "3     ultra         1950.0  \n",
       "4     ultra         1950.0  \n",
       "...     ...            ...  \n",
       "3195  smart          550.0  \n",
       "3196  smart         2303.0  \n",
       "3197  smart         1150.0  \n",
       "3198  smart         1150.0  \n",
       "3199  smart         1150.0  \n",
       "\n",
       "[3200 rows x 9 columns]"
      ]
     },
     "metadata": {},
     "output_type": "display_data"
    }
   ],
   "source": [
    "def message_price(row): #стоимость смс\n",
    "    if row['tariff'] == 'smart':\n",
    "        if row['message_date'] <= 50:\n",
    "            return 0\n",
    "        else:\n",
    "            return (row['message_date'] - 50) * 3\n",
    "    else:\n",
    "        if row['message_date'] <= 1000:\n",
    "            return 0\n",
    "        else:\n",
    "            return (row['message_date'] - 1000)\n",
    "df['message_price'] = df.apply(message_price, axis=1)\n",
    "def calls_price(row): #стоимость звонков \n",
    "    if row['tariff'] == 'smart':\n",
    "        if row['duration'] <= 500:\n",
    "            return 0\n",
    "        else:\n",
    "            return (row['duration'] - 50) * 3 \n",
    "    else:\n",
    "        if row['duration'] <= 3000:\n",
    "            return 0\n",
    "        else:\n",
    "            return (row['duration'] - 3000)\n",
    "df['calls_price'] = df.apply(calls_price, axis=1)\n",
    "def internet_price(row): #стоимость интернета\n",
    "    if row['tariff'] == 'smart':\n",
    "        if row['mb_used'] <= 15360:\n",
    "            return 0\n",
    "        else:\n",
    "            return math.ceil((row['mb_used'] - 15360) / 1024) * 200\n",
    "    else:\n",
    "        if row['mb_used'] <= 30720:\n",
    "            return 0\n",
    "        else:\n",
    "            return math.ceil((row['mb_used'] - 30720) / 1024) * 150\n",
    "\n",
    "df['internet_price'] = df.apply(internet_price, axis=1)\n",
    "\n",
    "def sum_per_month(row): #сумма за месяц\n",
    "    if row['tariff'] == 'smart':\n",
    "        return (row['message_price'] + row['calls_price'] + row['internet_price'] + 550)\n",
    "    else:\n",
    "        return (row['message_price'] + row['calls_price'] + row['internet_price'] + 1950)\n",
    "  \n",
    "\n",
    "df['sum_per_month'] = df.apply(sum_per_month, axis=1)\n",
    "columns = ['age', 'churn_date', 'first_name', 'last_name', 'reg_date', 'message_price', 'calls_price', 'internet_price']\n",
    "df.drop(columns, inplace=True, axis=1)  \n",
    "display(df)"
   ]
  },
  {
   "cell_type": "markdown",
   "metadata": {},
   "source": [
    "Получилась таблица, в которой собраны сообщения, звонки, трафик пользователей за месяц, а также сумма, которую они тратят за месяц на связь"
   ]
  },
  {
   "cell_type": "markdown",
   "metadata": {},
   "source": [
    "## 3. Анализ данных\n",
    "Здесь нужно описать поведение клиентов оператора, исходя из выборки. Сколько минут разговора, сколько сообщений и какой объём интернет-трафика требуется пользователям каждого тарифа в месяц. Требуется посчитать среднее количество, дисперсию и стандартное отклонение, построить гистограммы, описать распределения."
   ]
  },
  {
   "cell_type": "code",
   "execution_count": 8,
   "metadata": {},
   "outputs": [
    {
     "data": {
      "text/html": [
       "<div>\n",
       "<style scoped>\n",
       "    .dataframe tbody tr th:only-of-type {\n",
       "        vertical-align: middle;\n",
       "    }\n",
       "\n",
       "    .dataframe tbody tr th {\n",
       "        vertical-align: top;\n",
       "    }\n",
       "\n",
       "    .dataframe thead th {\n",
       "        text-align: right;\n",
       "    }\n",
       "</style>\n",
       "<table border=\"1\" class=\"dataframe\">\n",
       "  <thead>\n",
       "    <tr style=\"text-align: right;\">\n",
       "      <th></th>\n",
       "      <th>user_id</th>\n",
       "      <th>month</th>\n",
       "      <th>message_date</th>\n",
       "      <th>call_date</th>\n",
       "      <th>duration</th>\n",
       "      <th>mb_used</th>\n",
       "      <th>city</th>\n",
       "      <th>tariff</th>\n",
       "      <th>sum_per_month</th>\n",
       "    </tr>\n",
       "  </thead>\n",
       "  <tbody>\n",
       "    <tr>\n",
       "      <td>8</td>\n",
       "      <td>1002</td>\n",
       "      <td>6</td>\n",
       "      <td>4.0</td>\n",
       "      <td>15.0</td>\n",
       "      <td>117.0</td>\n",
       "      <td>10857</td>\n",
       "      <td>Стерлитамак</td>\n",
       "      <td>smart</td>\n",
       "      <td>550.0</td>\n",
       "    </tr>\n",
       "    <tr>\n",
       "      <td>9</td>\n",
       "      <td>1002</td>\n",
       "      <td>7</td>\n",
       "      <td>11.0</td>\n",
       "      <td>26.0</td>\n",
       "      <td>214.0</td>\n",
       "      <td>17581</td>\n",
       "      <td>Стерлитамак</td>\n",
       "      <td>smart</td>\n",
       "      <td>1150.0</td>\n",
       "    </tr>\n",
       "    <tr>\n",
       "      <td>10</td>\n",
       "      <td>1002</td>\n",
       "      <td>8</td>\n",
       "      <td>13.0</td>\n",
       "      <td>42.0</td>\n",
       "      <td>289.0</td>\n",
       "      <td>20320</td>\n",
       "      <td>Стерлитамак</td>\n",
       "      <td>smart</td>\n",
       "      <td>1550.0</td>\n",
       "    </tr>\n",
       "    <tr>\n",
       "      <td>11</td>\n",
       "      <td>1002</td>\n",
       "      <td>9</td>\n",
       "      <td>4.0</td>\n",
       "      <td>36.0</td>\n",
       "      <td>206.0</td>\n",
       "      <td>16692</td>\n",
       "      <td>Стерлитамак</td>\n",
       "      <td>smart</td>\n",
       "      <td>950.0</td>\n",
       "    </tr>\n",
       "    <tr>\n",
       "      <td>12</td>\n",
       "      <td>1002</td>\n",
       "      <td>10</td>\n",
       "      <td>10.0</td>\n",
       "      <td>33.0</td>\n",
       "      <td>212.0</td>\n",
       "      <td>13889</td>\n",
       "      <td>Стерлитамак</td>\n",
       "      <td>smart</td>\n",
       "      <td>550.0</td>\n",
       "    </tr>\n",
       "    <tr>\n",
       "      <td>...</td>\n",
       "      <td>...</td>\n",
       "      <td>...</td>\n",
       "      <td>...</td>\n",
       "      <td>...</td>\n",
       "      <td>...</td>\n",
       "      <td>...</td>\n",
       "      <td>...</td>\n",
       "      <td>...</td>\n",
       "      <td>...</td>\n",
       "    </tr>\n",
       "    <tr>\n",
       "      <td>3195</td>\n",
       "      <td>1494</td>\n",
       "      <td>8</td>\n",
       "      <td>0.0</td>\n",
       "      <td>32.0</td>\n",
       "      <td>262.0</td>\n",
       "      <td>6591</td>\n",
       "      <td>Омск</td>\n",
       "      <td>smart</td>\n",
       "      <td>550.0</td>\n",
       "    </tr>\n",
       "    <tr>\n",
       "      <td>3196</td>\n",
       "      <td>1494</td>\n",
       "      <td>9</td>\n",
       "      <td>0.0</td>\n",
       "      <td>66.0</td>\n",
       "      <td>501.0</td>\n",
       "      <td>16963</td>\n",
       "      <td>Омск</td>\n",
       "      <td>smart</td>\n",
       "      <td>2303.0</td>\n",
       "    </tr>\n",
       "    <tr>\n",
       "      <td>3197</td>\n",
       "      <td>1494</td>\n",
       "      <td>10</td>\n",
       "      <td>0.0</td>\n",
       "      <td>52.0</td>\n",
       "      <td>354.0</td>\n",
       "      <td>17768</td>\n",
       "      <td>Омск</td>\n",
       "      <td>smart</td>\n",
       "      <td>1150.0</td>\n",
       "    </tr>\n",
       "    <tr>\n",
       "      <td>3198</td>\n",
       "      <td>1494</td>\n",
       "      <td>11</td>\n",
       "      <td>0.0</td>\n",
       "      <td>63.0</td>\n",
       "      <td>411.0</td>\n",
       "      <td>18053</td>\n",
       "      <td>Омск</td>\n",
       "      <td>smart</td>\n",
       "      <td>1150.0</td>\n",
       "    </tr>\n",
       "    <tr>\n",
       "      <td>3199</td>\n",
       "      <td>1494</td>\n",
       "      <td>12</td>\n",
       "      <td>0.0</td>\n",
       "      <td>62.0</td>\n",
       "      <td>418.0</td>\n",
       "      <td>17622</td>\n",
       "      <td>Омск</td>\n",
       "      <td>smart</td>\n",
       "      <td>1150.0</td>\n",
       "    </tr>\n",
       "  </tbody>\n",
       "</table>\n",
       "<p>2227 rows × 9 columns</p>\n",
       "</div>"
      ],
      "text/plain": [
       "      user_id  month  message_date  call_date  duration  mb_used         city  \\\n",
       "8        1002      6           4.0       15.0     117.0    10857  Стерлитамак   \n",
       "9        1002      7          11.0       26.0     214.0    17581  Стерлитамак   \n",
       "10       1002      8          13.0       42.0     289.0    20320  Стерлитамак   \n",
       "11       1002      9           4.0       36.0     206.0    16692  Стерлитамак   \n",
       "12       1002     10          10.0       33.0     212.0    13889  Стерлитамак   \n",
       "...       ...    ...           ...        ...       ...      ...          ...   \n",
       "3195     1494      8           0.0       32.0     262.0     6591         Омск   \n",
       "3196     1494      9           0.0       66.0     501.0    16963         Омск   \n",
       "3197     1494     10           0.0       52.0     354.0    17768         Омск   \n",
       "3198     1494     11           0.0       63.0     411.0    18053         Омск   \n",
       "3199     1494     12           0.0       62.0     418.0    17622         Омск   \n",
       "\n",
       "     tariff  sum_per_month  \n",
       "8     smart          550.0  \n",
       "9     smart         1150.0  \n",
       "10    smart         1550.0  \n",
       "11    smart          950.0  \n",
       "12    smart          550.0  \n",
       "...     ...            ...  \n",
       "3195  smart          550.0  \n",
       "3196  smart         2303.0  \n",
       "3197  smart         1150.0  \n",
       "3198  smart         1150.0  \n",
       "3199  smart         1150.0  \n",
       "\n",
       "[2227 rows x 9 columns]"
      ]
     },
     "metadata": {},
     "output_type": "display_data"
    },
    {
     "data": {
      "text/html": [
       "<div>\n",
       "<style scoped>\n",
       "    .dataframe tbody tr th:only-of-type {\n",
       "        vertical-align: middle;\n",
       "    }\n",
       "\n",
       "    .dataframe tbody tr th {\n",
       "        vertical-align: top;\n",
       "    }\n",
       "\n",
       "    .dataframe thead th {\n",
       "        text-align: right;\n",
       "    }\n",
       "</style>\n",
       "<table border=\"1\" class=\"dataframe\">\n",
       "  <thead>\n",
       "    <tr style=\"text-align: right;\">\n",
       "      <th></th>\n",
       "      <th>user_id</th>\n",
       "      <th>month</th>\n",
       "      <th>message_date</th>\n",
       "      <th>call_date</th>\n",
       "      <th>duration</th>\n",
       "      <th>mb_used</th>\n",
       "      <th>city</th>\n",
       "      <th>tariff</th>\n",
       "      <th>sum_per_month</th>\n",
       "    </tr>\n",
       "  </thead>\n",
       "  <tbody>\n",
       "    <tr>\n",
       "      <td>0</td>\n",
       "      <td>1000</td>\n",
       "      <td>5</td>\n",
       "      <td>22.0</td>\n",
       "      <td>22.0</td>\n",
       "      <td>159.0</td>\n",
       "      <td>2254</td>\n",
       "      <td>Краснодар</td>\n",
       "      <td>ultra</td>\n",
       "      <td>1950.0</td>\n",
       "    </tr>\n",
       "    <tr>\n",
       "      <td>1</td>\n",
       "      <td>1000</td>\n",
       "      <td>6</td>\n",
       "      <td>60.0</td>\n",
       "      <td>43.0</td>\n",
       "      <td>172.0</td>\n",
       "      <td>23234</td>\n",
       "      <td>Краснодар</td>\n",
       "      <td>ultra</td>\n",
       "      <td>1950.0</td>\n",
       "    </tr>\n",
       "    <tr>\n",
       "      <td>2</td>\n",
       "      <td>1000</td>\n",
       "      <td>7</td>\n",
       "      <td>75.0</td>\n",
       "      <td>47.0</td>\n",
       "      <td>340.0</td>\n",
       "      <td>14004</td>\n",
       "      <td>Краснодар</td>\n",
       "      <td>ultra</td>\n",
       "      <td>1950.0</td>\n",
       "    </tr>\n",
       "    <tr>\n",
       "      <td>3</td>\n",
       "      <td>1000</td>\n",
       "      <td>8</td>\n",
       "      <td>81.0</td>\n",
       "      <td>52.0</td>\n",
       "      <td>408.0</td>\n",
       "      <td>14056</td>\n",
       "      <td>Краснодар</td>\n",
       "      <td>ultra</td>\n",
       "      <td>1950.0</td>\n",
       "    </tr>\n",
       "    <tr>\n",
       "      <td>4</td>\n",
       "      <td>1000</td>\n",
       "      <td>9</td>\n",
       "      <td>57.0</td>\n",
       "      <td>58.0</td>\n",
       "      <td>466.0</td>\n",
       "      <td>14569</td>\n",
       "      <td>Краснодар</td>\n",
       "      <td>ultra</td>\n",
       "      <td>1950.0</td>\n",
       "    </tr>\n",
       "    <tr>\n",
       "      <td>...</td>\n",
       "      <td>...</td>\n",
       "      <td>...</td>\n",
       "      <td>...</td>\n",
       "      <td>...</td>\n",
       "      <td>...</td>\n",
       "      <td>...</td>\n",
       "      <td>...</td>\n",
       "      <td>...</td>\n",
       "      <td>...</td>\n",
       "    </tr>\n",
       "    <tr>\n",
       "      <td>3184</td>\n",
       "      <td>1469</td>\n",
       "      <td>8</td>\n",
       "      <td>0.0</td>\n",
       "      <td>114.0</td>\n",
       "      <td>779.0</td>\n",
       "      <td>33039</td>\n",
       "      <td>Сочи</td>\n",
       "      <td>ultra</td>\n",
       "      <td>2400.0</td>\n",
       "    </tr>\n",
       "    <tr>\n",
       "      <td>3185</td>\n",
       "      <td>1469</td>\n",
       "      <td>9</td>\n",
       "      <td>0.0</td>\n",
       "      <td>104.0</td>\n",
       "      <td>763.0</td>\n",
       "      <td>33703</td>\n",
       "      <td>Сочи</td>\n",
       "      <td>ultra</td>\n",
       "      <td>2400.0</td>\n",
       "    </tr>\n",
       "    <tr>\n",
       "      <td>3186</td>\n",
       "      <td>1469</td>\n",
       "      <td>10</td>\n",
       "      <td>0.0</td>\n",
       "      <td>123.0</td>\n",
       "      <td>908.0</td>\n",
       "      <td>33384</td>\n",
       "      <td>Сочи</td>\n",
       "      <td>ultra</td>\n",
       "      <td>2400.0</td>\n",
       "    </tr>\n",
       "    <tr>\n",
       "      <td>3187</td>\n",
       "      <td>1469</td>\n",
       "      <td>11</td>\n",
       "      <td>0.0</td>\n",
       "      <td>111.0</td>\n",
       "      <td>795.0</td>\n",
       "      <td>35502</td>\n",
       "      <td>Сочи</td>\n",
       "      <td>ultra</td>\n",
       "      <td>2700.0</td>\n",
       "    </tr>\n",
       "    <tr>\n",
       "      <td>3188</td>\n",
       "      <td>1469</td>\n",
       "      <td>12</td>\n",
       "      <td>0.0</td>\n",
       "      <td>106.0</td>\n",
       "      <td>635.0</td>\n",
       "      <td>27763</td>\n",
       "      <td>Сочи</td>\n",
       "      <td>ultra</td>\n",
       "      <td>1950.0</td>\n",
       "    </tr>\n",
       "  </tbody>\n",
       "</table>\n",
       "<p>973 rows × 9 columns</p>\n",
       "</div>"
      ],
      "text/plain": [
       "      user_id  month  message_date  call_date  duration  mb_used       city  \\\n",
       "0        1000      5          22.0       22.0     159.0     2254  Краснодар   \n",
       "1        1000      6          60.0       43.0     172.0    23234  Краснодар   \n",
       "2        1000      7          75.0       47.0     340.0    14004  Краснодар   \n",
       "3        1000      8          81.0       52.0     408.0    14056  Краснодар   \n",
       "4        1000      9          57.0       58.0     466.0    14569  Краснодар   \n",
       "...       ...    ...           ...        ...       ...      ...        ...   \n",
       "3184     1469      8           0.0      114.0     779.0    33039       Сочи   \n",
       "3185     1469      9           0.0      104.0     763.0    33703       Сочи   \n",
       "3186     1469     10           0.0      123.0     908.0    33384       Сочи   \n",
       "3187     1469     11           0.0      111.0     795.0    35502       Сочи   \n",
       "3188     1469     12           0.0      106.0     635.0    27763       Сочи   \n",
       "\n",
       "     tariff  sum_per_month  \n",
       "0     ultra         1950.0  \n",
       "1     ultra         1950.0  \n",
       "2     ultra         1950.0  \n",
       "3     ultra         1950.0  \n",
       "4     ultra         1950.0  \n",
       "...     ...            ...  \n",
       "3184  ultra         2400.0  \n",
       "3185  ultra         2400.0  \n",
       "3186  ultra         2400.0  \n",
       "3187  ultra         2700.0  \n",
       "3188  ultra         1950.0  \n",
       "\n",
       "[973 rows x 9 columns]"
      ]
     },
     "metadata": {},
     "output_type": "display_data"
    }
   ],
   "source": [
    "#логично разделить сводную таблицу на две части по используемому тарифу\n",
    "smart = df.query('tariff == \"smart\"')\n",
    "ultra = df.query('tariff == \"ultra\"')\n",
    "display(smart) \n",
    "display(ultra)"
   ]
  },
  {
   "cell_type": "markdown",
   "metadata": {},
   "source": [
    "### 3.1 Сколько минут разговора требуется пользователям каждого тарифа в месяц"
   ]
  },
  {
   "cell_type": "code",
   "execution_count": 9,
   "metadata": {},
   "outputs": [
    {
     "data": {
      "text/plain": [
       "count    2227.000000\n",
       "mean      418.268523\n",
       "std       190.073088\n",
       "min         0.000000\n",
       "25%       282.500000\n",
       "50%       422.000000\n",
       "75%       545.000000\n",
       "max      1435.000000\n",
       "Name: duration, dtype: float64"
      ]
     },
     "metadata": {},
     "output_type": "display_data"
    },
    {
     "name": "stdout",
     "output_type": "stream",
     "text": [
      "самое частое значение (мода) для тарифа Смарт равно 0    437.0\n",
      "dtype: float64\n",
      "дисперсия для тарифа Смарт равна 36127.778716729386\n"
     ]
    },
    {
     "data": {
      "image/png": "[encoded data removed]",
      "text/plain": [
       "<Figure size 432x288 with 1 Axes>"
      ]
     },
     "metadata": {
      "needs_background": "light"
     },
     "output_type": "display_data"
    },
    {
     "data": {
      "text/plain": [
       "count     973.000000\n",
       "mean      530.728674\n",
       "std       317.203175\n",
       "min         0.000000\n",
       "25%       295.000000\n",
       "50%       521.000000\n",
       "75%       752.000000\n",
       "max      1673.000000\n",
       "Name: duration, dtype: float64"
      ]
     },
     "metadata": {},
     "output_type": "display_data"
    },
    {
     "name": "stdout",
     "output_type": "stream",
     "text": [
      "самое частое значение (мода) для тарифа Ультра равно 0    0.0\n",
      "dtype: float64\n",
      "дисперсия для тарифа Ультра равна 100617.85429011288\n"
     ]
    }
   ],
   "source": [
    "smart['duration'].hist(bins=100, alpha=0.5, label = 'Smart') # распределение минут разговора в месяц\n",
    "display(smart['duration'].describe()) # статистика\n",
    "print('самое частое значение (мода) для тарифа Смарт равно', smart['duration'].mode()) # мода\n",
    "print(\"дисперсия для тарифа Смарт равна\", np.var(smart['duration'], ddof=1)) # дисперсия, ddof=1, т.к. мы работаем с выборкой, а не с генеральной совокупностью\n",
    "\n",
    "#ультра звонки\n",
    "ultra['duration'].hist(bins=100, alpha=0.7, label = 'Ultra') # распределение минут разговора в месяц\n",
    "plt.legend()\n",
    "plt.show()\n",
    "display(ultra['duration'].describe()) \n",
    "print('самое частое значение (мода) для тарифа Ультра равно', ultra['duration'].mode())\n",
    "print(\"дисперсия для тарифа Ультра равна\", np.var(ultra['duration'], ddof=1))"
   ]
  },
  {
   "cell_type": "markdown",
   "metadata": {},
   "source": [
    "Для пользователей тарифа Смарт распределение в целом стремится к нормальному. Есть выбросы в области около 1400 минут, потому что некоторые пользователи разговаривают дольше других. Но самое частое значение в выборке как раз находится около лимита в 500 минут: среднее - 418 минут, медиана - 422, мода - 437. Среднее меньше всех, т.к. на него влияет большая плотность значений в районе нуля, гистограмма слегка скошена вправо. Стандартное отклонение - 190, а дисперсия, его квадрат, соответственно 36159.\n",
    "\n",
    "Среди пользователей тарифа Ультра достаточно много пользователей, которые не разговаривают совсем, мода находится на отметке 0, дисперсия больше, чем у смартов, гистограмма более плоская, об этом говорит и большое среднеквадратичное отклонение - 317, а также его квадрат, 100699. Медиана и среднее равны 520 и 530 соответственно, т.е. достаточно большое число тех, кто выбрал этот тариф, немного не укладывались в лимит смарта 500 минут."
   ]
  },
  {
   "cell_type": "markdown",
   "metadata": {},
   "source": [
    "### 3.2 Сколько сообщений требуется пользователям каждого тарифа в месяц"
   ]
  },
  {
   "cell_type": "code",
   "execution_count": 10,
   "metadata": {},
   "outputs": [
    {
     "data": {
      "text/plain": [
       "count    2227.000000\n",
       "mean       33.413112\n",
       "std        28.223851\n",
       "min         0.000000\n",
       "25%        10.000000\n",
       "50%        28.000000\n",
       "75%        51.000000\n",
       "max       143.000000\n",
       "Name: message_date, dtype: float64"
      ]
     },
     "metadata": {},
     "output_type": "display_data"
    },
    {
     "name": "stdout",
     "output_type": "stream",
     "text": [
      "самое частое значение (мода) для тарифа Смарт равна 0    0.0\n",
      "dtype: float64\n",
      "дисперсия для тарифа Смарт равна 796.5857758918057\n"
     ]
    },
    {
     "data": {
      "image/png": "[encoded data removed]",
      "text/plain": [
       "<Figure size 432x288 with 1 Axes>"
      ]
     },
     "metadata": {
      "needs_background": "light"
     },
     "output_type": "display_data"
    },
    {
     "data": {
      "text/plain": [
       "count    973.000000\n",
       "mean      49.684481\n",
       "std       47.978006\n",
       "min        0.000000\n",
       "25%        6.000000\n",
       "50%       39.000000\n",
       "75%       79.000000\n",
       "max      224.000000\n",
       "Name: message_date, dtype: float64"
      ]
     },
     "metadata": {},
     "output_type": "display_data"
    },
    {
     "name": "stdout",
     "output_type": "stream",
     "text": [
      "самое частое значение (мода) для тарифа Ультра равна 0    0.0\n",
      "dtype: float64\n",
      "дисперсия для тарифа Ультра равна 2301.889028459772\n"
     ]
    }
   ],
   "source": [
    "smart['message_date'].hist(bins=50, alpha=0.5, label = 'Smart') # распределение количества сообщений в месяц\n",
    "display(smart['message_date'].describe())\n",
    "print('самое частое значение (мода) для тарифа Смарт равна', smart['message_date'].mode())\n",
    "print(\"дисперсия для тарифа Смарт равна\", np.var(smart['message_date'], ddof=1))\n",
    "# ультра смс\n",
    "ultra['message_date'].hist(bins=50, alpha=0.7,  label = 'Ultra') # распределение количества сообщений в месяц\n",
    "plt.legend()\n",
    "plt.show()\n",
    "display(ultra['message_date'].describe())\n",
    "print('самое частое значение (мода) для тарифа Ультра равна', ultra['message_date'].mode())\n",
    "print(\"дисперсия для тарифа Ультра равна\", np.var(ultra['message_date'], ddof=1))\n"
   ]
  },
  {
   "cell_type": "markdown",
   "metadata": {},
   "source": [
    "С сообщениями история неоднозначна. Многие считают их бесполезными с появлением мессенджеров, некоторые продолжают использовать, отсюда и пик в области нуля, там находится мода в обеих выборках. Но в среднем пользователи тарифа смарт отправляют 33 смс в месяц, пополам выборку делит значение в 28 смс. Дисперсия примерно равна 797.\n",
    "У пользователей тарифа ультра разброс значений шире, хотя, как и пользователи тарифа смарт, они нечасто используют смс, график скошен вправо, медиана меньше среднего (38,5 < 49), дисперсия равна примерно 2302."
   ]
  },
  {
   "cell_type": "markdown",
   "metadata": {},
   "source": [
    "### 3.3 Сколько интернета требуется пользователям каждого тарифа в месяц"
   ]
  },
  {
   "cell_type": "code",
   "execution_count": 11,
   "metadata": {},
   "outputs": [
    {
     "data": {
      "text/plain": [
       "count     2227.000000\n",
       "mean     16223.430175\n",
       "std       5852.970267\n",
       "min        202.000000\n",
       "25%      12659.500000\n",
       "50%      16509.000000\n",
       "75%      20045.000000\n",
       "max      38553.000000\n",
       "Name: mb_used, dtype: float64"
      ]
     },
     "metadata": {},
     "output_type": "display_data"
    },
    {
     "name": "stdout",
     "output_type": "stream",
     "text": [
      "среднее значение для тарифа Смарт в Гб равно 15.843193530394029\n",
      "самое частое значение (мода) для тарифа Смарт равно 0     7024\n",
      "1    12404\n",
      "2    13260\n",
      "3    15522\n",
      "4    17970\n",
      "5    18911\n",
      "dtype: int64\n",
      "дисперсия для тарифа Смарт равна 34257260.95143407\n"
     ]
    },
    {
     "data": {
      "image/png": "[encoded data removed]",
      "text/plain": [
       "<Figure size 432x288 with 1 Axes>"
      ]
     },
     "metadata": {
      "needs_background": "light"
     },
     "output_type": "display_data"
    },
    {
     "data": {
      "text/plain": [
       "count      973.000000\n",
       "mean     19708.877698\n",
       "std       9914.212064\n",
       "min        366.000000\n",
       "25%      12100.000000\n",
       "50%      19424.000000\n",
       "75%      26928.000000\n",
       "max      49746.000000\n",
       "Name: mb_used, dtype: float64"
      ]
     },
     "metadata": {},
     "output_type": "display_data"
    },
    {
     "data": {
      "text/plain": [
       "19.24695087679856"
      ]
     },
     "metadata": {},
     "output_type": "display_data"
    },
    {
     "name": "stdout",
     "output_type": "stream",
     "text": [
      "среднее значение для тарифа Ультра в Гб равно None\n",
      "самое частое значение (мода) для тарифа Ультра равно 0      1445\n",
      "1     10122\n",
      "2     10929\n",
      "3     13433\n",
      "4     15615\n",
      "5     16090\n",
      "6     20479\n",
      "7     22269\n",
      "8     22819\n",
      "9     23526\n",
      "10    25105\n",
      "11    25209\n",
      "12    29290\n",
      "dtype: int64\n",
      "дисперсия для тарифа Ультра равна 98291600.84613791\n"
     ]
    }
   ],
   "source": [
    "smart['mb_used'].hist(bins=100, alpha=0.5, label = 'Smart') # распределение использованных мегабайт в месяц\n",
    "display(smart['mb_used'].describe())\n",
    "print(\"среднее значение для тарифа Смарт в Гб равно\", (smart['mb_used'].mean() / 1024))\n",
    "print(\"самое частое значение (мода) для тарифа Смарт равно\", smart['mb_used'].mode())\n",
    "print(\"дисперсия для тарифа Смарт равна\", np.var(smart['mb_used'], ddof=1))\n",
    "\n",
    "ultra['mb_used'].hist(bins=100, alpha=0.7, label = 'Ultra') # распределение использованных мегабайт в месяц\n",
    "plt.legend()\n",
    "plt.show()\n",
    "display(ultra['mb_used'].describe())\n",
    "print('среднее значение для тарифа Ультра в Гб равно', display(ultra['mb_used'].mean() / 1024))\n",
    "print('самое частое значение (мода) для тарифа Ультра равно', ultra['mb_used'].mode())\n",
    "print(\"дисперсия для тарифа Ультра равна\",np.var(ultra['mb_used'], ddof=1))"
   ]
  },
  {
   "cell_type": "markdown",
   "metadata": {},
   "source": [
    "В среднем, пользователи тарифа смарт нуждаются в 16 гигабайтах трафика в месяц, это немного превышает их лимит в 15 Гб. Форма гистограммы достаточно близка к гистограмме нормального распределения, пик находится примерно на 16 Гб, медиана и среднее находятся очень близко: 16 224 Мб и 16 517 Мб соответственно. Дисперсия равна 34 385 953\n",
    "\n",
    "Среди пользователей тарифа \"ультра\" разброс потраченных мегабайт трафика больше. Среднеквадратичное отклонение здесь составляет 9929 мегабайт, дисперсия составляет 98 604 715, среднее примерно равно 19 690, а медиана находится на отметке 19412. Мод в этой выборке гораздо больше, чем среди \"смартов\", они разбросаны от 1445 мб до 27435 мб, если увеличить число корзин в гистограмме до нескольких тысяч, их можно будет увидеть. \n",
    "Пользователи тарифа Ультра гораздо более неоднородная группа, чем пользователи тарифа Смарт, их средние затраты на связь разбросаны в более широких пределах, кроме того, их выборка меньше."
   ]
  },
  {
   "cell_type": "markdown",
   "metadata": {},
   "source": [
    "## 4. Проверка гипотез"
   ]
  },
  {
   "cell_type": "markdown",
   "metadata": {},
   "source": [
    "\n",
    "Нулевая гипотеза:\n",
    "средняя выручка пользователей тарифов «Ультра» и «Смарт» одинаковая\n",
    "Альтернативная гипотеза:\n",
    "средняя выручка пользователей тарифов «Ультра» и «Смарт» различаются\n",
    "\n",
    "Нулевая гипотеза:\n",
    "средняя выручка пользователей из Москвы такая же как в других регионах\n",
    "Альтернативная гипотеза:\n",
    "средняя выручка пользователей из Москвы отличается от выручки пользователей из других регионов.\n",
    "\n",
    "Учитывая, что нужно сравнить средние двух выборок и определить вероятность равенства средних двух генеральных совокупностей, из которых взяты эти выборки, подойдёт метод scipy.stats.ttest_ind (array1, array2,equal_var).\n",
    "Параметр equal_var в случае первой гипотезы можно заменить на False, т.к. дисперсия пользователей смарта заметно больше дисперсии пользователей тарифа ультра(1186 ^ 2 против 378 ^ 2), при сравнении пользователей из Москвы и из регионов дисперсия отличается не сильно."
   ]
  },
  {
   "cell_type": "code",
   "execution_count": 12,
   "metadata": {},
   "outputs": [
    {
     "data": {
      "text/plain": [
       "count    2227.000000\n",
       "mean     1747.710373\n",
       "std      1186.353118\n",
       "min       550.000000\n",
       "25%       550.000000\n",
       "50%      1550.000000\n",
       "75%      2526.500000\n",
       "max      8120.000000\n",
       "Name: sum_per_month, dtype: float64"
      ]
     },
     "metadata": {},
     "output_type": "display_data"
    },
    {
     "data": {
      "text/plain": [
       "count     973.000000\n",
       "mean     2071.634121\n",
       "std       378.263715\n",
       "min      1950.000000\n",
       "25%      1950.000000\n",
       "50%      1950.000000\n",
       "75%      1950.000000\n",
       "max      4800.000000\n",
       "Name: sum_per_month, dtype: float64"
      ]
     },
     "metadata": {},
     "output_type": "display_data"
    },
    {
     "name": "stdout",
     "output_type": "stream",
     "text": [
      "суммарная выручка от пользователей тарифа смарт за период анализа =  3892151.0\n",
      "суммарная выручка от пользователей тарифа ультра за период анализа =  2015700.0\n"
     ]
    },
    {
     "data": {
      "image/png": "[encoded data removed]",
      "text/plain": [
       "<Figure size 432x288 with 1 Axes>"
      ]
     },
     "metadata": {
      "needs_background": "light"
     },
     "output_type": "display_data"
    }
   ],
   "source": [
    "# считаем среднюю выручку с каждого из тарифов\n",
    "display(smart['sum_per_month'].describe())\n",
    "display(ultra['sum_per_month'].describe())\n",
    "print('суммарная выручка от пользователей тарифа смарт за период анализа = ', sum(smart['sum_per_month']))\n",
    "print('суммарная выручка от пользователей тарифа ультра за период анализа = ', sum(ultra['sum_per_month']))\n",
    "smart['sum_per_month'].hist(bins=30, alpha=0.5) # распределение затрат на связь в месяц\n",
    "ultra['sum_per_month'].hist(bins=30, alpha=0.7) \n",
    "plt.show()\n"
   ]
  },
  {
   "cell_type": "code",
   "execution_count": 13,
   "metadata": {},
   "outputs": [
    {
     "name": "stdout",
     "output_type": "stream",
     "text": [
      "p-значение:  1.7071794478215788e-30\n",
      "Отвергаем нулевую гипотезу\n"
     ]
    }
   ],
   "source": [
    "sample_1 = smart['sum_per_month']\n",
    "sample_2 = ultra['sum_per_month']\n",
    "alpha = .05 # критический уровень статистической значимости\n",
    "# если p-value окажется меньше него - отвегнем гипотезу\n",
    "\n",
    "results = st.ttest_ind(\n",
    "    sample_1, \n",
    "    sample_2, equal_var = False)\n",
    "\n",
    "print('p-значение: ', results.pvalue)\n",
    "\n",
    "if results.pvalue < alpha:\n",
    "    print(\"Отвергаем нулевую гипотезу\")\n",
    "else:\n",
    "    print(\"Не получилось отвергнуть нулевую гипотезу\") "
   ]
  },
  {
   "cell_type": "markdown",
   "metadata": {},
   "source": [
    "p оказался значительно меньше значения 0,05, это говорит о том, что разница между средними двух выборок статистически значима, а значит, говорить о равенстве средних двух выборок нельзя. Пользователи тарифа Ультра в среднем тратят на связь больше, чем пользователи тарифа Смарт. Такое же результат получается, даже если не применять параметр equal_var = False."
   ]
  },
  {
   "cell_type": "code",
   "execution_count": 14,
   "metadata": {},
   "outputs": [
    {
     "name": "stdout",
     "output_type": "stream",
     "text": [
      "p-значение:  0.5278607479424164\n",
      "Не получилось отвергнуть нулевую гипотезу\n"
     ]
    },
    {
     "data": {
      "text/plain": [
       "count     610.000000\n",
       "mean     1822.691803\n",
       "std       947.083887\n",
       "min       550.000000\n",
       "25%       950.000000\n",
       "50%      1950.000000\n",
       "75%      2174.250000\n",
       "max      6671.000000\n",
       "Name: sum_per_month, dtype: float64"
      ]
     },
     "metadata": {},
     "output_type": "display_data"
    },
    {
     "data": {
      "text/plain": [
       "count    2590.000000\n",
       "mean     1851.740927\n",
       "std      1039.283492\n",
       "min       550.000000\n",
       "25%       950.000000\n",
       "50%      1950.000000\n",
       "75%      2314.750000\n",
       "max      8120.000000\n",
       "Name: sum_per_month, dtype: float64"
      ]
     },
     "metadata": {},
     "output_type": "display_data"
    }
   ],
   "source": [
    "# теперь пришло время сравнить Москву и регионы\n",
    "# сначала нужно подготовить выборки к анализу\n",
    "Moscow_users = df.query('city == \"Москва\"')\n",
    "Other_users = df.query('city != \"Москва\"')\n",
    "\n",
    "sample_1 = Moscow_users['sum_per_month']\n",
    "sample_2 = Other_users['sum_per_month']\n",
    "\n",
    "alpha = .1# критический уровень статистической значимости\n",
    "# если p-value окажется меньше него - отвегнем гипотезу\n",
    "\n",
    "results = st.ttest_ind(\n",
    "    sample_1, \n",
    "    sample_2)\n",
    "\n",
    "print('p-значение: ', results.pvalue)\n",
    "\n",
    "if results.pvalue < alpha:\n",
    "    print(\"Отвергаем нулевую гипотезу\")\n",
    "else:\n",
    "    print(\"Не получилось отвергнуть нулевую гипотезу\") \n",
    "\n",
    "display(Moscow_users['sum_per_month'].describe())\n",
    "display(Other_users['sum_per_month'].describe())"
   ]
  },
  {
   "cell_type": "markdown",
   "metadata": {},
   "source": [
    "Значение p оказалось больше, чем 0,05 и даже больше, чем 0,1, а это значит что средние обеих выборок примерно равны, и скорее всего равны и средние генеральных совокупностей. В регионах на связь тратят примерно столько же, сколько в Москве."
   ]
  },
  {
   "cell_type": "markdown",
   "metadata": {},
   "source": [
    "## Вывод"
   ]
  },
  {
   "cell_type": "markdown",
   "metadata": {},
   "source": [
    "Пользователи операторов мобильной связи очень разные, некоторые не пользуются звонками вообще, некоторые давно не отправляют смс. Действительно, мессенджеры заменили и то, и другое. Из всех, кто приобретал тарифы Смарт и Ультра, интернет-трафик использовали все. Несмотря на более стройные гистограммы средних затрат на звонки, смс и интернет, пользователи тарифа Смарт оказались более разнородными по прибыли, которую они приносят компании. Кто-то четко укладывается в лимиты по звонкам и смс, кто-то тратит гораздо больше и платит сверх абонентской платы. У пользователей тарифа Ультра выходов за пределы лимита меньше, но за счет изначально высокой абонентской платы, они приносят компании больше выручки. Как выяснилось с помощью t-теста, статистически значимо. Его имеет смысл продвигать с помощью рекламы, а тариф Смарт и так популярен, скорее всего за счёт своей низкой стомости. \n",
    "Однако однозначно ничего утверждать нельзя, т.к. суммарно за период анализа тариф Смарт принес компании большую сумму за счет большого количества подключенных пользователей. \n",
    "Попытка выделить среди пользователей тарифов москвичей оказалась неудачной, средние затраты на связь почти не отличаются, а имеющаяся разница статистически не значима. "
   ]
  }
 ],
 "metadata": {
  "ExecuteTimeLog": [
   {
    "duration": 998,
    "start_time": "2022-01-19T09:26:58.230Z"
   },
   {
    "duration": 475,
    "start_time": "2022-01-19T09:28:09.574Z"
   },
   {
    "duration": 471,
    "start_time": "2022-01-19T09:29:17.550Z"
   },
   {
    "duration": 59,
    "start_time": "2022-01-19T10:01:19.465Z"
   },
   {
    "duration": 126,
    "start_time": "2022-01-19T10:01:29.866Z"
   },
   {
    "duration": 15,
    "start_time": "2022-01-19T10:01:39.628Z"
   },
   {
    "duration": 10,
    "start_time": "2022-01-19T10:02:01.094Z"
   },
   {
    "duration": 17,
    "start_time": "2022-01-19T10:02:23.061Z"
   },
   {
    "duration": 16,
    "start_time": "2022-01-19T10:02:55.270Z"
   },
   {
    "duration": 16,
    "start_time": "2022-01-19T10:03:02.518Z"
   },
   {
    "duration": 134,
    "start_time": "2022-01-19T10:06:51.126Z"
   },
   {
    "duration": 18,
    "start_time": "2022-01-19T10:08:26.434Z"
   },
   {
    "duration": 65,
    "start_time": "2022-01-19T10:25:35.285Z"
   },
   {
    "duration": 77,
    "start_time": "2022-01-19T10:27:01.519Z"
   },
   {
    "duration": 66,
    "start_time": "2022-01-19T10:27:34.295Z"
   },
   {
    "duration": 559,
    "start_time": "2022-01-19T10:30:33.604Z"
   },
   {
    "duration": 525,
    "start_time": "2022-01-19T10:30:59.931Z"
   },
   {
    "duration": 135,
    "start_time": "2022-01-19T10:31:36.484Z"
   },
   {
    "duration": 16,
    "start_time": "2022-01-19T10:31:45.923Z"
   },
   {
    "duration": 281,
    "start_time": "2022-01-19T10:38:32.129Z"
   },
   {
    "duration": 505,
    "start_time": "2022-01-19T10:57:48.903Z"
   },
   {
    "duration": 4,
    "start_time": "2022-01-19T10:57:53.709Z"
   },
   {
    "duration": 10,
    "start_time": "2022-01-19T10:58:25.238Z"
   },
   {
    "duration": 35,
    "start_time": "2022-01-19T11:45:16.614Z"
   },
   {
    "duration": 1104,
    "start_time": "2022-01-19T11:48:58.326Z"
   },
   {
    "duration": 79,
    "start_time": "2022-01-19T11:48:59.431Z"
   },
   {
    "duration": 5,
    "start_time": "2022-01-19T11:48:59.512Z"
   },
   {
    "duration": 207,
    "start_time": "2022-01-19T11:53:22.375Z"
   },
   {
    "duration": 1124,
    "start_time": "2022-01-19T11:53:54.212Z"
   },
   {
    "duration": 77,
    "start_time": "2022-01-19T11:53:55.337Z"
   },
   {
    "duration": 5,
    "start_time": "2022-01-19T11:53:55.416Z"
   },
   {
    "duration": 342,
    "start_time": "2022-01-19T11:53:55.422Z"
   },
   {
    "duration": 2607,
    "start_time": "2022-02-01T16:55:54.809Z"
   },
   {
    "duration": -131,
    "start_time": "2022-02-01T16:55:57.549Z"
   },
   {
    "duration": -129,
    "start_time": "2022-02-01T16:55:57.550Z"
   },
   {
    "duration": -128,
    "start_time": "2022-02-01T16:55:57.550Z"
   },
   {
    "duration": -128,
    "start_time": "2022-02-01T16:55:57.552Z"
   },
   {
    "duration": -127,
    "start_time": "2022-02-01T16:55:57.552Z"
   },
   {
    "duration": -127,
    "start_time": "2022-02-01T16:55:57.553Z"
   },
   {
    "duration": -127,
    "start_time": "2022-02-01T16:55:57.554Z"
   },
   {
    "duration": -127,
    "start_time": "2022-02-01T16:55:57.555Z"
   },
   {
    "duration": -127,
    "start_time": "2022-02-01T16:55:57.556Z"
   },
   {
    "duration": -127,
    "start_time": "2022-02-01T16:55:57.557Z"
   },
   {
    "duration": -126,
    "start_time": "2022-02-01T16:55:57.557Z"
   },
   {
    "duration": -125,
    "start_time": "2022-02-01T16:55:57.558Z"
   },
   {
    "duration": -125,
    "start_time": "2022-02-01T16:55:57.559Z"
   },
   {
    "duration": -129,
    "start_time": "2022-02-01T16:55:57.564Z"
   },
   {
    "duration": -130,
    "start_time": "2022-02-01T16:55:57.566Z"
   },
   {
    "duration": -130,
    "start_time": "2022-02-01T16:55:57.567Z"
   },
   {
    "duration": 1616,
    "start_time": "2022-02-01T16:59:40.797Z"
   },
   {
    "duration": 93,
    "start_time": "2022-02-01T16:59:42.416Z"
   },
   {
    "duration": 4,
    "start_time": "2022-02-01T16:59:42.512Z"
   },
   {
    "duration": 193,
    "start_time": "2022-02-01T16:59:42.518Z"
   },
   {
    "duration": 48,
    "start_time": "2022-02-01T16:59:42.713Z"
   },
   {
    "duration": 37,
    "start_time": "2022-02-01T16:59:42.763Z"
   },
   {
    "duration": 401,
    "start_time": "2022-02-01T16:59:42.802Z"
   },
   {
    "duration": 59,
    "start_time": "2022-02-01T16:59:43.205Z"
   },
   {
    "duration": 435,
    "start_time": "2022-02-01T16:59:43.267Z"
   },
   {
    "duration": 421,
    "start_time": "2022-02-01T16:59:43.705Z"
   },
   {
    "duration": 428,
    "start_time": "2022-02-01T16:59:44.127Z"
   },
   {
    "duration": 309,
    "start_time": "2022-02-01T16:59:44.557Z"
   },
   {
    "duration": 504,
    "start_time": "2022-02-01T16:59:44.868Z"
   },
   {
    "duration": 629,
    "start_time": "2022-02-01T16:59:45.374Z"
   },
   {
    "duration": 14,
    "start_time": "2022-02-01T16:59:46.005Z"
   },
   {
    "duration": 6,
    "start_time": "2022-02-01T16:59:46.020Z"
   },
   {
    "duration": 23,
    "start_time": "2022-02-01T16:59:46.028Z"
   },
   {
    "duration": 115,
    "start_time": "2022-02-01T19:07:17.465Z"
   },
   {
    "duration": 426,
    "start_time": "2022-02-01T19:08:08.306Z"
   },
   {
    "duration": 1489,
    "start_time": "2022-02-01T19:08:23.367Z"
   },
   {
    "duration": 59,
    "start_time": "2022-02-01T19:08:24.858Z"
   },
   {
    "duration": 17,
    "start_time": "2022-02-01T19:08:24.919Z"
   },
   {
    "duration": 169,
    "start_time": "2022-02-01T19:08:24.938Z"
   },
   {
    "duration": 47,
    "start_time": "2022-02-01T19:08:25.109Z"
   },
   {
    "duration": 9,
    "start_time": "2022-02-01T19:08:25.157Z"
   },
   {
    "duration": 323,
    "start_time": "2022-02-01T19:08:25.167Z"
   },
   {
    "duration": 48,
    "start_time": "2022-02-01T19:08:25.492Z"
   },
   {
    "duration": 296,
    "start_time": "2022-02-01T19:08:25.542Z"
   },
   {
    "duration": 292,
    "start_time": "2022-02-01T19:08:25.840Z"
   },
   {
    "duration": 301,
    "start_time": "2022-02-01T19:08:26.133Z"
   },
   {
    "duration": 216,
    "start_time": "2022-02-01T19:08:26.435Z"
   },
   {
    "duration": 367,
    "start_time": "2022-02-01T19:08:26.652Z"
   },
   {
    "duration": 427,
    "start_time": "2022-02-01T19:08:27.020Z"
   },
   {
    "duration": 9,
    "start_time": "2022-02-01T19:08:27.449Z"
   },
   {
    "duration": 4,
    "start_time": "2022-02-01T19:08:27.460Z"
   },
   {
    "duration": 21,
    "start_time": "2022-02-01T19:08:27.465Z"
   },
   {
    "duration": 41,
    "start_time": "2022-02-01T19:14:05.162Z"
   },
   {
    "duration": 107,
    "start_time": "2022-02-01T19:30:33.570Z"
   },
   {
    "duration": 108,
    "start_time": "2022-02-01T19:31:09.863Z"
   },
   {
    "duration": 300,
    "start_time": "2022-02-01T19:34:50.689Z"
   },
   {
    "duration": 1414,
    "start_time": "2022-02-01T19:36:37.313Z"
   },
   {
    "duration": 58,
    "start_time": "2022-02-01T19:36:38.729Z"
   },
   {
    "duration": 45,
    "start_time": "2022-02-01T19:36:38.789Z"
   },
   {
    "duration": 151,
    "start_time": "2022-02-01T19:36:38.836Z"
   },
   {
    "duration": 40,
    "start_time": "2022-02-01T19:36:38.988Z"
   },
   {
    "duration": 9,
    "start_time": "2022-02-01T19:36:39.030Z"
   },
   {
    "duration": 318,
    "start_time": "2022-02-01T19:36:39.041Z"
   },
   {
    "duration": 29,
    "start_time": "2022-02-01T19:36:39.361Z"
   },
   {
    "duration": 299,
    "start_time": "2022-02-01T19:36:39.391Z"
   },
   {
    "duration": 292,
    "start_time": "2022-02-01T19:36:39.692Z"
   },
   {
    "duration": 301,
    "start_time": "2022-02-01T19:36:39.986Z"
   },
   {
    "duration": 213,
    "start_time": "2022-02-01T19:36:40.289Z"
   },
   {
    "duration": 359,
    "start_time": "2022-02-01T19:36:40.504Z"
   },
   {
    "duration": 435,
    "start_time": "2022-02-01T19:36:40.865Z"
   },
   {
    "duration": 28,
    "start_time": "2022-02-01T19:36:41.302Z"
   },
   {
    "duration": 4,
    "start_time": "2022-02-01T19:36:41.331Z"
   },
   {
    "duration": 18,
    "start_time": "2022-02-01T19:36:41.336Z"
   },
   {
    "duration": 11,
    "start_time": "2022-02-01T19:46:29.542Z"
   },
   {
    "duration": 1396,
    "start_time": "2022-02-01T19:47:37.409Z"
   },
   {
    "duration": 75,
    "start_time": "2022-02-01T19:47:38.806Z"
   },
   {
    "duration": 11,
    "start_time": "2022-02-01T19:47:38.883Z"
   },
   {
    "duration": 158,
    "start_time": "2022-02-01T19:47:38.896Z"
   },
   {
    "duration": 39,
    "start_time": "2022-02-01T19:47:39.056Z"
   },
   {
    "duration": 9,
    "start_time": "2022-02-01T19:47:39.097Z"
   },
   {
    "duration": 324,
    "start_time": "2022-02-01T19:47:39.108Z"
   },
   {
    "duration": 31,
    "start_time": "2022-02-01T19:47:39.434Z"
   },
   {
    "duration": 297,
    "start_time": "2022-02-01T19:47:39.467Z"
   },
   {
    "duration": 286,
    "start_time": "2022-02-01T19:47:39.766Z"
   },
   {
    "duration": 294,
    "start_time": "2022-02-01T19:47:40.054Z"
   },
   {
    "duration": 208,
    "start_time": "2022-02-01T19:47:40.349Z"
   },
   {
    "duration": 460,
    "start_time": "2022-02-01T19:47:40.559Z"
   },
   {
    "duration": 424,
    "start_time": "2022-02-01T19:47:41.028Z"
   },
   {
    "duration": 10,
    "start_time": "2022-02-01T19:47:41.454Z"
   },
   {
    "duration": 4,
    "start_time": "2022-02-01T19:47:41.466Z"
   },
   {
    "duration": 16,
    "start_time": "2022-02-01T19:47:41.472Z"
   },
   {
    "duration": 269,
    "start_time": "2022-02-01T19:50:27.580Z"
   },
   {
    "duration": 291,
    "start_time": "2022-02-02T08:39:27.619Z"
   },
   {
    "duration": 2298,
    "start_time": "2022-02-02T08:39:40.272Z"
   },
   {
    "duration": 128,
    "start_time": "2022-02-02T08:39:42.573Z"
   },
   {
    "duration": 19,
    "start_time": "2022-02-02T08:39:42.709Z"
   },
   {
    "duration": 284,
    "start_time": "2022-02-02T08:39:42.731Z"
   },
   {
    "duration": 73,
    "start_time": "2022-02-02T08:39:43.017Z"
   },
   {
    "duration": 15,
    "start_time": "2022-02-02T08:39:43.109Z"
   },
   {
    "duration": 617,
    "start_time": "2022-02-02T08:39:43.127Z"
   },
   {
    "duration": 47,
    "start_time": "2022-02-02T08:39:43.748Z"
   },
   {
    "duration": 750,
    "start_time": "2022-02-02T08:39:43.798Z"
   },
   {
    "duration": 418,
    "start_time": "2022-02-02T08:39:44.550Z"
   },
   {
    "duration": 293,
    "start_time": "2022-02-02T08:39:44.971Z"
   },
   {
    "duration": 416,
    "start_time": "2022-02-02T08:39:45.266Z"
   },
   {
    "duration": 529,
    "start_time": "2022-02-02T08:39:45.684Z"
   },
   {
    "duration": 19,
    "start_time": "2022-02-02T08:39:46.215Z"
   },
   {
    "duration": 8,
    "start_time": "2022-02-02T08:39:46.236Z"
   },
   {
    "duration": 65,
    "start_time": "2022-02-02T08:39:46.246Z"
   },
   {
    "duration": 791,
    "start_time": "2022-02-02T08:58:19.550Z"
   },
   {
    "duration": 95,
    "start_time": "2022-02-02T08:59:55.713Z"
   },
   {
    "duration": 602,
    "start_time": "2022-02-02T09:00:08.273Z"
   },
   {
    "duration": 600,
    "start_time": "2022-02-02T09:00:40.229Z"
   },
   {
    "duration": 701,
    "start_time": "2022-02-02T09:01:26.476Z"
   },
   {
    "duration": 580,
    "start_time": "2022-02-02T09:14:22.199Z"
   },
   {
    "duration": 917,
    "start_time": "2022-02-02T09:21:05.058Z"
   },
   {
    "duration": 406,
    "start_time": "2022-02-02T10:22:05.155Z"
   },
   {
    "duration": 109,
    "start_time": "2022-02-02T10:27:20.193Z"
   },
   {
    "duration": 782,
    "start_time": "2022-02-02T10:27:26.558Z"
   },
   {
    "duration": 613,
    "start_time": "2022-02-02T10:38:59.767Z"
   },
   {
    "duration": 413,
    "start_time": "2022-02-02T10:40:09.727Z"
   },
   {
    "duration": 332,
    "start_time": "2022-02-02T10:40:38.603Z"
   },
   {
    "duration": 334,
    "start_time": "2022-02-02T10:41:28.084Z"
   },
   {
    "duration": 506,
    "start_time": "2022-02-02T10:44:18.567Z"
   },
   {
    "duration": 336,
    "start_time": "2022-02-02T10:44:43.858Z"
   },
   {
    "duration": 368,
    "start_time": "2022-02-02T10:46:00.485Z"
   },
   {
    "duration": 405,
    "start_time": "2022-02-02T10:47:22.630Z"
   },
   {
    "duration": 2006,
    "start_time": "2022-02-03T09:13:12.177Z"
   },
   {
    "duration": 111,
    "start_time": "2022-02-03T09:13:14.186Z"
   },
   {
    "duration": 19,
    "start_time": "2022-02-03T09:13:14.300Z"
   },
   {
    "duration": 257,
    "start_time": "2022-02-03T09:13:14.322Z"
   },
   {
    "duration": 83,
    "start_time": "2022-02-03T09:13:14.582Z"
   },
   {
    "duration": 14,
    "start_time": "2022-02-03T09:13:14.668Z"
   },
   {
    "duration": 578,
    "start_time": "2022-02-03T09:13:14.685Z"
   },
   {
    "duration": 54,
    "start_time": "2022-02-03T09:13:15.265Z"
   },
   {
    "duration": 888,
    "start_time": "2022-02-03T09:13:15.322Z"
   },
   {
    "duration": 601,
    "start_time": "2022-02-03T09:13:16.213Z"
   },
   {
    "duration": 977,
    "start_time": "2022-02-03T09:13:16.816Z"
   },
   {
    "duration": 554,
    "start_time": "2022-02-03T09:13:17.796Z"
   },
   {
    "duration": 12,
    "start_time": "2022-02-03T09:13:18.352Z"
   },
   {
    "duration": 29,
    "start_time": "2022-02-03T09:13:18.367Z"
   },
   {
    "duration": 248,
    "start_time": "2022-02-03T10:52:48.015Z"
   },
   {
    "duration": 1498,
    "start_time": "2022-02-03T10:52:57.450Z"
   },
   {
    "duration": 76,
    "start_time": "2022-02-03T10:52:58.950Z"
   },
   {
    "duration": 22,
    "start_time": "2022-02-03T10:52:59.028Z"
   },
   {
    "duration": 169,
    "start_time": "2022-02-03T10:52:59.052Z"
   },
   {
    "duration": 41,
    "start_time": "2022-02-03T10:52:59.223Z"
   },
   {
    "duration": 9,
    "start_time": "2022-02-03T10:52:59.266Z"
   },
   {
    "duration": 366,
    "start_time": "2022-02-03T10:52:59.277Z"
   },
   {
    "duration": 33,
    "start_time": "2022-02-03T10:52:59.646Z"
   },
   {
    "duration": 595,
    "start_time": "2022-02-03T10:52:59.681Z"
   },
   {
    "duration": 396,
    "start_time": "2022-02-03T10:53:00.278Z"
   },
   {
    "duration": 598,
    "start_time": "2022-02-03T10:53:00.675Z"
   },
   {
    "duration": 397,
    "start_time": "2022-02-03T10:53:01.274Z"
   },
   {
    "duration": 5,
    "start_time": "2022-02-03T10:53:01.672Z"
   },
   {
    "duration": 34,
    "start_time": "2022-02-03T10:53:01.679Z"
   },
   {
    "duration": 291,
    "start_time": "2022-02-04T08:17:01.054Z"
   },
   {
    "duration": 1432,
    "start_time": "2022-02-04T08:17:17.206Z"
   },
   {
    "duration": 80,
    "start_time": "2022-02-04T08:17:18.640Z"
   },
   {
    "duration": 21,
    "start_time": "2022-02-04T08:17:18.722Z"
   },
   {
    "duration": 165,
    "start_time": "2022-02-04T08:17:18.745Z"
   },
   {
    "duration": 48,
    "start_time": "2022-02-04T08:17:18.911Z"
   },
   {
    "duration": 9,
    "start_time": "2022-02-04T08:17:18.960Z"
   },
   {
    "duration": 330,
    "start_time": "2022-02-04T08:17:18.971Z"
   },
   {
    "duration": 28,
    "start_time": "2022-02-04T08:17:19.303Z"
   },
   {
    "duration": 543,
    "start_time": "2022-02-04T08:17:19.333Z"
   },
   {
    "duration": 621,
    "start_time": "2022-02-04T08:17:19.878Z"
   },
   {
    "duration": 49977,
    "start_time": "2022-02-04T08:16:30.523Z"
   },
   {
    "duration": 49965,
    "start_time": "2022-02-04T08:16:30.536Z"
   },
   {
    "duration": 49962,
    "start_time": "2022-02-04T08:16:30.540Z"
   },
   {
    "duration": 49960,
    "start_time": "2022-02-04T08:16:30.543Z"
   },
   {
    "duration": 512,
    "start_time": "2022-02-04T08:22:27.243Z"
   },
   {
    "duration": 607,
    "start_time": "2022-02-04T08:22:43.874Z"
   },
   {
    "duration": 397,
    "start_time": "2022-02-04T08:29:33.396Z"
   },
   {
    "duration": 389,
    "start_time": "2022-02-04T08:37:47.807Z"
   },
   {
    "duration": 397,
    "start_time": "2022-02-04T08:38:34.547Z"
   },
   {
    "duration": 413,
    "start_time": "2022-02-04T08:47:30.517Z"
   },
   {
    "duration": 698,
    "start_time": "2022-02-04T08:49:47.514Z"
   },
   {
    "duration": 61,
    "start_time": "2022-02-04T08:49:59.428Z"
   },
   {
    "duration": 68,
    "start_time": "2022-02-04T08:51:19.143Z"
   },
   {
    "duration": 57,
    "start_time": "2022-02-04T08:52:31.304Z"
   },
   {
    "duration": 62,
    "start_time": "2022-02-04T08:52:57.969Z"
   },
   {
    "duration": 1468,
    "start_time": "2022-02-04T08:53:34.538Z"
   },
   {
    "duration": 80,
    "start_time": "2022-02-04T08:53:36.008Z"
   },
   {
    "duration": 23,
    "start_time": "2022-02-04T08:53:36.090Z"
   },
   {
    "duration": 165,
    "start_time": "2022-02-04T08:53:36.115Z"
   },
   {
    "duration": 41,
    "start_time": "2022-02-04T08:53:36.281Z"
   },
   {
    "duration": 9,
    "start_time": "2022-02-04T08:53:36.323Z"
   },
   {
    "duration": 358,
    "start_time": "2022-02-04T08:53:36.333Z"
   },
   {
    "duration": 33,
    "start_time": "2022-02-04T08:53:36.694Z"
   },
   {
    "duration": 633,
    "start_time": "2022-02-04T08:53:36.729Z"
   },
   {
    "duration": 407,
    "start_time": "2022-02-04T08:53:37.364Z"
   },
   {
    "duration": 59,
    "start_time": "2022-02-04T08:53:37.772Z"
   },
   {
    "duration": 49986,
    "start_time": "2022-02-04T08:52:47.847Z"
   },
   {
    "duration": 49983,
    "start_time": "2022-02-04T08:52:47.852Z"
   },
   {
    "duration": 49975,
    "start_time": "2022-02-04T08:52:47.861Z"
   },
   {
    "duration": 701,
    "start_time": "2022-02-04T08:56:19.229Z"
   },
   {
    "duration": 1714,
    "start_time": "2022-02-05T06:19:40.119Z"
   },
   {
    "duration": 88,
    "start_time": "2022-02-05T06:19:41.835Z"
   },
   {
    "duration": 29,
    "start_time": "2022-02-05T06:19:41.925Z"
   },
   {
    "duration": 178,
    "start_time": "2022-02-05T06:19:41.956Z"
   },
   {
    "duration": 47,
    "start_time": "2022-02-05T06:19:42.136Z"
   },
   {
    "duration": 30,
    "start_time": "2022-02-05T06:19:42.185Z"
   },
   {
    "duration": 378,
    "start_time": "2022-02-05T06:19:42.217Z"
   },
   {
    "duration": 43,
    "start_time": "2022-02-05T06:19:42.597Z"
   },
   {
    "duration": 639,
    "start_time": "2022-02-05T06:19:42.642Z"
   },
   {
    "duration": 535,
    "start_time": "2022-02-05T06:19:43.283Z"
   },
   {
    "duration": 725,
    "start_time": "2022-02-05T06:19:43.820Z"
   },
   {
    "duration": 329,
    "start_time": "2022-02-05T06:19:44.547Z"
   },
   {
    "duration": 6,
    "start_time": "2022-02-05T06:19:44.878Z"
   },
   {
    "duration": 36,
    "start_time": "2022-02-05T06:19:44.886Z"
   }
  ],
  "kernelspec": {
   "display_name": "Python 3 (ipykernel)",
   "language": "python",
   "name": "python3"
  },
  "language_info": {
   "codemirror_mode": {
    "name": "ipython",
    "version": 3
   },
   "file_extension": ".py",
   "mimetype": "text/x-python",
   "name": "python",
   "nbconvert_exporter": "python",
   "pygments_lexer": "ipython3",
   "version": "3.9.7"
  },
  "toc": {
   "base_numbering": 1,
   "nav_menu": {},
   "number_sections": true,
   "sideBar": true,
   "skip_h1_title": true,
   "title_cell": "Table of Contents",
   "title_sidebar": "Contents",
   "toc_cell": false,
   "toc_position": {},
   "toc_section_display": true,
   "toc_window_display": false
  }
 },
 "nbformat": 4,
 "nbformat_minor": 2
}
