{
 "cells": [
  {
   "cell_type": "markdown",
   "id": "72e3beb1",
   "metadata": {
    "toc": true
   },
   "source": [
    "<h1>Table of Contents<span class=\"tocSkip\"></span></h1>\n",
    "<div class=\"toc\"><ul class=\"toc-item\"></ul></div>"
   ]
  },
  {
   "cell_type": "code",
   "execution_count": 2,
   "id": "863fae0d",
   "metadata": {
    "scrolled": true
   },
   "outputs": [
    {
     "name": "stdout",
     "output_type": "stream",
     "text": [
      "Requirement already satisfied: opencv-python in c:\\users\\dande\\anaconda3\\lib\\site-packages (4.6.0.66)\n",
      "Requirement already satisfied: numpy>=1.19.3 in c:\\users\\dande\\anaconda3\\lib\\site-packages (from opencv-python) (1.20.3)\n"
     ]
    }
   ],
   "source": [
    "!pip install opencv-python"
   ]
  },
  {
   "cell_type": "code",
   "execution_count": 21,
   "id": "61bb8aed",
   "metadata": {},
   "outputs": [],
   "source": [
    "import cv2\n",
    "import matplotlib as plt\n",
    "%matplotlib inline\n",
    "import random as random"
   ]
  },
  {
   "cell_type": "code",
   "execution_count": 55,
   "id": "0cff57e1",
   "metadata": {},
   "outputs": [],
   "source": [
    "num = 2 # number of \"bricks\"\n",
    "step = 12 # 'grid' size\n",
    "# bricks position - пары рандомных чисел от 1 до 12\n",
    "\n",
    "def set_coords(num, step):\n",
    "    coords = []\n",
    "    for _ in range(num):\n",
    "        coord1 = random.randint(1,11)\n",
    "        coord2  = random.randint(1,11)\n",
    "        coords.append((coord1, coord2))\n",
    "    return coords\n",
    "coords_list = set_coords(num, step)\n"
   ]
  },
  {
   "cell_type": "code",
   "execution_count": 57,
   "id": "2e1ca460",
   "metadata": {},
   "outputs": [
    {
     "data": {
      "text/plain": [
       "[(7, 6), (4, 6)]"
      ]
     },
     "execution_count": 57,
     "metadata": {},
     "output_type": "execute_result"
    }
   ],
   "source": [
    "coords_list"
   ]
  },
  {
   "cell_type": "code",
   "execution_count": 60,
   "id": "dfdc4e4b",
   "metadata": {},
   "outputs": [],
   "source": [
    "def color_bricks(h, w, num, frame, coords_list):\n",
    "    for i in range(num):\n",
    "        brick_coord1 = coords_list[i][0]\n",
    "        brick_coord2 = coords_list[i][1]\n",
    "        startpoint = (int((h / 12) * brick_coord1),  int((w / 12) * brick_coord2))\n",
    "        endpoint = (int((h / 12) * (brick_coord1 + 1)), int((w / 12) * (brick_coord2 + 1)))\n",
    "        frame = cv2.rectangle(frame, startpoint, endpoint, (0, 0, 0), -1)\n",
    "    return frame"
   ]
  },
  {
   "cell_type": "code",
   "execution_count": 61,
   "id": "e2a0727f",
   "metadata": {},
   "outputs": [],
   "source": [
    "video = cv2.VideoCapture('test.mp4')\n",
    "\n",
    "count = 0\n",
    "ret = True\n",
    "while ret == True:\n",
    "    ret, frame = video.read()\n",
    "    h, w, _ = frame.shape\n",
    "    if count % 30 == 0:\n",
    "        cv2.imwrite(\"frame%d.jpg\" % count, color_bricks(h, w, num, frame, coords_list)) \n",
    "    else:\n",
    "        cv2.imwrite(\"frame%d.jpg\" % count, frame) \n",
    "    count += 1\n",
    "    if count == 500:\n",
    "        break\n"
   ]
  },
  {
   "cell_type": "code",
   "execution_count": 64,
   "id": "3553af4d",
   "metadata": {},
   "outputs": [
    {
     "data": {
      "text/plain": [
       "500"
      ]
     },
     "execution_count": 64,
     "metadata": {},
     "output_type": "execute_result"
    }
   ],
   "source": [
    "img = []\n",
    "for i in range(500):\n",
    "    img.append(cv2.imread(\"frame%d.jpg\" % i))\n",
    "len(img)"
   ]
  },
  {
   "cell_type": "code",
   "execution_count": 65,
   "id": "38a14468",
   "metadata": {},
   "outputs": [],
   "source": [
    "height,width,layers=img[1].shape\n",
    "\n",
    "fourcc = cv2.VideoWriter_fourcc(*'XVID')\n",
    "video=cv2.VideoWriter('video_final.avi',fourcc,30,(width,height), 1)\n",
    "\n",
    "for j in range(500):\n",
    "    video.write(img[j])\n",
    "    \n",
    "video.release()"
   ]
  },
  {
   "cell_type": "code",
   "execution_count": 45,
   "id": "0cb8de64",
   "metadata": {},
   "outputs": [],
   "source": [
    "#\n"
   ]
  },
  {
   "cell_type": "code",
   "execution_count": 41,
   "id": "e429cac4",
   "metadata": {},
   "outputs": [
    {
     "ename": "AttributeError",
     "evalue": "module 'matplotlib' has no attribute 'imshow'",
     "output_type": "error",
     "traceback": [
      "\u001b[1;31m---------------------------------------------------------------------------\u001b[0m",
      "\u001b[1;31mAttributeError\u001b[0m                            Traceback (most recent call last)",
      "\u001b[1;32m~\\AppData\\Local\\Temp/ipykernel_17920/2468832422.py\u001b[0m in \u001b[0;36m<module>\u001b[1;34m\u001b[0m\n\u001b[1;32m----> 1\u001b[1;33m \u001b[0mplt\u001b[0m\u001b[1;33m.\u001b[0m\u001b[0mimshow\u001b[0m\u001b[1;33m(\u001b[0m\u001b[0mframe\u001b[0m\u001b[1;33m)\u001b[0m\u001b[1;33m\u001b[0m\u001b[1;33m\u001b[0m\u001b[0m\n\u001b[0m",
      "\u001b[1;31mAttributeError\u001b[0m: module 'matplotlib' has no attribute 'imshow'"
     ]
    }
   ],
   "source": [
    "#plt.imshow(frame)"
   ]
  },
  {
   "cell_type": "code",
   "execution_count": 46,
   "id": "fa5b05ce",
   "metadata": {},
   "outputs": [
    {
     "name": "stdout",
     "output_type": "stream",
     "text": [
      "(135, 720) (180, 800)\n",
      "(45, 160) (90, 240)\n"
     ]
    },
    {
     "data": {
      "text/plain": [
       "True"
      ]
     },
     "execution_count": 46,
     "metadata": {},
     "output_type": "execute_result"
    }
   ],
   "source": [
    "cv2.imwrite(\"colored.jpg\", color_bricks(h, w, num, frame)) "
   ]
  }
 ],
 "metadata": {
  "kernelspec": {
   "display_name": "Python 3 (ipykernel)",
   "language": "python",
   "name": "python3"
  },
  "language_info": {
   "codemirror_mode": {
    "name": "ipython",
    "version": 3
   },
   "file_extension": ".py",
   "mimetype": "text/x-python",
   "name": "python",
   "nbconvert_exporter": "python",
   "pygments_lexer": "ipython3",
   "version": "3.9.7"
  },
  "toc": {
   "base_numbering": 1,
   "nav_menu": {},
   "number_sections": true,
   "sideBar": true,
   "skip_h1_title": true,
   "title_cell": "Table of Contents",
   "title_sidebar": "Contents",
   "toc_cell": true,
   "toc_position": {},
   "toc_section_display": true,
   "toc_window_display": false
  }
 },
 "nbformat": 4,
 "nbformat_minor": 5
}
