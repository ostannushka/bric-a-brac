{
 "cells": [
  {
   "cell_type": "markdown",
   "metadata": {
    "toc": true
   },
   "source": [
    "<h1>Содержание<span class=\"tocSkip\"></span></h1>\n",
    "<div class=\"toc\"><ul class=\"toc-item\"><li><span><a href=\"#Загрузка-данных\" data-toc-modified-id=\"Загрузка-данных-1\"><span class=\"toc-item-num\">1&nbsp;&nbsp;</span>Загрузка данных</a></span></li><li><span><a href=\"#Умножение-матриц\" data-toc-modified-id=\"Умножение-матриц-2\"><span class=\"toc-item-num\">2&nbsp;&nbsp;</span>Умножение матриц</a></span><ul class=\"toc-item\"><li><span><a href=\"#Ответ-на-вопрос-задания-и-математическое-обоснование\" data-toc-modified-id=\"Ответ-на-вопрос-задания-и-математическое-обоснование-2.1\"><span class=\"toc-item-num\">2.1&nbsp;&nbsp;</span>Ответ на вопрос задания и математическое обоснование</a></span></li></ul></li><li><span><a href=\"#Алгоритм-преобразования\" data-toc-modified-id=\"Алгоритм-преобразования-3\"><span class=\"toc-item-num\">3&nbsp;&nbsp;</span>Алгоритм преобразования</a></span></li><li><span><a href=\"#Проверка-алгоритма\" data-toc-modified-id=\"Проверка-алгоритма-4\"><span class=\"toc-item-num\">4&nbsp;&nbsp;</span>Проверка алгоритма</a></span><ul class=\"toc-item\"><li><span><a href=\"#Исходные-данные\" data-toc-modified-id=\"Исходные-данные-4.1\"><span class=\"toc-item-num\">4.1&nbsp;&nbsp;</span>Исходные данные</a></span></li><li><span><a href=\"#Преобразованная-матрица\" data-toc-modified-id=\"Преобразованная-матрица-4.2\"><span class=\"toc-item-num\">4.2&nbsp;&nbsp;</span>Преобразованная матрица</a></span></li></ul></li><li><span><a href=\"#Чек-лист-проверки\" data-toc-modified-id=\"Чек-лист-проверки-5\"><span class=\"toc-item-num\">5&nbsp;&nbsp;</span>Чек-лист проверки</a></span></li></ul></div>"
   ]
  },
  {
   "cell_type": "markdown",
   "metadata": {},
   "source": [
    "# Защита персональных данных клиентов"
   ]
  },
  {
   "cell_type": "markdown",
   "metadata": {},
   "source": [
    "Вам нужно защитить данные клиентов страховой компании «Хоть потоп». Разработайте такой метод преобразования данных, чтобы по ним было сложно восстановить персональную информацию. Обоснуйте корректность его работы.\n",
    "\n",
    "Нужно защитить данные, чтобы при преобразовании качество моделей машинного обучения не ухудшилось. Подбирать наилучшую модель не требуется."
   ]
  },
  {
   "cell_type": "markdown",
   "metadata": {},
   "source": [
    "## Загрузка данных"
   ]
  },
  {
   "cell_type": "code",
   "execution_count": 15,
   "metadata": {},
   "outputs": [],
   "source": [
    "import pandas as pd\n",
    "import numpy as np\n",
    "from sklearn.metrics import r2_score\n",
    "from sklearn.linear_model import LinearRegression"
   ]
  },
  {
   "cell_type": "code",
   "execution_count": 3,
   "metadata": {},
   "outputs": [],
   "source": [
    "# загрузка датасетов\n",
    "try:\n",
    "    df = pd.read_csv('insurance.csv')\n",
    "except:\n",
    "    df = pd.read_csv('/datasets/insurance.csv')"
   ]
  },
  {
   "cell_type": "code",
   "execution_count": 4,
   "metadata": {},
   "outputs": [
    {
     "name": "stdout",
     "output_type": "stream",
     "text": [
      "<class 'pandas.core.frame.DataFrame'>\n",
      "RangeIndex: 5000 entries, 0 to 4999\n",
      "Data columns (total 5 columns):\n",
      " #   Column             Non-Null Count  Dtype  \n",
      "---  ------             --------------  -----  \n",
      " 0   Пол                5000 non-null   int64  \n",
      " 1   Возраст            5000 non-null   float64\n",
      " 2   Зарплата           5000 non-null   float64\n",
      " 3   Члены семьи        5000 non-null   int64  \n",
      " 4   Страховые выплаты  5000 non-null   int64  \n",
      "dtypes: float64(2), int64(3)\n",
      "memory usage: 195.4 KB\n"
     ]
    },
    {
     "data": {
      "text/html": [
       "<div>\n",
       "<style scoped>\n",
       "    .dataframe tbody tr th:only-of-type {\n",
       "        vertical-align: middle;\n",
       "    }\n",
       "\n",
       "    .dataframe tbody tr th {\n",
       "        vertical-align: top;\n",
       "    }\n",
       "\n",
       "    .dataframe thead th {\n",
       "        text-align: right;\n",
       "    }\n",
       "</style>\n",
       "<table border=\"1\" class=\"dataframe\">\n",
       "  <thead>\n",
       "    <tr style=\"text-align: right;\">\n",
       "      <th></th>\n",
       "      <th>Пол</th>\n",
       "      <th>Возраст</th>\n",
       "      <th>Зарплата</th>\n",
       "      <th>Члены семьи</th>\n",
       "      <th>Страховые выплаты</th>\n",
       "    </tr>\n",
       "  </thead>\n",
       "  <tbody>\n",
       "    <tr>\n",
       "      <th>0</th>\n",
       "      <td>1</td>\n",
       "      <td>41.0</td>\n",
       "      <td>49600.0</td>\n",
       "      <td>1</td>\n",
       "      <td>0</td>\n",
       "    </tr>\n",
       "    <tr>\n",
       "      <th>1</th>\n",
       "      <td>0</td>\n",
       "      <td>46.0</td>\n",
       "      <td>38000.0</td>\n",
       "      <td>1</td>\n",
       "      <td>1</td>\n",
       "    </tr>\n",
       "    <tr>\n",
       "      <th>2</th>\n",
       "      <td>0</td>\n",
       "      <td>29.0</td>\n",
       "      <td>21000.0</td>\n",
       "      <td>0</td>\n",
       "      <td>0</td>\n",
       "    </tr>\n",
       "    <tr>\n",
       "      <th>3</th>\n",
       "      <td>0</td>\n",
       "      <td>21.0</td>\n",
       "      <td>41700.0</td>\n",
       "      <td>2</td>\n",
       "      <td>0</td>\n",
       "    </tr>\n",
       "    <tr>\n",
       "      <th>4</th>\n",
       "      <td>1</td>\n",
       "      <td>28.0</td>\n",
       "      <td>26100.0</td>\n",
       "      <td>0</td>\n",
       "      <td>0</td>\n",
       "    </tr>\n",
       "  </tbody>\n",
       "</table>\n",
       "</div>"
      ],
      "text/plain": [
       "   Пол  Возраст  Зарплата  Члены семьи  Страховые выплаты\n",
       "0    1     41.0   49600.0            1                  0\n",
       "1    0     46.0   38000.0            1                  1\n",
       "2    0     29.0   21000.0            0                  0\n",
       "3    0     21.0   41700.0            2                  0\n",
       "4    1     28.0   26100.0            0                  0"
      ]
     },
     "metadata": {},
     "output_type": "display_data"
    }
   ],
   "source": [
    "df.info()\n",
    "display(df.head())"
   ]
  },
  {
   "cell_type": "markdown",
   "metadata": {},
   "source": [
    "В таблице нет пропусков, всего 5000 строк, 5 столбцов, из которых последний является целевым признаком. Категориальные переменные закодированы числовыми значениями."
   ]
  },
  {
   "cell_type": "markdown",
   "metadata": {},
   "source": [
    "## Умножение матриц"
   ]
  },
  {
   "cell_type": "markdown",
   "metadata": {},
   "source": [
    "Признаки умножают на обратимую матрицу. Изменится ли качество линейной регрессии? (Её можно обучить заново.)\n",
    "a. Изменится. Приведите примеры матриц.\n",
    "b. Не изменится. Укажите, как связаны параметры линейной регрессии в исходной задаче и в преобразованной."
   ]
  },
  {
   "cell_type": "markdown",
   "metadata": {},
   "source": [
    "В этом задании вы можете записывать формулы в *Jupyter Notebook.*\n",
    "\n",
    "Чтобы записать формулу внутри текста, окружите её символами доллара \\\\$; если снаружи —  двойными символами \\\\$\\\\$. Эти формулы записываются на языке вёрстки *LaTeX.* \n",
    "\n",
    "Для примера мы записали формулы линейной регрессии. Можете их скопировать и отредактировать, чтобы решить задачу.\n",
    "\n",
    "Работать в *LaTeX* необязательно."
   ]
  },
  {
   "cell_type": "markdown",
   "metadata": {},
   "source": [
    "Обозначения:\n",
    "\n",
    "- $X$ — матрица признаков (нулевой столбец состоит из единиц)\n",
    "\n",
    "- $y$ — вектор целевого признака\n",
    "\n",
    "- $P$ — матрица, на которую умножаются признаки\n",
    "\n",
    "- $w$ — вектор весов линейной регрессии (нулевой элемент равен сдвигу)"
   ]
  },
  {
   "cell_type": "markdown",
   "metadata": {},
   "source": [
    "Предсказания:\n",
    "\n",
    "$$\n",
    "a = Xw\n",
    "$$\n",
    "\n",
    "Задача обучения:\n",
    "\n",
    "$$\n",
    "w = \\arg\\min_w MSE(Xw, y)\n",
    "$$\n",
    "\n",
    "Формула обучения:\n",
    "\n",
    "$$\n",
    "w = (X^T X)^{-1} X^T y\n",
    "$$"
   ]
  },
  {
   "cell_type": "markdown",
   "metadata": {},
   "source": [
    "### Ответ на вопрос задания и математическое обоснование"
   ]
  },
  {
   "cell_type": "markdown",
   "metadata": {},
   "source": [
    "**Ответ:** Качество линейной регрессии не изменится и вот почему:\n"
   ]
  },
  {
   "cell_type": "markdown",
   "metadata": {},
   "source": [
    "Умножим признаки в формуле обучения линейной регресии на квадратную отбаритимую матрицу Р:\n",
    "\n",
    "$$\n",
    "w1 = ((X*P)^T * (X*P))^{-1} (X*P)^T * y\n",
    "$$\n",
    "\n",
    "Раскроем скобки согласно правилу (A * B)^T = B^T * A^T:\n",
    "\n",
    "$$\n",
    "w1 = (X^T * P^T * (X*P))^{-1} * (X^T * P^T) * y\n",
    "$$\n",
    "\n",
    "Пользуясь правилом (A * B)^{-1} = B^{-1} * A^{-1} для кавдратных матриц:\n",
    "\n",
    "$$\n",
    "w1 = (X^T * X)^{-1} * (P^T)^{-1} * (P)^{-1} * X^T * P^T * y\n",
    "$$\n",
    "\n",
    "(P^T)^{-1} и P^T при умножении дают единичную матрицу, их можно сократить:\n",
    "\n",
    "$$\n",
    "w1 = (X^T * X)^{-1} * (P)^{-1} * X^T * y\n",
    "$$\n",
    "\n",
    "Теперь проверим равенство предсказаний Xw = Xw1:\n",
    "\n",
    "$$\n",
    "X * P * (X^T * X)^{-1} * (P)^{-1} * X^T * y = X * (X^T * X)^{-1} * X^T * y\n",
    "$$\n",
    "\n",
    "Получается, что слева \"встречаются\" обратные матрицы P и P^{-1}, они при умножении дают единичную матрицу и части выражения становятся равны:\n",
    "\n",
    "$$\n",
    "(X^T * X)^{-1} * X^T * y = (X^T * X)^{-1} * X^T * y\n",
    "$$"
   ]
  },
  {
   "cell_type": "markdown",
   "metadata": {},
   "source": [
    "Таким образом доказано, что умножение матрицы признаков на случайную квадратную  матрицу не меняет предсказания модели линейной регресии"
   ]
  },
  {
   "cell_type": "markdown",
   "metadata": {},
   "source": [
    "## Алгоритм преобразования"
   ]
  },
  {
   "cell_type": "markdown",
   "metadata": {},
   "source": [
    "Предложите алгоритм преобразования данных для решения задачи. Обоснуйте, почему качество линейной регрессии не поменяется.\n"
   ]
  },
  {
   "cell_type": "markdown",
   "metadata": {},
   "source": [
    "**Алгоритм**\n",
    "1. Превратить признаки в матрицу с помощью метода .values. Её ширина равна ширине будущей квадратной матрицы.\n",
    "2. С помощью np.random.normal() создается квадратная матрица с шириной, равной ширине исходного датафрейма. Далее выполняется проверка матрицы на обратимость: вычисляется обратная ей матрица и, если не происходит сообщение об ошибке, матрица отратима\n",
    "3. Далее выполняется умножение матрицы признаков на случайную матрицу.\n",
    "4. Затем матрица снова превращается в датафрейм, происходит разделение на тренировочную и тестовую выборки, и далее по уже изместному алгоритму происходит обучение модели и формирование предсказаний\n",
    "**Обоснование**\n",
    "Учитывая, что в предыдущем разделе математически было доказано равенство предсказаний моделей, целевой признак не  менялся,  а метрики качества рассчитываются на основании предсказаний модели и значений целевого признака, метрики качества останутся прежними "
   ]
  },
  {
   "cell_type": "markdown",
   "metadata": {},
   "source": [
    "## Проверка алгоритма"
   ]
  },
  {
   "cell_type": "markdown",
   "metadata": {},
   "source": [
    "Запрограммируйте этот алгоритм, применив матричные операции. Проверьте, что качество линейной регрессии из sklearn не отличается до и после преобразования. Примените метрику R2."
   ]
  },
  {
   "cell_type": "markdown",
   "metadata": {},
   "source": [
    "### Исходные данные"
   ]
  },
  {
   "cell_type": "code",
   "execution_count": 9,
   "metadata": {},
   "outputs": [],
   "source": [
    "features = df.drop('Страховые выплаты', axis=1)\n",
    "target = df['Страховые выплаты']"
   ]
  },
  {
   "cell_type": "code",
   "execution_count": 23,
   "metadata": {},
   "outputs": [
    {
     "data": {
      "text/plain": [
       "0.42494550286668"
      ]
     },
     "execution_count": 23,
     "metadata": {},
     "output_type": "execute_result"
    }
   ],
   "source": [
    "model = LinearRegression()\n",
    "model.fit(features, target)\n",
    "predictions = model.predict(features)\n",
    "score1 = r2_score(target, predictions)\n",
    "score1"
   ]
  },
  {
   "cell_type": "markdown",
   "metadata": {},
   "source": [
    "### Преобразованная матрица"
   ]
  },
  {
   "cell_type": "code",
   "execution_count": 14,
   "metadata": {
    "scrolled": false
   },
   "outputs": [
    {
     "data": {
      "text/plain": [
       "array([[1.00e+00, 4.10e+01, 4.96e+04, 1.00e+00],\n",
       "       [0.00e+00, 4.60e+01, 3.80e+04, 1.00e+00],\n",
       "       [0.00e+00, 2.90e+01, 2.10e+04, 0.00e+00],\n",
       "       ...,\n",
       "       [0.00e+00, 2.00e+01, 3.39e+04, 2.00e+00],\n",
       "       [1.00e+00, 2.20e+01, 3.27e+04, 3.00e+00],\n",
       "       [1.00e+00, 2.80e+01, 4.06e+04, 1.00e+00]])"
      ]
     },
     "execution_count": 14,
     "metadata": {},
     "output_type": "execute_result"
    }
   ],
   "source": [
    "X = fetures.values # превратим признаки в матрицу\n",
    "X"
   ]
  },
  {
   "cell_type": "code",
   "execution_count": 19,
   "metadata": {
    "scrolled": true
   },
   "outputs": [
    {
     "data": {
      "text/plain": [
       "array([[ 0.1599245 , -0.32117014, -0.53693406, -0.33417571],\n",
       "       [-0.3892935 , -0.8046346 , -0.83736999,  0.23913321],\n",
       "       [ 0.39413991, -0.59095246, -0.05722201, -0.22657487],\n",
       "       [ 0.70771687, -1.67362117,  1.88122775,  0.28195543]])"
      ]
     },
     "metadata": {},
     "output_type": "display_data"
    },
    {
     "data": {
      "text/plain": [
       "array([[-7.45698122,  0.14745249,  8.92487402, -1.7912428 ],\n",
       "       [-1.76529469, -0.34630636,  1.47515105, -0.61312209],\n",
       "       [ 2.58687198, -0.55852153, -3.25722783,  0.92221975],\n",
       "       [-9.02092423,  1.30079402,  8.08690776, -1.7497331 ]])"
      ]
     },
     "execution_count": 19,
     "metadata": {},
     "output_type": "execute_result"
    }
   ],
   "source": [
    "P = np.random.normal(size= (4,4)) # случайная матрица, равная по ширине исходной матрице признаков\n",
    "display(P)\n",
    "P_inv = np.linalg.inv(P)\n",
    "P_inv"
   ]
  },
  {
   "cell_type": "markdown",
   "metadata": {},
   "source": [
    "У матрицы есть обратная, значит матрица обратима. "
   ]
  },
  {
   "cell_type": "code",
   "execution_count": 20,
   "metadata": {},
   "outputs": [
    {
     "data": {
      "text/plain": [
       "array([[ 19534.24626836, -29346.22663769,  -2871.19947254,\n",
       "        -11228.36114165],\n",
       "       [ 14960.11689124, -22494.88014854,  -2211.07409565,\n",
       "         -8598.56284746],\n",
       "       [  8265.6486512 , -12433.33598369,  -1225.94589763,\n",
       "         -4751.13733538],\n",
       "       ...,\n",
       "       [ 13354.97259782, -20052.72819972,  -1952.81101541,\n",
       "         -7675.54140241],\n",
       "       [ 12882.09375718, -19347.18931278,  -1884.4750521 ,\n",
       "         -7403.22551637],\n",
       "       [ 15992.04787128, -24017.19428205,  -2345.31559071,\n",
       "         -9192.29607404]])"
      ]
     },
     "execution_count": 20,
     "metadata": {},
     "output_type": "execute_result"
    }
   ],
   "source": [
    "# умножим матрицу признаков на случайную матрицу. Пусть Х * P = A\n",
    "A = X.dot(P)"
   ]
  },
  {
   "cell_type": "code",
   "execution_count": 21,
   "metadata": {},
   "outputs": [
    {
     "data": {
      "text/plain": [
       "0.42494550286667965"
      ]
     },
     "execution_count": 21,
     "metadata": {},
     "output_type": "execute_result"
    }
   ],
   "source": [
    "# вернем закодированные данные к формату датафрейма\n",
    "features_coded = pd.DataFrame(A, index=features.index, columns=features.columns) \n",
    "model = LinearRegression()\n",
    "model.fit(features_coded, target)\n",
    "predictions = model.predict(features_coded)\n",
    "score2 = r2_score(target, predictions)\n",
    "score2 # метрика r2 для закодированных данных"
   ]
  },
  {
   "cell_type": "code",
   "execution_count": 24,
   "metadata": {},
   "outputs": [
    {
     "name": "stdout",
     "output_type": "stream",
     "text": [
      "0.42494550286668\n"
     ]
    }
   ],
   "source": [
    "print(score1) # метрика r2 для исходных данных"
   ]
  },
  {
   "cell_type": "markdown",
   "metadata": {},
   "source": [
    "Вывод: метрика R2 не изменилась, задача решена, данные зашифрованы, умножение на матрицу работает."
   ]
  }
 ],
 "metadata": {
  "ExecuteTimeLog": [
   {
    "duration": 412,
    "start_time": "2022-04-19T19:45:26.157Z"
   },
   {
    "duration": 193,
    "start_time": "2022-04-19T19:45:29.196Z"
   },
   {
    "duration": 16,
    "start_time": "2022-04-19T19:45:48.659Z"
   },
   {
    "duration": 23,
    "start_time": "2022-04-19T19:46:43.794Z"
   },
   {
    "duration": 14,
    "start_time": "2022-04-19T19:48:00.281Z"
   },
   {
    "duration": 43,
    "start_time": "2022-04-20T09:18:09.445Z"
   },
   {
    "duration": 370,
    "start_time": "2022-04-20T09:18:16.253Z"
   },
   {
    "duration": 94,
    "start_time": "2022-04-20T09:18:18.755Z"
   },
   {
    "duration": 21,
    "start_time": "2022-04-20T09:18:21.339Z"
   },
   {
    "duration": 157,
    "start_time": "2022-04-20T13:18:09.521Z"
   },
   {
    "duration": 136,
    "start_time": "2022-04-20T13:22:22.274Z"
   },
   {
    "duration": 3,
    "start_time": "2022-04-20T13:50:13.169Z"
   },
   {
    "duration": 2,
    "start_time": "2022-04-20T13:52:31.720Z"
   },
   {
    "duration": 4,
    "start_time": "2022-04-20T13:58:37.627Z"
   },
   {
    "duration": 26,
    "start_time": "2022-04-20T13:58:39.634Z"
   },
   {
    "duration": 6,
    "start_time": "2022-04-20T14:00:46.632Z"
   },
   {
    "duration": 762,
    "start_time": "2022-04-20T14:01:06.178Z"
   },
   {
    "duration": 18,
    "start_time": "2022-04-20T14:01:14.180Z"
   },
   {
    "duration": 5,
    "start_time": "2022-04-20T14:03:30.522Z"
   },
   {
    "duration": 2,
    "start_time": "2022-04-20T14:04:28.010Z"
   },
   {
    "duration": 38,
    "start_time": "2022-04-20T14:08:13.989Z"
   },
   {
    "duration": 6,
    "start_time": "2022-04-20T14:08:38.176Z"
   },
   {
    "duration": 8,
    "start_time": "2022-04-20T14:15:50.244Z"
   },
   {
    "duration": 8,
    "start_time": "2022-04-20T14:16:25.127Z"
   },
   {
    "duration": 5,
    "start_time": "2022-04-20T14:16:28.413Z"
   },
   {
    "duration": 15,
    "start_time": "2022-04-20T14:25:21.677Z"
   },
   {
    "duration": 8,
    "start_time": "2022-04-20T14:56:56.366Z"
   },
   {
    "duration": 11,
    "start_time": "2022-04-20T14:57:03.833Z"
   },
   {
    "duration": 3,
    "start_time": "2022-04-20T14:57:10.401Z"
   }
  ],
  "kernelspec": {
   "display_name": "Python 3 (ipykernel)",
   "language": "python",
   "name": "python3"
  },
  "language_info": {
   "codemirror_mode": {
    "name": "ipython",
    "version": 3
   },
   "file_extension": ".py",
   "mimetype": "text/x-python",
   "name": "python",
   "nbconvert_exporter": "python",
   "pygments_lexer": "ipython3",
   "version": "3.9.7"
  },
  "toc": {
   "base_numbering": 1,
   "nav_menu": {},
   "number_sections": true,
   "sideBar": true,
   "skip_h1_title": true,
   "title_cell": "Содержание",
   "title_sidebar": "Contents",
   "toc_cell": true,
   "toc_position": {},
   "toc_section_display": true,
   "toc_window_display": true
  }
 },
 "nbformat": 4,
 "nbformat_minor": 2
}
